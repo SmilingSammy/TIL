{
 "cells": [
  {
   "cell_type": "markdown",
   "metadata": {},
   "source": [
    "## 3.3 데이터 전처리"
   ]
  },
  {
   "cell_type": "code",
   "execution_count": 1,
   "metadata": {},
   "outputs": [],
   "source": [
    "# 작업 경로 설정\n",
    "import os\n",
    "os.chdir(r\"C:\\dacon\\ch03\")"
   ]
  },
  {
   "cell_type": "code",
   "execution_count": 1,
   "metadata": {
    "execution": {
     "iopub.execute_input": "2022-02-09T00:49:50.333665Z",
     "iopub.status.busy": "2022-02-09T00:49:50.333318Z",
     "iopub.status.idle": "2022-02-09T00:49:58.132321Z",
     "shell.execute_reply": "2022-02-09T00:49:58.131243Z",
     "shell.execute_reply.started": "2022-02-09T00:49:50.333604Z"
    }
   },
   "outputs": [],
   "source": [
    "import pandas as pd\n",
    "\n",
    "# 데이터 로드\n",
    "train = pd.read_csv('data/train.csv')\n",
    "test = pd.read_csv('data/test.csv')\n",
    "bts= pd.read_csv('data/bus_bts.csv')\n",
    "jeju_life = pd.read_csv('./jeju_financial_life_data.csv')\n",
    "weather = pd.read_csv('./weather.csv', encoding='cp949')\n",
    "rain = pd.read_csv('./rain.csv', encoding='utf-8')"
   ]
  },
  {
   "cell_type": "code",
   "execution_count": 2,
   "metadata": {
    "execution": {
     "iopub.execute_input": "2022-02-09T00:49:58.134183Z",
     "iopub.status.busy": "2022-02-09T00:49:58.133896Z",
     "iopub.status.idle": "2022-02-09T00:50:00.231913Z",
     "shell.execute_reply": "2022-02-09T00:50:00.230738Z",
     "shell.execute_reply.started": "2022-02-09T00:49:58.134157Z"
    }
   },
   "outputs": [],
   "source": [
    "# 시각화에 필요한 라이브러리 임포트\n",
    "import matplotlib\n",
    "import matplotlib.pyplot as plt\n",
    "import seaborn as sns\n",
    "# 내부에 결과를 출력하도록 설정\n",
    "%matplotlib inline\n",
    "# 시각화 한글 폰트 설정\n",
    "# 윈도우 사용자\n",
    "# plt.rc('font', family='Malgun Gothic')\n",
    "# Mac 사용자\n",
    "plt.rc('font', family='AppleGothic')\n",
    "# 마이너스 기호 출력\n",
    "plt.rc('axes', unicode_minus=False) \n",
    "# 분석에 문제가 없는 경고 메세지는 숨긴다.\n",
    "import warnings\n",
    "warnings.filterwarnings('ignore') "
   ]
  },
  {
   "cell_type": "code",
   "execution_count": 10,
   "metadata": {
    "execution": {
     "iopub.execute_input": "2022-02-09T00:54:43.943485Z",
     "iopub.status.busy": "2022-02-09T00:54:43.943245Z",
     "iopub.status.idle": "2022-02-09T00:54:44.054057Z",
     "shell.execute_reply": "2022-02-09T00:54:44.053293Z",
     "shell.execute_reply.started": "2022-02-09T00:54:43.943465Z"
    }
   },
   "outputs": [],
   "source": [
    "# 학습 데이터와 테스트 데이터를 구분하기 위한 변수 생성\n",
    "train['cue'] = 0\n",
    "test['cue'] = 1\n",
    "\n",
    "# 학습 데이터와 테스트 데이터 통합\n",
    "df = pd.concat([train, test], axis=0)"
   ]
  },
  {
   "cell_type": "markdown",
   "metadata": {},
   "source": [
    "### 3.3.1 내부 데이터를 통한 변수 생성"
   ]
  },
  {
   "cell_type": "markdown",
   "metadata": {
    "heading_collapsed": "true"
   },
   "source": [
    "#### 3.3.1.1 탐색적 데이터 분석을 통한 변수"
   ]
  },
  {
   "cell_type": "markdown",
   "metadata": {},
   "source": [
    "* 요일을 나타내는 변수(weekday)"
   ]
  },
  {
   "cell_type": "code",
   "execution_count": 11,
   "metadata": {
    "execution": {
     "iopub.execute_input": "2022-02-09T00:54:45.436274Z",
     "iopub.status.busy": "2022-02-09T00:54:45.436005Z",
     "iopub.status.idle": "2022-02-09T00:54:45.545986Z",
     "shell.execute_reply": "2022-02-09T00:54:45.545233Z",
     "shell.execute_reply.started": "2022-02-09T00:54:45.436254Z"
    }
   },
   "outputs": [],
   "source": [
    "# datetime 변수형으로 변환\n",
    "df['date'] = pd.to_datetime(df['date'])\n",
    "# 요일 추출 (0-월요일~6-일요일)\n",
    "df['weekday'] = df['date'].dt.weekday"
   ]
  },
  {
   "cell_type": "code",
   "execution_count": 12,
   "metadata": {
    "execution": {
     "iopub.execute_input": "2022-02-09T00:54:46.854338Z",
     "iopub.status.busy": "2022-02-09T00:54:46.854040Z",
     "iopub.status.idle": "2022-02-09T00:54:47.069368Z",
     "shell.execute_reply": "2022-02-09T00:54:47.068105Z",
     "shell.execute_reply.started": "2022-02-09T00:54:46.854315Z"
    }
   },
   "outputs": [
    {
     "data": {
      "text/html": [
       "<div>\n",
       "<style scoped>\n",
       "    .dataframe tbody tr th:only-of-type {\n",
       "        vertical-align: middle;\n",
       "    }\n",
       "\n",
       "    .dataframe tbody tr th {\n",
       "        vertical-align: top;\n",
       "    }\n",
       "\n",
       "    .dataframe thead th {\n",
       "        text-align: right;\n",
       "    }\n",
       "</style>\n",
       "<table border=\"1\" class=\"dataframe\">\n",
       "  <thead>\n",
       "    <tr style=\"text-align: right;\">\n",
       "      <th></th>\n",
       "      <th>weekday</th>\n",
       "    </tr>\n",
       "  </thead>\n",
       "  <tbody>\n",
       "    <tr>\n",
       "      <th>0</th>\n",
       "      <td>6</td>\n",
       "    </tr>\n",
       "    <tr>\n",
       "      <th>1</th>\n",
       "      <td>6</td>\n",
       "    </tr>\n",
       "    <tr>\n",
       "      <th>2</th>\n",
       "      <td>6</td>\n",
       "    </tr>\n",
       "    <tr>\n",
       "      <th>3</th>\n",
       "      <td>6</td>\n",
       "    </tr>\n",
       "    <tr>\n",
       "      <th>4</th>\n",
       "      <td>6</td>\n",
       "    </tr>\n",
       "  </tbody>\n",
       "</table>\n",
       "</div>"
      ],
      "text/plain": [
       "   weekday\n",
       "0        6\n",
       "1        6\n",
       "2        6\n",
       "3        6\n",
       "4        6"
      ]
     },
     "execution_count": 12,
     "metadata": {},
     "output_type": "execute_result"
    }
   ],
   "source": [
    "df[['weekday']].head()"
   ]
  },
  {
   "cell_type": "markdown",
   "metadata": {},
   "source": [
    "* 요일별 평균 탑승객 수"
   ]
  },
  {
   "cell_type": "code",
   "execution_count": 13,
   "metadata": {
    "execution": {
     "iopub.execute_input": "2022-02-09T00:54:47.412927Z",
     "iopub.status.busy": "2022-02-09T00:54:47.412667Z",
     "iopub.status.idle": "2022-02-09T00:54:47.795426Z",
     "shell.execute_reply": "2022-02-09T00:54:47.794753Z",
     "shell.execute_reply.started": "2022-02-09T00:54:47.412906Z"
    }
   },
   "outputs": [],
   "source": [
    "# 요일별 평균 탑승 승객수를 구하는 함수\n",
    "def week_mean() :\n",
    "    # 전체 데이터에서 train 데이터에 해당하는 행 추출\n",
    "    train_data = df.query('cue==0').reset_index(drop=True)\n",
    "    \n",
    "    # 일괄적으로 1의 값을 가지는 'weekdaymean'변수 생성\n",
    "    df['weekdaymean'] = 1\n",
    "\n",
    "    # 각 요일에 해당하는 인덱스 추출\n",
    "    index0 = df.query('weekday==0').index\n",
    "    index1 = df.query('weekday==1').index\n",
    "    index2 = df.query('weekday==2').index\n",
    "    index3 = df.query('weekday==3').index\n",
    "    index4 = df.query('weekday==4').index\n",
    "    index5 = df.query('weekday==5').index\n",
    "    index6 = df.query('weekday==6').index\n",
    "\n",
    "    # 인덱스를 활용하여 'weekdaymean'의 값을 각 요일에 맞는 평균 탑승 승객수로 변경 \n",
    "    df.iloc[index0,-1] = train_data.query('weekday==0')['18~20_ride'].mean()\n",
    "    df.iloc[index1,-1] = train_data.query('weekday==1')['18~20_ride'].mean()\n",
    "    df.iloc[index2,-1] = train_data.query('weekday==2')['18~20_ride'].mean()\n",
    "    df.iloc[index3,-1] = train_data.query('weekday==3')['18~20_ride'].mean()\n",
    "    df.iloc[index4,-1] = train_data.query('weekday==4')['18~20_ride'].mean()\n",
    "    df.iloc[index5,-1] = train_data.query('weekday==5')['18~20_ride'].mean()\n",
    "    df.iloc[index6,-1] = train_data.query('weekday==6')['18~20_ride'].mean()\n",
    "    \n",
    "    return df\n",
    "\n",
    "# 함수를 실행하여 변수 생성\n",
    "df = week_mean()"
   ]
  },
  {
   "cell_type": "code",
   "execution_count": 14,
   "metadata": {
    "execution": {
     "iopub.execute_input": "2022-02-09T00:54:47.797536Z",
     "iopub.status.busy": "2022-02-09T00:54:47.797184Z",
     "iopub.status.idle": "2022-02-09T00:54:47.895697Z",
     "shell.execute_reply": "2022-02-09T00:54:47.894881Z",
     "shell.execute_reply.started": "2022-02-09T00:54:47.797505Z"
    }
   },
   "outputs": [
    {
     "data": {
      "text/html": [
       "<div>\n",
       "<style scoped>\n",
       "    .dataframe tbody tr th:only-of-type {\n",
       "        vertical-align: middle;\n",
       "    }\n",
       "\n",
       "    .dataframe tbody tr th {\n",
       "        vertical-align: top;\n",
       "    }\n",
       "\n",
       "    .dataframe thead th {\n",
       "        text-align: right;\n",
       "    }\n",
       "</style>\n",
       "<table border=\"1\" class=\"dataframe\">\n",
       "  <thead>\n",
       "    <tr style=\"text-align: right;\">\n",
       "      <th></th>\n",
       "      <th>weekdaymean</th>\n",
       "    </tr>\n",
       "  </thead>\n",
       "  <tbody>\n",
       "    <tr>\n",
       "      <th>0</th>\n",
       "      <td>1.034282</td>\n",
       "    </tr>\n",
       "    <tr>\n",
       "      <th>1</th>\n",
       "      <td>1.034282</td>\n",
       "    </tr>\n",
       "    <tr>\n",
       "      <th>2</th>\n",
       "      <td>1.034282</td>\n",
       "    </tr>\n",
       "    <tr>\n",
       "      <th>3</th>\n",
       "      <td>1.034282</td>\n",
       "    </tr>\n",
       "    <tr>\n",
       "      <th>4</th>\n",
       "      <td>1.034282</td>\n",
       "    </tr>\n",
       "  </tbody>\n",
       "</table>\n",
       "</div>"
      ],
      "text/plain": [
       "   weekdaymean\n",
       "0     1.034282\n",
       "1     1.034282\n",
       "2     1.034282\n",
       "3     1.034282\n",
       "4     1.034282"
      ]
     },
     "execution_count": 14,
     "metadata": {},
     "output_type": "execute_result"
    }
   ],
   "source": [
    "df[['weekdaymean']].head()"
   ]
  },
  {
   "cell_type": "markdown",
   "metadata": {},
   "source": [
    "* 버스 종류별 평균 탑승객 수"
   ]
  },
  {
   "cell_type": "code",
   "execution_count": 15,
   "metadata": {
    "execution": {
     "iopub.execute_input": "2022-02-09T00:54:48.033738Z",
     "iopub.status.busy": "2022-02-09T00:54:48.033301Z",
     "iopub.status.idle": "2022-02-09T00:54:48.330948Z",
     "shell.execute_reply": "2022-02-09T00:54:48.329776Z",
     "shell.execute_reply.started": "2022-02-09T00:54:48.033704Z"
    }
   },
   "outputs": [],
   "source": [
    "# 버스 종류별 평균 탑승 승객수를 구하는 함수\n",
    "def inout_mean() :\n",
    "    # 전체 데이터에서 train 데이터에 해당하는 행 추출\n",
    "    train_data = df.query('cue==0').reset_index(drop=True)\n",
    "    \n",
    "    # 일괄적으로 1의 값을 가지는 in_out_mean 변수 생성\n",
    "    df['in_out_mean'] = 1\n",
    "\n",
    "    # 버스 종류별 인덱스 추출\n",
    "    in_index = df.query('in_out == \"시내\"').index # 시내버스\n",
    "    out_index = df.query('in_out == \"시외\"').index # 시외버스\n",
    "\n",
    "    # 인덱스를 활용하여 in_out_mean의 값을 각 버스 종류에 맞는 \n",
    "    # 평균 탑승 승객수로 변경\n",
    "    df.iloc[in_index,-1] = train_data.query('in_out == \"시내\"')['18~20_ride'].mean()\n",
    "    df.iloc[out_index,-1] = train_data.query('in_out == \"시외\"')['18~20_ride'].mean()\n",
    "    \n",
    "    return df\n",
    "\n",
    "# 함수를 실행하여 변수 생성\n",
    "df = inout_mean()"
   ]
  },
  {
   "cell_type": "code",
   "execution_count": 16,
   "metadata": {
    "execution": {
     "iopub.execute_input": "2022-02-09T00:54:48.334847Z",
     "iopub.status.busy": "2022-02-09T00:54:48.334111Z",
     "iopub.status.idle": "2022-02-09T00:54:48.443656Z",
     "shell.execute_reply": "2022-02-09T00:54:48.442712Z",
     "shell.execute_reply.started": "2022-02-09T00:54:48.334809Z"
    }
   },
   "outputs": [
    {
     "data": {
      "text/html": [
       "<div>\n",
       "<style scoped>\n",
       "    .dataframe tbody tr th:only-of-type {\n",
       "        vertical-align: middle;\n",
       "    }\n",
       "\n",
       "    .dataframe tbody tr th {\n",
       "        vertical-align: top;\n",
       "    }\n",
       "\n",
       "    .dataframe thead th {\n",
       "        text-align: right;\n",
       "    }\n",
       "</style>\n",
       "<table border=\"1\" class=\"dataframe\">\n",
       "  <thead>\n",
       "    <tr style=\"text-align: right;\">\n",
       "      <th></th>\n",
       "      <th>in_out_mean</th>\n",
       "    </tr>\n",
       "  </thead>\n",
       "  <tbody>\n",
       "    <tr>\n",
       "      <th>0</th>\n",
       "      <td>2.044345</td>\n",
       "    </tr>\n",
       "    <tr>\n",
       "      <th>1</th>\n",
       "      <td>2.044345</td>\n",
       "    </tr>\n",
       "    <tr>\n",
       "      <th>2</th>\n",
       "      <td>2.044345</td>\n",
       "    </tr>\n",
       "    <tr>\n",
       "      <th>3</th>\n",
       "      <td>1.228499</td>\n",
       "    </tr>\n",
       "    <tr>\n",
       "      <th>4</th>\n",
       "      <td>1.228499</td>\n",
       "    </tr>\n",
       "  </tbody>\n",
       "</table>\n",
       "</div>"
      ],
      "text/plain": [
       "   in_out_mean\n",
       "0     2.044345\n",
       "1     2.044345\n",
       "2     2.044345\n",
       "3     1.228499\n",
       "4     1.228499"
      ]
     },
     "execution_count": 16,
     "metadata": {},
     "output_type": "execute_result"
    }
   ],
   "source": [
    "df[['in_out_mean']].head()"
   ]
  },
  {
   "cell_type": "markdown",
   "metadata": {},
   "source": [
    "* 일별 오전 시간대의 총 탑승객 수"
   ]
  },
  {
   "cell_type": "code",
   "execution_count": 17,
   "metadata": {
    "execution": {
     "iopub.execute_input": "2022-02-09T00:54:48.627265Z",
     "iopub.status.busy": "2022-02-09T00:54:48.626976Z",
     "iopub.status.idle": "2022-02-09T00:54:48.920464Z",
     "shell.execute_reply": "2022-02-09T00:54:48.919281Z",
     "shell.execute_reply.started": "2022-02-09T00:54:48.627229Z"
    }
   },
   "outputs": [],
   "source": [
    "# 날짜별 오전시간에 탑승한 총 승객수\n",
    "f=df.groupby('date')['6~7_ride','7~8_ride','8~9_ride','9~10_ride','10~11_ride'\n",
    "                    ].sum().reset_index()\n",
    "\n",
    "# 변수명 바꾸기\n",
    "f.columns=['date','6~7_ride_sum','7~8_ride_sum','8~9_ride_sum','9~10_ride_sum',\n",
    "           '10~11_ride_sum']\n",
    "\n",
    "# 기존의 데이터프레임에 새로운 변수를 병합\n",
    "df = pd.merge(df, f, how='left', on='date')"
   ]
  },
  {
   "cell_type": "code",
   "execution_count": 18,
   "metadata": {
    "execution": {
     "iopub.execute_input": "2022-02-09T00:54:48.922429Z",
     "iopub.status.busy": "2022-02-09T00:54:48.922133Z",
     "iopub.status.idle": "2022-02-09T00:54:49.093008Z",
     "shell.execute_reply": "2022-02-09T00:54:49.092155Z",
     "shell.execute_reply.started": "2022-02-09T00:54:48.922408Z"
    }
   },
   "outputs": [
    {
     "data": {
      "text/html": [
       "<div>\n",
       "<style scoped>\n",
       "    .dataframe tbody tr th:only-of-type {\n",
       "        vertical-align: middle;\n",
       "    }\n",
       "\n",
       "    .dataframe tbody tr th {\n",
       "        vertical-align: top;\n",
       "    }\n",
       "\n",
       "    .dataframe thead th {\n",
       "        text-align: right;\n",
       "    }\n",
       "</style>\n",
       "<table border=\"1\" class=\"dataframe\">\n",
       "  <thead>\n",
       "    <tr style=\"text-align: right;\">\n",
       "      <th></th>\n",
       "      <th>date</th>\n",
       "      <th>6~7_ride_sum</th>\n",
       "      <th>7~8_ride_sum</th>\n",
       "      <th>8~9_ride_sum</th>\n",
       "      <th>9~10_ride_sum</th>\n",
       "      <th>10~11_ride_sum</th>\n",
       "    </tr>\n",
       "  </thead>\n",
       "  <tbody>\n",
       "    <tr>\n",
       "      <th>0</th>\n",
       "      <td>2019-09-01</td>\n",
       "      <td>2942.0</td>\n",
       "      <td>4518.0</td>\n",
       "      <td>5682.0</td>\n",
       "      <td>6275.0</td>\n",
       "      <td>6774.0</td>\n",
       "    </tr>\n",
       "    <tr>\n",
       "      <th>1</th>\n",
       "      <td>2019-09-01</td>\n",
       "      <td>2942.0</td>\n",
       "      <td>4518.0</td>\n",
       "      <td>5682.0</td>\n",
       "      <td>6275.0</td>\n",
       "      <td>6774.0</td>\n",
       "    </tr>\n",
       "    <tr>\n",
       "      <th>2</th>\n",
       "      <td>2019-09-01</td>\n",
       "      <td>2942.0</td>\n",
       "      <td>4518.0</td>\n",
       "      <td>5682.0</td>\n",
       "      <td>6275.0</td>\n",
       "      <td>6774.0</td>\n",
       "    </tr>\n",
       "    <tr>\n",
       "      <th>3</th>\n",
       "      <td>2019-09-01</td>\n",
       "      <td>2942.0</td>\n",
       "      <td>4518.0</td>\n",
       "      <td>5682.0</td>\n",
       "      <td>6275.0</td>\n",
       "      <td>6774.0</td>\n",
       "    </tr>\n",
       "    <tr>\n",
       "      <th>4</th>\n",
       "      <td>2019-09-01</td>\n",
       "      <td>2942.0</td>\n",
       "      <td>4518.0</td>\n",
       "      <td>5682.0</td>\n",
       "      <td>6275.0</td>\n",
       "      <td>6774.0</td>\n",
       "    </tr>\n",
       "  </tbody>\n",
       "</table>\n",
       "</div>"
      ],
      "text/plain": [
       "        date  6~7_ride_sum  7~8_ride_sum  8~9_ride_sum  9~10_ride_sum  \\\n",
       "0 2019-09-01        2942.0        4518.0        5682.0         6275.0   \n",
       "1 2019-09-01        2942.0        4518.0        5682.0         6275.0   \n",
       "2 2019-09-01        2942.0        4518.0        5682.0         6275.0   \n",
       "3 2019-09-01        2942.0        4518.0        5682.0         6275.0   \n",
       "4 2019-09-01        2942.0        4518.0        5682.0         6275.0   \n",
       "\n",
       "   10~11_ride_sum  \n",
       "0          6774.0  \n",
       "1          6774.0  \n",
       "2          6774.0  \n",
       "3          6774.0  \n",
       "4          6774.0  "
      ]
     },
     "execution_count": 18,
     "metadata": {},
     "output_type": "execute_result"
    }
   ],
   "source": [
    "df[['date','6~7_ride_sum','7~8_ride_sum','8~9_ride_sum','9~10_ride_sum',\n",
    "    '10~11_ride_sum']].head()"
   ]
  },
  {
   "cell_type": "markdown",
   "metadata": {
    "heading_collapsed": "true"
   },
   "source": [
    "#### 3.3.1.2 도메인 조사를 통한 변수"
   ]
  },
  {
   "cell_type": "markdown",
   "metadata": {},
   "source": [
    "* 배차 간격"
   ]
  },
  {
   "cell_type": "code",
   "execution_count": 19,
   "metadata": {
    "execution": {
     "iopub.execute_input": "2022-02-09T00:54:49.413222Z",
     "iopub.status.busy": "2022-02-09T00:54:49.412967Z",
     "iopub.status.idle": "2022-02-09T00:56:41.203893Z",
     "shell.execute_reply": "2022-02-09T00:56:41.202953Z",
     "shell.execute_reply.started": "2022-02-09T00:54:49.413201Z"
    }
   },
   "outputs": [],
   "source": [
    "# 탑승 날짜를 datetime형으로 변환\n",
    "bts['geton_time2'] = pd.to_datetime(bts['geton_time'])\n",
    "\n",
    "# 탑승 날짜, 탑승 정류장 코드, 탑승 노선 번호 기준으로 정렬\n",
    "f = bts.sort_values(by=['geton_date','geton_station_code','bus_route_id',\n",
    "                        'geton_time2'],ascending=True).reset_index()"
   ]
  },
  {
   "cell_type": "code",
   "execution_count": 20,
   "metadata": {
    "execution": {
     "iopub.execute_input": "2022-02-09T00:56:41.205526Z",
     "iopub.status.busy": "2022-02-09T00:56:41.205246Z",
     "iopub.status.idle": "2022-02-09T01:52:41.448043Z",
     "shell.execute_reply": "2022-02-09T01:52:41.446985Z",
     "shell.execute_reply.started": "2022-02-09T00:56:41.205501Z"
    }
   },
   "outputs": [
    {
     "data": {
      "application/vnd.jupyter.widget-view+json": {
       "model_id": "ab462c8aeaf44539ab541a4eefcead8c",
       "version_major": 2,
       "version_minor": 0
      },
      "text/plain": [
       "  0%|          | 0/2409413 [00:00<?, ?it/s]"
      ]
     },
     "metadata": {},
     "output_type": "display_data"
    }
   ],
   "source": [
    "# 반복문 실행 시간이 많이 소요되어 상태 진행률을 확인할 수 있는 tqdm 라이브러리 사용\n",
    "from tqdm import notebook\n",
    "\n",
    "# 시차를 넣기 위한 빈 리스트 생성\n",
    "interval_lst = []\n",
    "for i in notebook.tqdm(range(0,len(f)-1)):\n",
    "    # 탑승 날짜, 탑승 정류장 코드, 탑승 노선 번호가 같다면\n",
    "    if ((f.iloc[i].geton_date == f.iloc[i+1].geton_date) & \n",
    "        (f.iloc[i].geton_station_code == f.iloc[i+1].geton_station_code) & \n",
    "        (f.iloc[i].bus_route_id == f.iloc[i+1].bus_route_id)):\n",
    "        # 탑승 날짜의 차를 interval_lst에 넣기\n",
    "        interval_lst.append(f.iloc[i+1].geton_time2 - f.iloc[i].geton_time2)\n",
    "    else:\n",
    "       # 같지 않다면 0을 interval_lst에 넣기\n",
    "        interval_lst.append(0)\n",
    "\n",
    "interval_lst.insert(0, '0')"
   ]
  },
  {
   "cell_type": "code",
   "execution_count": 21,
   "metadata": {
    "execution": {
     "iopub.execute_input": "2022-02-09T01:52:41.450722Z",
     "iopub.status.busy": "2022-02-09T01:52:41.450272Z",
     "iopub.status.idle": "2022-02-09T01:52:54.281781Z",
     "shell.execute_reply": "2022-02-09T01:52:54.281039Z",
     "shell.execute_reply.started": "2022-02-09T01:52:41.450667Z"
    }
   },
   "outputs": [],
   "source": [
    "f['interval'] = interval_lst # interval_lst를 'interval'변수로 생성 \n",
    "# 'interval' 변수의 값을 문자형으로 변환 후 '시:분:초'의 형태로 변환\n",
    "f['interval'] = f['interval'].astype(str).str[7:].replace('','00:00:00')\n",
    "f['bus_route_id'] = f['bus_route_id'].astype(object)"
   ]
  },
  {
   "cell_type": "code",
   "execution_count": 22,
   "metadata": {
    "execution": {
     "iopub.execute_input": "2022-02-09T01:52:54.284380Z",
     "iopub.status.busy": "2022-02-09T01:52:54.283997Z",
     "iopub.status.idle": "2022-02-09T01:52:58.243716Z",
     "shell.execute_reply": "2022-02-09T01:52:58.242876Z",
     "shell.execute_reply.started": "2022-02-09T01:52:54.284360Z"
    }
   },
   "outputs": [],
   "source": [
    "# 분으로 변환하는 함수\n",
    "def get_min(time_str):\n",
    "    h, m, s = time_str.split(':')\n",
    "    return (int(h) * 3600 + int(m) * 60 + int(s)) / 60\n",
    "# 'interval' 함수의 모든 값에 대해 함수 적용하여 나온 값을 time리스트에 넣기\n",
    "time = []\n",
    "for i in f['interval'] :\n",
    "    time.append(get_min(i))\n",
    "\n",
    "f['time'] = time # time리스트를 'time' 변수로 생성\n",
    "f['time'] = f['time'].astype(int) # 'time' 변수를 int 타입으로 변경\n",
    "f = f[f['time'] > 3] # 간격이 3분보다 작은 것 제외 \n",
    "f = f[f['time'] < 180] # 간격이 3시간보다 큰 것 제외"
   ]
  },
  {
   "cell_type": "code",
   "execution_count": 23,
   "metadata": {
    "execution": {
     "iopub.execute_input": "2022-02-09T01:52:58.245566Z",
     "iopub.status.busy": "2022-02-09T01:52:58.245158Z",
     "iopub.status.idle": "2022-02-09T01:52:58.383557Z",
     "shell.execute_reply": "2022-02-09T01:52:58.382511Z",
     "shell.execute_reply.started": "2022-02-09T01:52:58.245544Z"
    }
   },
   "outputs": [],
   "source": [
    "# 버스 노선별 버스 간격의 평균 'bus_interval’변수 생성\n",
    "data = f.groupby('bus_route_id')['time'].agg([('bus_interval', 'mean')]\n",
    "                                            ).reset_index()\n",
    "data['bus_interval'] = data['bus_interval'].astype(int)\n",
    "\n",
    "# 변수 생성에 많은 시간이 소요되므로 csv 파일로 저장\n",
    "data.to_csv('bus_interval.csv', index = False)"
   ]
  },
  {
   "cell_type": "code",
   "execution_count": 24,
   "metadata": {
    "execution": {
     "iopub.execute_input": "2022-02-09T01:52:58.385212Z",
     "iopub.status.busy": "2022-02-09T01:52:58.384885Z",
     "iopub.status.idle": "2022-02-09T01:52:58.649137Z",
     "shell.execute_reply": "2022-02-09T01:52:58.648438Z",
     "shell.execute_reply.started": "2022-02-09T01:52:58.385192Z"
    }
   },
   "outputs": [],
   "source": [
    "# csv 파일이 성공적으로 저장됐다면 다음 과정부터 진행\n",
    "import numpy as np\n",
    "df['bus_route_id'] = df['bus_route_id'].astype(np.int64)\n",
    "bus_interval = pd.read_csv(\"bus_interval.csv\")\n",
    "\n",
    "# 기존의 데이터프레임에 새로운 변수를 병합\n",
    "df = pd.merge(df, bus_interval, how = 'left', on = 'bus_route_id')\n",
    "df['bus_interval'] = df['bus_interval'].fillna(9999) # 병합 중 생기는 NA값 처리"
   ]
  },
  {
   "cell_type": "code",
   "execution_count": 25,
   "metadata": {
    "execution": {
     "iopub.execute_input": "2022-02-09T01:52:58.650921Z",
     "iopub.status.busy": "2022-02-09T01:52:58.650537Z",
     "iopub.status.idle": "2022-02-09T01:52:58.744813Z",
     "shell.execute_reply": "2022-02-09T01:52:58.743869Z",
     "shell.execute_reply.started": "2022-02-09T01:52:58.650892Z"
    }
   },
   "outputs": [
    {
     "data": {
      "text/html": [
       "<div>\n",
       "<style scoped>\n",
       "    .dataframe tbody tr th:only-of-type {\n",
       "        vertical-align: middle;\n",
       "    }\n",
       "\n",
       "    .dataframe tbody tr th {\n",
       "        vertical-align: top;\n",
       "    }\n",
       "\n",
       "    .dataframe thead th {\n",
       "        text-align: right;\n",
       "    }\n",
       "</style>\n",
       "<table border=\"1\" class=\"dataframe\">\n",
       "  <thead>\n",
       "    <tr style=\"text-align: right;\">\n",
       "      <th></th>\n",
       "      <th>bus_interval</th>\n",
       "    </tr>\n",
       "  </thead>\n",
       "  <tbody>\n",
       "    <tr>\n",
       "      <th>0</th>\n",
       "      <td>34.0</td>\n",
       "    </tr>\n",
       "    <tr>\n",
       "      <th>1</th>\n",
       "      <td>34.0</td>\n",
       "    </tr>\n",
       "    <tr>\n",
       "      <th>2</th>\n",
       "      <td>34.0</td>\n",
       "    </tr>\n",
       "    <tr>\n",
       "      <th>3</th>\n",
       "      <td>34.0</td>\n",
       "    </tr>\n",
       "    <tr>\n",
       "      <th>4</th>\n",
       "      <td>34.0</td>\n",
       "    </tr>\n",
       "  </tbody>\n",
       "</table>\n",
       "</div>"
      ],
      "text/plain": [
       "   bus_interval\n",
       "0          34.0\n",
       "1          34.0\n",
       "2          34.0\n",
       "3          34.0\n",
       "4          34.0"
      ]
     },
     "execution_count": 25,
     "metadata": {},
     "output_type": "execute_result"
    }
   ],
   "source": [
    "df[['bus_interval']].head()"
   ]
  },
  {
   "cell_type": "markdown",
   "metadata": {},
   "source": [
    "* 수요가 많을 것으로 예상되는 정류장"
   ]
  },
  {
   "cell_type": "code",
   "execution_count": 26,
   "metadata": {
    "execution": {
     "iopub.execute_input": "2022-02-09T01:52:58.748567Z",
     "iopub.status.busy": "2022-02-09T01:52:58.748310Z",
     "iopub.status.idle": "2022-02-09T01:52:59.815482Z",
     "shell.execute_reply": "2022-02-09T01:52:59.814804Z",
     "shell.execute_reply.started": "2022-02-09T01:52:58.748545Z"
    }
   },
   "outputs": [],
   "source": [
    "# school 변수 생성\n",
    "# 정류장명에 '고등학교'가 포함되어 있는 행 뽑기 \n",
    "highschool_station = df[df['station_name'].str.contains('고등학교')]\n",
    "# '고등학교'가 포함되어 있는 정류장명을 중복 없이 리스트에 저장\n",
    "highschool = list(highschool_station['station_name'].unique())\n",
    "# 정류장명에 '대학교'가 포함되어 있는 행 뽑기\n",
    "university_station = df[df['station_name'].str.contains('대학교')]\n",
    "# '대학교'가 포함되어 있는 정류장명을 중복 없이 리스트에 저장\n",
    "university = list(university_station['station_name'].unique())\n",
    "\n",
    "# '고등학교'와 '대학교' 근처 정류장 구분 함수\n",
    "def schoolstation(x):\n",
    "    # highschool 리스트에 정류장명이 포함되어 있다면 1을 반환\n",
    "    if x in highschool:\n",
    "        return 1\n",
    "    # university 리스트에 정류장명이 포함되어 있다면 1을 반환\n",
    "    elif x in university:\n",
    "        return 1\n",
    "    # 둘 다 포함되지 않는 정류장명이라면 0을 반환\n",
    "    else:\n",
    "        return 0\n",
    "\n",
    "# 모든 정류장명에 대해 적용\n",
    "df['school'] = df['station_name'].apply(schoolstation) "
   ]
  },
  {
   "cell_type": "code",
   "execution_count": 27,
   "metadata": {
    "execution": {
     "iopub.execute_input": "2022-02-09T01:52:59.818495Z",
     "iopub.status.busy": "2022-02-09T01:52:59.817943Z",
     "iopub.status.idle": "2022-02-09T01:52:59.845479Z",
     "shell.execute_reply": "2022-02-09T01:52:59.844434Z",
     "shell.execute_reply.started": "2022-02-09T01:52:59.818462Z"
    }
   },
   "outputs": [
    {
     "data": {
      "text/html": [
       "<div>\n",
       "<style scoped>\n",
       "    .dataframe tbody tr th:only-of-type {\n",
       "        vertical-align: middle;\n",
       "    }\n",
       "\n",
       "    .dataframe tbody tr th {\n",
       "        vertical-align: top;\n",
       "    }\n",
       "\n",
       "    .dataframe thead th {\n",
       "        text-align: right;\n",
       "    }\n",
       "</style>\n",
       "<table border=\"1\" class=\"dataframe\">\n",
       "  <thead>\n",
       "    <tr style=\"text-align: right;\">\n",
       "      <th></th>\n",
       "      <th>school</th>\n",
       "    </tr>\n",
       "  </thead>\n",
       "  <tbody>\n",
       "    <tr>\n",
       "      <th>0</th>\n",
       "      <td>0</td>\n",
       "    </tr>\n",
       "    <tr>\n",
       "      <th>1</th>\n",
       "      <td>0</td>\n",
       "    </tr>\n",
       "    <tr>\n",
       "      <th>2</th>\n",
       "      <td>0</td>\n",
       "    </tr>\n",
       "    <tr>\n",
       "      <th>3</th>\n",
       "      <td>0</td>\n",
       "    </tr>\n",
       "    <tr>\n",
       "      <th>4</th>\n",
       "      <td>0</td>\n",
       "    </tr>\n",
       "  </tbody>\n",
       "</table>\n",
       "</div>"
      ],
      "text/plain": [
       "   school\n",
       "0       0\n",
       "1       0\n",
       "2       0\n",
       "3       0\n",
       "4       0"
      ]
     },
     "execution_count": 27,
     "metadata": {},
     "output_type": "execute_result"
    }
   ],
   "source": [
    "df[['school']].head()"
   ]
  },
  {
   "cell_type": "code",
   "execution_count": 28,
   "metadata": {
    "execution": {
     "iopub.execute_input": "2022-02-09T01:52:59.847488Z",
     "iopub.status.busy": "2022-02-09T01:52:59.847158Z",
     "iopub.status.idle": "2022-02-09T01:53:01.264135Z",
     "shell.execute_reply": "2022-02-09T01:53:01.263260Z",
     "shell.execute_reply.started": "2022-02-09T01:52:59.847449Z"
    }
   },
   "outputs": [],
   "source": [
    "# school 변수와 동일한 방법으로 transfer 변수 생성\n",
    "transfer_station = df[df['station_name'].str.contains('환승')]\n",
    "transfers = list(transfer_station['station_name'].unique())\n",
    "\n",
    "airport_station = df[df['station_name'].str.contains('공항')]\n",
    "airport = list(airport_station['station_name'].unique())\n",
    "\n",
    "terminal_station = df[df['station_name'].str.contains('터미널')]\n",
    "terminal = list(terminal_station['station_name'].unique())\n",
    "\n",
    "# 항상 수요가 많은 정류장 구분 함수\n",
    "def transfer_station(x):\n",
    "    if x in transfers:\n",
    "        return 1\n",
    "    elif x in airport:\n",
    "        return 1\n",
    "    elif x in terminal:\n",
    "        return 1\n",
    "    else:\n",
    "        return 0\n",
    "\n",
    "df['transfer'] = df['station_name'].apply(transfer_station)"
   ]
  },
  {
   "cell_type": "code",
   "execution_count": 29,
   "metadata": {
    "execution": {
     "iopub.execute_input": "2022-02-09T01:53:01.265762Z",
     "iopub.status.busy": "2022-02-09T01:53:01.265328Z",
     "iopub.status.idle": "2022-02-09T01:53:01.295134Z",
     "shell.execute_reply": "2022-02-09T01:53:01.294276Z",
     "shell.execute_reply.started": "2022-02-09T01:53:01.265722Z"
    }
   },
   "outputs": [
    {
     "data": {
      "text/html": [
       "<div>\n",
       "<style scoped>\n",
       "    .dataframe tbody tr th:only-of-type {\n",
       "        vertical-align: middle;\n",
       "    }\n",
       "\n",
       "    .dataframe tbody tr th {\n",
       "        vertical-align: top;\n",
       "    }\n",
       "\n",
       "    .dataframe thead th {\n",
       "        text-align: right;\n",
       "    }\n",
       "</style>\n",
       "<table border=\"1\" class=\"dataframe\">\n",
       "  <thead>\n",
       "    <tr style=\"text-align: right;\">\n",
       "      <th></th>\n",
       "      <th>transfer</th>\n",
       "    </tr>\n",
       "  </thead>\n",
       "  <tbody>\n",
       "    <tr>\n",
       "      <th>0</th>\n",
       "      <td>0</td>\n",
       "    </tr>\n",
       "    <tr>\n",
       "      <th>1</th>\n",
       "      <td>0</td>\n",
       "    </tr>\n",
       "    <tr>\n",
       "      <th>2</th>\n",
       "      <td>0</td>\n",
       "    </tr>\n",
       "    <tr>\n",
       "      <th>3</th>\n",
       "      <td>1</td>\n",
       "    </tr>\n",
       "    <tr>\n",
       "      <th>4</th>\n",
       "      <td>0</td>\n",
       "    </tr>\n",
       "  </tbody>\n",
       "</table>\n",
       "</div>"
      ],
      "text/plain": [
       "   transfer\n",
       "0         0\n",
       "1         0\n",
       "2         0\n",
       "3         1\n",
       "4         0"
      ]
     },
     "execution_count": 29,
     "metadata": {},
     "output_type": "execute_result"
    }
   ],
   "source": [
    "df[['transfer']].head()"
   ]
  },
  {
   "cell_type": "markdown",
   "metadata": {},
   "source": [
    "* 연휴"
   ]
  },
  {
   "cell_type": "code",
   "execution_count": 30,
   "metadata": {
    "execution": {
     "iopub.execute_input": "2022-02-09T01:53:01.297256Z",
     "iopub.status.busy": "2022-02-09T01:53:01.296973Z",
     "iopub.status.idle": "2022-02-09T01:53:03.889206Z",
     "shell.execute_reply": "2022-02-09T01:53:03.888129Z",
     "shell.execute_reply.started": "2022-02-09T01:53:01.297222Z"
    }
   },
   "outputs": [
    {
     "data": {
      "text/html": [
       "<div>\n",
       "<style scoped>\n",
       "    .dataframe tbody tr th:only-of-type {\n",
       "        vertical-align: middle;\n",
       "    }\n",
       "\n",
       "    .dataframe tbody tr th {\n",
       "        vertical-align: top;\n",
       "    }\n",
       "\n",
       "    .dataframe thead th {\n",
       "        text-align: right;\n",
       "    }\n",
       "</style>\n",
       "<table border=\"1\" class=\"dataframe\">\n",
       "  <thead>\n",
       "    <tr style=\"text-align: right;\">\n",
       "      <th></th>\n",
       "      <th>holiday</th>\n",
       "    </tr>\n",
       "  </thead>\n",
       "  <tbody>\n",
       "    <tr>\n",
       "      <th>0</th>\n",
       "      <td>0</td>\n",
       "    </tr>\n",
       "    <tr>\n",
       "      <th>1</th>\n",
       "      <td>0</td>\n",
       "    </tr>\n",
       "    <tr>\n",
       "      <th>2</th>\n",
       "      <td>0</td>\n",
       "    </tr>\n",
       "    <tr>\n",
       "      <th>3</th>\n",
       "      <td>0</td>\n",
       "    </tr>\n",
       "    <tr>\n",
       "      <th>4</th>\n",
       "      <td>0</td>\n",
       "    </tr>\n",
       "  </tbody>\n",
       "</table>\n",
       "</div>"
      ],
      "text/plain": [
       "   holiday\n",
       "0        0\n",
       "1        0\n",
       "2        0\n",
       "3        0\n",
       "4        0"
      ]
     },
     "execution_count": 30,
     "metadata": {},
     "output_type": "execute_result"
    }
   ],
   "source": [
    "# 날짜에서 연휴 구분 함수\n",
    "def holiday(x):\n",
    "    # 공휴일이라면 1을 반환\n",
    "    if x in ['2019-09-12','2019-09-13','2019-09-14','2019-10-03','2019-10-09']:\n",
    "        return 1\n",
    "    else:\n",
    "        # 공휴일이 아니라면 0을 반환\n",
    "        return 0\n",
    "\n",
    "    # 모든 날짜에 적용\n",
    "df['holiday'] = df['date'].apply(holiday)\n",
    "df[['holiday']].head()"
   ]
  },
  {
   "cell_type": "markdown",
   "metadata": {
    "heading_collapsed": "true"
   },
   "source": [
    "#### 3.3.1.3. 시간대를 활용한 변수"
   ]
  },
  {
   "cell_type": "markdown",
   "metadata": {},
   "source": [
    "* 승하차 시간대 통합 변수(t~t+2)"
   ]
  },
  {
   "cell_type": "code",
   "execution_count": 31,
   "metadata": {
    "execution": {
     "iopub.execute_input": "2022-02-09T01:53:03.891338Z",
     "iopub.status.busy": "2022-02-09T01:53:03.890551Z",
     "iopub.status.idle": "2022-02-09T01:53:03.921172Z",
     "shell.execute_reply": "2022-02-09T01:53:03.920194Z",
     "shell.execute_reply.started": "2022-02-09T01:53:03.891291Z"
    }
   },
   "outputs": [],
   "source": [
    "# 오전 시간대에 2시간 동안 승차한 인원수의 합계\n",
    "df['68a'] = df['6~7_ride'] + df['7~8_ride'] \n",
    "df['810a'] = df['8~9_ride'] + df['9~10_ride']\n",
    "df['1012a'] = df['10~11_ride'] + df['11~12_ride']\n",
    "\n",
    "# 오전 시간대에 2시간 동안 하차한 인원수의 합계\n",
    "df['68b'] = df['6~7_takeoff'] + df['7~8_takeoff'] \n",
    "df['810b'] = df['8~9_takeoff'] + df['9~10_takeoff']\n",
    "df['1012b'] = df['10~11_takeoff'] + df['11~12_takeoff']"
   ]
  },
  {
   "cell_type": "code",
   "execution_count": 32,
   "metadata": {
    "execution": {
     "iopub.execute_input": "2022-02-09T01:53:03.922761Z",
     "iopub.status.busy": "2022-02-09T01:53:03.922373Z",
     "iopub.status.idle": "2022-02-09T01:53:04.061159Z",
     "shell.execute_reply": "2022-02-09T01:53:04.059351Z",
     "shell.execute_reply.started": "2022-02-09T01:53:03.922738Z"
    }
   },
   "outputs": [
    {
     "data": {
      "text/html": [
       "<div>\n",
       "<style scoped>\n",
       "    .dataframe tbody tr th:only-of-type {\n",
       "        vertical-align: middle;\n",
       "    }\n",
       "\n",
       "    .dataframe tbody tr th {\n",
       "        vertical-align: top;\n",
       "    }\n",
       "\n",
       "    .dataframe thead th {\n",
       "        text-align: right;\n",
       "    }\n",
       "</style>\n",
       "<table border=\"1\" class=\"dataframe\">\n",
       "  <thead>\n",
       "    <tr style=\"text-align: right;\">\n",
       "      <th></th>\n",
       "      <th>68a</th>\n",
       "      <th>810a</th>\n",
       "      <th>1012a</th>\n",
       "      <th>68b</th>\n",
       "      <th>810b</th>\n",
       "      <th>1012b</th>\n",
       "    </tr>\n",
       "  </thead>\n",
       "  <tbody>\n",
       "    <tr>\n",
       "      <th>0</th>\n",
       "      <td>1.0</td>\n",
       "      <td>7.0</td>\n",
       "      <td>8.0</td>\n",
       "      <td>0.0</td>\n",
       "      <td>0.0</td>\n",
       "      <td>0.0</td>\n",
       "    </tr>\n",
       "    <tr>\n",
       "      <th>1</th>\n",
       "      <td>5.0</td>\n",
       "      <td>6.0</td>\n",
       "      <td>11.0</td>\n",
       "      <td>0.0</td>\n",
       "      <td>0.0</td>\n",
       "      <td>0.0</td>\n",
       "    </tr>\n",
       "    <tr>\n",
       "      <th>2</th>\n",
       "      <td>2.0</td>\n",
       "      <td>2.0</td>\n",
       "      <td>0.0</td>\n",
       "      <td>0.0</td>\n",
       "      <td>0.0</td>\n",
       "      <td>0.0</td>\n",
       "    </tr>\n",
       "    <tr>\n",
       "      <th>3</th>\n",
       "      <td>17.0</td>\n",
       "      <td>32.0</td>\n",
       "      <td>30.0</td>\n",
       "      <td>0.0</td>\n",
       "      <td>0.0</td>\n",
       "      <td>0.0</td>\n",
       "    </tr>\n",
       "    <tr>\n",
       "      <th>4</th>\n",
       "      <td>0.0</td>\n",
       "      <td>0.0</td>\n",
       "      <td>0.0</td>\n",
       "      <td>0.0</td>\n",
       "      <td>1.0</td>\n",
       "      <td>0.0</td>\n",
       "    </tr>\n",
       "  </tbody>\n",
       "</table>\n",
       "</div>"
      ],
      "text/plain": [
       "    68a  810a  1012a  68b  810b  1012b\n",
       "0   1.0   7.0    8.0  0.0   0.0    0.0\n",
       "1   5.0   6.0   11.0  0.0   0.0    0.0\n",
       "2   2.0   2.0    0.0  0.0   0.0    0.0\n",
       "3  17.0  32.0   30.0  0.0   0.0    0.0\n",
       "4   0.0   0.0    0.0  0.0   1.0    0.0"
      ]
     },
     "execution_count": 32,
     "metadata": {},
     "output_type": "execute_result"
    }
   ],
   "source": [
    "df[['68a', '810a', '1012a', '68b', '810b', '1012b']].head()"
   ]
  },
  {
   "cell_type": "markdown",
   "metadata": {},
   "source": [
    "* 오전 시간의 승객 수"
   ]
  },
  {
   "cell_type": "code",
   "execution_count": 33,
   "metadata": {
    "execution": {
     "iopub.execute_input": "2022-02-09T01:53:04.063793Z",
     "iopub.status.busy": "2022-02-09T01:53:04.063446Z",
     "iopub.status.idle": "2022-02-09T01:53:04.300910Z",
     "shell.execute_reply": "2022-02-09T01:53:04.300248Z",
     "shell.execute_reply.started": "2022-02-09T01:53:04.063745Z"
    }
   },
   "outputs": [],
   "source": [
    "# 오전 시간(6시~12시)에 승차한 승객 수의 합계\n",
    "df['ride_sum'] = df[['6~7_ride', '7~8_ride', '8~9_ride', '9~10_ride', \n",
    "                     '10~11_ride', '11~12_ride']].sum(axis=1)\n",
    "\n",
    "# 오전 시간(6시~12시)에 하차한 승객 수의 합계\n",
    "df['takeoff_sum'] = df[['6~7_takeoff', '7~8_takeoff', '8~9_takeoff', '9~10_takeoff',\n",
    "                        '10~11_takeoff', '11~12_takeoff']].sum(axis=1)"
   ]
  },
  {
   "cell_type": "code",
   "execution_count": 34,
   "metadata": {
    "execution": {
     "iopub.execute_input": "2022-02-09T01:53:04.302446Z",
     "iopub.status.busy": "2022-02-09T01:53:04.302051Z",
     "iopub.status.idle": "2022-02-09T01:53:04.488549Z",
     "shell.execute_reply": "2022-02-09T01:53:04.487639Z",
     "shell.execute_reply.started": "2022-02-09T01:53:04.302421Z"
    }
   },
   "outputs": [
    {
     "data": {
      "text/html": [
       "<div>\n",
       "<style scoped>\n",
       "    .dataframe tbody tr th:only-of-type {\n",
       "        vertical-align: middle;\n",
       "    }\n",
       "\n",
       "    .dataframe tbody tr th {\n",
       "        vertical-align: top;\n",
       "    }\n",
       "\n",
       "    .dataframe thead th {\n",
       "        text-align: right;\n",
       "    }\n",
       "</style>\n",
       "<table border=\"1\" class=\"dataframe\">\n",
       "  <thead>\n",
       "    <tr style=\"text-align: right;\">\n",
       "      <th></th>\n",
       "      <th>ride_sum</th>\n",
       "      <th>takeoff_sum</th>\n",
       "    </tr>\n",
       "  </thead>\n",
       "  <tbody>\n",
       "    <tr>\n",
       "      <th>0</th>\n",
       "      <td>16.0</td>\n",
       "      <td>0.0</td>\n",
       "    </tr>\n",
       "    <tr>\n",
       "      <th>1</th>\n",
       "      <td>22.0</td>\n",
       "      <td>0.0</td>\n",
       "    </tr>\n",
       "    <tr>\n",
       "      <th>2</th>\n",
       "      <td>4.0</td>\n",
       "      <td>0.0</td>\n",
       "    </tr>\n",
       "    <tr>\n",
       "      <th>3</th>\n",
       "      <td>79.0</td>\n",
       "      <td>0.0</td>\n",
       "    </tr>\n",
       "    <tr>\n",
       "      <th>4</th>\n",
       "      <td>0.0</td>\n",
       "      <td>1.0</td>\n",
       "    </tr>\n",
       "  </tbody>\n",
       "</table>\n",
       "</div>"
      ],
      "text/plain": [
       "   ride_sum  takeoff_sum\n",
       "0      16.0          0.0\n",
       "1      22.0          0.0\n",
       "2       4.0          0.0\n",
       "3      79.0          0.0\n",
       "4       0.0          1.0"
      ]
     },
     "execution_count": 34,
     "metadata": {},
     "output_type": "execute_result"
    }
   ],
   "source": [
    "df[['ride_sum', 'takeoff_sum']].head()"
   ]
  },
  {
   "cell_type": "code",
   "execution_count": 35,
   "metadata": {
    "execution": {
     "iopub.execute_input": "2022-02-09T01:53:04.491466Z",
     "iopub.status.busy": "2022-02-09T01:53:04.490695Z",
     "iopub.status.idle": "2022-02-09T01:53:06.129782Z",
     "shell.execute_reply": "2022-02-09T01:53:06.128481Z",
     "shell.execute_reply.started": "2022-02-09T01:53:04.491431Z"
    }
   },
   "outputs": [],
   "source": [
    "# 'bus_route_id'와 'station_code'를 결합해 route_station 생성\n",
    "df['route_station'] = df['bus_route_id'].astype(str) + ',' \\\n",
    "                    + df['station_code'].astype(str)\n",
    "\n",
    "# 버스노선별 오전시간의 총 승객수와 평균 승객수 구하기\n",
    "data = df.groupby(['route_station'])['1012a'].agg({'sum', 'mean'}).reset_index()\n",
    "\n",
    "# 변수명을 route_station, 1012a_mean, 1012a_sum으로 바꾸기\n",
    "data.rename(columns = {'mean':'1012a_mean', 'sum':'1012a_sum'}, inplace=True)\n",
    "\n",
    "# 기존의 데이터프레임에 새로운 변수를 병합\n",
    "df = pd.merge(df, data, how='left', on='route_station')"
   ]
  },
  {
   "cell_type": "code",
   "execution_count": 36,
   "metadata": {
    "execution": {
     "iopub.execute_input": "2022-02-09T01:53:06.131854Z",
     "iopub.status.busy": "2022-02-09T01:53:06.131578Z",
     "iopub.status.idle": "2022-02-09T01:53:06.388768Z",
     "shell.execute_reply": "2022-02-09T01:53:06.387903Z",
     "shell.execute_reply.started": "2022-02-09T01:53:06.131833Z"
    }
   },
   "outputs": [
    {
     "data": {
      "text/html": [
       "<div>\n",
       "<style scoped>\n",
       "    .dataframe tbody tr th:only-of-type {\n",
       "        vertical-align: middle;\n",
       "    }\n",
       "\n",
       "    .dataframe tbody tr th {\n",
       "        vertical-align: top;\n",
       "    }\n",
       "\n",
       "    .dataframe thead th {\n",
       "        text-align: right;\n",
       "    }\n",
       "</style>\n",
       "<table border=\"1\" class=\"dataframe\">\n",
       "  <thead>\n",
       "    <tr style=\"text-align: right;\">\n",
       "      <th></th>\n",
       "      <th>1012a_mean</th>\n",
       "      <th>1012a_sum</th>\n",
       "    </tr>\n",
       "  </thead>\n",
       "  <tbody>\n",
       "    <tr>\n",
       "      <th>0</th>\n",
       "      <td>5.304348</td>\n",
       "      <td>244.0</td>\n",
       "    </tr>\n",
       "    <tr>\n",
       "      <th>1</th>\n",
       "      <td>11.608696</td>\n",
       "      <td>534.0</td>\n",
       "    </tr>\n",
       "    <tr>\n",
       "      <th>2</th>\n",
       "      <td>2.304348</td>\n",
       "      <td>106.0</td>\n",
       "    </tr>\n",
       "    <tr>\n",
       "      <th>3</th>\n",
       "      <td>36.673913</td>\n",
       "      <td>1687.0</td>\n",
       "    </tr>\n",
       "    <tr>\n",
       "      <th>4</th>\n",
       "      <td>0.564103</td>\n",
       "      <td>22.0</td>\n",
       "    </tr>\n",
       "  </tbody>\n",
       "</table>\n",
       "</div>"
      ],
      "text/plain": [
       "   1012a_mean  1012a_sum\n",
       "0    5.304348      244.0\n",
       "1   11.608696      534.0\n",
       "2    2.304348      106.0\n",
       "3   36.673913     1687.0\n",
       "4    0.564103       22.0"
      ]
     },
     "execution_count": 36,
     "metadata": {},
     "output_type": "execute_result"
    }
   ],
   "source": [
    "df[['1012a_mean','1012a_sum']].head()"
   ]
  },
  {
   "cell_type": "markdown",
   "metadata": {
    "heading_collapsed": "true"
   },
   "source": [
    "#### 3.3.1.4. bus_bts를 활용한 변수"
   ]
  },
  {
   "cell_type": "markdown",
   "metadata": {},
   "source": [
    "* 카테고리별 승객 수의 합과 비율"
   ]
  },
  {
   "cell_type": "code",
   "execution_count": 37,
   "metadata": {
    "execution": {
     "iopub.execute_input": "2022-02-09T01:53:06.390425Z",
     "iopub.status.busy": "2022-02-09T01:53:06.390121Z",
     "iopub.status.idle": "2022-02-09T01:53:09.382639Z",
     "shell.execute_reply": "2022-02-09T01:53:09.381997Z",
     "shell.execute_reply.started": "2022-02-09T01:53:06.390404Z"
    }
   },
   "outputs": [],
   "source": [
    "# 카테고리별 승객 수의 합\n",
    "def category_people():\n",
    "    # df와 병합을 위해 bus_route_id의 타입을 str로 변환\n",
    "    bts['bus_route_id'] = bts['bus_route_id'].astype(str)\n",
    "\n",
    "    # bus_route_id와 user_category별 승객 수의 합\n",
    "    f = bts.groupby(\n",
    "        ['bus_route_id','user_category']\n",
    "    )['user_count'].agg([('승객수', 'sum')]).reset_index()\n",
    "\n",
    "    # bus_route_id별 user_category 변수의 승객수의 피벗 테이블 형태로 변환\n",
    "    g = pd.pivot_table(f, values='승객수', index='bus_route_id', \n",
    "                       columns='user_category', fill_value=0).reset_index()\n",
    "    g.columns = ['bus_route_id', 'adult','kids','teen','elder','jang','jang2','ugong','ugong2']\n",
    "    g = g[['bus_route_id', 'adult','kids','teen','elder']]\n",
    "\n",
    "    # 기존의 데이터프레임에 새로운 변수를 병합\n",
    "    merge_data = pd.merge(df, g, how='left', on='bus_route_id')\n",
    "                 \n",
    "    return merge_data\n",
    "\n",
    "# bus_route_id의 타입을 str로 통일시켜준 뒤, 함수를 실행하여 변수 생성\n",
    "df['bus_route_id'] = df['bus_route_id'].astype(str)\n",
    "df = category_people()"
   ]
  },
  {
   "cell_type": "code",
   "execution_count": 38,
   "metadata": {
    "execution": {
     "iopub.execute_input": "2022-02-09T01:53:09.384267Z",
     "iopub.status.busy": "2022-02-09T01:53:09.383809Z",
     "iopub.status.idle": "2022-02-09T01:53:09.689514Z",
     "shell.execute_reply": "2022-02-09T01:53:09.688604Z",
     "shell.execute_reply.started": "2022-02-09T01:53:09.384229Z"
    }
   },
   "outputs": [
    {
     "data": {
      "text/html": [
       "<div>\n",
       "<style scoped>\n",
       "    .dataframe tbody tr th:only-of-type {\n",
       "        vertical-align: middle;\n",
       "    }\n",
       "\n",
       "    .dataframe tbody tr th {\n",
       "        vertical-align: top;\n",
       "    }\n",
       "\n",
       "    .dataframe thead th {\n",
       "        text-align: right;\n",
       "    }\n",
       "</style>\n",
       "<table border=\"1\" class=\"dataframe\">\n",
       "  <thead>\n",
       "    <tr style=\"text-align: right;\">\n",
       "      <th></th>\n",
       "      <th>adult</th>\n",
       "      <th>kids</th>\n",
       "      <th>teen</th>\n",
       "      <th>elder</th>\n",
       "    </tr>\n",
       "  </thead>\n",
       "  <tbody>\n",
       "    <tr>\n",
       "      <th>0</th>\n",
       "      <td>8158.0</td>\n",
       "      <td>72.0</td>\n",
       "      <td>38.0</td>\n",
       "      <td>0.0</td>\n",
       "    </tr>\n",
       "    <tr>\n",
       "      <th>1</th>\n",
       "      <td>8158.0</td>\n",
       "      <td>72.0</td>\n",
       "      <td>38.0</td>\n",
       "      <td>0.0</td>\n",
       "    </tr>\n",
       "    <tr>\n",
       "      <th>2</th>\n",
       "      <td>8158.0</td>\n",
       "      <td>72.0</td>\n",
       "      <td>38.0</td>\n",
       "      <td>0.0</td>\n",
       "    </tr>\n",
       "    <tr>\n",
       "      <th>3</th>\n",
       "      <td>8158.0</td>\n",
       "      <td>72.0</td>\n",
       "      <td>38.0</td>\n",
       "      <td>0.0</td>\n",
       "    </tr>\n",
       "    <tr>\n",
       "      <th>4</th>\n",
       "      <td>8158.0</td>\n",
       "      <td>72.0</td>\n",
       "      <td>38.0</td>\n",
       "      <td>0.0</td>\n",
       "    </tr>\n",
       "  </tbody>\n",
       "</table>\n",
       "</div>"
      ],
      "text/plain": [
       "    adult  kids  teen  elder\n",
       "0  8158.0  72.0  38.0    0.0\n",
       "1  8158.0  72.0  38.0    0.0\n",
       "2  8158.0  72.0  38.0    0.0\n",
       "3  8158.0  72.0  38.0    0.0\n",
       "4  8158.0  72.0  38.0    0.0"
      ]
     },
     "execution_count": 38,
     "metadata": {},
     "output_type": "execute_result"
    }
   ],
   "source": [
    "df[['adult','kids','teen','elder']].head()"
   ]
  },
  {
   "cell_type": "code",
   "execution_count": 39,
   "metadata": {
    "execution": {
     "iopub.execute_input": "2022-02-09T01:53:09.691403Z",
     "iopub.status.busy": "2022-02-09T01:53:09.690992Z",
     "iopub.status.idle": "2022-02-09T01:53:10.891944Z",
     "shell.execute_reply": "2022-02-09T01:53:10.890883Z",
     "shell.execute_reply.started": "2022-02-09T01:53:09.691359Z"
    }
   },
   "outputs": [],
   "source": [
    "# 카테고리별 승객 비율\n",
    "def category_people_ratio() :\n",
    "\n",
    "    # bus_route_id별 user_category의 전체 합\n",
    "    f_all = bts.groupby('bus_route_id'\n",
    "                       )['user_count'].agg([('전체', 'sum')]).reset_index()\n",
    "\n",
    "   # bus_route_id와 user_category별 승객 수의 합\n",
    "    f_sum = bts.groupby(['bus_route_id','user_category']\n",
    "                       )['user_count'].agg([('승객수', 'sum')]).reset_index()\n",
    "    \n",
    "    # 승객 수의 합을 전체 합으로 나눠줘 비율을 구함\n",
    "    data = pd.merge(f_all, f_sum, on='bus_route_id')\n",
    "    data['비율'] = data['승객수'] / data['전체']\n",
    "\n",
    "   # 피벗 테이블을 통해 bus_route_id별 user_category변수의 승객 비율 형태로 변환\n",
    "    data = pd.pivot_table(data, values='비율', index='bus_route_id', \n",
    "                          columns='user_category',fill_value=0).reset_index()\n",
    "    data.columns = ['bus_route_id', 'adult_prop','kids_prop','teen_prop',\n",
    "                    'elder_prop','jang_prop','jang2_prop','ugong_prop','ugong2_prop']\n",
    "    f = data[['bus_route_id', 'adult_prop','kids_prop','teen_prop','elder_prop']]\n",
    "\n",
    "    # 기존의 데이터프레임에 새로운 변수를 병합\n",
    "    merge_data = pd.merge(df, f, how='left', on='bus_route_id')\n",
    "\n",
    "    return merge_data\n",
    "\n",
    "# 함수를 실행하여 변수 생성\n",
    "df = category_people_ratio()"
   ]
  },
  {
   "cell_type": "code",
   "execution_count": 40,
   "metadata": {
    "execution": {
     "iopub.execute_input": "2022-02-09T01:53:10.893663Z",
     "iopub.status.busy": "2022-02-09T01:53:10.893322Z",
     "iopub.status.idle": "2022-02-09T01:53:11.260948Z",
     "shell.execute_reply": "2022-02-09T01:53:11.260070Z",
     "shell.execute_reply.started": "2022-02-09T01:53:10.893637Z"
    }
   },
   "outputs": [
    {
     "data": {
      "text/html": [
       "<div>\n",
       "<style scoped>\n",
       "    .dataframe tbody tr th:only-of-type {\n",
       "        vertical-align: middle;\n",
       "    }\n",
       "\n",
       "    .dataframe tbody tr th {\n",
       "        vertical-align: top;\n",
       "    }\n",
       "\n",
       "    .dataframe thead th {\n",
       "        text-align: right;\n",
       "    }\n",
       "</style>\n",
       "<table border=\"1\" class=\"dataframe\">\n",
       "  <thead>\n",
       "    <tr style=\"text-align: right;\">\n",
       "      <th></th>\n",
       "      <th>adult_prop</th>\n",
       "      <th>kids_prop</th>\n",
       "      <th>teen_prop</th>\n",
       "      <th>elder_prop</th>\n",
       "    </tr>\n",
       "  </thead>\n",
       "  <tbody>\n",
       "    <tr>\n",
       "      <th>0</th>\n",
       "      <td>0.986696</td>\n",
       "      <td>0.008708</td>\n",
       "      <td>0.004596</td>\n",
       "      <td>0.0</td>\n",
       "    </tr>\n",
       "    <tr>\n",
       "      <th>1</th>\n",
       "      <td>0.986696</td>\n",
       "      <td>0.008708</td>\n",
       "      <td>0.004596</td>\n",
       "      <td>0.0</td>\n",
       "    </tr>\n",
       "    <tr>\n",
       "      <th>2</th>\n",
       "      <td>0.986696</td>\n",
       "      <td>0.008708</td>\n",
       "      <td>0.004596</td>\n",
       "      <td>0.0</td>\n",
       "    </tr>\n",
       "    <tr>\n",
       "      <th>3</th>\n",
       "      <td>0.986696</td>\n",
       "      <td>0.008708</td>\n",
       "      <td>0.004596</td>\n",
       "      <td>0.0</td>\n",
       "    </tr>\n",
       "    <tr>\n",
       "      <th>4</th>\n",
       "      <td>0.986696</td>\n",
       "      <td>0.008708</td>\n",
       "      <td>0.004596</td>\n",
       "      <td>0.0</td>\n",
       "    </tr>\n",
       "  </tbody>\n",
       "</table>\n",
       "</div>"
      ],
      "text/plain": [
       "   adult_prop  kids_prop  teen_prop  elder_prop\n",
       "0    0.986696   0.008708   0.004596         0.0\n",
       "1    0.986696   0.008708   0.004596         0.0\n",
       "2    0.986696   0.008708   0.004596         0.0\n",
       "3    0.986696   0.008708   0.004596         0.0\n",
       "4    0.986696   0.008708   0.004596         0.0"
      ]
     },
     "execution_count": 40,
     "metadata": {},
     "output_type": "execute_result"
    }
   ],
   "source": [
    "df[['adult_prop','kids_prop','teen_prop','elder_prop']].head()"
   ]
  },
  {
   "cell_type": "code",
   "execution_count": 41,
   "metadata": {
    "execution": {
     "iopub.execute_input": "2022-02-09T01:53:11.269393Z",
     "iopub.status.busy": "2022-02-09T01:53:11.269106Z",
     "iopub.status.idle": "2022-02-09T01:53:11.718532Z",
     "shell.execute_reply": "2022-02-09T01:53:11.717741Z",
     "shell.execute_reply.started": "2022-02-09T01:53:11.269357Z"
    }
   },
   "outputs": [],
   "source": [
    "# 연속형 변수의 결측치를 평균값으로 처리할 수 있도록 SimpleImputer를 사용\n",
    "from sklearn.impute import SimpleImputer  \n",
    "\n",
    "# SimpleImputer를 사용할 변수 추출\n",
    "na_col = ['adult', 'kids', 'teen', 'elder', 'adult_prop', 'kids_prop', 'teen_prop',\n",
    "          'elder_prop']\n",
    "# 평균값으로 결측치 처리를 위해 strategy옵션을 mean으로 설정 \n",
    "imputer = SimpleImputer(strategy=\"mean\")\n",
    "# 각 변수에 대해 평균값을 구하고 결측치 대치를 위해 fit_transform을 사용\n",
    "df[na_col] = pd.DataFrame(imputer.fit_transform(df[na_col]), columns = na_col)"
   ]
  },
  {
   "cell_type": "markdown",
   "metadata": {},
   "source": [
    "#### 3.3.1.5 좌표를 활용한 변수"
   ]
  },
  {
   "cell_type": "code",
   "execution_count": 45,
   "metadata": {
    "execution": {
     "iopub.execute_input": "2022-02-09T01:55:45.457741Z",
     "iopub.status.busy": "2022-02-09T01:55:45.457463Z",
     "iopub.status.idle": "2022-02-09T02:00:28.263972Z",
     "shell.execute_reply": "2022-02-09T02:00:28.263018Z",
     "shell.execute_reply.started": "2022-02-09T01:55:45.457718Z"
    }
   },
   "outputs": [],
   "source": [
    "import geopy.distance\n",
    "\n",
    "coords_jejusi = (33.500770, 126.522761) # 제주시의 위도 경도\n",
    "coords_seoquiposi = (33.259429, 126.558217) # 서귀포시의 위도 경도\n",
    "\n",
    "# 제주시와의 거리\n",
    "df['dis_jejusi'] = [geopy.distance.geodesic((df['latitude'].iloc[i],\n",
    "    df['longitude'].iloc[i]), coords_jejusi).km for i in range(len(df))]\n",
    "# 서귀포시와의 거리\n",
    "df['dis_seoquiposi'] = [geopy.distance.geodesic((df['latitude'].iloc[i],\n",
    "    df['longitude'].iloc[i]), coords_seoquiposi).km for i in range(len(df))]"
   ]
  },
  {
   "cell_type": "code",
   "execution_count": 46,
   "metadata": {
    "execution": {
     "iopub.execute_input": "2022-02-09T02:00:28.266011Z",
     "iopub.status.busy": "2022-02-09T02:00:28.265755Z",
     "iopub.status.idle": "2022-02-09T02:00:28.514077Z",
     "shell.execute_reply": "2022-02-09T02:00:28.513211Z",
     "shell.execute_reply.started": "2022-02-09T02:00:28.265990Z"
    }
   },
   "outputs": [
    {
     "data": {
      "text/html": [
       "<div>\n",
       "<style scoped>\n",
       "    .dataframe tbody tr th:only-of-type {\n",
       "        vertical-align: middle;\n",
       "    }\n",
       "\n",
       "    .dataframe tbody tr th {\n",
       "        vertical-align: top;\n",
       "    }\n",
       "\n",
       "    .dataframe thead th {\n",
       "        text-align: right;\n",
       "    }\n",
       "</style>\n",
       "<table border=\"1\" class=\"dataframe\">\n",
       "  <thead>\n",
       "    <tr style=\"text-align: right;\">\n",
       "      <th></th>\n",
       "      <th>dis_jejusi</th>\n",
       "      <th>dis_seoquiposi</th>\n",
       "    </tr>\n",
       "  </thead>\n",
       "  <tbody>\n",
       "    <tr>\n",
       "      <th>0</th>\n",
       "      <td>2.954920</td>\n",
       "      <td>26.256744</td>\n",
       "    </tr>\n",
       "    <tr>\n",
       "      <th>1</th>\n",
       "      <td>3.720275</td>\n",
       "      <td>26.403025</td>\n",
       "    </tr>\n",
       "    <tr>\n",
       "      <th>2</th>\n",
       "      <td>5.036124</td>\n",
       "      <td>25.893305</td>\n",
       "    </tr>\n",
       "    <tr>\n",
       "      <th>3</th>\n",
       "      <td>2.864166</td>\n",
       "      <td>27.997494</td>\n",
       "    </tr>\n",
       "    <tr>\n",
       "      <th>4</th>\n",
       "      <td>29.040353</td>\n",
       "      <td>13.574693</td>\n",
       "    </tr>\n",
       "  </tbody>\n",
       "</table>\n",
       "</div>"
      ],
      "text/plain": [
       "   dis_jejusi  dis_seoquiposi\n",
       "0    2.954920       26.256744\n",
       "1    3.720275       26.403025\n",
       "2    5.036124       25.893305\n",
       "3    2.864166       27.997494\n",
       "4   29.040353       13.574693"
      ]
     },
     "execution_count": 46,
     "metadata": {},
     "output_type": "execute_result"
    }
   ],
   "source": [
    "df[['dis_jejusi', 'dis_seoquiposi']].head()"
   ]
  },
  {
   "cell_type": "code",
   "execution_count": null,
   "metadata": {},
   "outputs": [],
   "source": []
  },
  {
   "cell_type": "code",
   "execution_count": null,
   "metadata": {},
   "outputs": [],
   "source": []
  },
  {
   "cell_type": "markdown",
   "metadata": {},
   "source": [
    "* 탑승하는 승객의 수가 많은 버스정류장과의 거리"
   ]
  },
  {
   "cell_type": "code",
   "execution_count": null,
   "metadata": {
    "execution": {
     "iopub.status.busy": "2022-02-09T01:53:11.766117Z",
     "iopub.status.idle": "2022-02-09T01:53:11.766622Z",
     "shell.execute_reply": "2022-02-09T01:53:11.766404Z"
    }
   },
   "outputs": [],
   "source": [
    "# 승차 인원 상위 10개의 버스정류장 좌표\n",
    "coords_jejusicheong1 = (33.49892, 126.53035) # 제주시청(광양 방면)의 위도 경도\n",
    "coords_jejuairport = (33.50661, 126.49345) # 제주국제공항(구제주 방면)의 위도 경도\n",
    "coords_hallahosp = (33.48963, 126.486) # 한라병원의 위도 경도\n",
    "coords_rotary = (33.49143, 126.49678) # 제주도청신제주로터리의 위도 경도\n",
    "coords_jejucenterhigh = (33.48902, 126.5392) # 제주중앙여자고등학교의 위도 경도\n",
    "coords_jejumarket = (33.51315, 126.52706) # 동문시장의 위도 경도\n",
    "coords_jejusclass = (33.47626, 126.48141) # 제주고등학교/중흥S클래스의 위도 경도\n",
    "coords_centerroad = (33.51073, 126.5239) # 중앙로(국민은행)의 위도 경도\n",
    "coords_fiveway = (33.48667, 126.48092) # 노형오거리의 위도 경도\n",
    "coords_law = (33.49363, 126.53476) # 제주지방법원(광양 방면)의 위도 경도\n",
    "\n",
    "# 승차 인원 상위 10개의 버스정류장 좌표와 각 정류장의 지구 표면에서 두 점 사이의 거리를 구함\n",
    "df['dis_jejusicheong1'] = [geopy.distance.geodesic((df['latitude'].iloc[i],\n",
    "    df['longitude'].iloc[i]), coords_jejusicheong1).km for i in range(len(df))]\n",
    "df['dis_jejuairport'] = [geopy.distance.geodesic((df['latitude'].iloc[i],\n",
    "    df['longitude'].iloc[i]), coords_jejuairport).km for i in range(len(df))]\n",
    "df['dis_hallahosp'] = [geopy.distance.geodesic((df['latitude'].iloc[i],\n",
    "    df['longitude'].iloc[i]), coords_hallahosp).km for i in range(len(df))]\n",
    "df['dis_rotary'] = [geopy.distance.geodesic((df['latitude'].iloc[i],\n",
    "    df['longitude'].iloc[i]), coords_rotary).km for i in range(len(df))]\n",
    "df['dis_jejucenterhigh'] = [geopy.distance.geodesic((df['latitude'].iloc[i],\n",
    "    df['longitude'].iloc[i]), coords_jejucenterhigh).km for i in range(len(df))]\n",
    "df['dis_jejumarket'] = [geopy.distance.geodesic((df['latitude'].iloc[i],\n",
    "    df['longitude'].iloc[i]), coords_jejumarket).km for i in range(len(df))]\n",
    "df['dis_jejusclass'] = [geopy.distance.geodesic((df['latitude'].iloc[i],\n",
    "    df['longitude'].iloc[i]), coords_jejusclass).km for i in range(len(df))]\n",
    "df['dis_centerroad'] = [geopy.distance.geodesic((df['latitude'].iloc[i],\n",
    "    df['longitude'].iloc[i]), coords_centerroad).km for i in range(len(df))]\n",
    "df['dis_fiveway'] = [geopy.distance.geodesic((df['latitude'].iloc[i],\n",
    "    df['longitude'].iloc[i]), coords_fiveway).km for i in range(len(df))]\n",
    "df['dis_law'] = [geopy.distance.geodesic((df['latitude'].iloc[i],\n",
    "    df['longitude'].iloc[i]), coords_law).km for i in range(len(df))]"
   ]
  },
  {
   "cell_type": "code",
   "execution_count": null,
   "metadata": {
    "execution": {
     "iopub.status.busy": "2022-02-09T01:53:11.767719Z",
     "iopub.status.idle": "2022-02-09T01:53:11.768191Z",
     "shell.execute_reply": "2022-02-09T01:53:11.767988Z"
    }
   },
   "outputs": [],
   "source": [
    "df[['dis_jejusicheong1', 'dis_jejuairport', 'dis_hallahosp', 'dis_rotary',\n",
    "    'dis_jejucenterhigh', 'dis_jejumarket', 'dis_jejusclass', 'dis_centerroad',\n",
    "    'dis_fiveway', 'dis_law']].head()"
   ]
  },
  {
   "cell_type": "markdown",
   "metadata": {},
   "source": [
    "### 3.3.2. 외부 데이터를 통한 변수 생성"
   ]
  },
  {
   "cell_type": "markdown",
   "metadata": {
    "heading_collapsed": "true"
   },
   "source": [
    "#### 3.3.2.1. 날씨를 활용한 변수"
   ]
  },
  {
   "cell_type": "markdown",
   "metadata": {},
   "source": [
    "* 버스정류장과 각 측정소의 거리"
   ]
  },
  {
   "cell_type": "code",
   "execution_count": null,
   "metadata": {
    "execution": {
     "iopub.status.busy": "2022-02-09T01:53:11.769422Z",
     "iopub.status.idle": "2022-02-09T01:53:11.769950Z",
     "shell.execute_reply": "2022-02-09T01:53:11.769717Z"
    }
   },
   "outputs": [],
   "source": [
    "# 측정소별 위도, 경도\n",
    "jeju = (33.51411, 126.52969) # 제주 측정소 근처\n",
    "gosan = (33.29382, 126.16283) # 고산 측정소 근처\n",
    "seongsan = (33.38677, 126.8802) # 성산 측정소 근처\n",
    "po = (33.24616, 126.5653) # 서귀포 측정소 근처\n",
    "\n",
    "# 버스정류장과 제주 측정소와의 거리\n",
    "t1 = [geopy.distance.geodesic((i,j), jeju).km\n",
    "      for i,j in list(zip(df['latitude'], df['longitude']))]\n",
    "df['dis_jeju'] = t1\n",
    "\n",
    "# 버스정류장과 고산 측정소와의 거리\n",
    "t2 = [geopy.distance.geodesic((i,j), gosan).km\n",
    "      for i,j in list(zip(df['latitude'], df['longitude']))]\n",
    "df['dis_gosan']=t2\n",
    "\n",
    "# 버스정류장과 성산 측정소와의 거리\n",
    "t3 = [geopy.distance.geodesic((i,j), seongsan).km\n",
    "      for i,j in list(zip(df['latitude'], df['longitude']))]\n",
    "df['dis_seongsan']=t3\n",
    "\n",
    "# 버스정류장과 서귀포 측정소와의 거리\n",
    "t4 = [geopy.distance.geodesic((i,j), po).km\n",
    "      for i,j in list(zip(df['latitude'], df['longitude']))]\n",
    "df['dis_po']=t4"
   ]
  },
  {
   "cell_type": "code",
   "execution_count": null,
   "metadata": {
    "execution": {
     "iopub.status.busy": "2022-02-09T01:53:11.771584Z",
     "iopub.status.idle": "2022-02-09T01:53:11.772181Z",
     "shell.execute_reply": "2022-02-09T01:53:11.771944Z"
    },
    "scrolled": true
   },
   "outputs": [],
   "source": [
    "df[['dis_jeju', 'dis_gosan', 'dis_seongsan', 'dis_po']].head()"
   ]
  },
  {
   "cell_type": "markdown",
   "metadata": {},
   "source": [
    "* 버스정류장과 가장 가까운 관측소"
   ]
  },
  {
   "cell_type": "code",
   "execution_count": null,
   "metadata": {
    "execution": {
     "iopub.status.busy": "2022-02-09T01:53:11.773583Z",
     "iopub.status.idle": "2022-02-09T01:53:11.774194Z",
     "shell.execute_reply": "2022-02-09T01:53:11.773845Z"
    }
   },
   "outputs": [],
   "source": [
    "total = pd.DataFrame(list(zip(t1,t2,t3,t4)),\n",
    "                     columns=['jeju', 'gosan', 'seongsan', 'po'])\n",
    "df['dist_name'] = total.apply(lambda x: x.idxmin(), axis=1)"
   ]
  },
  {
   "cell_type": "code",
   "execution_count": null,
   "metadata": {
    "execution": {
     "iopub.status.busy": "2022-02-09T01:53:11.775570Z",
     "iopub.status.idle": "2022-02-09T01:53:11.776055Z",
     "shell.execute_reply": "2022-02-09T01:53:11.775795Z"
    }
   },
   "outputs": [],
   "source": [
    "df[['dist_name']].head()"
   ]
  },
  {
   "cell_type": "markdown",
   "metadata": {},
   "source": [
    "* 지점별 기상정보 변수"
   ]
  },
  {
   "cell_type": "code",
   "execution_count": null,
   "metadata": {
    "execution": {
     "iopub.status.busy": "2022-02-09T01:53:11.778210Z",
     "iopub.status.idle": "2022-02-09T01:53:11.778794Z",
     "shell.execute_reply": "2022-02-09T01:53:11.778513Z"
    }
   },
   "outputs": [],
   "source": [
    "# 변수명 변경 \n",
    "# ['지점', '일시', '기온(°C)', '강수량(mm)']\n",
    "rain.columns = ['dist_name', 'date', 'temperature', 'rainfall']\n",
    "\n",
    "# fillna 함수를 활용해 결측치를 0으로 치환\n",
    "rain = rain.fillna(0)\n",
    "\n",
    "# rain 데이터의 date 변수를 datetime 형태로 변환\n",
    "rain['date'] = pd.to_datetime(rain['date'])\n",
    "\n",
    "# 기존의 데이터프레임에 새로운 변수를 병합\n",
    "df = pd.merge(df, rain, how='left', on=['dist_name', 'date'])"
   ]
  },
  {
   "cell_type": "code",
   "execution_count": null,
   "metadata": {
    "execution": {
     "iopub.status.busy": "2022-02-09T01:53:11.780004Z",
     "iopub.status.idle": "2022-02-09T01:53:11.780756Z",
     "shell.execute_reply": "2022-02-09T01:53:11.780473Z"
    }
   },
   "outputs": [],
   "source": [
    "df[['temperature', 'rainfall']].head()"
   ]
  },
  {
   "cell_type": "markdown",
   "metadata": {},
   "source": [
    "* rainy_day"
   ]
  },
  {
   "cell_type": "code",
   "execution_count": null,
   "metadata": {
    "execution": {
     "iopub.status.busy": "2022-02-09T01:53:11.781844Z",
     "iopub.status.idle": "2022-02-09T01:53:11.782396Z",
     "shell.execute_reply": "2022-02-09T01:53:11.782182Z"
    }
   },
   "outputs": [],
   "source": [
    "def is_rainy(x):\n",
    "    if x == 0:\n",
    "        return 0 # 비 안오는 날\n",
    "    else:\n",
    "        return 1 # 비 오는 날\n",
    "\n",
    "df['rainy_day'] = df['rainfall'].apply(is_rainy)"
   ]
  },
  {
   "cell_type": "code",
   "execution_count": null,
   "metadata": {
    "execution": {
     "iopub.status.busy": "2022-02-09T01:53:11.784135Z",
     "iopub.status.idle": "2022-02-09T01:53:11.784763Z",
     "shell.execute_reply": "2022-02-09T01:53:11.784553Z"
    }
   },
   "outputs": [],
   "source": [
    "df[['rainy_day']].head()"
   ]
  },
  {
   "cell_type": "markdown",
   "metadata": {},
   "source": [
    "#### 3.3.2.2. jeju_financial_life_data를 활용한 변수"
   ]
  },
  {
   "cell_type": "code",
   "execution_count": null,
   "metadata": {
    "execution": {
     "iopub.status.busy": "2022-02-09T01:53:11.786448Z",
     "iopub.status.idle": "2022-02-09T01:53:11.787045Z",
     "shell.execute_reply": "2022-02-09T01:53:11.786834Z"
    }
   },
   "outputs": [],
   "source": [
    "# df 주소 데이터(df_location.csv) 로드\n",
    "df_loc = pd.read_csv(\"df_location.csv\", encoding='cp949')[['location','dong', 'si']]\n",
    "# jeju_life 주소 데이터(life_location.csv) 로드\n",
    "life_loc = pd.read_csv(\"life_location.csv\", encoding='cp949'\n",
    "                      )[['location','dong', 'si']]\n",
    "\n",
    "# df의 위도, 경도 변수를 문자열로 취급하여 location 변수 생성\n",
    "df['location'] = df['latitude'].astype(str) + ',' + df['longitude'].astype(str)\n",
    "# jeju_life의 위도, 경도 변수를 문자열로 취급하여 location 변수 생성\n",
    "jeju_life['location'] = jeju_life['y_axis'].astype(str).str[:10] + ',' + \\\n",
    "                        jeju_life['x_axis'].astype(str).str[:10]\n",
    "\n",
    "# location 변수를 기준으로 df와 df_loc 병합\n",
    "df = pd.merge(df, df_loc, how='left', on='location')\n",
    "# location 변수를 기준으로 jeju_life와 life_loc 병합\n",
    "jeju_life = pd.merge(jeju_life, life_loc, how='left', on='location')"
   ]
  },
  {
   "cell_type": "code",
   "execution_count": null,
   "metadata": {
    "execution": {
     "iopub.status.busy": "2022-02-09T01:53:11.788425Z",
     "iopub.status.idle": "2022-02-09T01:53:11.789261Z",
     "shell.execute_reply": "2022-02-09T01:53:11.788945Z"
    }
   },
   "outputs": [],
   "source": [
    "df[['location', 'dong', 'si']].head()"
   ]
  },
  {
   "cell_type": "markdown",
   "metadata": {},
   "source": [
    "* 각 동(읍, 면별) 직업, 소득, 소비, 부동산 관련 변수의 평균, 합계, 비율"
   ]
  },
  {
   "cell_type": "code",
   "execution_count": null,
   "metadata": {
    "execution": {
     "iopub.status.busy": "2022-02-09T01:53:11.790595Z",
     "iopub.status.idle": "2022-02-09T01:53:11.791173Z",
     "shell.execute_reply": "2022-02-09T01:53:11.790905Z"
    }
   },
   "outputs": [],
   "source": [
    "col = ['job_majorc', 'job_smallc', 'job_public', 'job_profession', 'job_self', \n",
    "       'avg_income', 'med_income', 'avg_spend', 'vehicle_own_rat']\n",
    "\n",
    "# groupby 함수를 사용해 dong을 기준으로 위에서 선택한 변수들의 평균을 구함\n",
    "data1 = jeju_life.groupby(['dong'])[col].mean().reset_index()\n",
    "data1.columns=['dong','mean_job_majorc', 'mean_job_smallc', 'mean_job_public', \n",
    "               'mean_job_profession', 'mean_job_self', 'mean_vehicle_own_rat',\n",
    "               'mean_avg_income', 'mean_med_income', 'mean_avg_spend']\n",
    "\n",
    "# groupby 함수를 사용해 dong을 기준으로 위에서 선택한 변수들의 합계를 구함 \n",
    "data2 = jeju_life.groupby(['dong'])[col].sum().reset_index()\n",
    "data2.columns=['dong','sum_job_majorc', 'sum_job_smallc', 'sum_job_public', \n",
    "               'sum_job_profession', 'sum_job_self', 'sum_vehicle_own_rat', \n",
    "               'sum_avg_income', 'sum_med_income', 'sum_avg_spend']\n",
    "\n",
    "# groupby 함수를 사용해 dong을 기준으로 위에서 선택한 변수들의 비율을 구함\n",
    "data3 = (jeju_life.groupby(['dong'])[col].sum() \\\n",
    "             / jeju_life.groupby(['dong'])[col].sum().sum()).reset_index()\n",
    "data3.columns = ['dong','rate_job_majorc', 'rate_job_smallc', 'rate_job_public', \n",
    "                 'rate_job_profession', 'rate_job_self', 'rate_vehicle_own_rat', \n",
    "                 'rate_avg_income', 'rate_med_income', 'rate_avg_spend']\n",
    "\n",
    "# dong을 기준으로 기존의 데이터프레임에 새로운 변수를 병합\n",
    "merge_data1 = pd.merge(data1, data2, how='left', on='dong')\n",
    "merge_data2 = pd.merge(merge_data1, data3, how='left', on='dong')\n",
    "df = pd.merge(df, merge_data2, how='left', on='dong')"
   ]
  },
  {
   "cell_type": "code",
   "execution_count": null,
   "metadata": {
    "execution": {
     "iopub.status.busy": "2022-02-09T01:53:11.792450Z",
     "iopub.status.idle": "2022-02-09T01:53:11.792879Z",
     "shell.execute_reply": "2022-02-09T01:53:11.792686Z"
    }
   },
   "outputs": [],
   "source": [
    "df[['mean_job_majorc', 'mean_job_smallc', 'mean_job_public', \n",
    "    'mean_job_profession', 'mean_job_self', 'mean_vehicle_own_rat', \n",
    "    'mean_avg_income', 'mean_med_income', 'mean_avg_spend']].head()"
   ]
  },
  {
   "cell_type": "code",
   "execution_count": null,
   "metadata": {
    "execution": {
     "iopub.status.busy": "2022-02-09T01:53:11.793968Z",
     "iopub.status.idle": "2022-02-09T01:53:11.795163Z",
     "shell.execute_reply": "2022-02-09T01:53:11.794688Z"
    }
   },
   "outputs": [],
   "source": [
    "df[['sum_job_majorc', 'sum_job_smallc', 'sum_job_public', \n",
    "    'sum_job_profession', 'sum_job_self', 'sum_vehicle_own_rat', \n",
    "    'sum_avg_income', 'sum_med_income', 'sum_avg_spend']].head()"
   ]
  },
  {
   "cell_type": "code",
   "execution_count": null,
   "metadata": {
    "execution": {
     "iopub.status.busy": "2022-02-09T01:53:11.797337Z",
     "iopub.status.idle": "2022-02-09T01:53:11.798336Z",
     "shell.execute_reply": "2022-02-09T01:53:11.797806Z"
    }
   },
   "outputs": [],
   "source": [
    "df[['rate_job_majorc', 'rate_job_smallc', 'rate_job_public', \n",
    "    'rate_job_profession', 'rate_job_self', 'rate_vehicle_own_rat', \n",
    "    'rate_avg_income', 'rate_med_income', 'rate_avg_spend']].head()"
   ]
  },
  {
   "cell_type": "code",
   "execution_count": null,
   "metadata": {
    "execution": {
     "iopub.status.busy": "2022-02-09T01:53:11.800389Z",
     "iopub.status.idle": "2022-02-09T01:53:11.800914Z",
     "shell.execute_reply": "2022-02-09T01:53:11.800655Z"
    }
   },
   "outputs": [],
   "source": [
    "# 새로 생성한 27개의 변수 정보\n",
    "df[merge_data2.columns[1:]].info() # 새로 생성한 27개 변수 각각 201개의 NA값이 존재"
   ]
  },
  {
   "cell_type": "code",
   "execution_count": null,
   "metadata": {
    "execution": {
     "iopub.status.busy": "2022-02-09T01:53:11.802418Z",
     "iopub.status.idle": "2022-02-09T01:53:11.802898Z",
     "shell.execute_reply": "2022-02-09T01:53:11.802652Z"
    }
   },
   "outputs": [],
   "source": [
    "# 결측치를 평균값으로 처리할 수 있도록 SimpleImputer를 사용\n",
    "imputer = SimpleImputer(strategy=\"mean\")\n",
    "\n",
    "# 결측치가 존재하는 변수 목록\n",
    "na_col = list(merge_data2.columns[1:])\n",
    "\n",
    "# 각 변수에 대해 평균값을 구하고 결측치 대치를 위해 fit_transform을 사용\n",
    "df[na_col] = pd.DataFrame(imputer.fit_transform(df[na_col]), columns = na_col)"
   ]
  },
  {
   "cell_type": "code",
   "execution_count": null,
   "metadata": {
    "execution": {
     "iopub.status.busy": "2022-02-09T01:53:11.804386Z",
     "iopub.status.idle": "2022-02-09T01:53:11.805388Z",
     "shell.execute_reply": "2022-02-09T01:53:11.805102Z"
    }
   },
   "outputs": [],
   "source": [
    "# NA값 확인\n",
    "df[na_col].isnull().sum()"
   ]
  },
  {
   "cell_type": "markdown",
   "metadata": {},
   "source": [
    "### 3.3.3. 추가 변수 생성"
   ]
  },
  {
   "cell_type": "markdown",
   "metadata": {},
   "source": [
    "<font color='blue'>3.3.3. '추가 변수 생성'에서 생성하는 변수는 책에는 나와있지 않으므로 주피터 파일을 참고해주세요."
   ]
  },
  {
   "cell_type": "markdown",
   "metadata": {},
   "source": [
    "* 승하차 시간대 통합 변수(t~t+3)"
   ]
  },
  {
   "cell_type": "code",
   "execution_count": null,
   "metadata": {
    "execution": {
     "iopub.status.busy": "2022-02-09T01:53:11.806918Z",
     "iopub.status.idle": "2022-02-09T01:53:11.807574Z",
     "shell.execute_reply": "2022-02-09T01:53:11.807327Z"
    }
   },
   "outputs": [],
   "source": [
    "# 오전시간대에 3시간동안 승차한 인원수의 합계\n",
    "df['69a'] = df['6~7_ride'] + df['7~8_ride'] + df['8~9_ride']\n",
    "df['912a']= df['9~10_ride'] + df['10~11_ride'] + df['11~12_ride']\n",
    "\n",
    "# 오전시간대에 3시간동안 하차한 인원수의 합계\n",
    "df['69b'] = df['6~7_takeoff'] + df['7~8_takeoff'] + df['8~9_takeoff']\n",
    "df['912b'] = df['9~10_takeoff'] + df['10~11_takeoff'] + df['11~12_takeoff']"
   ]
  },
  {
   "cell_type": "code",
   "execution_count": null,
   "metadata": {
    "execution": {
     "iopub.status.busy": "2022-02-09T01:53:11.808858Z",
     "iopub.status.idle": "2022-02-09T01:53:11.809378Z",
     "shell.execute_reply": "2022-02-09T01:53:11.809155Z"
    }
   },
   "outputs": [],
   "source": [
    "df[['69a', '912a', '69b', '912b']].head()"
   ]
  },
  {
   "cell_type": "markdown",
   "metadata": {},
   "source": [
    "* 제주도 기상정보 변수"
   ]
  },
  {
   "cell_type": "code",
   "execution_count": null,
   "metadata": {
    "execution": {
     "iopub.status.busy": "2022-02-09T01:53:11.810567Z",
     "iopub.status.idle": "2022-02-09T01:53:11.811133Z",
     "shell.execute_reply": "2022-02-09T01:53:11.810776Z"
    }
   },
   "outputs": [],
   "source": [
    "# 변수명 변경\n",
    "# ['날짜', '현재일기', '현재기온', '체감온도', '일강수']\n",
    "weather.columns = ['date','description','temp','feels_like','rain']\n",
    "weather['rain'] = weather['rain'].replace(' ', '0')\n",
    "weather['rain'] = weather['rain'].astype(float)\n",
    "weather['date'] = pd.to_datetime(weather['date'])\n",
    "df = pd.merge(df, weather, how='left', on='date')"
   ]
  },
  {
   "cell_type": "code",
   "execution_count": null,
   "metadata": {
    "execution": {
     "iopub.status.busy": "2022-02-09T01:53:11.812818Z",
     "iopub.status.idle": "2022-02-09T01:53:11.813251Z",
     "shell.execute_reply": "2022-02-09T01:53:11.813055Z"
    }
   },
   "outputs": [],
   "source": [
    "df[['description', 'temp', 'feels_like', 'rain']].head()"
   ]
  },
  {
   "cell_type": "markdown",
   "metadata": {},
   "source": [
    "* id별 퇴근 시간 총/평균 승객수"
   ]
  },
  {
   "cell_type": "code",
   "execution_count": null,
   "metadata": {
    "execution": {
     "iopub.status.busy": "2022-02-09T01:53:11.814441Z",
     "iopub.status.idle": "2022-02-09T01:53:11.815058Z",
     "shell.execute_reply": "2022-02-09T01:53:11.814817Z"
    }
   },
   "outputs": [],
   "source": [
    "def id_statistic(ID, col1, col2) :\n",
    "    \n",
    "    train_data = df.query('cue==0').reset_index()    \n",
    "\n",
    "    # mean, sum\n",
    "    rs_mean = train_data.groupby([ID])['18~20_ride'].agg([(col1, 'mean')]\n",
    "                                                        ).reset_index()\n",
    "    rs_sum = train_data.groupby([ID])['18~20_ride'].agg([(col2, 'sum')]\n",
    "                                                       ).reset_index()\n",
    "    rs_mean_sum = pd.merge(rs_mean, rs_sum, on=ID)\n",
    "\n",
    "    # merge\n",
    "    merge_data = pd.merge(df, rs_mean_sum, how='left', on=ID)\n",
    "\n",
    "    # 연속형 변수의 결측치를 평균값으로 대체\n",
    "    merge_data[col1] = merge_data[col1].fillna(rs_mean[col1].mean())\n",
    "    merge_data[col2] = merge_data[col2].fillna(rs_sum[col2].mean())\n",
    "    \n",
    "    return merge_data\n",
    "\n",
    "\n",
    "df = id_statistic('bus_route_id', '1820_r_mean', '1820_r_sum')\n",
    "df = id_statistic('station_code', '1820_s_mean', '1820_s_sum')\n",
    "df = id_statistic('weekday', '1820_w_mean', '1820_w_sum')\n",
    "df = id_statistic('route_station', '1820_rs_mean', '1820_rs_sum')"
   ]
  },
  {
   "cell_type": "code",
   "execution_count": null,
   "metadata": {
    "execution": {
     "iopub.status.busy": "2022-02-09T01:53:11.816328Z",
     "iopub.status.idle": "2022-02-09T01:53:11.816734Z",
     "shell.execute_reply": "2022-02-09T01:53:11.816530Z"
    }
   },
   "outputs": [],
   "source": [
    "df[['1820_r_mean', '1820_r_sum', '1820_s_mean', '1820_s_sum',\n",
    "   '1820_w_mean', '1820_w_sum', '1820_rs_mean', '1820_rs_sum']].head()"
   ]
  },
  {
   "cell_type": "markdown",
   "metadata": {},
   "source": [
    "* 라벨 인코딩"
   ]
  },
  {
   "cell_type": "code",
   "execution_count": null,
   "metadata": {
    "execution": {
     "iopub.status.busy": "2022-02-09T01:53:11.818039Z",
     "iopub.status.idle": "2022-02-09T01:53:11.818719Z",
     "shell.execute_reply": "2022-02-09T01:53:11.818452Z"
    }
   },
   "outputs": [],
   "source": [
    "# sklearn라이브러리에서 라벨 인코딩 객체 불러와서 저장하기\n",
    "from sklearn.preprocessing import LabelEncoder\n",
    "labelencoder = LabelEncoder()\n",
    "\n",
    "# 라벨 인코딩 할 변수 선택\n",
    "df_encode = df[['description', 'bus_route_id','station_code']]\n",
    "# fit_transform을 통해 라벨 인코딩 \n",
    "df_encoded = df_encode.apply(labelencoder.fit_transform)\n",
    "\n",
    "df['description'] = df_encoded['description']\n",
    "df['bus_route_id2'] = df_encoded['bus_route_id']\n",
    "df['station_code2'] = df_encoded['station_code']"
   ]
  },
  {
   "cell_type": "code",
   "execution_count": null,
   "metadata": {
    "execution": {
     "iopub.status.busy": "2022-02-09T01:53:11.820137Z",
     "iopub.status.idle": "2022-02-09T01:53:11.820574Z",
     "shell.execute_reply": "2022-02-09T01:53:11.820357Z"
    }
   },
   "outputs": [],
   "source": [
    "df[['description', 'bus_route_id2', 'station_code2']].head()"
   ]
  },
  {
   "cell_type": "markdown",
   "metadata": {
    "heading_collapsed": "true"
   },
   "source": [
    "### 3.3.4. 라벨 인코딩과 원핫 인코딩 변수"
   ]
  },
  {
   "cell_type": "markdown",
   "metadata": {},
   "source": [
    "#### 3.3.4.1. 라벨 인코딩 변수"
   ]
  },
  {
   "cell_type": "markdown",
   "metadata": {},
   "source": [
    "* in_out"
   ]
  },
  {
   "cell_type": "code",
   "execution_count": 65,
   "metadata": {},
   "outputs": [],
   "source": [
    "df['in_out'] = df['in_out'].map({'시내':0, '시외':1})"
   ]
  },
  {
   "cell_type": "code",
   "execution_count": 66,
   "metadata": {},
   "outputs": [
    {
     "data": {
      "text/html": [
       "<div>\n",
       "<style scoped>\n",
       "    .dataframe tbody tr th:only-of-type {\n",
       "        vertical-align: middle;\n",
       "    }\n",
       "\n",
       "    .dataframe tbody tr th {\n",
       "        vertical-align: top;\n",
       "    }\n",
       "\n",
       "    .dataframe thead th {\n",
       "        text-align: right;\n",
       "    }\n",
       "</style>\n",
       "<table border=\"1\" class=\"dataframe\">\n",
       "  <thead>\n",
       "    <tr style=\"text-align: right;\">\n",
       "      <th></th>\n",
       "      <th>in_out</th>\n",
       "    </tr>\n",
       "  </thead>\n",
       "  <tbody>\n",
       "    <tr>\n",
       "      <th>0</th>\n",
       "      <td>1</td>\n",
       "    </tr>\n",
       "    <tr>\n",
       "      <th>1</th>\n",
       "      <td>1</td>\n",
       "    </tr>\n",
       "    <tr>\n",
       "      <th>2</th>\n",
       "      <td>1</td>\n",
       "    </tr>\n",
       "    <tr>\n",
       "      <th>3</th>\n",
       "      <td>0</td>\n",
       "    </tr>\n",
       "    <tr>\n",
       "      <th>4</th>\n",
       "      <td>0</td>\n",
       "    </tr>\n",
       "  </tbody>\n",
       "</table>\n",
       "</div>"
      ],
      "text/plain": [
       "   in_out\n",
       "0       1\n",
       "1       1\n",
       "2       1\n",
       "3       0\n",
       "4       0"
      ]
     },
     "execution_count": 66,
     "metadata": {},
     "output_type": "execute_result"
    }
   ],
   "source": [
    "df[['in_out']].head()"
   ]
  },
  {
   "cell_type": "markdown",
   "metadata": {},
   "source": [
    "* 주말 및 주중"
   ]
  },
  {
   "cell_type": "code",
   "execution_count": 67,
   "metadata": {},
   "outputs": [],
   "source": [
    "def is_weekend(x):\n",
    "    if x == 5: # 토요일\n",
    "        return 1\n",
    "    elif x == 6: # 일요일\n",
    "        return 1\n",
    "    else:\n",
    "        return 0\n",
    "# 'weekday’변수에 is_weekend함수를 적용하여 'weekend' 변수 생성      \n",
    "df['weekend'] = df['weekday'].apply(is_weekend)"
   ]
  },
  {
   "cell_type": "code",
   "execution_count": 68,
   "metadata": {},
   "outputs": [
    {
     "data": {
      "text/html": [
       "<div>\n",
       "<style scoped>\n",
       "    .dataframe tbody tr th:only-of-type {\n",
       "        vertical-align: middle;\n",
       "    }\n",
       "\n",
       "    .dataframe tbody tr th {\n",
       "        vertical-align: top;\n",
       "    }\n",
       "\n",
       "    .dataframe thead th {\n",
       "        text-align: right;\n",
       "    }\n",
       "</style>\n",
       "<table border=\"1\" class=\"dataframe\">\n",
       "  <thead>\n",
       "    <tr style=\"text-align: right;\">\n",
       "      <th></th>\n",
       "      <th>weekend</th>\n",
       "    </tr>\n",
       "  </thead>\n",
       "  <tbody>\n",
       "    <tr>\n",
       "      <th>0</th>\n",
       "      <td>1</td>\n",
       "    </tr>\n",
       "    <tr>\n",
       "      <th>1</th>\n",
       "      <td>1</td>\n",
       "    </tr>\n",
       "    <tr>\n",
       "      <th>2</th>\n",
       "      <td>1</td>\n",
       "    </tr>\n",
       "    <tr>\n",
       "      <th>3</th>\n",
       "      <td>1</td>\n",
       "    </tr>\n",
       "    <tr>\n",
       "      <th>4</th>\n",
       "      <td>1</td>\n",
       "    </tr>\n",
       "  </tbody>\n",
       "</table>\n",
       "</div>"
      ],
      "text/plain": [
       "   weekend\n",
       "0        1\n",
       "1        1\n",
       "2        1\n",
       "3        1\n",
       "4        1"
      ]
     },
     "execution_count": 68,
     "metadata": {},
     "output_type": "execute_result"
    }
   ],
   "source": [
    "df[['weekend']].head()"
   ]
  },
  {
   "cell_type": "markdown",
   "metadata": {},
   "source": [
    "* 시, 동"
   ]
  },
  {
   "cell_type": "code",
   "execution_count": 69,
   "metadata": {},
   "outputs": [],
   "source": [
    "labelencoder = LabelEncoder()\n",
    "\n",
    "# 라벨 인코딩 할 변수 선택\n",
    "df_encode = df[['si', 'dong']]\n",
    "# fit_transform을 통해 라벨 인코딩 \n",
    "df_encoded = df_encode.apply(labelencoder.fit_transform)\n",
    "\n",
    "df['si']=df_encoded['si']\n",
    "df['dong']=df_encoded['dong']"
   ]
  },
  {
   "cell_type": "code",
   "execution_count": 70,
   "metadata": {},
   "outputs": [
    {
     "data": {
      "text/html": [
       "<div>\n",
       "<style scoped>\n",
       "    .dataframe tbody tr th:only-of-type {\n",
       "        vertical-align: middle;\n",
       "    }\n",
       "\n",
       "    .dataframe tbody tr th {\n",
       "        vertical-align: top;\n",
       "    }\n",
       "\n",
       "    .dataframe thead th {\n",
       "        text-align: right;\n",
       "    }\n",
       "</style>\n",
       "<table border=\"1\" class=\"dataframe\">\n",
       "  <thead>\n",
       "    <tr style=\"text-align: right;\">\n",
       "      <th></th>\n",
       "      <th>si</th>\n",
       "      <th>dong</th>\n",
       "    </tr>\n",
       "  </thead>\n",
       "  <tbody>\n",
       "    <tr>\n",
       "      <th>0</th>\n",
       "      <td>1</td>\n",
       "      <td>36</td>\n",
       "    </tr>\n",
       "    <tr>\n",
       "      <th>1</th>\n",
       "      <td>1</td>\n",
       "      <td>36</td>\n",
       "    </tr>\n",
       "    <tr>\n",
       "      <th>2</th>\n",
       "      <td>1</td>\n",
       "      <td>5</td>\n",
       "    </tr>\n",
       "    <tr>\n",
       "      <th>3</th>\n",
       "      <td>1</td>\n",
       "      <td>47</td>\n",
       "    </tr>\n",
       "    <tr>\n",
       "      <th>4</th>\n",
       "      <td>0</td>\n",
       "      <td>26</td>\n",
       "    </tr>\n",
       "  </tbody>\n",
       "</table>\n",
       "</div>"
      ],
      "text/plain": [
       "   si  dong\n",
       "0   1    36\n",
       "1   1    36\n",
       "2   1     5\n",
       "3   1    47\n",
       "4   0    26"
      ]
     },
     "execution_count": 70,
     "metadata": {},
     "output_type": "execute_result"
    }
   ],
   "source": [
    "df[['si', 'dong']].head()"
   ]
  },
  {
   "cell_type": "markdown",
   "metadata": {},
   "source": [
    "#### 3.3.4.2. 원핫 인코딩 변수"
   ]
  },
  {
   "cell_type": "code",
   "execution_count": 71,
   "metadata": {},
   "outputs": [],
   "source": [
    "df = pd.get_dummies(df, columns=['weekday', 'dist_name'])"
   ]
  },
  {
   "cell_type": "code",
   "execution_count": 72,
   "metadata": {},
   "outputs": [
    {
     "data": {
      "text/html": [
       "<div>\n",
       "<style scoped>\n",
       "    .dataframe tbody tr th:only-of-type {\n",
       "        vertical-align: middle;\n",
       "    }\n",
       "\n",
       "    .dataframe tbody tr th {\n",
       "        vertical-align: top;\n",
       "    }\n",
       "\n",
       "    .dataframe thead th {\n",
       "        text-align: right;\n",
       "    }\n",
       "</style>\n",
       "<table border=\"1\" class=\"dataframe\">\n",
       "  <thead>\n",
       "    <tr style=\"text-align: right;\">\n",
       "      <th></th>\n",
       "      <th>weekday_0</th>\n",
       "      <th>weekday_1</th>\n",
       "      <th>weekday_2</th>\n",
       "      <th>weekday_3</th>\n",
       "      <th>weekday_4</th>\n",
       "      <th>weekday_5</th>\n",
       "      <th>weekday_6</th>\n",
       "    </tr>\n",
       "  </thead>\n",
       "  <tbody>\n",
       "    <tr>\n",
       "      <th>0</th>\n",
       "      <td>0</td>\n",
       "      <td>0</td>\n",
       "      <td>0</td>\n",
       "      <td>0</td>\n",
       "      <td>0</td>\n",
       "      <td>0</td>\n",
       "      <td>1</td>\n",
       "    </tr>\n",
       "    <tr>\n",
       "      <th>1</th>\n",
       "      <td>0</td>\n",
       "      <td>0</td>\n",
       "      <td>0</td>\n",
       "      <td>0</td>\n",
       "      <td>0</td>\n",
       "      <td>0</td>\n",
       "      <td>1</td>\n",
       "    </tr>\n",
       "    <tr>\n",
       "      <th>2</th>\n",
       "      <td>0</td>\n",
       "      <td>0</td>\n",
       "      <td>0</td>\n",
       "      <td>0</td>\n",
       "      <td>0</td>\n",
       "      <td>0</td>\n",
       "      <td>1</td>\n",
       "    </tr>\n",
       "    <tr>\n",
       "      <th>3</th>\n",
       "      <td>0</td>\n",
       "      <td>0</td>\n",
       "      <td>0</td>\n",
       "      <td>0</td>\n",
       "      <td>0</td>\n",
       "      <td>0</td>\n",
       "      <td>1</td>\n",
       "    </tr>\n",
       "    <tr>\n",
       "      <th>4</th>\n",
       "      <td>0</td>\n",
       "      <td>0</td>\n",
       "      <td>0</td>\n",
       "      <td>0</td>\n",
       "      <td>0</td>\n",
       "      <td>0</td>\n",
       "      <td>1</td>\n",
       "    </tr>\n",
       "  </tbody>\n",
       "</table>\n",
       "</div>"
      ],
      "text/plain": [
       "   weekday_0  weekday_1  weekday_2  weekday_3  weekday_4  weekday_5  weekday_6\n",
       "0          0          0          0          0          0          0          1\n",
       "1          0          0          0          0          0          0          1\n",
       "2          0          0          0          0          0          0          1\n",
       "3          0          0          0          0          0          0          1\n",
       "4          0          0          0          0          0          0          1"
      ]
     },
     "execution_count": 72,
     "metadata": {},
     "output_type": "execute_result"
    }
   ],
   "source": [
    "df[['weekday_0', 'weekday_1', 'weekday_2', 'weekday_3',\n",
    "    'weekday_4', 'weekday_5', 'weekday_6']].head()"
   ]
  },
  {
   "cell_type": "code",
   "execution_count": 73,
   "metadata": {},
   "outputs": [
    {
     "data": {
      "text/html": [
       "<div>\n",
       "<style scoped>\n",
       "    .dataframe tbody tr th:only-of-type {\n",
       "        vertical-align: middle;\n",
       "    }\n",
       "\n",
       "    .dataframe tbody tr th {\n",
       "        vertical-align: top;\n",
       "    }\n",
       "\n",
       "    .dataframe thead th {\n",
       "        text-align: right;\n",
       "    }\n",
       "</style>\n",
       "<table border=\"1\" class=\"dataframe\">\n",
       "  <thead>\n",
       "    <tr style=\"text-align: right;\">\n",
       "      <th></th>\n",
       "      <th>dist_name_gosan</th>\n",
       "      <th>dist_name_jeju</th>\n",
       "      <th>dist_name_po</th>\n",
       "      <th>dist_name_seongsan</th>\n",
       "    </tr>\n",
       "  </thead>\n",
       "  <tbody>\n",
       "    <tr>\n",
       "      <th>0</th>\n",
       "      <td>0</td>\n",
       "      <td>1</td>\n",
       "      <td>0</td>\n",
       "      <td>0</td>\n",
       "    </tr>\n",
       "    <tr>\n",
       "      <th>1</th>\n",
       "      <td>0</td>\n",
       "      <td>1</td>\n",
       "      <td>0</td>\n",
       "      <td>0</td>\n",
       "    </tr>\n",
       "    <tr>\n",
       "      <th>2</th>\n",
       "      <td>0</td>\n",
       "      <td>1</td>\n",
       "      <td>0</td>\n",
       "      <td>0</td>\n",
       "    </tr>\n",
       "    <tr>\n",
       "      <th>3</th>\n",
       "      <td>0</td>\n",
       "      <td>1</td>\n",
       "      <td>0</td>\n",
       "      <td>0</td>\n",
       "    </tr>\n",
       "    <tr>\n",
       "      <th>4</th>\n",
       "      <td>0</td>\n",
       "      <td>0</td>\n",
       "      <td>1</td>\n",
       "      <td>0</td>\n",
       "    </tr>\n",
       "  </tbody>\n",
       "</table>\n",
       "</div>"
      ],
      "text/plain": [
       "   dist_name_gosan  dist_name_jeju  dist_name_po  dist_name_seongsan\n",
       "0                0               1             0                   0\n",
       "1                0               1             0                   0\n",
       "2                0               1             0                   0\n",
       "3                0               1             0                   0\n",
       "4                0               0             1                   0"
      ]
     },
     "execution_count": 73,
     "metadata": {},
     "output_type": "execute_result"
    }
   ],
   "source": [
    "df[['dist_name_gosan','dist_name_jeju','dist_name_po','dist_name_seongsan']].head()"
   ]
  },
  {
   "cell_type": "code",
   "execution_count": 74,
   "metadata": {},
   "outputs": [
    {
     "data": {
      "text/plain": [
       "(643593, 131)"
      ]
     },
     "execution_count": 74,
     "metadata": {},
     "output_type": "execute_result"
    }
   ],
   "source": [
    "df.shape"
   ]
  },
  {
   "cell_type": "markdown",
   "metadata": {},
   "source": [
    "## 3.4. 모델 구축과 검증"
   ]
  },
  {
   "cell_type": "code",
   "execution_count": 75,
   "metadata": {},
   "outputs": [],
   "source": [
    "# 문자 형태의 변수 추출\n",
    "object_column = list(df.columns[df.dtypes == 'object'])\n",
    "# 문자형 변수 제거\n",
    "df = df.drop(object_column, axis='columns')\n",
    "\n",
    "# datetime 형태의 변수 추출\n",
    "datetime_column = list(df.columns[df.dtypes == 'datetime64[ns]'])\n",
    "# datetime형 변수 제거\n",
    "df = df.drop(datetime_column, axis='columns')"
   ]
  },
  {
   "cell_type": "code",
   "execution_count": 76,
   "metadata": {},
   "outputs": [
    {
     "name": "stdout",
     "output_type": "stream",
     "text": [
      "['bus_route_id', 'station_name', 'route_station', 'location', 'date']\n"
     ]
    }
   ],
   "source": [
    "print(object_column + datetime_column)"
   ]
  },
  {
   "cell_type": "code",
   "execution_count": 77,
   "metadata": {},
   "outputs": [
    {
     "data": {
      "text/plain": [
       "(643593, 126)"
      ]
     },
     "execution_count": 77,
     "metadata": {},
     "output_type": "execute_result"
    }
   ],
   "source": [
    "df.shape"
   ]
  },
  {
   "cell_type": "code",
   "execution_count": 78,
   "metadata": {},
   "outputs": [],
   "source": [
    "# 학습 데이터\n",
    "X_train = df.query(\"cue==0\").drop(['cue', '18~20_ride'], axis='columns')\n",
    "# 테스트 데이터\n",
    "X_test = df.query(\"cue==1\").drop(['cue', '18~20_ride'], axis='columns')\n",
    "# 타깃 변수\n",
    "y_train = df.query(\"cue==0\")['18~20_ride']"
   ]
  },
  {
   "cell_type": "code",
   "execution_count": 79,
   "metadata": {},
   "outputs": [
    {
     "data": {
      "text/plain": [
       "(415423, 124)"
      ]
     },
     "metadata": {},
     "output_type": "display_data"
    },
    {
     "data": {
      "text/plain": [
       "(228170, 124)"
      ]
     },
     "metadata": {},
     "output_type": "display_data"
    },
    {
     "data": {
      "text/plain": [
       "(415423,)"
      ]
     },
     "metadata": {},
     "output_type": "display_data"
    }
   ],
   "source": [
    "display(X_train.shape)\n",
    "display(X_test.shape)\n",
    "display(y_train.shape)"
   ]
  },
  {
   "cell_type": "markdown",
   "metadata": {},
   "source": [
    "### 3.4.1. 머신러닝 모델"
   ]
  },
  {
   "cell_type": "markdown",
   "metadata": {},
   "source": [
    "#### 3.4.1.1. 배깅 방식 앙상블 모델"
   ]
  },
  {
   "cell_type": "markdown",
   "metadata": {},
   "source": [
    "* 랜덤포레스트"
   ]
  },
  {
   "cell_type": "code",
   "execution_count": 80,
   "metadata": {},
   "outputs": [
    {
     "name": "stdout",
     "output_type": "stream",
     "text": [
      "Wall time: 21min 35s\n"
     ]
    }
   ],
   "source": [
    "%%time\n",
    "\n",
    "from sklearn.ensemble import RandomForestRegressor\n",
    "\n",
    "rf_model = RandomForestRegressor(random_state=1217)\n",
    "# 모델 학습\n",
    "rf_model.fit(X_train, y_train)\n",
    "# 예측값 생성\n",
    "y_test = rf_model.predict(X_test)"
   ]
  },
  {
   "cell_type": "markdown",
   "metadata": {},
   "source": [
    "#### 3.4.1.2. 부스팅 방식 앙상블 모델"
   ]
  },
  {
   "cell_type": "markdown",
   "metadata": {},
   "source": [
    "* XGBoost"
   ]
  },
  {
   "cell_type": "code",
   "execution_count": 81,
   "metadata": {},
   "outputs": [
    {
     "name": "stdout",
     "output_type": "stream",
     "text": [
      "Wall time: 21.2 s\n"
     ]
    }
   ],
   "source": [
    "%%time\n",
    "\n",
    "from xgboost import XGBRegressor\n",
    "\n",
    "xgb_model = XGBRegressor(random_state=1217)\n",
    "# 모델 학습\n",
    "xgb_model.fit(X_train, y_train)\n",
    "# 예측값 생성\n",
    "y_test = xgb_model.predict(X_test)"
   ]
  },
  {
   "cell_type": "markdown",
   "metadata": {},
   "source": [
    "* LightGBM"
   ]
  },
  {
   "cell_type": "code",
   "execution_count": 82,
   "metadata": {},
   "outputs": [
    {
     "name": "stdout",
     "output_type": "stream",
     "text": [
      "Wall time: 2.61 s\n"
     ]
    }
   ],
   "source": [
    "%%time\n",
    "\n",
    "import lightgbm as lgb\n",
    "\n",
    "lgbm = lgb.LGBMRegressor(random_state=1217)\n",
    "# 모델 학습\n",
    "lgbm.fit(X_train, y_train)\n",
    "# 예측값 생성\n",
    "y_test = lgbm.predict(X_test)"
   ]
  },
  {
   "cell_type": "markdown",
   "metadata": {},
   "source": [
    "### 3.4.2. 모델 검증"
   ]
  },
  {
   "cell_type": "markdown",
   "metadata": {},
   "source": [
    "#### 3.4.2.1. 교차검증"
   ]
  },
  {
   "cell_type": "code",
   "execution_count": 83,
   "metadata": {},
   "outputs": [
    {
     "name": "stdout",
     "output_type": "stream",
     "text": [
      "cross_val_score \n",
      "[2.38605365 2.47575838 2.53629148 2.36468601 2.2320487 ]\n",
      "cross_val_score.mean \n",
      "2.401\n",
      "Wall time: 19min 49s\n"
     ]
    }
   ],
   "source": [
    "%%time\n",
    "\n",
    "from sklearn.model_selection import cross_val_score\n",
    "\n",
    "rf_model = RandomForestRegressor(random_state=1217)\n",
    "\n",
    "# cv=5인 교차 검증\n",
    "scores = cross_val_score(rf_model, X_train, y_train, cv=5, n_jobs=-1,\n",
    "                         scoring = 'neg_mean_squared_error')\n",
    "\n",
    "# 성능 확인\n",
    "print('cross_val_score \\n{}'.format(np.sqrt(-scores)))\n",
    "print('cross_val_score.mean \\n{:.3f}'.format(np.sqrt(-scores.mean())))"
   ]
  },
  {
   "cell_type": "markdown",
   "metadata": {},
   "source": [
    "### 3.4.3. 변수 선택"
   ]
  },
  {
   "cell_type": "markdown",
   "metadata": {},
   "source": [
    "#### 3.4.3.1. 최종 데이터 구축"
   ]
  },
  {
   "cell_type": "code",
   "execution_count": 84,
   "metadata": {},
   "outputs": [],
   "source": [
    "input_var1=['in_out', 'latitude', 'longitude','6~7_ride', '7~8_ride', '8~9_ride',\n",
    "            '9~10_ride', '10~11_ride', '11~12_ride', '6~7_takeoff', '7~8_takeoff',\n",
    "            '8~9_takeoff', '9~10_takeoff', '10~11_takeoff', '11~12_takeoff',\n",
    "            'weekday_0', 'weekday_1', 'weekday_2', 'weekday_3', 'weekday_4',\n",
    "            'weekday_5', 'weekday_6', 'dis_jejusi', 'dis_jejusicheong1',\n",
    "            'dis_jejuairport', 'dis_hallahosp', 'dis_rotary','dis_jejucenterhigh',\n",
    "            'dis_jejumarket', 'dis_centerroad', 'dis_jejusclass', 'dis_fiveway',\n",
    "            'dis_law', 'weekend', 'holiday', 'ride_sum', 'takeoff_sum',\n",
    "            '1820_r_mean', '1820_s_mean', '1820_w_mean', '1820_rs_mean',\n",
    "            'station_code2', 'bus_route_id2', 'rain', 'description', 'feels_like',\n",
    "            '6~7_ride_sum', '7~8_ride_sum', '8~9_ride_sum', '9~10_ride_sum',\n",
    "            '10~11_ride_sum', 'in_out_mean', 'weekdaymean', 'adult', 'kids', 'teen',\n",
    "            'elder', 'adult_prop', 'kids_prop', 'teen_prop', 'elder_prop',\n",
    "            'mean_job_majorc', 'mean_job_smallc', 'mean_job_public', \n",
    "            'mean_job_profession', 'mean_job_self', 'mean_vehicle_own_rat',\n",
    "            'mean_avg_income', 'mean_med_income', 'mean_avg_spend',\n",
    "            'rate_job_majorc', 'rate_job_smallc', 'rate_job_public',\n",
    "            'rate_job_profession', 'rate_job_self', 'rate_vehicle_own_rat', \n",
    "            'rate_avg_income', 'rate_med_income', 'rate_avg_spend',\n",
    "            'sum_job_majorc', 'sum_job_smallc', 'sum_job_public',\n",
    "            'sum_job_profession', 'sum_job_self', 'sum_vehicle_own_rat',\n",
    "            'sum_avg_income', 'sum_med_income', 'sum_avg_spend', '68a', '810a',\n",
    "            '1012a', '68b', '810b', '1012b', '69a', '912a', '69b', '912b',\n",
    "            'dis_jeju', 'dis_gosan', 'dis_seongsan', 'dis_po', 'dist_name_gosan',\n",
    "            'dist_name_jeju', 'dist_name_po', 'dist_name_seongsan', 'temperature',\n",
    "            'rainfall', 'school', 'transfer', 'si', 'dong', 'rainy_day']"
   ]
  },
  {
   "cell_type": "code",
   "execution_count": 85,
   "metadata": {},
   "outputs": [],
   "source": [
    "input_var2=['in_out', 'latitude', 'longitude','6~7_ride', '7~8_ride', '8~9_ride',\n",
    "            '9~10_ride', '10~11_ride', '11~12_ride', '6~7_takeoff', '7~8_takeoff',\n",
    "            '8~9_takeoff', '9~10_takeoff', '10~11_takeoff', '11~12_takeoff',\n",
    "            'weekday_0', 'weekday_1', 'weekday_2', 'weekday_3', 'weekday_4', \n",
    "            'weekday_5', 'weekday_6', 'dis_jejusi', 'dis_jejusicheong1',\n",
    "            'dis_jejuairport','dis_hallahosp', 'dis_rotary','dis_jejucenterhigh',\n",
    "            'dis_jejumarket', 'dis_centerroad', 'dis_jejusclass', 'dis_fiveway',\n",
    "            'dis_law', 'weekend', 'holiday', 'ride_sum', 'takeoff_sum',\n",
    "            '1820_rs_mean', '1820_r_mean', '1820_s_mean', 'station_code2',\n",
    "            'bus_route_id2', 'rain', 'description', 'feels_like', '1820_w_mean',\n",
    "            'in_out_mean', 'weekdaymean', 'adult', 'kids', 'teen', 'elder',\n",
    "            'adult_prop', 'kids_prop', 'teen_prop', 'elder_prop', 'mean_job_majorc',\n",
    "            'mean_job_smallc', 'mean_job_public', 'mean_job_profession',\n",
    "            'mean_job_self', 'mean_vehicle_own_rat', '68a', '810a', '1012a', '68b',\n",
    "            '810b', '1012b', 'dis_jeju', 'dis_gosan', 'dis_seongsan', 'dis_po',\n",
    "            'dist_name_gosan','dist_name_jeju', 'dist_name_po', 'dist_name_seongsan',\n",
    "            'temperature', 'rainfall']"
   ]
  },
  {
   "cell_type": "code",
   "execution_count": 86,
   "metadata": {},
   "outputs": [],
   "source": [
    "input_var3=['in_out', 'latitude', 'longitude','6~7_ride', '7~8_ride', '8~9_ride',\n",
    "            '9~10_ride', '10~11_ride', '11~12_ride', '6~7_takeoff', '7~8_takeoff',\n",
    "            '8~9_takeoff', '9~10_takeoff', '10~11_takeoff', '11~12_takeoff',\n",
    "            'weekday_0', 'weekday_1', 'weekday_2', 'weekday_3', 'weekday_4',\n",
    "            'weekday_5', 'weekday_6', 'dis_jejusi', 'dis_jejuairport', 'ride_sum',\n",
    "            'takeoff_sum','1820_r_mean','1820_r_sum', '1820_s_mean', '1820_s_sum', \n",
    "            '1820_w_mean', '1820_w_sum', '1820_rs_mean', '1820_rs_sum',\n",
    "            'bus_route_id2', '6~7_ride_sum', '7~8_ride_sum', '8~9_ride_sum',\n",
    "            '9~10_ride_sum', '10~11_ride_sum', 'sum_avg_spend', '68a', '810a', 'si',\n",
    "            'dong']"
   ]
  },
  {
   "cell_type": "markdown",
   "metadata": {},
   "source": [
    "### 3.4.4. 하이퍼파라미터 튜닝"
   ]
  },
  {
   "cell_type": "markdown",
   "metadata": {},
   "source": [
    "#### 3.4.4.1. 그리드 서치"
   ]
  },
  {
   "cell_type": "code",
   "execution_count": 87,
   "metadata": {},
   "outputs": [
    {
     "name": "stdout",
     "output_type": "stream",
     "text": [
      "최적 하이퍼파라미터:  {'max_features': 8, 'min_samples_leaf': 1, 'n_estimators': 500}\n",
      "최적 하이퍼파라미터의 성능(RMSE): 0.8692\n",
      "Wall time: 46min 54s\n"
     ]
    }
   ],
   "source": [
    "%%time\n",
    "\n",
    "from sklearn.model_selection import GridSearchCV\n",
    "\n",
    "rf = RandomForestRegressor(random_state=1217)\n",
    "\n",
    "# 탐색할 하이퍼파라미터 값 지정\n",
    "params = {'n_estimators' : [200, 300, 500],\n",
    "          'max_features': [5, 6, 8],\n",
    "          'min_samples_leaf' : [1, 3, 5]}\n",
    "\n",
    "# GridSearchCV를 이용해 최적의 하이퍼파라미터 탐색\n",
    "grid_cv = GridSearchCV(rf, param_grid = params, cv = 3, n_jobs=-1)\n",
    "grid_cv.fit(X_train[input_var1], y_train)\n",
    "\n",
    "# 최적의 하이퍼파라미터 값과 성능 출력\n",
    "print('최적 하이퍼파라미터: ', grid_cv.best_params_)\n",
    "print('최적 하이퍼파라미터의 성능(RMSE): {:.4f}'.format(\n",
    "    np.sqrt(grid_cv.best_score_)))"
   ]
  },
  {
   "cell_type": "markdown",
   "metadata": {},
   "source": [
    "#### 3.4.4.2. 랜덤 서치"
   ]
  },
  {
   "cell_type": "code",
   "execution_count": 88,
   "metadata": {},
   "outputs": [
    {
     "name": "stdout",
     "output_type": "stream",
     "text": [
      "최적 하이퍼파라미터:  {'max_features': 7, 'min_samples_leaf': 1, 'n_estimators': 225}\n",
      "최적 하이퍼파라미터의 성능(RMSE): 0.8683\n",
      "Wall time: 17min 8s\n"
     ]
    }
   ],
   "source": [
    "%%time\n",
    "\n",
    "import scipy.stats as stats\n",
    "from sklearn.model_selection import RandomizedSearchCV\n",
    "\n",
    "rf = RandomForestRegressor(random_state=1217)\n",
    "\n",
    "# 탐색할 하이퍼파라미터 구간 지정\n",
    "params = {'n_estimators': stats.randint(200, 500),\n",
    "          'max_features': stats.randint(4, 8),\n",
    "          'min_samples_leaf': stats.randint(1, 5)}\n",
    "\n",
    "# RandomizedSearchCV를 이용해 최적의 하이퍼파라미터 탐색\n",
    "rand_cv = RandomizedSearchCV(rf, param_distributions = params, n_iter=10, \n",
    "                             cv = 3, random_state = 1217, n_jobs=-1)\n",
    "rand_cv.fit(X_train[input_var1], y_train)\n",
    "\n",
    "# 최적의 하이퍼파라미터 값과 성능 출력\n",
    "print('최적 하이퍼파라미터: ', rand_cv.best_params_)\n",
    "print('최적 하이퍼파라미터의 성능(RMSE): {:.4f}'.format(np.sqrt(rand_cv.best_score_)))"
   ]
  },
  {
   "cell_type": "markdown",
   "metadata": {},
   "source": [
    "### 3.4.5. 최종 모델 구축"
   ]
  },
  {
   "cell_type": "markdown",
   "metadata": {},
   "source": [
    "#### 3.4.5.2. 최종 모델 구축"
   ]
  },
  {
   "cell_type": "code",
   "execution_count": 89,
   "metadata": {},
   "outputs": [],
   "source": [
    "# submission_sample 데이터 로드\n",
    "sub = pd.read_csv('C:/dacon/ch03/submission_sample.csv')"
   ]
  },
  {
   "cell_type": "code",
   "execution_count": 90,
   "metadata": {},
   "outputs": [],
   "source": [
    "sub_dir = \"C:/dacon/ch03/submission/\" \n",
    "\n",
    "# submission 폴더가 없다면 submission 폴더를 생성\n",
    "if not os.path.isdir(sub_dir):\n",
    "    os.mkdir(sub_dir)\n",
    "\n",
    "# 작업 경로를 submission 폴더로 변경\n",
    "os.chdir(sub_dir)"
   ]
  },
  {
   "cell_type": "markdown",
   "metadata": {},
   "source": [
    "* 첫 번째 데이터로 만든 모델"
   ]
  },
  {
   "cell_type": "code",
   "execution_count": 91,
   "metadata": {},
   "outputs": [
    {
     "name": "stdout",
     "output_type": "stream",
     "text": [
      "[LightGBM] [Warning] Unknown parameter: Metric\n",
      "[LightGBM] [Warning] boosting is set=dart, boosting_type=gbdt will be ignored. Current value: boosting=dart\n",
      "Wall time: 42 s\n"
     ]
    },
    {
     "data": {
      "text/plain": [
       "1.7232868632994225"
      ]
     },
     "execution_count": 91,
     "metadata": {},
     "output_type": "execute_result"
    }
   ],
   "source": [
    "%%time\n",
    "\n",
    "# 첫 번째 모델 정의\n",
    "model1 = lgb.LGBMRegressor(random_state=1217, num_iterations = 1000, learning_rate = 0.05,\n",
    "                           boosting = 'dart', Metric = 'regression_l2', n_jobs=-1)\n",
    "# 모델 학습\n",
    "model1.fit(X_train[input_var1], y_train)\n",
    "# 예측값 생성\n",
    "pred1 = model1.predict(X_train[input_var1])\n",
    "# 성능 확인\n",
    "from sklearn.metrics import mean_squared_error\n",
    "np.sqrt(mean_squared_error(y_train, pred1))"
   ]
  },
  {
   "cell_type": "code",
   "execution_count": 92,
   "metadata": {},
   "outputs": [],
   "source": [
    "# X_test 데이터에 대한 예측값 생성\n",
    "y_pred1 = model1.predict(X_test[input_var1])\n",
    "sub['18~20_ride'] = y_pred1\n",
    "# 'submission' 폴더에 csv 파일 저장\n",
    "sub.to_csv('model1_lgbm.csv', index = False)"
   ]
  },
  {
   "cell_type": "code",
   "execution_count": 93,
   "metadata": {},
   "outputs": [
    {
     "name": "stdout",
     "output_type": "stream",
     "text": [
      "Wall time: 1min 18s\n"
     ]
    },
    {
     "data": {
      "text/plain": [
       "0.8198244805339306"
      ]
     },
     "execution_count": 93,
     "metadata": {},
     "output_type": "execute_result"
    }
   ],
   "source": [
    "%%time\n",
    "\n",
    "# 두 번째 모델 정의\n",
    "model2 = RandomForestRegressor(random_state=1217, max_features=8, \n",
    "                               min_samples_leaf=1, n_estimators=500, n_jobs=-1)\n",
    "# 모델 학습\n",
    "model2.fit(X_train[input_var1], y_train)\n",
    "# 예측값 생성\n",
    "pred2 = model2.predict(X_train[input_var1])\n",
    "# 성능 확인\n",
    "np.sqrt(mean_squared_error(y_train, pred2))"
   ]
  },
  {
   "cell_type": "code",
   "execution_count": 94,
   "metadata": {},
   "outputs": [],
   "source": [
    "# X_test 데이터에 대한 예측값 생성\n",
    "y_pred2 = model2.predict(X_test[input_var1])\n",
    "sub['18~20_ride'] = y_pred2\n",
    "# 'submission' 폴더에 CSV 파일 저장\n",
    "sub.to_csv('model2_rf.csv', index = False)"
   ]
  },
  {
   "cell_type": "code",
   "execution_count": 95,
   "metadata": {},
   "outputs": [
    {
     "name": "stdout",
     "output_type": "stream",
     "text": [
      "Wall time: 38.2 s\n"
     ]
    },
    {
     "data": {
      "text/plain": [
       "1.5304048954108196"
      ]
     },
     "execution_count": 95,
     "metadata": {},
     "output_type": "execute_result"
    }
   ],
   "source": [
    "%%time\n",
    "\n",
    "# 세 번째 모델 정의\n",
    "model3 = RandomForestRegressor(random_state=1217, max_features=3, \n",
    "                               min_samples_leaf=2, n_estimators=500, n_jobs=-1)\n",
    "# 모델 학습\n",
    "model3.fit(X_train[input_var1], y_train)\n",
    "# 예측값 생성\n",
    "pred3 = model3.predict(X_train[input_var1])\n",
    "# 성능 확인\n",
    "np.sqrt(mean_squared_error(y_train, pred3))"
   ]
  },
  {
   "cell_type": "code",
   "execution_count": 96,
   "metadata": {},
   "outputs": [],
   "source": [
    "# X_test 데이터에 대한 예측값 생성\n",
    "y_pred3 = model3.predict(X_test[input_var1])\n",
    "sub['18~20_ride'] = y_pred3\n",
    "# 'submission' 폴더에 csv 파일 저장\n",
    "sub.to_csv('model3_rf.csv', index = False)"
   ]
  },
  {
   "cell_type": "markdown",
   "metadata": {},
   "source": [
    "* 두 번째 데이터로 만든 모델"
   ]
  },
  {
   "cell_type": "code",
   "execution_count": 97,
   "metadata": {},
   "outputs": [
    {
     "name": "stdout",
     "output_type": "stream",
     "text": [
      "Wall time: 42.9 s\n"
     ]
    },
    {
     "data": {
      "text/plain": [
       "1.441432134120466"
      ]
     },
     "execution_count": 97,
     "metadata": {},
     "output_type": "execute_result"
    }
   ],
   "source": [
    "%%time\n",
    "\n",
    "# 네 번째 모델 정의\n",
    "model4 = RandomForestRegressor(random_state=1217, max_features=4, \n",
    "                               min_samples_leaf=2, n_estimators=500, n_jobs=-1)\n",
    "# 모델 학습\n",
    "model4.fit(X_train[input_var2], y_train)\n",
    "# 예측값 생성\n",
    "pred4 = model4.predict(X_train[input_var2])\n",
    "# 성능 확인\n",
    "np.sqrt(mean_squared_error(y_train, pred4))"
   ]
  },
  {
   "cell_type": "code",
   "execution_count": 98,
   "metadata": {},
   "outputs": [],
   "source": [
    "# X_test 데이터에 대한 예측값 생성\n",
    "y_pred4 = model4.predict(X_test[input_var2])\n",
    "sub['18~20_ride'] = y_pred4\n",
    "# 'submission' 폴더에 csv 파일 저장\n",
    "sub.to_csv('model4_rf.csv', index = False)"
   ]
  },
  {
   "cell_type": "markdown",
   "metadata": {},
   "source": [
    "* 세 번째 데이터로 만든 모델"
   ]
  },
  {
   "cell_type": "code",
   "execution_count": 99,
   "metadata": {},
   "outputs": [
    {
     "name": "stdout",
     "output_type": "stream",
     "text": [
      "Wall time: 32 s\n"
     ]
    },
    {
     "data": {
      "text/plain": [
       "1.5477565412182086"
      ]
     },
     "execution_count": 99,
     "metadata": {},
     "output_type": "execute_result"
    }
   ],
   "source": [
    "%%time\n",
    "\n",
    "# 다섯 번째 모델 정의\n",
    "model5 = RandomForestRegressor(random_state=1217, max_features=7, \n",
    "                               min_samples_leaf=4, n_estimators=300, n_jobs=-1)\n",
    "# 모델 학습\n",
    "model5.fit(X_train[input_var3], y_train)\n",
    "# 예측값 생성\n",
    "pred5 = model5.predict(X_train[input_var3])\n",
    "# 성능 확인\n",
    "np.sqrt(mean_squared_error(y_train, pred5))"
   ]
  },
  {
   "cell_type": "code",
   "execution_count": 100,
   "metadata": {},
   "outputs": [],
   "source": [
    "# X_test 데이터에 대한 예측값 생성\n",
    "y_pred5 = model5.predict(X_test[input_var3])\n",
    "sub['18~20_ride'] = y_pred5\n",
    "# 'submission' 폴더에 csv 파일 저장\n",
    "sub.to_csv('model5_rf.csv', index = False)"
   ]
  }
 ],
 "metadata": {
  "kernelspec": {
   "display_name": "Python 3",
   "language": "python",
   "name": "python3"
  },
  "language_info": {
   "codemirror_mode": {
    "name": "ipython",
    "version": 3
   },
   "file_extension": ".py",
   "mimetype": "text/x-python",
   "name": "python",
   "nbconvert_exporter": "python",
   "pygments_lexer": "ipython3",
   "version": "3.7.3"
  },
  "toc": {
   "base_numbering": 1,
   "nav_menu": {},
   "number_sections": true,
   "sideBar": true,
   "skip_h1_title": false,
   "title_cell": "Table of Contents",
   "title_sidebar": "Contents",
   "toc_cell": false,
   "toc_position": {},
   "toc_section_display": true,
   "toc_window_display": false
  }
 },
 "nbformat": 4,
 "nbformat_minor": 4
}
