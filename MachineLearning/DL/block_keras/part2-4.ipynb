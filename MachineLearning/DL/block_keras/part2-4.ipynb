{
 "cells": [
  {
   "cell_type": "code",
   "execution_count": 1,
   "metadata": {
    "execution": {
     "iopub.execute_input": "2021-12-16T06:19:32.039404Z",
     "iopub.status.busy": "2021-12-16T06:19:32.039079Z",
     "iopub.status.idle": "2021-12-16T06:19:38.262959Z",
     "shell.execute_reply": "2021-12-16T06:19:38.262279Z",
     "shell.execute_reply.started": "2021-12-16T06:19:32.039347Z"
    }
   },
   "outputs": [
    {
     "name": "stdout",
     "output_type": "stream",
     "text": [
      "Epoch 1/3000\n",
      "70/70 [==============================] - 1s 9ms/step - loss: 2.3140 - accuracy: 0.0822 - val_loss: 2.2804 - val_accuracy: 0.0933\n",
      "Epoch 2/3000\n",
      "70/70 [==============================] - 0s 1ms/step - loss: 2.2607 - accuracy: 0.0983 - val_loss: 2.2361 - val_accuracy: 0.1067\n",
      "Epoch 3/3000\n",
      "70/70 [==============================] - 0s 1ms/step - loss: 2.2158 - accuracy: 0.1297 - val_loss: 2.2069 - val_accuracy: 0.1567\n",
      "Epoch 4/3000\n",
      "70/70 [==============================] - 0s 1ms/step - loss: 2.1915 - accuracy: 0.1441 - val_loss: 2.1860 - val_accuracy: 0.1367\n",
      "Epoch 5/3000\n",
      "70/70 [==============================] - 0s 1ms/step - loss: 2.1708 - accuracy: 0.1791 - val_loss: 2.1669 - val_accuracy: 0.1567\n",
      "Epoch 6/3000\n",
      "70/70 [==============================] - 0s 1ms/step - loss: 2.1344 - accuracy: 0.1923 - val_loss: 2.1504 - val_accuracy: 0.1700\n",
      "Epoch 7/3000\n",
      "70/70 [==============================] - 0s 1ms/step - loss: 2.1379 - accuracy: 0.1704 - val_loss: 2.1346 - val_accuracy: 0.1767\n",
      "Epoch 8/3000\n",
      "70/70 [==============================] - 0s 1ms/step - loss: 2.1132 - accuracy: 0.1782 - val_loss: 2.1191 - val_accuracy: 0.1733\n",
      "Epoch 9/3000\n",
      "70/70 [==============================] - 0s 1ms/step - loss: 2.0947 - accuracy: 0.1793 - val_loss: 2.0998 - val_accuracy: 0.1967\n",
      "Epoch 10/3000\n",
      "70/70 [==============================] - 0s 1ms/step - loss: 2.0776 - accuracy: 0.2101 - val_loss: 2.0328 - val_accuracy: 0.2633\n",
      "Epoch 11/3000\n",
      "70/70 [==============================] - 0s 1ms/step - loss: 1.9707 - accuracy: 0.2667 - val_loss: 1.9623 - val_accuracy: 0.3333\n",
      "Epoch 12/3000\n",
      "70/70 [==============================] - 0s 1ms/step - loss: 1.9050 - accuracy: 0.3311 - val_loss: 1.9023 - val_accuracy: 0.3800\n",
      "Epoch 13/3000\n",
      "70/70 [==============================] - 0s 1ms/step - loss: 1.8466 - accuracy: 0.3714 - val_loss: 1.8486 - val_accuracy: 0.3933\n",
      "Epoch 14/3000\n",
      "70/70 [==============================] - 0s 1ms/step - loss: 1.8091 - accuracy: 0.3879 - val_loss: 1.7994 - val_accuracy: 0.3667\n",
      "Epoch 15/3000\n",
      "70/70 [==============================] - 0s 1ms/step - loss: 1.7493 - accuracy: 0.3832 - val_loss: 1.7648 - val_accuracy: 0.3833\n",
      "Epoch 16/3000\n",
      "70/70 [==============================] - 0s 1ms/step - loss: 1.6927 - accuracy: 0.4185 - val_loss: 1.7284 - val_accuracy: 0.3967\n",
      "Epoch 17/3000\n",
      "70/70 [==============================] - 0s 1ms/step - loss: 1.6801 - accuracy: 0.4140 - val_loss: 1.6848 - val_accuracy: 0.3800\n",
      "Epoch 18/3000\n",
      "70/70 [==============================] - 0s 1ms/step - loss: 1.6082 - accuracy: 0.4486 - val_loss: 1.6556 - val_accuracy: 0.3733\n",
      "Epoch 19/3000\n",
      "70/70 [==============================] - 0s 1ms/step - loss: 1.6747 - accuracy: 0.3957 - val_loss: 1.6321 - val_accuracy: 0.4033\n",
      "Epoch 20/3000\n",
      "70/70 [==============================] - 0s 2ms/step - loss: 1.6295 - accuracy: 0.4365 - val_loss: 1.6123 - val_accuracy: 0.4133\n",
      "Epoch 21/3000\n",
      "70/70 [==============================] - 0s 2ms/step - loss: 1.5554 - accuracy: 0.4538 - val_loss: 1.5930 - val_accuracy: 0.4033\n",
      "Epoch 22/3000\n",
      "70/70 [==============================] - 0s 1ms/step - loss: 1.4847 - accuracy: 0.4531 - val_loss: 1.5809 - val_accuracy: 0.4200\n",
      "Epoch 23/3000\n",
      "70/70 [==============================] - 0s 1ms/step - loss: 1.5119 - accuracy: 0.4351 - val_loss: 1.5586 - val_accuracy: 0.4167\n",
      "Epoch 24/3000\n",
      "70/70 [==============================] - 0s 1ms/step - loss: 1.4930 - accuracy: 0.4464 - val_loss: 1.5523 - val_accuracy: 0.4267\n",
      "Epoch 25/3000\n",
      "70/70 [==============================] - 0s 1ms/step - loss: 1.4718 - accuracy: 0.4640 - val_loss: 1.5462 - val_accuracy: 0.4067\n",
      "Epoch 26/3000\n",
      "70/70 [==============================] - 0s 1ms/step - loss: 1.4754 - accuracy: 0.4612 - val_loss: 1.5267 - val_accuracy: 0.4167\n",
      "Epoch 27/3000\n",
      "70/70 [==============================] - 0s 1ms/step - loss: 1.4513 - accuracy: 0.5106 - val_loss: 1.5196 - val_accuracy: 0.4400\n",
      "Epoch 28/3000\n",
      "70/70 [==============================] - 0s 2ms/step - loss: 1.4825 - accuracy: 0.4902 - val_loss: 1.5066 - val_accuracy: 0.4433\n",
      "Epoch 29/3000\n",
      "70/70 [==============================] - 0s 2ms/step - loss: 1.4439 - accuracy: 0.4874 - val_loss: 1.4933 - val_accuracy: 0.4333\n",
      "Epoch 30/3000\n",
      "70/70 [==============================] - 0s 1ms/step - loss: 1.4021 - accuracy: 0.4909 - val_loss: 1.4857 - val_accuracy: 0.4367\n",
      "Epoch 31/3000\n",
      "70/70 [==============================] - 0s 1ms/step - loss: 1.3531 - accuracy: 0.5164 - val_loss: 1.4890 - val_accuracy: 0.4567\n"
     ]
    }
   ],
   "source": [
    "from keras.utils import np_utils\n",
    "from keras.datasets import mnist\n",
    "from keras.models import Sequential\n",
    "from keras.layers import Dense, Activation\n",
    "import numpy as np\n",
    "\n",
    "np.random.seed(3)\n",
    "\n",
    "# 1. 데이터셋 준비하기\n",
    "\n",
    "# 훈련셋과 시험셋 로딩\n",
    "(X_train, Y_train), (X_test, Y_test) = mnist.load_data()\n",
    "\n",
    "# 훈련셋과 검증셋 분리\n",
    "X_val = X_train[50000:]\n",
    "Y_val = Y_train[50000:]\n",
    "X_train = X_train[:50000]\n",
    "Y_train = Y_train[:50000]\n",
    "\n",
    "X_train = X_train.reshape(50000, 784).astype('float32') / 255.0\n",
    "X_val = X_val.reshape(10000, 784).astype('float32') / 255.0\n",
    "X_test = X_test.reshape(10000, 784).astype('float32') / 255.0\n",
    "\n",
    "# 훈련셋, 검증셋 고르기\n",
    "train_rand_idxs = np.random.choice(50000, 700)\n",
    "val_rand_idxs = np.random.choice(10000, 300)\n",
    "\n",
    "X_train = X_train[train_rand_idxs]\n",
    "Y_train = Y_train[train_rand_idxs]\n",
    "X_val = X_val[val_rand_idxs]\n",
    "Y_val = Y_val[val_rand_idxs]\n",
    "\n",
    "# 라벨링 전환\n",
    "Y_train = np_utils.to_categorical(Y_train)\n",
    "Y_val = np_utils.to_categorical(Y_val)\n",
    "Y_test = np_utils.to_categorical(Y_test)\n",
    "\n",
    "# 2. 모델 구성하기\n",
    "model = Sequential()\n",
    "model.add(Dense(units=2, input_dim=28*28, activation='relu'))\n",
    "model.add(Dense(units=10, activation='softmax'))\n",
    "\n",
    "# 3. 모델 엮기\n",
    "model.compile(loss='categorical_crossentropy', optimizer='sgd', metrics=['accuracy'])\n",
    "\n",
    "# 4. 모델 학습시키기\n",
    "from keras.callbacks import EarlyStopping\n",
    "early_stopping = EarlyStopping() # 조기종료 콜백함수 정의\n",
    "hist = model.fit(X_train, Y_train, epochs=3000, batch_size=10, \n",
    "                 validation_data=(X_val, Y_val), callbacks=[early_stopping])\n"
   ]
  },
  {
   "cell_type": "code",
   "execution_count": 4,
   "metadata": {
    "execution": {
     "iopub.execute_input": "2021-12-16T06:21:58.184265Z",
     "iopub.status.busy": "2021-12-16T06:21:58.183968Z",
     "iopub.status.idle": "2021-12-16T06:21:58.470084Z",
     "shell.execute_reply": "2021-12-16T06:21:58.469432Z",
     "shell.execute_reply.started": "2021-12-16T06:21:58.184230Z"
    }
   },
   "outputs": [
    {
     "data": {
      "image/png": "[encoded data removed]",
      "text/plain": [
       "<Figure size 432x288 with 2 Axes>"
      ]
     },
     "metadata": {
      "needs_background": "light"
     },
     "output_type": "display_data"
    }
   ],
   "source": [
    "%matplotlib inline\n",
    "import matplotlib.pyplot as plt\n",
    "\n",
    "fig, loss_ax = plt.subplots()\n",
    "\n",
    "acc_ax = loss_ax.twinx()\n",
    "\n",
    "loss_ax.plot(hist.history['loss'], 'y', label='train loss')\n",
    "loss_ax.plot(hist.history['val_loss'], 'r', label='val loss')\n",
    "\n",
    "acc_ax.plot(hist.history['accuracy'], 'b', label='train acc')\n",
    "acc_ax.plot(hist.history['val_accuracy'], 'g', label='val acc')\n",
    "\n",
    "loss_ax.set_xlabel('epoch')\n",
    "loss_ax.set_ylabel('loss')\n",
    "acc_ax.set_ylabel('accuracy')\n",
    "\n",
    "loss_ax.legend(loc='upper left')\n",
    "acc_ax.legend(loc='lower left')\n",
    "\n",
    "plt.show()"
   ]
  },
  {
   "cell_type": "code",
   "execution_count": 5,
   "metadata": {
    "execution": {
     "iopub.execute_input": "2021-12-16T06:23:46.854109Z",
     "iopub.status.busy": "2021-12-16T06:23:46.853739Z",
     "iopub.status.idle": "2021-12-16T06:23:47.341287Z",
     "shell.execute_reply": "2021-12-16T06:23:47.340365Z",
     "shell.execute_reply.started": "2021-12-16T06:23:46.854084Z"
    }
   },
   "outputs": [
    {
     "name": "stdout",
     "output_type": "stream",
     "text": [
      "313/313 [==============================] - 0s 1ms/step - loss: 1.4978 - accuracy: 0.4651\n",
      "\n",
      "loss : 1.4977506399154663\n",
      "accuray : 0.4650999903678894\n"
     ]
    }
   ],
   "source": [
    "loss_and_metrics = model.evaluate(X_test, Y_test, batch_size=32)\n",
    "\n",
    "print('')\n",
    "print('loss : ' + str(loss_and_metrics[0]))\n",
    "print('accuray : ' + str(loss_and_metrics[1]))"
   ]
  },
  {
   "cell_type": "code",
   "execution_count": null,
   "metadata": {},
   "outputs": [],
   "source": []
  }
 ],
 "metadata": {
  "kernelspec": {
   "display_name": "Python 3",
   "language": "python",
   "name": "python3"
  },
  "language_info": {
   "codemirror_mode": {
    "name": "ipython",
    "version": 3
   },
   "file_extension": ".py",
   "mimetype": "text/x-python",
   "name": "python",
   "nbconvert_exporter": "python",
   "pygments_lexer": "ipython3",
   "version": "3.7.3"
  }
 },
 "nbformat": 4,
 "nbformat_minor": 4
}
