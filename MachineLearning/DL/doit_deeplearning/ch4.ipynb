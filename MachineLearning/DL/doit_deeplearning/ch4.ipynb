{
 "cells": [
  {
   "cell_type": "code",
   "execution_count": 2,
   "metadata": {
    "execution": {
     "iopub.execute_input": "2021-12-07T03:33:30.952589Z",
     "iopub.status.busy": "2021-12-07T03:33:30.952241Z",
     "iopub.status.idle": "2021-12-07T03:33:30.965331Z",
     "shell.execute_reply": "2021-12-07T03:33:30.964435Z",
     "shell.execute_reply.started": "2021-12-07T03:33:30.952562Z"
    }
   },
   "outputs": [],
   "source": [
    "from sklearn.datasets import load_breast_cancer\n",
    "cancer = load_breast_cancer()"
   ]
  },
  {
   "cell_type": "code",
   "execution_count": 4,
   "metadata": {
    "execution": {
     "iopub.execute_input": "2021-12-07T03:33:43.201357Z",
     "iopub.status.busy": "2021-12-07T03:33:43.201063Z",
     "iopub.status.idle": "2021-12-07T03:33:43.213835Z",
     "shell.execute_reply": "2021-12-07T03:33:43.212955Z",
     "shell.execute_reply.started": "2021-12-07T03:33:43.201335Z"
    }
   },
   "outputs": [
    {
     "name": "stdout",
     "output_type": "stream",
     "text": [
      "(569, 30)\n",
      "(569,)\n"
     ]
    },
    {
     "data": {
      "text/plain": [
       "(None, None)"
      ]
     },
     "execution_count": 4,
     "metadata": {},
     "output_type": "execute_result"
    }
   ],
   "source": [
    "print(cancer.data.shape), print(cancer.target.shape)"
   ]
  },
  {
   "cell_type": "code",
   "execution_count": 7,
   "metadata": {
    "execution": {
     "iopub.execute_input": "2021-12-07T03:34:27.418431Z",
     "iopub.status.busy": "2021-12-07T03:34:27.418138Z",
     "iopub.status.idle": "2021-12-07T03:34:27.423726Z",
     "shell.execute_reply": "2021-12-07T03:34:27.422820Z",
     "shell.execute_reply.started": "2021-12-07T03:34:27.418394Z"
    }
   },
   "outputs": [],
   "source": [
    "import matplotlib.pyplot as plt\n",
    "%matplotlib inline"
   ]
  },
  {
   "cell_type": "code",
   "execution_count": 9,
   "metadata": {
    "execution": {
     "iopub.execute_input": "2021-12-07T03:35:03.835993Z",
     "iopub.status.busy": "2021-12-07T03:35:03.835675Z",
     "iopub.status.idle": "2021-12-07T03:35:04.319975Z",
     "shell.execute_reply": "2021-12-07T03:35:04.319026Z",
     "shell.execute_reply.started": "2021-12-07T03:35:03.835967Z"
    }
   },
   "outputs": [
    {
     "data": {
      "image/png": "[encoded data removed]",
      "text/plain": [
       "<Figure size 864x576 with 1 Axes>"
      ]
     },
     "metadata": {
      "needs_background": "light"
     },
     "output_type": "display_data"
    }
   ],
   "source": [
    "plt.figure(figsize=(12,8))\n",
    "plt.boxplot(cancer.data)\n",
    "plt.xlabel('feature')\n",
    "plt.ylabel('value')\n",
    "plt.show()"
   ]
  },
  {
   "cell_type": "code",
   "execution_count": 10,
   "metadata": {
    "execution": {
     "iopub.execute_input": "2021-12-07T03:35:33.937611Z",
     "iopub.status.busy": "2021-12-07T03:35:33.937297Z",
     "iopub.status.idle": "2021-12-07T03:35:33.944746Z",
     "shell.execute_reply": "2021-12-07T03:35:33.943747Z",
     "shell.execute_reply.started": "2021-12-07T03:35:33.937581Z"
    }
   },
   "outputs": [
    {
     "data": {
      "text/plain": [
       "array(['mean area', 'area error', 'worst area'], dtype='<U23')"
      ]
     },
     "execution_count": 10,
     "metadata": {},
     "output_type": "execute_result"
    }
   ],
   "source": [
    "cancer.feature_names[[3, 13, 23]]"
   ]
  },
  {
   "cell_type": "code",
   "execution_count": 11,
   "metadata": {
    "execution": {
     "iopub.execute_input": "2021-12-07T03:36:25.682107Z",
     "iopub.status.busy": "2021-12-07T03:36:25.681783Z",
     "iopub.status.idle": "2021-12-07T03:36:25.687297Z",
     "shell.execute_reply": "2021-12-07T03:36:25.686507Z",
     "shell.execute_reply.started": "2021-12-07T03:36:25.682055Z"
    }
   },
   "outputs": [
    {
     "data": {
      "text/plain": [
       "(array([0, 1]), array([212, 357]))"
      ]
     },
     "execution_count": 11,
     "metadata": {},
     "output_type": "execute_result"
    }
   ],
   "source": [
    "import numpy as np\n",
    "np.unique(cancer.target, return_counts=True)"
   ]
  },
  {
   "cell_type": "code",
   "execution_count": 12,
   "metadata": {
    "execution": {
     "iopub.execute_input": "2021-12-07T03:36:49.238909Z",
     "iopub.status.busy": "2021-12-07T03:36:49.238582Z",
     "iopub.status.idle": "2021-12-07T03:36:49.242307Z",
     "shell.execute_reply": "2021-12-07T03:36:49.241514Z",
     "shell.execute_reply.started": "2021-12-07T03:36:49.238877Z"
    }
   },
   "outputs": [],
   "source": [
    "x, y = cancer.data, cancer.target"
   ]
  },
  {
   "cell_type": "code",
   "execution_count": 13,
   "metadata": {
    "execution": {
     "iopub.execute_input": "2021-12-07T03:39:53.191171Z",
     "iopub.status.busy": "2021-12-07T03:39:53.190823Z",
     "iopub.status.idle": "2021-12-07T03:39:53.194786Z",
     "shell.execute_reply": "2021-12-07T03:39:53.193922Z",
     "shell.execute_reply.started": "2021-12-07T03:39:53.191137Z"
    }
   },
   "outputs": [],
   "source": [
    "from sklearn.model_selection import train_test_split"
   ]
  },
  {
   "cell_type": "code",
   "execution_count": 14,
   "metadata": {
    "execution": {
     "iopub.execute_input": "2021-12-07T03:40:39.320381Z",
     "iopub.status.busy": "2021-12-07T03:40:39.319934Z",
     "iopub.status.idle": "2021-12-07T03:40:39.325987Z",
     "shell.execute_reply": "2021-12-07T03:40:39.325108Z",
     "shell.execute_reply.started": "2021-12-07T03:40:39.320347Z"
    }
   },
   "outputs": [],
   "source": [
    "x_train, x_test, y_train, y_test = train_test_split(x, y, test_size=0.2, stratify=y, random_state=42)"
   ]
  },
  {
   "cell_type": "code",
   "execution_count": 16,
   "metadata": {
    "execution": {
     "iopub.execute_input": "2021-12-07T03:41:03.878742Z",
     "iopub.status.busy": "2021-12-07T03:41:03.878376Z",
     "iopub.status.idle": "2021-12-07T03:41:03.883585Z",
     "shell.execute_reply": "2021-12-07T03:41:03.882766Z",
     "shell.execute_reply.started": "2021-12-07T03:41:03.878698Z"
    }
   },
   "outputs": [
    {
     "data": {
      "text/plain": [
       "((455, 30), (114, 30))"
      ]
     },
     "execution_count": 16,
     "metadata": {},
     "output_type": "execute_result"
    }
   ],
   "source": [
    "x_train.shape, x_test.shape"
   ]
  },
  {
   "cell_type": "code",
   "execution_count": 18,
   "metadata": {
    "execution": {
     "iopub.execute_input": "2021-12-07T03:41:19.703941Z",
     "iopub.status.busy": "2021-12-07T03:41:19.703650Z",
     "iopub.status.idle": "2021-12-07T03:41:19.709298Z",
     "shell.execute_reply": "2021-12-07T03:41:19.708450Z",
     "shell.execute_reply.started": "2021-12-07T03:41:19.703918Z"
    }
   },
   "outputs": [
    {
     "data": {
      "text/plain": [
       "(array([0, 1]), array([170, 285]))"
      ]
     },
     "execution_count": 18,
     "metadata": {},
     "output_type": "execute_result"
    }
   ],
   "source": [
    "np.unique(y_train, return_counts=True)"
   ]
  },
  {
   "cell_type": "code",
   "execution_count": 25,
   "metadata": {
    "execution": {
     "iopub.execute_input": "2021-12-07T03:53:46.722794Z",
     "iopub.status.busy": "2021-12-07T03:53:46.722525Z",
     "iopub.status.idle": "2021-12-07T03:53:46.731206Z",
     "shell.execute_reply": "2021-12-07T03:53:46.729156Z",
     "shell.execute_reply.started": "2021-12-07T03:53:46.722769Z"
    }
   },
   "outputs": [],
   "source": [
    "class LogisticNeuron:\n",
    "    \n",
    "    def __init__(self):\n",
    "        self.w = None\n",
    "        self.b = None\n",
    "    \n",
    "    def forpass(self, x):\n",
    "        z = np.sum(x*self.w) + self.b\n",
    "        return z\n",
    "    \n",
    "    def backprop(self, x, err):\n",
    "        w_grad = x * err\n",
    "        b_grad = 1 * err\n",
    "        return w_grad, b_grad\n",
    "    \n",
    "    def fit(self, x, y, epochs=100):\n",
    "        self.w = np.ones(x.shape[1])\n",
    "        self.b = 0\n",
    "        \n",
    "        for i in range(epochs):\n",
    "            for x_i, y_i in zip(x, y):\n",
    "                z = self.forpass(x_i)\n",
    "                a = self.activation(z)\n",
    "                err = -(y_i - a)\n",
    "                w_grad, b_grad = self.backprop(x_i, err)\n",
    "                \n",
    "                self.w -= w_grad\n",
    "                self.b -= b_grad\n",
    "                \n",
    "    def activation(self, z):\n",
    "        a = 1 / (1 + np.exp(-z))\n",
    "        return a\n",
    "    \n",
    "    def predict(self, x):\n",
    "        z = [self.forpass(x_i) for x_i in x]\n",
    "        a = self.activation(np.array(z))\n",
    "        return a > 0.5"
   ]
  },
  {
   "cell_type": "code",
   "execution_count": 26,
   "metadata": {
    "execution": {
     "iopub.execute_input": "2021-12-07T03:53:47.959780Z",
     "iopub.status.busy": "2021-12-07T03:53:47.959497Z",
     "iopub.status.idle": "2021-12-07T03:53:48.813269Z",
     "shell.execute_reply": "2021-12-07T03:53:48.812593Z",
     "shell.execute_reply.started": "2021-12-07T03:53:47.959730Z"
    }
   },
   "outputs": [
    {
     "name": "stderr",
     "output_type": "stream",
     "text": [
      "/Library/Frameworks/Python.framework/Versions/3.7/lib/python3.7/site-packages/ipykernel_launcher.py:31: RuntimeWarning: overflow encountered in exp\n"
     ]
    }
   ],
   "source": [
    "neuron = LogisticNeuron()\n",
    "neuron.fit(x_train, y_train)"
   ]
  },
  {
   "cell_type": "code",
   "execution_count": 28,
   "metadata": {
    "execution": {
     "iopub.execute_input": "2021-12-07T03:54:11.597237Z",
     "iopub.status.busy": "2021-12-07T03:54:11.596947Z",
     "iopub.status.idle": "2021-12-07T03:54:11.603403Z",
     "shell.execute_reply": "2021-12-07T03:54:11.602630Z",
     "shell.execute_reply.started": "2021-12-07T03:54:11.597213Z"
    }
   },
   "outputs": [
    {
     "name": "stderr",
     "output_type": "stream",
     "text": [
      "/Library/Frameworks/Python.framework/Versions/3.7/lib/python3.7/site-packages/ipykernel_launcher.py:31: RuntimeWarning: overflow encountered in exp\n"
     ]
    },
    {
     "data": {
      "text/plain": [
       "0.8245614035087719"
      ]
     },
     "execution_count": 28,
     "metadata": {},
     "output_type": "execute_result"
    }
   ],
   "source": [
    "np.mean(neuron.predict(x_test) == y_test)"
   ]
  },
  {
   "cell_type": "code",
   "execution_count": null,
   "metadata": {},
   "outputs": [],
   "source": []
  },
  {
   "cell_type": "code",
   "execution_count": 33,
   "metadata": {
    "execution": {
     "iopub.execute_input": "2021-12-07T04:03:55.238004Z",
     "iopub.status.busy": "2021-12-07T04:03:55.237703Z",
     "iopub.status.idle": "2021-12-07T04:03:55.248258Z",
     "shell.execute_reply": "2021-12-07T04:03:55.247337Z",
     "shell.execute_reply.started": "2021-12-07T04:03:55.237966Z"
    }
   },
   "outputs": [],
   "source": [
    "class SingleLayer:\n",
    "    \n",
    "    def __init__(self):\n",
    "        self.w = None\n",
    "        self.b = None\n",
    "        self.losses = []\n",
    "        \n",
    "    def forpass(self, x):\n",
    "        z = np.sum(x*self.w) + self.b\n",
    "        return z\n",
    "    \n",
    "    def backprop(self, x, err):\n",
    "        w_grad = x * err\n",
    "        b_grad = 1 * err\n",
    "        return w_grad, b_grad\n",
    "    \n",
    "    def activation(self, z):\n",
    "        a = 1 / (1 + np.exp(-z))\n",
    "        return a\n",
    "    \n",
    "    def fit(self, x, y, epochs=100):\n",
    "        self.w = np.ones(x.shape[1])\n",
    "        self.b = 0\n",
    "        \n",
    "        for i in range(epochs):\n",
    "            loss = 0\n",
    "            idxs = np.random.permutation(np.arange(len(x)))\n",
    "            \n",
    "            for i in idxs:\n",
    "                z = self.forpass(x[i])\n",
    "                a = self.activation(z)\n",
    "                err = -(y[i] - a)\n",
    "                w_grad, b_grad = self.backprop(x[i], err)\n",
    "                \n",
    "                self.w -= w_grad\n",
    "                self.b -= b_grad\n",
    "                \n",
    "                a = np.clip(a, 1e-10, 1-1e-10)\n",
    "                \n",
    "                loss += -(y[i]*np.log(a) + (1-y[i])*np.log(1-a))\n",
    "            self.losses.append(loss/len(y))\n",
    "            \n",
    "    def predict(self, x):\n",
    "        z = [self.forpass(x_i) for x_i in x]        \n",
    "        return np.array(z) > 0\n",
    "    \n",
    "    def score(self, x, y):\n",
    "        return np.mean(self.predict(x) == y)"
   ]
  },
  {
   "cell_type": "code",
   "execution_count": 34,
   "metadata": {
    "execution": {
     "iopub.execute_input": "2021-12-07T04:03:55.814347Z",
     "iopub.status.busy": "2021-12-07T04:03:55.814045Z",
     "iopub.status.idle": "2021-12-07T04:03:58.249750Z",
     "shell.execute_reply": "2021-12-07T04:03:58.248865Z",
     "shell.execute_reply.started": "2021-12-07T04:03:55.814310Z"
    }
   },
   "outputs": [
    {
     "name": "stderr",
     "output_type": "stream",
     "text": [
      "/Library/Frameworks/Python.framework/Versions/3.7/lib/python3.7/site-packages/ipykernel_launcher.py:18: RuntimeWarning: overflow encountered in exp\n"
     ]
    },
    {
     "data": {
      "text/plain": [
       "0.8333333333333334"
      ]
     },
     "execution_count": 34,
     "metadata": {},
     "output_type": "execute_result"
    }
   ],
   "source": [
    "layer = SingleLayer()\n",
    "layer.fit(x_train, y_train)\n",
    "layer.score(x_test, y_test)"
   ]
  },
  {
   "cell_type": "code",
   "execution_count": 35,
   "metadata": {
    "execution": {
     "iopub.execute_input": "2021-12-07T04:05:18.554422Z",
     "iopub.status.busy": "2021-12-07T04:05:18.553545Z",
     "iopub.status.idle": "2021-12-07T04:05:18.721960Z",
     "shell.execute_reply": "2021-12-07T04:05:18.721148Z",
     "shell.execute_reply.started": "2021-12-07T04:05:18.554368Z"
    }
   },
   "outputs": [
    {
     "data": {
      "text/plain": [
       "Text(0, 0.5, 'loss')"
      ]
     },
     "execution_count": 35,
     "metadata": {},
     "output_type": "execute_result"
    },
    {
     "data": {
      "image/png": "[encoded data removed]",
      "text/plain": [
       "<Figure size 432x288 with 1 Axes>"
      ]
     },
     "metadata": {
      "needs_background": "light"
     },
     "output_type": "display_data"
    }
   ],
   "source": [
    "plt.plot(layer.losses)\n",
    "plt.xlabel('epoch')\n",
    "plt.ylabel('loss')"
   ]
  },
  {
   "cell_type": "code",
   "execution_count": 36,
   "metadata": {
    "execution": {
     "iopub.execute_input": "2021-12-07T04:07:48.362720Z",
     "iopub.status.busy": "2021-12-07T04:07:48.362468Z",
     "iopub.status.idle": "2021-12-07T04:07:48.366116Z",
     "shell.execute_reply": "2021-12-07T04:07:48.365089Z",
     "shell.execute_reply.started": "2021-12-07T04:07:48.362696Z"
    }
   },
   "outputs": [],
   "source": [
    "from sklearn.linear_model import SGDClassifier"
   ]
  },
  {
   "cell_type": "code",
   "execution_count": 37,
   "metadata": {
    "execution": {
     "iopub.execute_input": "2021-12-07T04:08:02.687118Z",
     "iopub.status.busy": "2021-12-07T04:08:02.686808Z",
     "iopub.status.idle": "2021-12-07T04:08:02.690856Z",
     "shell.execute_reply": "2021-12-07T04:08:02.689947Z",
     "shell.execute_reply.started": "2021-12-07T04:08:02.687093Z"
    }
   },
   "outputs": [],
   "source": [
    "sgd = SGDClassifier(loss='log', max_iter=100, tol=1e-3, random_state=42)"
   ]
  },
  {
   "cell_type": "code",
   "execution_count": 39,
   "metadata": {
    "execution": {
     "iopub.execute_input": "2021-12-07T04:11:45.965451Z",
     "iopub.status.busy": "2021-12-07T04:11:45.965030Z",
     "iopub.status.idle": "2021-12-07T04:11:45.975302Z",
     "shell.execute_reply": "2021-12-07T04:11:45.974418Z",
     "shell.execute_reply.started": "2021-12-07T04:11:45.965421Z"
    }
   },
   "outputs": [
    {
     "data": {
      "text/plain": [
       "0.8333333333333334"
      ]
     },
     "execution_count": 39,
     "metadata": {},
     "output_type": "execute_result"
    }
   ],
   "source": [
    "sgd.fit(x_train, y_train)\n",
    "sgd.score(x_test, y_test)"
   ]
  },
  {
   "cell_type": "code",
   "execution_count": null,
   "metadata": {},
   "outputs": [],
   "source": []
  }
 ],
 "metadata": {
  "kernelspec": {
   "display_name": "Python 3",
   "language": "python",
   "name": "python3"
  },
  "language_info": {
   "codemirror_mode": {
    "name": "ipython",
    "version": 3
   },
   "file_extension": ".py",
   "mimetype": "text/x-python",
   "name": "python",
   "nbconvert_exporter": "python",
   "pygments_lexer": "ipython3",
   "version": "3.7.3"
  }
 },
 "nbformat": 4,
 "nbformat_minor": 4
}
