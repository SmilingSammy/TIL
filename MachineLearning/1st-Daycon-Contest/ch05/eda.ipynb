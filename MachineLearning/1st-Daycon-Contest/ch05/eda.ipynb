{
 "cells": [
  {
   "cell_type": "markdown",
   "metadata": {},
   "source": [
    "# 5. KBO 외국인 투수 스카우팅 최적화\n",
    "## 5.1. 문제 정의\n",
    "### 5.1.5. 분석환경 구축"
   ]
  },
  {
   "cell_type": "code",
   "execution_count": 1,
   "metadata": {},
   "outputs": [
    {
     "name": "stdout",
     "output_type": "stream",
     "text": [
      "3.3.2\n",
      "1.19.2\n",
      "1.1.0\n",
      "0.11.0\n",
      "0.12.0\n"
     ]
    }
   ],
   "source": [
    "import matplotlib\n",
    "import numpy as np\n",
    "import pandas as pd\n",
    "import seaborn as sns\n",
    "import statsmodels.api as sm\n",
    "print(matplotlib.__version__)\n",
    "print(np.__version__)\n",
    "print(pd.__version__)\n",
    "print(sns.__version__)\n",
    "print(sm.__version__)"
   ]
  },
  {
   "cell_type": "code",
   "execution_count": 2,
   "metadata": {},
   "outputs": [
    {
     "name": "stdout",
     "output_type": "stream",
     "text": [
      "Python 3.8.5\n"
     ]
    }
   ],
   "source": [
    "!python -V"
   ]
  },
  {
   "cell_type": "markdown",
   "metadata": {},
   "source": [
    "## 5.2. 탐색적 데이터 분석"
   ]
  },
  {
   "cell_type": "markdown",
   "metadata": {},
   "source": [
    "### 5.2.1.\tKBO/팬그래프 데이터에 기록된 야구 지표 분석"
   ]
  },
  {
   "cell_type": "code",
   "execution_count": 3,
   "metadata": {},
   "outputs": [],
   "source": [
    "import pandas as pd\n",
    "\n",
    "#데이터셋 불러오기 \n",
    "atKbo_11_18_KboRegSsn = pd.read_csv(\"data/kbo_yearly_foreigners_2011_2018.csv\")\n",
    "\n",
    "atKbo_11_18_MlbTot = pd.read_csv(\"data/fangraphs_foreigners_2011_2018.csv\")\n",
    "\n",
    "atKbo_19_MlbTot = pd.read_csv(\"data/fangraphs_foreigners_2019.csv\")\n"
   ]
  },
  {
   "cell_type": "code",
   "execution_count": 4,
   "metadata": {},
   "outputs": [
    {
     "name": "stdout",
     "output_type": "stream",
     "text": [
      "(105, 11)\n",
      "(205, 19)\n",
      "(41, 19)\n"
     ]
    }
   ],
   "source": [
    "print(atKbo_11_18_KboRegSsn.shape)\n",
    "print(atKbo_11_18_MlbTot.shape)\n",
    "print(atKbo_19_MlbTot.shape)"
   ]
  },
  {
   "cell_type": "code",
   "execution_count": 5,
   "metadata": {},
   "outputs": [
    {
     "name": "stdout",
     "output_type": "stream",
     "text": [
      "Index(['pitcher_name', 'year', 'team', 'ERA', 'TBF', 'H', 'HR', 'BB', 'HBP',\n",
      "       'SO', 'year_born'],\n",
      "      dtype='object')\n",
      "Index(['pitcher_name', 'year', 'ERA', 'WAR', 'TBF', 'H', 'HR', 'BB', 'HBP',\n",
      "       'SO', 'WHIP', 'BABIP', 'FIP', 'LD%', 'GB%', 'FB%', 'IFFB%', 'SwStr%',\n",
      "       'Swing%'],\n",
      "      dtype='object')\n",
      "Index(['pitcher_name', 'year', 'ERA', 'WAR', 'TBF', 'H', 'HR', 'BB', 'HBP',\n",
      "       'SO', 'WHIP', 'BABIP', 'FIP', 'LD%', 'GB%', 'FB%', 'IFFB%', 'SwStr%',\n",
      "       'Swing%'],\n",
      "      dtype='object')\n"
     ]
    }
   ],
   "source": [
    "print(atKbo_11_18_KboRegSsn.columns)\n",
    "print(atKbo_11_18_MlbTot.columns)\n",
    "print(atKbo_19_MlbTot.columns)"
   ]
  },
  {
   "cell_type": "code",
   "execution_count": 6,
   "metadata": {},
   "outputs": [
    {
     "name": "stdout",
     "output_type": "stream",
     "text": [
      "              ERA         TBF\n",
      "count  105.000000  105.000000\n",
      "mean     4.714286  558.980952\n",
      "std      1.733072  224.436816\n",
      "min      2.380000   40.000000\n",
      "25%      3.740000  349.000000\n",
      "50%      4.420000  622.000000\n",
      "75%      5.230000  758.000000\n",
      "max     15.750000  870.000000\n"
     ]
    },
    {
     "data": {
      "image/png": "[encoded data removed]",
      "text/plain": [
       "<Figure size 432x288 with 2 Axes>"
      ]
     },
     "metadata": {
      "needs_background": "light"
     },
     "output_type": "display_data"
    }
   ],
   "source": [
    "atKbo_11_18_KboRegSsn[['ERA', 'TBF']].hist()\n",
    "print(atKbo_11_18_KboRegSsn[['ERA', 'TBF']].describe())"
   ]
  },
  {
   "cell_type": "code",
   "execution_count": 7,
   "metadata": {},
   "outputs": [
    {
     "name": "stdout",
     "output_type": "stream",
     "text": [
      "              ERA         TBF\n",
      "count  205.000000  205.000000\n",
      "mean     5.750585  193.160976\n",
      "std      3.404285  186.000312\n",
      "min      0.000000    4.000000\n",
      "25%      4.050000   57.000000\n",
      "50%      5.200000  126.000000\n",
      "75%      6.750000  263.000000\n",
      "max     27.000000  827.000000\n"
     ]
    },
    {
     "data": {
      "image/png": "[encoded data removed]",
      "text/plain": [
       "<Figure size 432x288 with 2 Axes>"
      ]
     },
     "metadata": {
      "needs_background": "light"
     },
     "output_type": "display_data"
    }
   ],
   "source": [
    "atKbo_11_18_MlbTot[['ERA', 'TBF']].hist()\n",
    "print(atKbo_11_18_MlbTot[['ERA', 'TBF']].describe())"
   ]
  },
  {
   "cell_type": "code",
   "execution_count": 8,
   "metadata": {},
   "outputs": [
    {
     "data": {
      "text/html": [
       "<div>\n",
       "<style scoped>\n",
       "    .dataframe tbody tr th:only-of-type {\n",
       "        vertical-align: middle;\n",
       "    }\n",
       "\n",
       "    .dataframe tbody tr th {\n",
       "        vertical-align: top;\n",
       "    }\n",
       "\n",
       "    .dataframe thead th {\n",
       "        text-align: right;\n",
       "    }\n",
       "</style>\n",
       "<table border=\"1\" class=\"dataframe\">\n",
       "  <thead>\n",
       "    <tr style=\"text-align: right;\">\n",
       "      <th></th>\n",
       "      <th>pitcher_name</th>\n",
       "      <th>MLB_mean</th>\n",
       "      <th>KBO_mean</th>\n",
       "    </tr>\n",
       "  </thead>\n",
       "  <tbody>\n",
       "    <tr>\n",
       "      <th>0</th>\n",
       "      <td>니퍼트</td>\n",
       "      <td>4.290000</td>\n",
       "      <td>3.6875</td>\n",
       "    </tr>\n",
       "    <tr>\n",
       "      <th>1</th>\n",
       "      <td>다이아몬드</td>\n",
       "      <td>10.262500</td>\n",
       "      <td>4.4200</td>\n",
       "    </tr>\n",
       "    <tr>\n",
       "      <th>2</th>\n",
       "      <td>듀브론트</td>\n",
       "      <td>5.106667</td>\n",
       "      <td>4.9200</td>\n",
       "    </tr>\n",
       "    <tr>\n",
       "      <th>3</th>\n",
       "      <td>레나도</td>\n",
       "      <td>7.306667</td>\n",
       "      <td>6.8000</td>\n",
       "    </tr>\n",
       "    <tr>\n",
       "      <th>4</th>\n",
       "      <td>레온</td>\n",
       "      <td>6.050000</td>\n",
       "      <td>11.2500</td>\n",
       "    </tr>\n",
       "  </tbody>\n",
       "</table>\n",
       "</div>"
      ],
      "text/plain": [
       "  pitcher_name   MLB_mean  KBO_mean\n",
       "0          니퍼트   4.290000    3.6875\n",
       "1        다이아몬드  10.262500    4.4200\n",
       "2         듀브론트   5.106667    4.9200\n",
       "3          레나도   7.306667    6.8000\n",
       "4           레온   6.050000   11.2500"
      ]
     },
     "execution_count": 8,
     "metadata": {},
     "output_type": "execute_result"
    }
   ],
   "source": [
    "m_mean = (atKbo_11_18_MlbTot.groupby('pitcher_name')['ERA'].\n",
    "          mean().\n",
    "          reset_index().\n",
    "          rename(columns={'ERA':'MLB_mean'}))\n",
    "k_mean = (atKbo_11_18_KboRegSsn.groupby('pitcher_name')['ERA'].\n",
    "          mean().\n",
    "          reset_index().\n",
    "          rename(columns={'ERA':'KBO_mean'}))\n",
    "\n",
    "df = pd.merge(m_mean, k_mean, how = 'inner', on= 'pitcher_name')\n",
    "\n",
    "df.head()"
   ]
  },
  {
   "cell_type": "code",
   "execution_count": 9,
   "metadata": {
    "scrolled": true
   },
   "outputs": [
    {
     "name": "stdout",
     "output_type": "stream",
     "text": [
      "          MLB_mean  KBO_mean\n",
      "MLB_mean  1.000000  0.107744\n",
      "KBO_mean  0.107744  1.000000\n"
     ]
    },
    {
     "data": {
      "image/png": "[encoded data removed]",
      "text/plain": [
       "<Figure size 432x288 with 1 Axes>"
      ]
     },
     "metadata": {
      "needs_background": "light"
     },
     "output_type": "display_data"
    }
   ],
   "source": [
    "df.plot(kind = 'scatter', x = 'MLB_mean', y = 'KBO_mean')\n",
    "print(df.corr())"
   ]
  },
  {
   "cell_type": "markdown",
   "metadata": {},
   "source": [
    "### 5.2.2.\t스탯캐스트 데이터에 기록된 야구 지표 분석 "
   ]
  },
  {
   "cell_type": "code",
   "execution_count": 10,
   "metadata": {},
   "outputs": [
    {
     "name": "stdout",
     "output_type": "stream",
     "text": [
      "(135753, 24)\n",
      "(21903, 24)\n"
     ]
    }
   ],
   "source": [
    "atKbo_11_18_StatCast = pd.read_csv(\"data/baseball_savant_foreigners_2011_2018.csv\")\n",
    "\n",
    "atKbo_19_StatCast = pd.read_csv(\"data/baseball_savant_foreigners_2019.csv\")\n",
    "\n",
    "print(atKbo_11_18_StatCast.shape)\n",
    "print(atKbo_19_StatCast.shape)"
   ]
  },
  {
   "cell_type": "code",
   "execution_count": 11,
   "metadata": {},
   "outputs": [
    {
     "name": "stdout",
     "output_type": "stream",
     "text": [
      "Index(['game_date', 'release_speed', 'batter', 'pitcher', 'events',\n",
      "       'description', 'zone', 'stand', 'p_throws', 'bb_type', 'balls',\n",
      "       'strikes', 'pfx_x', 'pfx_z', 'plate_x', 'plate_z', 'ax', 'ay', 'az',\n",
      "       'launch_speed', 'launch_angle', 'release_spin_rate', 'pitch_name',\n",
      "       'pitcher_name'],\n",
      "      dtype='object')\n",
      "Index(['game_date', 'release_speed', 'batter', 'pitcher', 'events',\n",
      "       'description', 'zone', 'stand', 'p_throws', 'bb_type', 'balls',\n",
      "       'strikes', 'pfx_x', 'pfx_z', 'plate_x', 'plate_z', 'ax', 'ay', 'az',\n",
      "       'launch_speed', 'launch_angle', 'release_spin_rate', 'pitch_name',\n",
      "       'pitcher_name'],\n",
      "      dtype='object')\n"
     ]
    }
   ],
   "source": [
    "print(atKbo_11_18_StatCast.columns)\n",
    "print(atKbo_19_StatCast.columns)"
   ]
  },
  {
   "cell_type": "code",
   "execution_count": 12,
   "metadata": {},
   "outputs": [
    {
     "data": {
      "text/html": [
       "<div>\n",
       "<style scoped>\n",
       "    .dataframe tbody tr th:only-of-type {\n",
       "        vertical-align: middle;\n",
       "    }\n",
       "\n",
       "    .dataframe tbody tr th {\n",
       "        vertical-align: top;\n",
       "    }\n",
       "\n",
       "    .dataframe thead th {\n",
       "        text-align: right;\n",
       "    }\n",
       "</style>\n",
       "<table border=\"1\" class=\"dataframe\">\n",
       "  <thead>\n",
       "    <tr style=\"text-align: right;\">\n",
       "      <th></th>\n",
       "      <th>events</th>\n",
       "      <th>description</th>\n",
       "      <th>pitch_name</th>\n",
       "    </tr>\n",
       "  </thead>\n",
       "  <tbody>\n",
       "    <tr>\n",
       "      <th>0</th>\n",
       "      <td>field_out</td>\n",
       "      <td>hit_into_play</td>\n",
       "      <td>4-Seam Fastball</td>\n",
       "    </tr>\n",
       "    <tr>\n",
       "      <th>1</th>\n",
       "      <td>home_run</td>\n",
       "      <td>hit_into_play_score</td>\n",
       "      <td>4-Seam Fastball</td>\n",
       "    </tr>\n",
       "    <tr>\n",
       "      <th>2</th>\n",
       "      <td>NaN</td>\n",
       "      <td>foul</td>\n",
       "      <td>4-Seam Fastball</td>\n",
       "    </tr>\n",
       "    <tr>\n",
       "      <th>3</th>\n",
       "      <td>NaN</td>\n",
       "      <td>blocked_ball</td>\n",
       "      <td>4-Seam Fastball</td>\n",
       "    </tr>\n",
       "    <tr>\n",
       "      <th>4</th>\n",
       "      <td>NaN</td>\n",
       "      <td>ball</td>\n",
       "      <td>4-Seam Fastball</td>\n",
       "    </tr>\n",
       "    <tr>\n",
       "      <th>...</th>\n",
       "      <td>...</td>\n",
       "      <td>...</td>\n",
       "      <td>...</td>\n",
       "    </tr>\n",
       "    <tr>\n",
       "      <th>135748</th>\n",
       "      <td>NaN</td>\n",
       "      <td>ball</td>\n",
       "      <td>4-Seam Fastball</td>\n",
       "    </tr>\n",
       "    <tr>\n",
       "      <th>135749</th>\n",
       "      <td>field_out</td>\n",
       "      <td>hit_into_play</td>\n",
       "      <td>Cutter</td>\n",
       "    </tr>\n",
       "    <tr>\n",
       "      <th>135750</th>\n",
       "      <td>NaN</td>\n",
       "      <td>called_strike</td>\n",
       "      <td>Cutter</td>\n",
       "    </tr>\n",
       "    <tr>\n",
       "      <th>135751</th>\n",
       "      <td>NaN</td>\n",
       "      <td>ball</td>\n",
       "      <td>4-Seam Fastball</td>\n",
       "    </tr>\n",
       "    <tr>\n",
       "      <th>135752</th>\n",
       "      <td>NaN</td>\n",
       "      <td>ball</td>\n",
       "      <td>4-Seam Fastball</td>\n",
       "    </tr>\n",
       "  </tbody>\n",
       "</table>\n",
       "<p>135753 rows × 3 columns</p>\n",
       "</div>"
      ],
      "text/plain": [
       "           events          description       pitch_name\n",
       "0       field_out        hit_into_play  4-Seam Fastball\n",
       "1        home_run  hit_into_play_score  4-Seam Fastball\n",
       "2             NaN                 foul  4-Seam Fastball\n",
       "3             NaN         blocked_ball  4-Seam Fastball\n",
       "4             NaN                 ball  4-Seam Fastball\n",
       "...           ...                  ...              ...\n",
       "135748        NaN                 ball  4-Seam Fastball\n",
       "135749  field_out        hit_into_play           Cutter\n",
       "135750        NaN        called_strike           Cutter\n",
       "135751        NaN                 ball  4-Seam Fastball\n",
       "135752        NaN                 ball  4-Seam Fastball\n",
       "\n",
       "[135753 rows x 3 columns]"
      ]
     },
     "execution_count": 12,
     "metadata": {},
     "output_type": "execute_result"
    }
   ],
   "source": [
    "atKbo_11_18_StatCast[['events', 'description', 'pitch_name']]"
   ]
  },
  {
   "cell_type": "code",
   "execution_count": 13,
   "metadata": {},
   "outputs": [
    {
     "data": {
      "text/plain": [
       "<AxesSubplot:>"
      ]
     },
     "execution_count": 13,
     "metadata": {},
     "output_type": "execute_result"
    },
    {
     "data": {
      "image/png": "[encoded data removed]",
      "text/plain": [
       "<Figure size 576x576 with 1 Axes>"
      ]
     },
     "metadata": {
      "needs_background": "light"
     },
     "output_type": "display_data"
    }
   ],
   "source": [
    "(atKbo_11_18_StatCast['events'].\n",
    " value_counts().\n",
    " sort_values(ascending = True).\n",
    " plot(kind = 'barh', figsize=(8, 8)))"
   ]
  },
  {
   "cell_type": "code",
   "execution_count": 14,
   "metadata": {},
   "outputs": [
    {
     "data": {
      "text/plain": [
       "<AxesSubplot:>"
      ]
     },
     "execution_count": 14,
     "metadata": {},
     "output_type": "execute_result"
    },
    {
     "data": {
      "image/png": "[encoded data removed]",
      "text/plain": [
       "<Figure size 576x576 with 1 Axes>"
      ]
     },
     "metadata": {
      "needs_background": "light"
     },
     "output_type": "display_data"
    }
   ],
   "source": [
    "(atKbo_11_18_StatCast['description'].\n",
    " value_counts().\n",
    " sort_values(ascending = True).\n",
    " plot(kind = 'barh', figsize=(8, 8)))"
   ]
  },
  {
   "cell_type": "code",
   "execution_count": 15,
   "metadata": {},
   "outputs": [
    {
     "data": {
      "text/plain": [
       "<AxesSubplot:>"
      ]
     },
     "execution_count": 15,
     "metadata": {},
     "output_type": "execute_result"
    },
    {
     "data": {
      "image/png": "[encoded data removed]",
      "text/plain": [
       "<Figure size 576x576 with 1 Axes>"
      ]
     },
     "metadata": {
      "needs_background": "light"
     },
     "output_type": "display_data"
    }
   ],
   "source": [
    "(atKbo_11_18_StatCast['pitch_name'].\n",
    " value_counts().\n",
    " sort_values(ascending = True).\n",
    " plot(kind = 'barh', figsize=(8, 8)))"
   ]
  }
 ],
 "metadata": {
  "kernelspec": {
   "display_name": "Python 3",
   "language": "python",
   "name": "python3"
  },
  "language_info": {
   "codemirror_mode": {
    "name": "ipython",
    "version": 3
   },
   "file_extension": ".py",
   "mimetype": "text/x-python",
   "name": "python",
   "nbconvert_exporter": "python",
   "pygments_lexer": "ipython3",
   "version": "3.8.5"
  },
  "toc": {
   "base_numbering": 1,
   "nav_menu": {},
   "number_sections": true,
   "sideBar": true,
   "skip_h1_title": false,
   "title_cell": "Table of Contents",
   "title_sidebar": "Contents",
   "toc_cell": false,
   "toc_position": {},
   "toc_section_display": true,
   "toc_window_display": false
  },
  "varInspector": {
   "cols": {
    "lenName": 16,
    "lenType": 16,
    "lenVar": 40
   },
   "kernels_config": {
    "python": {
     "delete_cmd_postfix": "",
     "delete_cmd_prefix": "del ",
     "library": "var_list.py",
     "varRefreshCmd": "print(var_dic_list())"
    },
    "r": {
     "delete_cmd_postfix": ") ",
     "delete_cmd_prefix": "rm(",
     "library": "var_list.r",
     "varRefreshCmd": "cat(var_dic_list()) "
    }
   },
   "types_to_exclude": [
    "module",
    "function",
    "builtin_function_or_method",
    "instance",
    "_Feature"
   ],
   "window_display": false
  }
 },
 "nbformat": 4,
 "nbformat_minor": 4
}
