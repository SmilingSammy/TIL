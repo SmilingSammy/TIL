{
 "cells": [
  {
   "cell_type": "code",
   "execution_count": 1,
   "metadata": {},
   "outputs": [
    {
     "name": "stdout",
     "output_type": "stream",
     "text": [
      "(810000, 230)\n"
     ]
    }
   ],
   "source": [
    "from itertools import chain\n",
    "import numpy as np\n",
    "import pandas as pd\n",
    "\n",
    "\"\"\"\n",
    "원래 제공된 학습 데이터셋에서 일정 비율을 검증 데이터셋으로 나누어 다시 저장합니다.\n",
    "train.csv에 있는 데이터를 분할하여 학습 데이터는 train_splited.csv 파일에 저장하고\n",
    "검증 데이터는 val.csv 파일에 저장합니다.\n",
    "\"\"\"\n",
    "path_train = '../data/train.csv'\n",
    "\n",
    "# 데이터를 섞어 다시 저장 시 인덱스 재정렬을 위한 작업을 진행합니다.\n",
    "layers = [['layer_1','layer_2','layer_3','layer_4'], \\\n",
    "          [str(i) for i in np.arange(0,226).tolist()]]\n",
    "layers = list(chain(*layers))\n",
    "\n",
    "# train의 row를 random으로 섞어줍니다.\n",
    "train = pd.read_csv(path_train)\n",
    "print(train.shape)\n",
    "train = train.sample(frac=1)\n",
    "rows, cols = train.shape"
   ]
  },
  {
   "cell_type": "code",
   "execution_count": 2,
   "metadata": {},
   "outputs": [
    {
     "name": "stdout",
     "output_type": "stream",
     "text": [
      "train file saved....\n"
     ]
    }
   ],
   "source": [
    "# 학습 데이터에서 일정 비율(13%)을 잘라 검증 데이터로 구성한 후 저장합니다.\n",
    "train1 = train.iloc[:rows - 80000,:]\n",
    "train1 = train1.values\n",
    "train1 = pd.DataFrame(data=train1,columns=layers)\n",
    "\n",
    "# 판다스 라이브러리의 to_csv() 함수를 사용해 CSV 파일로 학습 데이터를 저장합니다.\n",
    "train1.to_csv('../data/train_splited.csv', index_label='id')\n",
    "print(\"train file saved....\")"
   ]
  },
  {
   "cell_type": "code",
   "execution_count": 3,
   "metadata": {},
   "outputs": [
    {
     "name": "stdout",
     "output_type": "stream",
     "text": [
      "validation file saved....\n"
     ]
    }
   ],
   "source": [
    "# 마찬가지로 나머지 부분은 검증 데이터를 CSV 파일로 저장합니다.\n",
    "val = train.iloc[rows - 80000:,:]\n",
    "val = val.values\n",
    "val = pd.DataFrame(data=val,columns=layers)\n",
    "val.to_csv('../data/val.csv', index_label='id')\n",
    "print(\"validation file saved....\")"
   ]
  }
 ],
 "metadata": {
  "kernelspec": {
   "display_name": "Python 3",
   "language": "python",
   "name": "python3"
  },
  "language_info": {
   "codemirror_mode": {
    "name": "ipython",
    "version": 3
   },
   "file_extension": ".py",
   "mimetype": "text/x-python",
   "name": "python",
   "nbconvert_exporter": "python",
   "pygments_lexer": "ipython3",
   "version": "3.8.5"
  }
 },
 "nbformat": 4,
 "nbformat_minor": 2
}
