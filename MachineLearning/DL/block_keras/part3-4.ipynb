{
 "cells": [
  {
   "cell_type": "code",
   "execution_count": 1,
   "metadata": {
    "execution": {
     "iopub.execute_input": "2021-12-16T07:34:25.707160Z",
     "iopub.status.busy": "2021-12-16T07:34:25.706868Z",
     "iopub.status.idle": "2021-12-16T07:34:27.721617Z",
     "shell.execute_reply": "2021-12-16T07:34:27.720857Z",
     "shell.execute_reply.started": "2021-12-16T07:34:25.707100Z"
    }
   },
   "outputs": [],
   "source": [
    "import numpy as np\n",
    "from keras.models import Sequential\n",
    "from keras.layers import Dense\n",
    "from keras.layers import Flatten\n",
    "from keras.layers.convolutional import Conv2D\n",
    "from keras.layers.convolutional import MaxPooling2D\n",
    "from keras.preprocessing.image import ImageDataGenerator\n",
    "\n",
    "# 랜덤시드 고정시키기\n",
    "np.random.seed(3)"
   ]
  },
  {
   "cell_type": "code",
   "execution_count": 2,
   "metadata": {
    "execution": {
     "iopub.execute_input": "2021-12-16T07:34:36.602164Z",
     "iopub.status.busy": "2021-12-16T07:34:36.601834Z",
     "iopub.status.idle": "2021-12-16T07:34:36.817862Z",
     "shell.execute_reply": "2021-12-16T07:34:36.817106Z",
     "shell.execute_reply.started": "2021-12-16T07:34:36.602141Z"
    }
   },
   "outputs": [
    {
     "name": "stdout",
     "output_type": "stream",
     "text": [
      "Found 45 images belonging to 3 classes.\n",
      "Found 15 images belonging to 3 classes.\n"
     ]
    }
   ],
   "source": [
    "train_datagen = ImageDataGenerator(rescale=1./255)\n",
    "\n",
    "train_generator = train_datagen.flow_from_directory(\n",
    "        './handwriting_shape/train',\n",
    "        target_size=(24, 24),\n",
    "        batch_size=3,\n",
    "        class_mode='categorical')\n",
    "\n",
    "test_datagen = ImageDataGenerator(rescale=1./255)\n",
    "\n",
    "test_generator = test_datagen.flow_from_directory(\n",
    "        './handwriting_shape/test',\n",
    "        target_size=(24, 24),    \n",
    "        batch_size=3,\n",
    "        class_mode='categorical')"
   ]
  },
  {
   "cell_type": "code",
   "execution_count": 4,
   "metadata": {
    "execution": {
     "iopub.execute_input": "2021-12-16T07:35:00.388076Z",
     "iopub.status.busy": "2021-12-16T07:35:00.387733Z",
     "iopub.status.idle": "2021-12-16T07:35:00.462982Z",
     "shell.execute_reply": "2021-12-16T07:35:00.462306Z",
     "shell.execute_reply.started": "2021-12-16T07:35:00.388050Z"
    }
   },
   "outputs": [],
   "source": [
    "model = Sequential()\n",
    "model.add(Conv2D(32, kernel_size=(3, 3),\n",
    "                 activation='relu',\n",
    "                 input_shape=(24,24,3)))\n",
    "model.add(Conv2D(64, (3, 3), activation='relu'))\n",
    "model.add(MaxPooling2D(pool_size=(2, 2)))\n",
    "model.add(Flatten())\n",
    "model.add(Dense(128, activation='relu'))\n",
    "model.add(Dense(3, activation='softmax'))"
   ]
  },
  {
   "cell_type": "code",
   "execution_count": 5,
   "metadata": {
    "execution": {
     "iopub.execute_input": "2021-12-16T07:35:11.251371Z",
     "iopub.status.busy": "2021-12-16T07:35:11.251108Z",
     "iopub.status.idle": "2021-12-16T07:35:11.685422Z",
     "shell.execute_reply": "2021-12-16T07:35:11.684400Z",
     "shell.execute_reply.started": "2021-12-16T07:35:11.251347Z"
    }
   },
   "outputs": [
    {
     "data": {
      "image/svg+xml": [
       "<svg height=\"499pt\" viewBox=\"0.00 0.00 375.00 553.00\" width=\"339pt\" xmlns=\"http://www.w3.org/2000/svg\" xmlns:xlink=\"http://www.w3.org/1999/xlink\">\n",
       "<g class=\"graph\" id=\"graph0\" transform=\"scale(0.9 0.9) rotate(0) translate(4 549)\">\n",
       "<title>G</title>\n",
       "<polygon fill=\"white\" points=\"-4,4 -4,-549 371,-549 371,4 -4,4\" stroke=\"transparent\"/>\n",
       "<!-- 140240911742456 -->\n",
       "<g class=\"node\" id=\"node1\">\n",
       "<title>140240911742456</title>\n",
       "<polygon fill=\"none\" points=\"17,-498.5 17,-544.5 350,-544.5 350,-498.5 17,-498.5\" stroke=\"black\"/>\n",
       "<text font-family=\"Times,serif\" font-size=\"14.00\" text-anchor=\"middle\" x=\"96\" y=\"-517.8\">conv2d_input: InputLayer</text>\n",
       "<polyline fill=\"none\" points=\"175,-498.5 175,-544.5 \" stroke=\"black\"/>\n",
       "<text font-family=\"Times,serif\" font-size=\"14.00\" text-anchor=\"middle\" x=\"202.5\" y=\"-529.3\">input:</text>\n",
       "<polyline fill=\"none\" points=\"175,-521.5 230,-521.5 \" stroke=\"black\"/>\n",
       "<text font-family=\"Times,serif\" font-size=\"14.00\" text-anchor=\"middle\" x=\"202.5\" y=\"-506.3\">output:</text>\n",
       "<polyline fill=\"none\" points=\"230,-498.5 230,-544.5 \" stroke=\"black\"/>\n",
       "<text font-family=\"Times,serif\" font-size=\"14.00\" text-anchor=\"middle\" x=\"290\" y=\"-529.3\">[(None, 24, 24, 3)]</text>\n",
       "<polyline fill=\"none\" points=\"230,-521.5 350,-521.5 \" stroke=\"black\"/>\n",
       "<text font-family=\"Times,serif\" font-size=\"14.00\" text-anchor=\"middle\" x=\"290\" y=\"-506.3\">[(None, 24, 24, 3)]</text>\n",
       "</g>\n",
       "<!-- 140240911743968 -->\n",
       "<g class=\"node\" id=\"node2\">\n",
       "<title>140240911743968</title>\n",
       "<polygon fill=\"none\" points=\"42,-415.5 42,-461.5 325,-461.5 325,-415.5 42,-415.5\" stroke=\"black\"/>\n",
       "<text font-family=\"Times,serif\" font-size=\"14.00\" text-anchor=\"middle\" x=\"97\" y=\"-434.8\">conv2d: Conv2D</text>\n",
       "<polyline fill=\"none\" points=\"152,-415.5 152,-461.5 \" stroke=\"black\"/>\n",
       "<text font-family=\"Times,serif\" font-size=\"14.00\" text-anchor=\"middle\" x=\"179.5\" y=\"-446.3\">input:</text>\n",
       "<polyline fill=\"none\" points=\"152,-438.5 207,-438.5 \" stroke=\"black\"/>\n",
       "<text font-family=\"Times,serif\" font-size=\"14.00\" text-anchor=\"middle\" x=\"179.5\" y=\"-423.3\">output:</text>\n",
       "<polyline fill=\"none\" points=\"207,-415.5 207,-461.5 \" stroke=\"black\"/>\n",
       "<text font-family=\"Times,serif\" font-size=\"14.00\" text-anchor=\"middle\" x=\"266\" y=\"-446.3\">(None, 24, 24, 3)</text>\n",
       "<polyline fill=\"none\" points=\"207,-438.5 325,-438.5 \" stroke=\"black\"/>\n",
       "<text font-family=\"Times,serif\" font-size=\"14.00\" text-anchor=\"middle\" x=\"266\" y=\"-423.3\">(None, 22, 22, 32)</text>\n",
       "</g>\n",
       "<!-- 140240911742456&#45;&gt;140240911743968 -->\n",
       "<g class=\"edge\" id=\"edge1\">\n",
       "<title>140240911742456-&gt;140240911743968</title>\n",
       "<path d=\"M183.5,-498.37C183.5,-490.15 183.5,-480.66 183.5,-471.73\" fill=\"none\" stroke=\"black\"/>\n",
       "<polygon fill=\"black\" points=\"187,-471.61 183.5,-461.61 180,-471.61 187,-471.61\" stroke=\"black\"/>\n",
       "</g>\n",
       "<!-- 140240911709408 -->\n",
       "<g class=\"node\" id=\"node3\">\n",
       "<title>140240911709408</title>\n",
       "<polygon fill=\"none\" points=\"35.5,-332.5 35.5,-378.5 331.5,-378.5 331.5,-332.5 35.5,-332.5\" stroke=\"black\"/>\n",
       "<text font-family=\"Times,serif\" font-size=\"14.00\" text-anchor=\"middle\" x=\"97\" y=\"-351.8\">conv2d_1: Conv2D</text>\n",
       "<polyline fill=\"none\" points=\"158.5,-332.5 158.5,-378.5 \" stroke=\"black\"/>\n",
       "<text font-family=\"Times,serif\" font-size=\"14.00\" text-anchor=\"middle\" x=\"186\" y=\"-363.3\">input:</text>\n",
       "<polyline fill=\"none\" points=\"158.5,-355.5 213.5,-355.5 \" stroke=\"black\"/>\n",
       "<text font-family=\"Times,serif\" font-size=\"14.00\" text-anchor=\"middle\" x=\"186\" y=\"-340.3\">output:</text>\n",
       "<polyline fill=\"none\" points=\"213.5,-332.5 213.5,-378.5 \" stroke=\"black\"/>\n",
       "<text font-family=\"Times,serif\" font-size=\"14.00\" text-anchor=\"middle\" x=\"272.5\" y=\"-363.3\">(None, 22, 22, 32)</text>\n",
       "<polyline fill=\"none\" points=\"213.5,-355.5 331.5,-355.5 \" stroke=\"black\"/>\n",
       "<text font-family=\"Times,serif\" font-size=\"14.00\" text-anchor=\"middle\" x=\"272.5\" y=\"-340.3\">(None, 20, 20, 64)</text>\n",
       "</g>\n",
       "<!-- 140240911743968&#45;&gt;140240911709408 -->\n",
       "<g class=\"edge\" id=\"edge2\">\n",
       "<title>140240911743968-&gt;140240911709408</title>\n",
       "<path d=\"M183.5,-415.37C183.5,-407.15 183.5,-397.66 183.5,-388.73\" fill=\"none\" stroke=\"black\"/>\n",
       "<polygon fill=\"black\" points=\"187,-388.61 183.5,-378.61 180,-388.61 187,-388.61\" stroke=\"black\"/>\n",
       "</g>\n",
       "<!-- 140240638855096 -->\n",
       "<g class=\"node\" id=\"node4\">\n",
       "<title>140240638855096</title>\n",
       "<polygon fill=\"none\" points=\"0,-249.5 0,-295.5 367,-295.5 367,-249.5 0,-249.5\" stroke=\"black\"/>\n",
       "<text font-family=\"Times,serif\" font-size=\"14.00\" text-anchor=\"middle\" x=\"97\" y=\"-268.8\">max_pooling2d: MaxPooling2D</text>\n",
       "<polyline fill=\"none\" points=\"194,-249.5 194,-295.5 \" stroke=\"black\"/>\n",
       "<text font-family=\"Times,serif\" font-size=\"14.00\" text-anchor=\"middle\" x=\"221.5\" y=\"-280.3\">input:</text>\n",
       "<polyline fill=\"none\" points=\"194,-272.5 249,-272.5 \" stroke=\"black\"/>\n",
       "<text font-family=\"Times,serif\" font-size=\"14.00\" text-anchor=\"middle\" x=\"221.5\" y=\"-257.3\">output:</text>\n",
       "<polyline fill=\"none\" points=\"249,-249.5 249,-295.5 \" stroke=\"black\"/>\n",
       "<text font-family=\"Times,serif\" font-size=\"14.00\" text-anchor=\"middle\" x=\"308\" y=\"-280.3\">(None, 20, 20, 64)</text>\n",
       "<polyline fill=\"none\" points=\"249,-272.5 367,-272.5 \" stroke=\"black\"/>\n",
       "<text font-family=\"Times,serif\" font-size=\"14.00\" text-anchor=\"middle\" x=\"308\" y=\"-257.3\">(None, 10, 10, 64)</text>\n",
       "</g>\n",
       "<!-- 140240911709408&#45;&gt;140240638855096 -->\n",
       "<g class=\"edge\" id=\"edge3\">\n",
       "<title>140240911709408-&gt;140240638855096</title>\n",
       "<path d=\"M183.5,-332.37C183.5,-324.15 183.5,-314.66 183.5,-305.73\" fill=\"none\" stroke=\"black\"/>\n",
       "<polygon fill=\"black\" points=\"187,-305.61 183.5,-295.61 180,-305.61 187,-305.61\" stroke=\"black\"/>\n",
       "</g>\n",
       "<!-- 140240638855040 -->\n",
       "<g class=\"node\" id=\"node5\">\n",
       "<title>140240638855040</title>\n",
       "<polygon fill=\"none\" points=\"49.5,-166.5 49.5,-212.5 317.5,-212.5 317.5,-166.5 49.5,-166.5\" stroke=\"black\"/>\n",
       "<text font-family=\"Times,serif\" font-size=\"14.00\" text-anchor=\"middle\" x=\"97\" y=\"-185.8\">flatten: Flatten</text>\n",
       "<polyline fill=\"none\" points=\"144.5,-166.5 144.5,-212.5 \" stroke=\"black\"/>\n",
       "<text font-family=\"Times,serif\" font-size=\"14.00\" text-anchor=\"middle\" x=\"172\" y=\"-197.3\">input:</text>\n",
       "<polyline fill=\"none\" points=\"144.5,-189.5 199.5,-189.5 \" stroke=\"black\"/>\n",
       "<text font-family=\"Times,serif\" font-size=\"14.00\" text-anchor=\"middle\" x=\"172\" y=\"-174.3\">output:</text>\n",
       "<polyline fill=\"none\" points=\"199.5,-166.5 199.5,-212.5 \" stroke=\"black\"/>\n",
       "<text font-family=\"Times,serif\" font-size=\"14.00\" text-anchor=\"middle\" x=\"258.5\" y=\"-197.3\">(None, 10, 10, 64)</text>\n",
       "<polyline fill=\"none\" points=\"199.5,-189.5 317.5,-189.5 \" stroke=\"black\"/>\n",
       "<text font-family=\"Times,serif\" font-size=\"14.00\" text-anchor=\"middle\" x=\"258.5\" y=\"-174.3\">(None, 6400)</text>\n",
       "</g>\n",
       "<!-- 140240638855096&#45;&gt;140240638855040 -->\n",
       "<g class=\"edge\" id=\"edge4\">\n",
       "<title>140240638855096-&gt;140240638855040</title>\n",
       "<path d=\"M183.5,-249.37C183.5,-241.15 183.5,-231.66 183.5,-222.73\" fill=\"none\" stroke=\"black\"/>\n",
       "<polygon fill=\"black\" points=\"187,-222.61 183.5,-212.61 180,-222.61 187,-222.61\" stroke=\"black\"/>\n",
       "</g>\n",
       "<!-- 140240911742680 -->\n",
       "<g class=\"node\" id=\"node6\">\n",
       "<title>140240911742680</title>\n",
       "<polygon fill=\"none\" points=\"67,-83.5 67,-129.5 300,-129.5 300,-83.5 67,-83.5\" stroke=\"black\"/>\n",
       "<text font-family=\"Times,serif\" font-size=\"14.00\" text-anchor=\"middle\" x=\"111.5\" y=\"-102.8\">dense: Dense</text>\n",
       "<polyline fill=\"none\" points=\"156,-83.5 156,-129.5 \" stroke=\"black\"/>\n",
       "<text font-family=\"Times,serif\" font-size=\"14.00\" text-anchor=\"middle\" x=\"183.5\" y=\"-114.3\">input:</text>\n",
       "<polyline fill=\"none\" points=\"156,-106.5 211,-106.5 \" stroke=\"black\"/>\n",
       "<text font-family=\"Times,serif\" font-size=\"14.00\" text-anchor=\"middle\" x=\"183.5\" y=\"-91.3\">output:</text>\n",
       "<polyline fill=\"none\" points=\"211,-83.5 211,-129.5 \" stroke=\"black\"/>\n",
       "<text font-family=\"Times,serif\" font-size=\"14.00\" text-anchor=\"middle\" x=\"255.5\" y=\"-114.3\">(None, 6400)</text>\n",
       "<polyline fill=\"none\" points=\"211,-106.5 300,-106.5 \" stroke=\"black\"/>\n",
       "<text font-family=\"Times,serif\" font-size=\"14.00\" text-anchor=\"middle\" x=\"255.5\" y=\"-91.3\">(None, 128)</text>\n",
       "</g>\n",
       "<!-- 140240638855040&#45;&gt;140240911742680 -->\n",
       "<g class=\"edge\" id=\"edge5\">\n",
       "<title>140240638855040-&gt;140240911742680</title>\n",
       "<path d=\"M183.5,-166.37C183.5,-158.15 183.5,-148.66 183.5,-139.73\" fill=\"none\" stroke=\"black\"/>\n",
       "<polygon fill=\"black\" points=\"187,-139.61 183.5,-129.61 180,-139.61 187,-139.61\" stroke=\"black\"/>\n",
       "</g>\n",
       "<!-- 140240911693136 -->\n",
       "<g class=\"node\" id=\"node7\">\n",
       "<title>140240911693136</title>\n",
       "<polygon fill=\"none\" points=\"63.5,-0.5 63.5,-46.5 303.5,-46.5 303.5,-0.5 63.5,-0.5\" stroke=\"black\"/>\n",
       "<text font-family=\"Times,serif\" font-size=\"14.00\" text-anchor=\"middle\" x=\"114.5\" y=\"-19.8\">dense_1: Dense</text>\n",
       "<polyline fill=\"none\" points=\"165.5,-0.5 165.5,-46.5 \" stroke=\"black\"/>\n",
       "<text font-family=\"Times,serif\" font-size=\"14.00\" text-anchor=\"middle\" x=\"193\" y=\"-31.3\">input:</text>\n",
       "<polyline fill=\"none\" points=\"165.5,-23.5 220.5,-23.5 \" stroke=\"black\"/>\n",
       "<text font-family=\"Times,serif\" font-size=\"14.00\" text-anchor=\"middle\" x=\"193\" y=\"-8.3\">output:</text>\n",
       "<polyline fill=\"none\" points=\"220.5,-0.5 220.5,-46.5 \" stroke=\"black\"/>\n",
       "<text font-family=\"Times,serif\" font-size=\"14.00\" text-anchor=\"middle\" x=\"262\" y=\"-31.3\">(None, 128)</text>\n",
       "<polyline fill=\"none\" points=\"220.5,-23.5 303.5,-23.5 \" stroke=\"black\"/>\n",
       "<text font-family=\"Times,serif\" font-size=\"14.00\" text-anchor=\"middle\" x=\"262\" y=\"-8.3\">(None, 3)</text>\n",
       "</g>\n",
       "<!-- 140240911742680&#45;&gt;140240911693136 -->\n",
       "<g class=\"edge\" id=\"edge6\">\n",
       "<title>140240911742680-&gt;140240911693136</title>\n",
       "<path d=\"M183.5,-83.37C183.5,-75.15 183.5,-65.66 183.5,-56.73\" fill=\"none\" stroke=\"black\"/>\n",
       "<polygon fill=\"black\" points=\"187,-56.61 183.5,-46.61 180,-56.61 187,-56.61\" stroke=\"black\"/>\n",
       "</g>\n",
       "</g>\n",
       "</svg>"
      ],
      "text/plain": [
       "<IPython.core.display.SVG object>"
      ]
     },
     "execution_count": 5,
     "metadata": {},
     "output_type": "execute_result"
    }
   ],
   "source": [
    "from IPython.display import SVG\n",
    "from keras.utils.vis_utils import model_to_dot\n",
    "\n",
    "%matplotlib inline\n",
    "\n",
    "SVG(model_to_dot(model, show_shapes=True, dpi=65).create(prog='dot', format='svg'))"
   ]
  },
  {
   "cell_type": "code",
   "execution_count": 6,
   "metadata": {
    "execution": {
     "iopub.execute_input": "2021-12-16T07:36:35.336957Z",
     "iopub.status.busy": "2021-12-16T07:36:35.336661Z",
     "iopub.status.idle": "2021-12-16T07:36:35.352479Z",
     "shell.execute_reply": "2021-12-16T07:36:35.351359Z",
     "shell.execute_reply.started": "2021-12-16T07:36:35.336931Z"
    }
   },
   "outputs": [],
   "source": [
    "model.compile(loss='categorical_crossentropy', optimizer='adam', metrics=['accuracy'])\n"
   ]
  },
  {
   "cell_type": "code",
   "execution_count": 7,
   "metadata": {
    "execution": {
     "iopub.execute_input": "2021-12-16T07:36:40.432995Z",
     "iopub.status.busy": "2021-12-16T07:36:40.432711Z",
     "iopub.status.idle": "2021-12-16T07:36:51.647230Z",
     "shell.execute_reply": "2021-12-16T07:36:51.646382Z",
     "shell.execute_reply.started": "2021-12-16T07:36:40.432955Z"
    }
   },
   "outputs": [
    {
     "name": "stderr",
     "output_type": "stream",
     "text": [
      "/Library/Frameworks/Python.framework/Versions/3.7/lib/python3.7/site-packages/tensorflow/python/keras/engine/training.py:1844: UserWarning: `Model.fit_generator` is deprecated and will be removed in a future version. Please use `Model.fit`, which supports generators.\n",
      "  warnings.warn('`Model.fit_generator` is deprecated and '\n"
     ]
    },
    {
     "name": "stdout",
     "output_type": "stream",
     "text": [
      "Epoch 1/50\n",
      "15/15 [==============================] - 1s 57ms/step - loss: 1.2535 - accuracy: 0.4887 - val_loss: 0.4770 - val_accuracy: 0.9333\n",
      "Epoch 2/50\n",
      "15/15 [==============================] - 0s 12ms/step - loss: 0.3159 - accuracy: 0.8769 - val_loss: 0.6518 - val_accuracy: 0.7333\n",
      "Epoch 3/50\n",
      "15/15 [==============================] - 0s 13ms/step - loss: 0.1299 - accuracy: 0.9232 - val_loss: 0.1554 - val_accuracy: 0.9333\n",
      "Epoch 4/50\n",
      "15/15 [==============================] - 0s 11ms/step - loss: 0.0250 - accuracy: 0.9771 - val_loss: 0.1028 - val_accuracy: 0.9333\n",
      "Epoch 5/50\n",
      "15/15 [==============================] - 0s 12ms/step - loss: 0.0074 - accuracy: 1.0000 - val_loss: 0.0504 - val_accuracy: 1.0000\n",
      "Epoch 6/50\n",
      "15/15 [==============================] - 0s 11ms/step - loss: 0.0012 - accuracy: 1.0000 - val_loss: 0.1155 - val_accuracy: 0.9333\n",
      "Epoch 7/50\n",
      "15/15 [==============================] - 0s 11ms/step - loss: 8.1328e-04 - accuracy: 1.0000 - val_loss: 0.0391 - val_accuracy: 1.0000\n",
      "Epoch 8/50\n",
      "15/15 [==============================] - 0s 11ms/step - loss: 1.9603e-04 - accuracy: 1.0000 - val_loss: 0.0449 - val_accuracy: 1.0000\n",
      "Epoch 9/50\n",
      "15/15 [==============================] - 0s 11ms/step - loss: 1.4518e-04 - accuracy: 1.0000 - val_loss: 0.0580 - val_accuracy: 0.9333\n",
      "Epoch 10/50\n",
      "15/15 [==============================] - 0s 11ms/step - loss: 1.0957e-04 - accuracy: 1.0000 - val_loss: 0.0626 - val_accuracy: 0.9333\n",
      "Epoch 11/50\n",
      "15/15 [==============================] - 0s 12ms/step - loss: 5.3064e-05 - accuracy: 1.0000 - val_loss: 0.0602 - val_accuracy: 0.9333\n",
      "Epoch 12/50\n",
      "15/15 [==============================] - 0s 12ms/step - loss: 8.4171e-05 - accuracy: 1.0000 - val_loss: 0.0585 - val_accuracy: 0.9333\n",
      "Epoch 13/50\n",
      "15/15 [==============================] - 0s 12ms/step - loss: 6.5445e-05 - accuracy: 1.0000 - val_loss: 0.0632 - val_accuracy: 0.9333\n",
      "Epoch 14/50\n",
      "15/15 [==============================] - 0s 12ms/step - loss: 8.3251e-05 - accuracy: 1.0000 - val_loss: 0.0631 - val_accuracy: 0.9333\n",
      "Epoch 15/50\n",
      "15/15 [==============================] - 0s 12ms/step - loss: 6.9456e-05 - accuracy: 1.0000 - val_loss: 0.0631 - val_accuracy: 0.9333\n",
      "Epoch 16/50\n",
      "15/15 [==============================] - 0s 13ms/step - loss: 4.1916e-05 - accuracy: 1.0000 - val_loss: 0.0626 - val_accuracy: 0.9333\n",
      "Epoch 17/50\n",
      "15/15 [==============================] - 0s 12ms/step - loss: 4.3673e-05 - accuracy: 1.0000 - val_loss: 0.0596 - val_accuracy: 0.9333\n",
      "Epoch 18/50\n",
      "15/15 [==============================] - 0s 12ms/step - loss: 2.4877e-05 - accuracy: 1.0000 - val_loss: 0.0653 - val_accuracy: 0.9333\n",
      "Epoch 19/50\n",
      "15/15 [==============================] - 0s 12ms/step - loss: 3.8848e-05 - accuracy: 1.0000 - val_loss: 0.0604 - val_accuracy: 0.9333\n",
      "Epoch 20/50\n",
      "15/15 [==============================] - 0s 12ms/step - loss: 3.1237e-05 - accuracy: 1.0000 - val_loss: 0.0627 - val_accuracy: 0.9333\n",
      "Epoch 21/50\n",
      "15/15 [==============================] - 0s 13ms/step - loss: 2.2150e-05 - accuracy: 1.0000 - val_loss: 0.0600 - val_accuracy: 0.9333\n",
      "Epoch 22/50\n",
      "15/15 [==============================] - 0s 13ms/step - loss: 1.8530e-05 - accuracy: 1.0000 - val_loss: 0.0591 - val_accuracy: 0.9333\n",
      "Epoch 23/50\n",
      "15/15 [==============================] - 0s 12ms/step - loss: 2.1931e-05 - accuracy: 1.0000 - val_loss: 0.0585 - val_accuracy: 0.9333\n",
      "Epoch 24/50\n",
      "15/15 [==============================] - 0s 12ms/step - loss: 2.0241e-05 - accuracy: 1.0000 - val_loss: 0.0601 - val_accuracy: 0.9333\n",
      "Epoch 25/50\n",
      "15/15 [==============================] - 0s 12ms/step - loss: 1.8730e-05 - accuracy: 1.0000 - val_loss: 0.0637 - val_accuracy: 0.9333\n",
      "Epoch 26/50\n",
      "15/15 [==============================] - 0s 12ms/step - loss: 1.4552e-05 - accuracy: 1.0000 - val_loss: 0.0596 - val_accuracy: 0.9333\n",
      "Epoch 27/50\n",
      "15/15 [==============================] - 0s 13ms/step - loss: 2.2995e-05 - accuracy: 1.0000 - val_loss: 0.0588 - val_accuracy: 0.9333\n",
      "Epoch 28/50\n",
      "15/15 [==============================] - 0s 16ms/step - loss: 2.0224e-05 - accuracy: 1.0000 - val_loss: 0.0593 - val_accuracy: 0.9333\n",
      "Epoch 29/50\n",
      "15/15 [==============================] - 0s 12ms/step - loss: 2.0021e-05 - accuracy: 1.0000 - val_loss: 0.0582 - val_accuracy: 0.9333\n",
      "Epoch 30/50\n",
      "15/15 [==============================] - 0s 12ms/step - loss: 1.8253e-05 - accuracy: 1.0000 - val_loss: 0.0621 - val_accuracy: 0.9333\n",
      "Epoch 31/50\n",
      "15/15 [==============================] - 0s 13ms/step - loss: 1.0930e-05 - accuracy: 1.0000 - val_loss: 0.0594 - val_accuracy: 0.9333\n",
      "Epoch 32/50\n",
      "15/15 [==============================] - 0s 13ms/step - loss: 1.6616e-05 - accuracy: 1.0000 - val_loss: 0.0582 - val_accuracy: 0.9333\n",
      "Epoch 33/50\n",
      "15/15 [==============================] - 0s 11ms/step - loss: 1.1513e-05 - accuracy: 1.0000 - val_loss: 0.0599 - val_accuracy: 0.9333\n",
      "Epoch 34/50\n",
      "15/15 [==============================] - 0s 12ms/step - loss: 1.0393e-05 - accuracy: 1.0000 - val_loss: 0.0581 - val_accuracy: 0.9333\n",
      "Epoch 35/50\n",
      "15/15 [==============================] - 0s 12ms/step - loss: 8.9291e-06 - accuracy: 1.0000 - val_loss: 0.0588 - val_accuracy: 0.9333\n",
      "Epoch 36/50\n",
      "15/15 [==============================] - 0s 12ms/step - loss: 8.8402e-06 - accuracy: 1.0000 - val_loss: 0.0574 - val_accuracy: 0.9333\n",
      "Epoch 37/50\n",
      "15/15 [==============================] - 0s 13ms/step - loss: 1.0720e-05 - accuracy: 1.0000 - val_loss: 0.0595 - val_accuracy: 0.9333\n",
      "Epoch 38/50\n",
      "15/15 [==============================] - 0s 13ms/step - loss: 7.7822e-06 - accuracy: 1.0000 - val_loss: 0.0563 - val_accuracy: 0.9333\n",
      "Epoch 39/50\n",
      "15/15 [==============================] - 0s 12ms/step - loss: 9.3615e-06 - accuracy: 1.0000 - val_loss: 0.0601 - val_accuracy: 0.9333\n",
      "Epoch 40/50\n",
      "15/15 [==============================] - 0s 12ms/step - loss: 1.0961e-05 - accuracy: 1.0000 - val_loss: 0.0562 - val_accuracy: 0.9333\n",
      "Epoch 41/50\n",
      "15/15 [==============================] - 0s 12ms/step - loss: 5.4661e-06 - accuracy: 1.0000 - val_loss: 0.0581 - val_accuracy: 0.9333\n",
      "Epoch 42/50\n",
      "15/15 [==============================] - 0s 12ms/step - loss: 9.9785e-06 - accuracy: 1.0000 - val_loss: 0.0568 - val_accuracy: 0.9333\n",
      "Epoch 43/50\n",
      "15/15 [==============================] - 0s 12ms/step - loss: 4.5275e-06 - accuracy: 1.0000 - val_loss: 0.0591 - val_accuracy: 0.9333\n",
      "Epoch 44/50\n",
      "15/15 [==============================] - 0s 12ms/step - loss: 6.9382e-06 - accuracy: 1.0000 - val_loss: 0.0577 - val_accuracy: 0.9333\n",
      "Epoch 45/50\n",
      "15/15 [==============================] - 0s 12ms/step - loss: 4.4084e-06 - accuracy: 1.0000 - val_loss: 0.0572 - val_accuracy: 0.9333\n",
      "Epoch 46/50\n",
      "15/15 [==============================] - 0s 13ms/step - loss: 5.3106e-06 - accuracy: 1.0000 - val_loss: 0.0557 - val_accuracy: 0.9333\n",
      "Epoch 47/50\n",
      "15/15 [==============================] - 0s 12ms/step - loss: 4.3499e-06 - accuracy: 1.0000 - val_loss: 0.0562 - val_accuracy: 0.9333\n",
      "Epoch 48/50\n",
      "15/15 [==============================] - 0s 13ms/step - loss: 7.6060e-06 - accuracy: 1.0000 - val_loss: 0.0554 - val_accuracy: 0.9333\n",
      "Epoch 49/50\n",
      "15/15 [==============================] - 0s 12ms/step - loss: 7.1302e-06 - accuracy: 1.0000 - val_loss: 0.0585 - val_accuracy: 0.9333\n",
      "Epoch 50/50\n",
      "15/15 [==============================] - 0s 14ms/step - loss: 4.5241e-06 - accuracy: 1.0000 - val_loss: 0.0574 - val_accuracy: 0.9333\n"
     ]
    },
    {
     "data": {
      "text/plain": [
       "<tensorflow.python.keras.callbacks.History at 0x7f8c49a28c18>"
      ]
     },
     "execution_count": 7,
     "metadata": {},
     "output_type": "execute_result"
    }
   ],
   "source": [
    "model.fit_generator(\n",
    "        train_generator,\n",
    "        steps_per_epoch=15,\n",
    "        epochs=50,\n",
    "        validation_data=test_generator,\n",
    "        validation_steps=5)\n"
   ]
  },
  {
   "cell_type": "code",
   "execution_count": 8,
   "metadata": {
    "execution": {
     "iopub.execute_input": "2021-12-16T07:36:53.273495Z",
     "iopub.status.busy": "2021-12-16T07:36:53.273199Z",
     "iopub.status.idle": "2021-12-16T07:36:53.344395Z",
     "shell.execute_reply": "2021-12-16T07:36:53.343625Z",
     "shell.execute_reply.started": "2021-12-16T07:36:53.273473Z"
    }
   },
   "outputs": [
    {
     "name": "stdout",
     "output_type": "stream",
     "text": [
      "-- Evaluate --\n",
      "accuracy: 93.33%\n"
     ]
    },
    {
     "name": "stderr",
     "output_type": "stream",
     "text": [
      "/Library/Frameworks/Python.framework/Versions/3.7/lib/python3.7/site-packages/tensorflow/python/keras/engine/training.py:1877: UserWarning: `Model.evaluate_generator` is deprecated and will be removed in a future version. Please use `Model.evaluate`, which supports generators.\n",
      "  warnings.warn('`Model.evaluate_generator` is deprecated and '\n"
     ]
    }
   ],
   "source": [
    "print(\"-- Evaluate --\")\n",
    "scores = model.evaluate_generator(test_generator, steps=5)\n",
    "print(\"%s: %.2f%%\" %(model.metrics_names[1], scores[1]*100))"
   ]
  },
  {
   "cell_type": "code",
   "execution_count": 9,
   "metadata": {
    "execution": {
     "iopub.execute_input": "2021-12-16T07:36:57.706629Z",
     "iopub.status.busy": "2021-12-16T07:36:57.706316Z",
     "iopub.status.idle": "2021-12-16T07:36:57.830215Z",
     "shell.execute_reply": "2021-12-16T07:36:57.829274Z",
     "shell.execute_reply.started": "2021-12-16T07:36:57.706606Z"
    }
   },
   "outputs": [
    {
     "name": "stdout",
     "output_type": "stream",
     "text": [
      "-- Predict --\n",
      "{'circle': 0, 'rectangle': 1, 'triangle': 2}\n",
      "[[0.000 1.000 0.000]\n",
      " [0.457 0.423 0.120]\n",
      " [0.000 0.000 1.000]\n",
      " [1.000 0.000 0.000]\n",
      " [1.000 0.000 0.000]\n",
      " [0.000 1.000 0.000]\n",
      " [0.000 1.000 0.000]\n",
      " [0.000 0.000 1.000]\n",
      " [0.000 0.000 1.000]\n",
      " [1.000 0.000 0.000]\n",
      " [1.000 0.000 0.000]\n",
      " [0.000 1.000 0.000]\n",
      " [0.000 0.000 1.000]\n",
      " [0.000 0.001 0.999]\n",
      " [1.000 0.000 0.000]]\n"
     ]
    },
    {
     "name": "stderr",
     "output_type": "stream",
     "text": [
      "/Library/Frameworks/Python.framework/Versions/3.7/lib/python3.7/site-packages/tensorflow/python/keras/engine/training.py:1905: UserWarning: `Model.predict_generator` is deprecated and will be removed in a future version. Please use `Model.predict`, which supports generators.\n",
      "  warnings.warn('`Model.predict_generator` is deprecated and '\n"
     ]
    }
   ],
   "source": [
    "print(\"-- Predict --\")\n",
    "output = model.predict_generator(test_generator, steps=5)\n",
    "np.set_printoptions(formatter={'float': lambda x: \"{0:0.3f}\".format(x)})\n",
    "print(test_generator.class_indices)\n",
    "print(output)"
   ]
  },
  {
   "cell_type": "code",
   "execution_count": null,
   "metadata": {},
   "outputs": [],
   "source": []
  }
 ],
 "metadata": {
  "kernelspec": {
   "display_name": "Python 3",
   "language": "python",
   "name": "python3"
  },
  "language_info": {
   "codemirror_mode": {
    "name": "ipython",
    "version": 3
   },
   "file_extension": ".py",
   "mimetype": "text/x-python",
   "name": "python",
   "nbconvert_exporter": "python",
   "pygments_lexer": "ipython3",
   "version": "3.7.3"
  }
 },
 "nbformat": 4,
 "nbformat_minor": 4
}
