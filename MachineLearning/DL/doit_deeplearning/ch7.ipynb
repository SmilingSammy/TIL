{
 "cells": [
  {
   "cell_type": "code",
   "execution_count": 26,
   "metadata": {
    "execution": {
     "iopub.execute_input": "2021-12-15T03:44:27.629121Z",
     "iopub.status.busy": "2021-12-15T03:44:27.628808Z",
     "iopub.status.idle": "2021-12-15T03:44:27.649048Z",
     "shell.execute_reply": "2021-12-15T03:44:27.648294Z",
     "shell.execute_reply.started": "2021-12-15T03:44:27.629096Z"
    }
   },
   "outputs": [],
   "source": [
    "import numpy as np\n",
    "\n",
    "class MultiClassNetwork:\n",
    "    \n",
    "    def __init__(self, units=10, batch_size=32, learning_rate=0.1, l1=0, l2=0):\n",
    "        self.units = units         # 은닉층의 뉴런 개수\n",
    "        self.batch_size = batch_size     # 배치 크기\n",
    "        self.w1 = None             # 은닉층의 가중치\n",
    "        self.b1 = None             # 은닉층의 절편\n",
    "        self.w2 = None             # 출력층의 가중치\n",
    "        self.b2 = None             # 출력층의 절편\n",
    "        self.a1 = None             # 은닉층의 활성화 출력\n",
    "        self.losses = []           # 훈련 손실\n",
    "        self.val_losses = []       # 검증 손실\n",
    "        self.lr = learning_rate    # 학습률\n",
    "        self.l1 = l1               # L1 손실 하이퍼파라미터\n",
    "        self.l2 = l2               # L2 손실 하이퍼파라미터\n",
    "\n",
    "    def forpass(self, x):\n",
    "        z1 = np.dot(x, self.w1) + self.b1        # 첫 번째 층의 선형 식을 계산합니다\n",
    "        self.a1 = self.sigmoid(z1)               # 활성화 함수를 적용합니다\n",
    "        z2 = np.dot(self.a1, self.w2) + self.b2  # 두 번째 층의 선형 식을 계산합니다.\n",
    "        return z2\n",
    "\n",
    "    def backprop(self, x, err):\n",
    "        m = len(x)       # 샘플 개수\n",
    "        # 출력층의 가중치와 절편에 대한 그래디언트를 계산합니다.\n",
    "        w2_grad = np.dot(self.a1.T, err) / m\n",
    "        b2_grad = np.sum(err) / m\n",
    "        # 시그모이드 함수까지 그래디언트를 계산합니다.\n",
    "        err_to_hidden = np.dot(err, self.w2.T) * self.a1 * (1 - self.a1)\n",
    "        # 은닉층의 가중치와 절편에 대한 그래디언트를 계산합니다.\n",
    "        w1_grad = np.dot(x.T, err_to_hidden) / m\n",
    "        b1_grad = np.sum(err_to_hidden, axis=0) / m\n",
    "        return w1_grad, b1_grad, w2_grad, b2_grad\n",
    "    \n",
    "    def sigmoid(self, z):\n",
    "        z = np.clip(z, -100, None)            # 안전한 np.exp() 계산을 위해\n",
    "        a = 1 / (1 + np.exp(-z))              # 시그모이드 계산\n",
    "        return a\n",
    "    \n",
    "    def softmax(self, z):\n",
    "        # 소프트맥스 함수\n",
    "        z = np.clip(z, -100, None)            # 안전한 np.exp() 계산을 위해\n",
    "        exp_z = np.exp(z)\n",
    "        return exp_z / np.sum(exp_z, axis=1).reshape(-1, 1)\n",
    " \n",
    "    def init_weights(self, n_features, n_classes):\n",
    "        self.w1 = np.random.normal(0, 1, \n",
    "                                   (n_features, self.units))  # (특성 개수, 은닉층의 크기)\n",
    "        self.b1 = np.zeros(self.units)                        # 은닉층의 크기\n",
    "        self.w2 = np.random.normal(0, 1, \n",
    "                                   (self.units, n_classes))   # (은닉층의 크기, 클래스 개수)\n",
    "        self.b2 = np.zeros(n_classes)\n",
    "        \n",
    "    def fit(self, x, y, epochs=100, x_val=None, y_val=None):\n",
    "        np.random.seed(42)\n",
    "        self.init_weights(x.shape[1], y.shape[1])    # 은닉층과 출력층의 가중치를 초기화합니다.\n",
    "        # epochs만큼 반복합니다.\n",
    "        for i in range(epochs):\n",
    "            loss = 0\n",
    "            print('.', end='')\n",
    "            # 제너레이터 함수에서 반환한 미니배치를 순환합니다.\n",
    "            for x_batch, y_batch in self.gen_batch(x, y):\n",
    "                a = self.training(x_batch, y_batch)\n",
    "                # 안전한 로그 계산을 위해 클리핑합니다.\n",
    "                a = np.clip(a, 1e-10, 1-1e-10)\n",
    "                # 로그 손실과 규제 손실을 더하여 리스트에 추가합니다.\n",
    "                loss += np.sum(-y_batch*np.log(a))\n",
    "            self.losses.append((loss + self.reg_loss()) / len(x))\n",
    "            # 검증 세트에 대한 손실을 계산합니다.\n",
    "            self.update_val_loss(x_val, y_val)\n",
    "\n",
    "    # 미니배치 제너레이터 함수\n",
    "    def gen_batch(self, x, y):\n",
    "        length = len(x)\n",
    "        bins = length // self.batch_size # 미니배치 횟수\n",
    "        if length % self.batch_size:\n",
    "            bins += 1                    # 나누어 떨어지지 않을 때\n",
    "        indexes = np.random.permutation(np.arange(len(x))) # 인덱스를 섞습니다.\n",
    "        x = x[indexes]\n",
    "        y = y[indexes]\n",
    "        for i in range(bins):\n",
    "            start = self.batch_size * i\n",
    "            end = self.batch_size * (i + 1)\n",
    "            yield x[start:end], y[start:end]   # batch_size만큼 슬라이싱하여 반환합니다.\n",
    "            \n",
    "    def training(self, x, y):\n",
    "        m = len(x)                # 샘플 개수를 저장합니다.\n",
    "        z = self.forpass(x)       # 정방향 계산을 수행합니다.\n",
    "        a = self.softmax(z)       # 활성화 함수를 적용합니다.\n",
    "        err = -(y - a)            # 오차를 계산합니다.\n",
    "        # 오차를 역전파하여 그래디언트를 계산합니다.\n",
    "        w1_grad, b1_grad, w2_grad, b2_grad = self.backprop(x, err)\n",
    "        # 그래디언트에서 페널티 항의 미분 값을 뺍니다\n",
    "        w1_grad += (self.l1 * np.sign(self.w1) + self.l2 * self.w1) / m\n",
    "        w2_grad += (self.l1 * np.sign(self.w2) + self.l2 * self.w2) / m\n",
    "        # 은닉층의 가중치와 절편을 업데이트합니다.\n",
    "        self.w1 -= self.lr * w1_grad\n",
    "        self.b1 -= self.lr * b1_grad\n",
    "        # 출력층의 가중치와 절편을 업데이트합니다.\n",
    "        self.w2 -= self.lr * w2_grad\n",
    "        self.b2 -= self.lr * b2_grad\n",
    "        return a\n",
    "   \n",
    "    def predict(self, x):\n",
    "        z = self.forpass(x)          # 정방향 계산을 수행합니다.\n",
    "        return np.argmax(z, axis=1)  # 가장 큰 값의 인덱스를 반환합니다.\n",
    "    \n",
    "    def score(self, x, y):\n",
    "        # 예측과 타깃 열 벡터를 비교하여 True의 비율을 반환합니다.\n",
    "        return np.mean(self.predict(x) == np.argmax(y, axis=1))\n",
    "\n",
    "    def reg_loss(self):\n",
    "        # 은닉층과 출력층의 가중치에 규제를 적용합니다.\n",
    "        return self.l1 * (np.sum(np.abs(self.w1)) + np.sum(np.abs(self.w2))) + \\\n",
    "               self.l2 / 2 * (np.sum(self.w1**2) + np.sum(self.w2**2))\n",
    "\n",
    "    def update_val_loss(self, x_val, y_val):\n",
    "        z = self.forpass(x_val)            # 정방향 계산을 수행합니다.\n",
    "        a = self.softmax(z)                # 활성화 함수를 적용합니다.\n",
    "        a = np.clip(a, 1e-10, 1-1e-10)     # 출력 값을 클리핑합니다.\n",
    "        # 크로스 엔트로피 손실과 규제 손실을 더하여 리스트에 추가합니다.\n",
    "        val_loss = np.sum(-y_val*np.log(a))\n",
    "        self.val_losses.append((val_loss + self.reg_loss()) / len(y_val))"
   ]
  },
  {
   "cell_type": "code",
   "execution_count": 4,
   "metadata": {
    "execution": {
     "iopub.execute_input": "2021-12-15T03:38:05.237921Z",
     "iopub.status.busy": "2021-12-15T03:38:05.237631Z",
     "iopub.status.idle": "2021-12-15T03:38:05.814797Z",
     "shell.execute_reply": "2021-12-15T03:38:05.813996Z",
     "shell.execute_reply.started": "2021-12-15T03:38:05.237885Z"
    }
   },
   "outputs": [
    {
     "data": {
      "text/plain": [
       "'2.1.0'"
      ]
     },
     "execution_count": 4,
     "metadata": {},
     "output_type": "execute_result"
    }
   ],
   "source": [
    "import tensorflow as tf\n",
    "import matplotlib.pyplot as plt\n",
    "tf.__version__"
   ]
  },
  {
   "cell_type": "code",
   "execution_count": 2,
   "metadata": {
    "execution": {
     "iopub.execute_input": "2021-12-15T03:37:52.924441Z",
     "iopub.status.busy": "2021-12-15T03:37:52.924179Z",
     "iopub.status.idle": "2021-12-15T03:37:53.318916Z",
     "shell.execute_reply": "2021-12-15T03:37:53.317981Z",
     "shell.execute_reply.started": "2021-12-15T03:37:52.924419Z"
    }
   },
   "outputs": [],
   "source": [
    "(x_train_all, y_train_all), (x_test, y_test) = tf.keras.datasets.fashion_mnist.load_data()"
   ]
  },
  {
   "cell_type": "code",
   "execution_count": 3,
   "metadata": {
    "execution": {
     "iopub.execute_input": "2021-12-15T03:37:59.150310Z",
     "iopub.status.busy": "2021-12-15T03:37:59.150035Z",
     "iopub.status.idle": "2021-12-15T03:37:59.154733Z",
     "shell.execute_reply": "2021-12-15T03:37:59.153712Z",
     "shell.execute_reply.started": "2021-12-15T03:37:59.150261Z"
    }
   },
   "outputs": [
    {
     "name": "stdout",
     "output_type": "stream",
     "text": [
      "(60000, 28, 28) (60000,)\n"
     ]
    }
   ],
   "source": [
    "print(x_train_all.shape, y_train_all.shape)"
   ]
  },
  {
   "cell_type": "code",
   "execution_count": 5,
   "metadata": {
    "execution": {
     "iopub.execute_input": "2021-12-15T03:38:11.190679Z",
     "iopub.status.busy": "2021-12-15T03:38:11.190415Z",
     "iopub.status.idle": "2021-12-15T03:38:11.354039Z",
     "shell.execute_reply": "2021-12-15T03:38:11.353149Z",
     "shell.execute_reply.started": "2021-12-15T03:38:11.190656Z"
    }
   },
   "outputs": [
    {
     "data": {
      "image/png": "[encoded data removed]",
      "text/plain": [
       "<Figure size 432x288 with 1 Axes>"
      ]
     },
     "metadata": {
      "needs_background": "light"
     },
     "output_type": "display_data"
    }
   ],
   "source": [
    "plt.imshow(x_train_all[0], cmap='gray')\n",
    "plt.show()"
   ]
  },
  {
   "cell_type": "code",
   "execution_count": 6,
   "metadata": {
    "execution": {
     "iopub.execute_input": "2021-12-15T03:38:16.822822Z",
     "iopub.status.busy": "2021-12-15T03:38:16.822502Z",
     "iopub.status.idle": "2021-12-15T03:38:16.951146Z",
     "shell.execute_reply": "2021-12-15T03:38:16.950345Z",
     "shell.execute_reply.started": "2021-12-15T03:38:16.822800Z"
    }
   },
   "outputs": [
    {
     "data": {
      "image/png": "[encoded data removed]",
      "text/plain": [
       "<Figure size 432x288 with 1 Axes>"
      ]
     },
     "metadata": {
      "needs_background": "light"
     },
     "output_type": "display_data"
    }
   ],
   "source": [
    "plt.imshow(x_train_all[1], cmap='gray')\n",
    "plt.show()"
   ]
  },
  {
   "cell_type": "code",
   "execution_count": 7,
   "metadata": {
    "execution": {
     "iopub.execute_input": "2021-12-15T03:39:24.158107Z",
     "iopub.status.busy": "2021-12-15T03:39:24.157826Z",
     "iopub.status.idle": "2021-12-15T03:39:24.162863Z",
     "shell.execute_reply": "2021-12-15T03:39:24.162059Z",
     "shell.execute_reply.started": "2021-12-15T03:39:24.158083Z"
    }
   },
   "outputs": [
    {
     "data": {
      "text/plain": [
       "array([9, 0, 0, 3, 0], dtype=uint8)"
      ]
     },
     "execution_count": 7,
     "metadata": {},
     "output_type": "execute_result"
    }
   ],
   "source": [
    "y_train_all[:5]"
   ]
  },
  {
   "cell_type": "code",
   "execution_count": 9,
   "metadata": {
    "execution": {
     "iopub.execute_input": "2021-12-15T03:39:46.496738Z",
     "iopub.status.busy": "2021-12-15T03:39:46.496437Z",
     "iopub.status.idle": "2021-12-15T03:39:46.503139Z",
     "shell.execute_reply": "2021-12-15T03:39:46.502059Z",
     "shell.execute_reply.started": "2021-12-15T03:39:46.496714Z"
    }
   },
   "outputs": [
    {
     "data": {
      "text/plain": [
       "array([0, 1, 2, 3, 4, 5, 6, 7, 8, 9], dtype=uint8)"
      ]
     },
     "execution_count": 9,
     "metadata": {},
     "output_type": "execute_result"
    }
   ],
   "source": [
    "import numpy as np\n",
    "np.unique(y_train_all)"
   ]
  },
  {
   "cell_type": "code",
   "execution_count": 10,
   "metadata": {
    "execution": {
     "iopub.execute_input": "2021-12-15T03:40:07.437593Z",
     "iopub.status.busy": "2021-12-15T03:40:07.437291Z",
     "iopub.status.idle": "2021-12-15T03:40:07.442770Z",
     "shell.execute_reply": "2021-12-15T03:40:07.441827Z",
     "shell.execute_reply.started": "2021-12-15T03:40:07.437557Z"
    }
   },
   "outputs": [
    {
     "data": {
      "text/plain": [
       "array([6000, 6000, 6000, 6000, 6000, 6000, 6000, 6000, 6000, 6000])"
      ]
     },
     "execution_count": 10,
     "metadata": {},
     "output_type": "execute_result"
    }
   ],
   "source": [
    "np.bincount(y_train_all)"
   ]
  },
  {
   "cell_type": "code",
   "execution_count": 11,
   "metadata": {
    "execution": {
     "iopub.execute_input": "2021-12-15T03:40:43.381226Z",
     "iopub.status.busy": "2021-12-15T03:40:43.380972Z",
     "iopub.status.idle": "2021-12-15T03:40:44.710337Z",
     "shell.execute_reply": "2021-12-15T03:40:44.709473Z",
     "shell.execute_reply.started": "2021-12-15T03:40:43.381204Z"
    }
   },
   "outputs": [
    {
     "data": {
      "text/plain": [
       "(array([4800, 4800, 4800, 4800, 4800, 4800, 4800, 4800, 4800, 4800]),\n",
       " array([1200, 1200, 1200, 1200, 1200, 1200, 1200, 1200, 1200, 1200]))"
      ]
     },
     "execution_count": 11,
     "metadata": {},
     "output_type": "execute_result"
    }
   ],
   "source": [
    "from sklearn.model_selection import train_test_split\n",
    "x_train, x_val, y_train, y_val = train_test_split(x_train_all, y_train_all, stratify=y_train_all, test_size=0.2, random_state=42)\n",
    "np.bincount(y_train), np.bincount(y_val)"
   ]
  },
  {
   "cell_type": "code",
   "execution_count": 17,
   "metadata": {
    "execution": {
     "iopub.execute_input": "2021-12-15T03:41:36.757334Z",
     "iopub.status.busy": "2021-12-15T03:41:36.757066Z",
     "iopub.status.idle": "2021-12-15T03:41:36.761419Z",
     "shell.execute_reply": "2021-12-15T03:41:36.760370Z",
     "shell.execute_reply.started": "2021-12-15T03:41:36.757311Z"
    }
   },
   "outputs": [
    {
     "name": "stdout",
     "output_type": "stream",
     "text": [
      "(48000, 28, 28) (12000, 28, 28)\n"
     ]
    }
   ],
   "source": [
    "x_train = x_train / 255\n",
    "x_val = x_val / 255\n",
    "\n",
    "print(x_train.shape, x_val.shape)"
   ]
  },
  {
   "cell_type": "code",
   "execution_count": 18,
   "metadata": {
    "execution": {
     "iopub.execute_input": "2021-12-15T03:41:43.877990Z",
     "iopub.status.busy": "2021-12-15T03:41:43.877700Z",
     "iopub.status.idle": "2021-12-15T03:41:43.882644Z",
     "shell.execute_reply": "2021-12-15T03:41:43.881753Z",
     "shell.execute_reply.started": "2021-12-15T03:41:43.877954Z"
    }
   },
   "outputs": [
    {
     "name": "stdout",
     "output_type": "stream",
     "text": [
      "(48000, 784) (12000, 784)\n"
     ]
    }
   ],
   "source": [
    "x_train = x_train.reshape(-1, 784)\n",
    "x_val = x_val.reshape(-1, 784)\n",
    "\n",
    "print(x_train.shape, x_val.shape)"
   ]
  },
  {
   "cell_type": "code",
   "execution_count": 20,
   "metadata": {
    "execution": {
     "iopub.execute_input": "2021-12-15T03:43:30.209262Z",
     "iopub.status.busy": "2021-12-15T03:43:30.208935Z",
     "iopub.status.idle": "2021-12-15T03:43:30.215437Z",
     "shell.execute_reply": "2021-12-15T03:43:30.214702Z",
     "shell.execute_reply.started": "2021-12-15T03:43:30.209237Z"
    }
   },
   "outputs": [
    {
     "data": {
      "text/plain": [
       "array([[1, 0, 0],\n",
       "       [0, 1, 0],\n",
       "       [0, 0, 1],\n",
       "       [0, 1, 0]])"
      ]
     },
     "execution_count": 20,
     "metadata": {},
     "output_type": "execute_result"
    }
   ],
   "source": [
    "from sklearn.preprocessing import LabelBinarizer\n",
    "lb = LabelBinarizer()\n",
    "lb.fit_transform([0, 1, 3, 1])"
   ]
  },
  {
   "cell_type": "code",
   "execution_count": 21,
   "metadata": {
    "execution": {
     "iopub.execute_input": "2021-12-15T03:43:49.187992Z",
     "iopub.status.busy": "2021-12-15T03:43:49.187725Z",
     "iopub.status.idle": "2021-12-15T03:43:49.193227Z",
     "shell.execute_reply": "2021-12-15T03:43:49.192380Z",
     "shell.execute_reply.started": "2021-12-15T03:43:49.187968Z"
    }
   },
   "outputs": [
    {
     "data": {
      "text/plain": [
       "array([[1., 0., 0., 0.],\n",
       "       [0., 1., 0., 0.],\n",
       "       [0., 0., 0., 1.]], dtype=float32)"
      ]
     },
     "execution_count": 21,
     "metadata": {},
     "output_type": "execute_result"
    }
   ],
   "source": [
    "tf.keras.utils.to_categorical([0, 1, 3])"
   ]
  },
  {
   "cell_type": "code",
   "execution_count": 22,
   "metadata": {
    "execution": {
     "iopub.execute_input": "2021-12-15T03:43:58.508936Z",
     "iopub.status.busy": "2021-12-15T03:43:58.508595Z",
     "iopub.status.idle": "2021-12-15T03:43:58.514584Z",
     "shell.execute_reply": "2021-12-15T03:43:58.513622Z",
     "shell.execute_reply.started": "2021-12-15T03:43:58.508897Z"
    }
   },
   "outputs": [],
   "source": [
    "y_train_encoded = tf.keras.utils.to_categorical(y_train)\n",
    "y_val_encoded = tf.keras.utils.to_categorical(y_val)"
   ]
  },
  {
   "cell_type": "code",
   "execution_count": 24,
   "metadata": {
    "execution": {
     "iopub.execute_input": "2021-12-15T03:44:07.798952Z",
     "iopub.status.busy": "2021-12-15T03:44:07.798654Z",
     "iopub.status.idle": "2021-12-15T03:44:07.803287Z",
     "shell.execute_reply": "2021-12-15T03:44:07.802387Z",
     "shell.execute_reply.started": "2021-12-15T03:44:07.798926Z"
    }
   },
   "outputs": [
    {
     "name": "stdout",
     "output_type": "stream",
     "text": [
      "(48000, 10) (12000, 10)\n"
     ]
    }
   ],
   "source": [
    "print(y_train_encoded.shape, y_val_encoded.shape)"
   ]
  },
  {
   "cell_type": "code",
   "execution_count": 27,
   "metadata": {
    "execution": {
     "iopub.execute_input": "2021-12-15T03:44:32.198660Z",
     "iopub.status.busy": "2021-12-15T03:44:32.198397Z",
     "iopub.status.idle": "2021-12-15T03:44:55.830480Z",
     "shell.execute_reply": "2021-12-15T03:44:55.829841Z",
     "shell.execute_reply.started": "2021-12-15T03:44:32.198637Z"
    }
   },
   "outputs": [
    {
     "name": "stdout",
     "output_type": "stream",
     "text": [
      "........................................"
     ]
    }
   ],
   "source": [
    "fc = MultiClassNetwork(units=100, batch_size=256)\n",
    "fc.fit(x_train, y_train_encoded, x_val=x_val, y_val=y_val_encoded, epochs=40)"
   ]
  },
  {
   "cell_type": "code",
   "execution_count": 28,
   "metadata": {
    "execution": {
     "iopub.execute_input": "2021-12-15T03:45:06.915831Z",
     "iopub.status.busy": "2021-12-15T03:45:06.915505Z",
     "iopub.status.idle": "2021-12-15T03:45:07.103923Z",
     "shell.execute_reply": "2021-12-15T03:45:07.103133Z",
     "shell.execute_reply.started": "2021-12-15T03:45:06.915807Z"
    }
   },
   "outputs": [
    {
     "data": {
      "image/png": "[encoded data removed]",
      "text/plain": [
       "<Figure size 432x288 with 1 Axes>"
      ]
     },
     "metadata": {
      "needs_background": "light"
     },
     "output_type": "display_data"
    }
   ],
   "source": [
    "plt.plot(fc.losses)\n",
    "plt.plot(fc.val_losses)\n",
    "plt.ylabel('loss')\n",
    "plt.xlabel('iteration')\n",
    "plt.legend(['train_loss', 'val_loss'])\n",
    "plt.show()"
   ]
  },
  {
   "cell_type": "code",
   "execution_count": 29,
   "metadata": {
    "execution": {
     "iopub.execute_input": "2021-12-15T03:45:15.603525Z",
     "iopub.status.busy": "2021-12-15T03:45:15.603231Z",
     "iopub.status.idle": "2021-12-15T03:45:15.696067Z",
     "shell.execute_reply": "2021-12-15T03:45:15.695353Z",
     "shell.execute_reply.started": "2021-12-15T03:45:15.603489Z"
    }
   },
   "outputs": [
    {
     "data": {
      "text/plain": [
       "0.8150833333333334"
      ]
     },
     "execution_count": 29,
     "metadata": {},
     "output_type": "execute_result"
    }
   ],
   "source": [
    "fc.score(x_val, y_val_encoded)"
   ]
  },
  {
   "cell_type": "code",
   "execution_count": 30,
   "metadata": {
    "execution": {
     "iopub.execute_input": "2021-12-15T03:49:53.810830Z",
     "iopub.status.busy": "2021-12-15T03:49:53.810574Z",
     "iopub.status.idle": "2021-12-15T03:49:53.883505Z",
     "shell.execute_reply": "2021-12-15T03:49:53.882605Z",
     "shell.execute_reply.started": "2021-12-15T03:49:53.810808Z"
    }
   },
   "outputs": [],
   "source": [
    "from tensorflow.keras import Sequential\n",
    "from tensorflow.keras.layers import Dense\n",
    "\n",
    "model = Sequential()\n",
    "model.add(Dense(100, activation='sigmoid', input_shape=(784,)))\n",
    "model.add(Dense(10, activation='softmax'))\n",
    "model.compile(optimizer='sgd', loss='categorical_crossentropy', metrics=['accuracy'])"
   ]
  },
  {
   "cell_type": "code",
   "execution_count": 31,
   "metadata": {
    "execution": {
     "iopub.execute_input": "2021-12-15T03:50:00.947942Z",
     "iopub.status.busy": "2021-12-15T03:50:00.947476Z",
     "iopub.status.idle": "2021-12-15T03:51:24.559347Z",
     "shell.execute_reply": "2021-12-15T03:51:24.558320Z",
     "shell.execute_reply.started": "2021-12-15T03:50:00.947892Z"
    }
   },
   "outputs": [
    {
     "name": "stdout",
     "output_type": "stream",
     "text": [
      "Train on 48000 samples, validate on 12000 samples\n",
      "Epoch 1/40\n",
      "48000/48000 [==============================] - 2s 52us/sample - loss: 1.3837 - accuracy: 0.6460 - val_loss: 0.9436 - val_accuracy: 0.7336\n",
      "Epoch 2/40\n",
      "48000/48000 [==============================] - 2s 45us/sample - loss: 0.8253 - accuracy: 0.7446 - val_loss: 0.7376 - val_accuracy: 0.7665\n",
      "Epoch 3/40\n",
      "48000/48000 [==============================] - 2s 49us/sample - loss: 0.7001 - accuracy: 0.7653 - val_loss: 0.6563 - val_accuracy: 0.7806acy\n",
      "Epoch 4/40\n",
      "48000/48000 [==============================] - 2s 44us/sample - loss: 0.6397 - accuracy: 0.7802 - val_loss: 0.6082 - val_accuracy: 0.7922\n",
      "Epoch 5/40\n",
      "48000/48000 [==============================] - 2s 44us/sample - loss: 0.6001 - accuracy: 0.7938 - val_loss: 0.5730 - val_accuracy: 0.8025\n",
      "Epoch 6/40\n",
      "48000/48000 [==============================] - 2s 45us/sample - loss: 0.5711 - accuracy: 0.8033 - val_loss: 0.5475 - val_accuracy: 0.8087\n",
      "Epoch 7/40\n",
      "48000/48000 [==============================] - 2s 43us/sample - loss: 0.5488 - accuracy: 0.8111 - val_loss: 0.5286 - val_accuracy: 0.8162\n",
      "Epoch 8/40\n",
      "48000/48000 [==============================] - 2s 42us/sample - loss: 0.5312 - accuracy: 0.8167 - val_loss: 0.5117 - val_accuracy: 0.8199\n",
      "Epoch 9/40\n",
      "48000/48000 [==============================] - 2s 43us/sample - loss: 0.5167 - accuracy: 0.8215 - val_loss: 0.4986 - val_accuracy: 0.8263\n",
      "Epoch 10/40\n",
      "48000/48000 [==============================] - 2s 43us/sample - loss: 0.5046 - accuracy: 0.8254 - val_loss: 0.4887 - val_accuracy: 0.8275\n",
      "Epoch 11/40\n",
      "48000/48000 [==============================] - 2s 43us/sample - loss: 0.4947 - accuracy: 0.8279 - val_loss: 0.4792 - val_accuracy: 0.8327\n",
      "Epoch 12/40\n",
      "48000/48000 [==============================] - 2s 43us/sample - loss: 0.4858 - accuracy: 0.8309 - val_loss: 0.4705 - val_accuracy: 0.8343\n",
      "Epoch 13/40\n",
      "48000/48000 [==============================] - 2s 43us/sample - loss: 0.4778 - accuracy: 0.8335 - val_loss: 0.4628 - val_accuracy: 0.8381\n",
      "Epoch 14/40\n",
      "48000/48000 [==============================] - 2s 43us/sample - loss: 0.4710 - accuracy: 0.8364 - val_loss: 0.4570 - val_accuracy: 0.8392\n",
      "Epoch 15/40\n",
      "48000/48000 [==============================] - 2s 43us/sample - loss: 0.4648 - accuracy: 0.8375 - val_loss: 0.4518 - val_accuracy: 0.8418\n",
      "Epoch 16/40\n",
      "48000/48000 [==============================] - 2s 43us/sample - loss: 0.4591 - accuracy: 0.8394 - val_loss: 0.4463 - val_accuracy: 0.8437\n",
      "Epoch 17/40\n",
      "48000/48000 [==============================] - 2s 43us/sample - loss: 0.4542 - accuracy: 0.8408 - val_loss: 0.4415 - val_accuracy: 0.8445\n",
      "Epoch 18/40\n",
      "48000/48000 [==============================] - 2s 43us/sample - loss: 0.4494 - accuracy: 0.8426 - val_loss: 0.4378 - val_accuracy: 0.8447\n",
      "Epoch 19/40\n",
      "48000/48000 [==============================] - 2s 44us/sample - loss: 0.4448 - accuracy: 0.8443 - val_loss: 0.4327 - val_accuracy: 0.8478\n",
      "Epoch 20/40\n",
      "48000/48000 [==============================] - 2s 43us/sample - loss: 0.4406 - accuracy: 0.8461 - val_loss: 0.4299 - val_accuracy: 0.8487\n",
      "Epoch 21/40\n",
      "48000/48000 [==============================] - 2s 43us/sample - loss: 0.4368 - accuracy: 0.8477 - val_loss: 0.4267 - val_accuracy: 0.8508\n",
      "Epoch 22/40\n",
      "48000/48000 [==============================] - 2s 43us/sample - loss: 0.4331 - accuracy: 0.8480 - val_loss: 0.4231 - val_accuracy: 0.8503\n",
      "Epoch 23/40\n",
      "48000/48000 [==============================] - 2s 43us/sample - loss: 0.4296 - accuracy: 0.8497 - val_loss: 0.4207 - val_accuracy: 0.8500\n",
      "Epoch 24/40\n",
      "48000/48000 [==============================] - 2s 43us/sample - loss: 0.4264 - accuracy: 0.8506 - val_loss: 0.4190 - val_accuracy: 0.8517\n",
      "Epoch 25/40\n",
      "48000/48000 [==============================] - 2s 43us/sample - loss: 0.4236 - accuracy: 0.8526 - val_loss: 0.4147 - val_accuracy: 0.8545\n",
      "Epoch 26/40\n",
      "48000/48000 [==============================] - 2s 43us/sample - loss: 0.4205 - accuracy: 0.8522 - val_loss: 0.4117 - val_accuracy: 0.8543\n",
      "Epoch 27/40\n",
      "48000/48000 [==============================] - 2s 42us/sample - loss: 0.4175 - accuracy: 0.8533 - val_loss: 0.4097 - val_accuracy: 0.8556\n",
      "Epoch 28/40\n",
      "48000/48000 [==============================] - 2s 43us/sample - loss: 0.4147 - accuracy: 0.8536 - val_loss: 0.4067 - val_accuracy: 0.8568\n",
      "Epoch 29/40\n",
      "48000/48000 [==============================] - 2s 44us/sample - loss: 0.4124 - accuracy: 0.8549 - val_loss: 0.4063 - val_accuracy: 0.8577\n",
      "Epoch 30/40\n",
      "48000/48000 [==============================] - 2s 44us/sample - loss: 0.4097 - accuracy: 0.8558 - val_loss: 0.4028 - val_accuracy: 0.8572\n",
      "Epoch 31/40\n",
      "48000/48000 [==============================] - 2s 43us/sample - loss: 0.4074 - accuracy: 0.8562 - val_loss: 0.4008 - val_accuracy: 0.8587\n",
      "Epoch 32/40\n",
      "48000/48000 [==============================] - 2s 43us/sample - loss: 0.4052 - accuracy: 0.8577 - val_loss: 0.3993 - val_accuracy: 0.8588\n",
      "Epoch 33/40\n",
      "48000/48000 [==============================] - 2s 43us/sample - loss: 0.4029 - accuracy: 0.8587 - val_loss: 0.3969 - val_accuracy: 0.8602\n",
      "Epoch 34/40\n",
      "48000/48000 [==============================] - 2s 43us/sample - loss: 0.4008 - accuracy: 0.8587 - val_loss: 0.3956 - val_accuracy: 0.8587\n",
      "Epoch 35/40\n",
      "48000/48000 [==============================] - 2s 43us/sample - loss: 0.3988 - accuracy: 0.8591 - val_loss: 0.3953 - val_accuracy: 0.8609\n",
      "Epoch 36/40\n",
      "48000/48000 [==============================] - 2s 43us/sample - loss: 0.3966 - accuracy: 0.8598 - val_loss: 0.3934 - val_accuracy: 0.8617\n",
      "Epoch 37/40\n",
      "48000/48000 [==============================] - 2s 43us/sample - loss: 0.3945 - accuracy: 0.8606 - val_loss: 0.3909 - val_accuracy: 0.8617\n",
      "Epoch 38/40\n",
      "48000/48000 [==============================] - 2s 44us/sample - loss: 0.3929 - accuracy: 0.8615 - val_loss: 0.3891 - val_accuracy: 0.8627\n",
      "Epoch 39/40\n",
      "48000/48000 [==============================] - 2s 45us/sample - loss: 0.3908 - accuracy: 0.8620 - val_loss: 0.3884 - val_accuracy: 0.8612\n",
      "Epoch 40/40\n",
      "48000/48000 [==============================] - 2s 44us/sample - loss: 0.3892 - accuracy: 0.8635 - val_loss: 0.3866 - val_accuracy: 0.8624\n"
     ]
    }
   ],
   "source": [
    "history = model.fit(x_train, y_train_encoded, epochs=40, validation_data=(x_val, y_val_encoded))"
   ]
  },
  {
   "cell_type": "code",
   "execution_count": 32,
   "metadata": {
    "execution": {
     "iopub.execute_input": "2021-12-15T03:51:42.680373Z",
     "iopub.status.busy": "2021-12-15T03:51:42.680086Z",
     "iopub.status.idle": "2021-12-15T03:51:42.861329Z",
     "shell.execute_reply": "2021-12-15T03:51:42.860429Z",
     "shell.execute_reply.started": "2021-12-15T03:51:42.680349Z"
    }
   },
   "outputs": [
    {
     "data": {
      "image/png": "[encoded data removed]",
      "text/plain": [
       "<Figure size 432x288 with 1 Axes>"
      ]
     },
     "metadata": {
      "needs_background": "light"
     },
     "output_type": "display_data"
    }
   ],
   "source": [
    "plt.plot(history.history['loss'])\n",
    "plt.plot(history.history['val_loss'])\n",
    "plt.ylabel('loss')\n",
    "plt.xlabel('epoch')\n",
    "plt.legend(['train_loss', 'val_loss'])\n",
    "plt.show()"
   ]
  },
  {
   "cell_type": "code",
   "execution_count": 33,
   "metadata": {
    "execution": {
     "iopub.execute_input": "2021-12-15T03:51:52.464099Z",
     "iopub.status.busy": "2021-12-15T03:51:52.463831Z",
     "iopub.status.idle": "2021-12-15T03:51:52.638827Z",
     "shell.execute_reply": "2021-12-15T03:51:52.638056Z",
     "shell.execute_reply.started": "2021-12-15T03:51:52.464076Z"
    }
   },
   "outputs": [
    {
     "data": {
      "image/png": "[encoded data removed]",
      "text/plain": [
       "<Figure size 432x288 with 1 Axes>"
      ]
     },
     "metadata": {
      "needs_background": "light"
     },
     "output_type": "display_data"
    }
   ],
   "source": [
    "plt.plot(history.history['accuracy'])\n",
    "plt.plot(history.history['val_accuracy'])\n",
    "plt.ylabel('accuracy')\n",
    "plt.xlabel('epoch')\n",
    "plt.legend(['train_accuracy', 'val_accuracy'])\n",
    "plt.show()\n"
   ]
  },
  {
   "cell_type": "code",
   "execution_count": 34,
   "metadata": {
    "execution": {
     "iopub.execute_input": "2021-12-15T03:52:02.712141Z",
     "iopub.status.busy": "2021-12-15T03:52:02.711822Z",
     "iopub.status.idle": "2021-12-15T03:52:03.004065Z",
     "shell.execute_reply": "2021-12-15T03:52:03.003428Z",
     "shell.execute_reply.started": "2021-12-15T03:52:02.712117Z"
    }
   },
   "outputs": [
    {
     "data": {
      "text/plain": [
       "(0.3865626285473506, 0.8624167)"
      ]
     },
     "execution_count": 34,
     "metadata": {},
     "output_type": "execute_result"
    }
   ],
   "source": [
    "loss, accuracy = model.evaluate(x_val, y_val_encoded, verbose=0)\n",
    "loss, accuracy "
   ]
  },
  {
   "cell_type": "code",
   "execution_count": null,
   "metadata": {},
   "outputs": [],
   "source": []
  }
 ],
 "metadata": {
  "kernelspec": {
   "display_name": "Python 3",
   "language": "python",
   "name": "python3"
  },
  "language_info": {
   "codemirror_mode": {
    "name": "ipython",
    "version": 3
   },
   "file_extension": ".py",
   "mimetype": "text/x-python",
   "name": "python",
   "nbconvert_exporter": "python",
   "pygments_lexer": "ipython3",
   "version": "3.7.3"
  }
 },
 "nbformat": 4,
 "nbformat_minor": 4
}
