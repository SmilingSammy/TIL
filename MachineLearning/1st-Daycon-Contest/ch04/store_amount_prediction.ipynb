{
 "cells": [
  {
   "cell_type": "markdown",
   "metadata": {},
   "source": [
    "## 4.2 데이터 전처리\n",
    "### 4.2.1 노이즈 제거"
   ]
  },
  {
   "cell_type": "code",
   "execution_count": 1,
   "metadata": {},
   "outputs": [
    {
     "data": {
      "text/html": [
       "<div>\n",
       "<style scoped>\n",
       "    .dataframe tbody tr th:only-of-type {\n",
       "        vertical-align: middle;\n",
       "    }\n",
       "\n",
       "    .dataframe tbody tr th {\n",
       "        vertical-align: top;\n",
       "    }\n",
       "\n",
       "    .dataframe thead th {\n",
       "        text-align: right;\n",
       "    }\n",
       "</style>\n",
       "<table border=\"1\" class=\"dataframe\">\n",
       "  <thead>\n",
       "    <tr style=\"text-align: right;\">\n",
       "      <th></th>\n",
       "      <th>store_id</th>\n",
       "      <th>card_id</th>\n",
       "      <th>card_company</th>\n",
       "      <th>transacted_date</th>\n",
       "      <th>transacted_time</th>\n",
       "      <th>installment_term</th>\n",
       "      <th>region</th>\n",
       "      <th>type_of_business</th>\n",
       "      <th>amount</th>\n",
       "    </tr>\n",
       "  </thead>\n",
       "  <tbody>\n",
       "    <tr>\n",
       "      <td>0</td>\n",
       "      <td>0</td>\n",
       "      <td>0</td>\n",
       "      <td>b</td>\n",
       "      <td>2016-06-01</td>\n",
       "      <td>13:13</td>\n",
       "      <td>0</td>\n",
       "      <td>NaN</td>\n",
       "      <td>기타 미용업</td>\n",
       "      <td>1857.142857</td>\n",
       "    </tr>\n",
       "    <tr>\n",
       "      <td>1</td>\n",
       "      <td>0</td>\n",
       "      <td>1</td>\n",
       "      <td>h</td>\n",
       "      <td>2016-06-01</td>\n",
       "      <td>18:12</td>\n",
       "      <td>0</td>\n",
       "      <td>NaN</td>\n",
       "      <td>기타 미용업</td>\n",
       "      <td>857.142857</td>\n",
       "    </tr>\n",
       "    <tr>\n",
       "      <td>2</td>\n",
       "      <td>0</td>\n",
       "      <td>2</td>\n",
       "      <td>c</td>\n",
       "      <td>2016-06-01</td>\n",
       "      <td>18:52</td>\n",
       "      <td>0</td>\n",
       "      <td>NaN</td>\n",
       "      <td>기타 미용업</td>\n",
       "      <td>2000.000000</td>\n",
       "    </tr>\n",
       "    <tr>\n",
       "      <td>3</td>\n",
       "      <td>0</td>\n",
       "      <td>3</td>\n",
       "      <td>a</td>\n",
       "      <td>2016-06-01</td>\n",
       "      <td>20:22</td>\n",
       "      <td>0</td>\n",
       "      <td>NaN</td>\n",
       "      <td>기타 미용업</td>\n",
       "      <td>7857.142857</td>\n",
       "    </tr>\n",
       "    <tr>\n",
       "      <td>4</td>\n",
       "      <td>0</td>\n",
       "      <td>4</td>\n",
       "      <td>c</td>\n",
       "      <td>2016-06-02</td>\n",
       "      <td>11:06</td>\n",
       "      <td>0</td>\n",
       "      <td>NaN</td>\n",
       "      <td>기타 미용업</td>\n",
       "      <td>2000.000000</td>\n",
       "    </tr>\n",
       "  </tbody>\n",
       "</table>\n",
       "</div>"
      ],
      "text/plain": [
       "   store_id  card_id card_company transacted_date transacted_time  \\\n",
       "0         0        0            b      2016-06-01           13:13   \n",
       "1         0        1            h      2016-06-01           18:12   \n",
       "2         0        2            c      2016-06-01           18:52   \n",
       "3         0        3            a      2016-06-01           20:22   \n",
       "4         0        4            c      2016-06-02           11:06   \n",
       "\n",
       "   installment_term region type_of_business       amount  \n",
       "0                 0    NaN           기타 미용업  1857.142857  \n",
       "1                 0    NaN           기타 미용업   857.142857  \n",
       "2                 0    NaN           기타 미용업  2000.000000  \n",
       "3                 0    NaN           기타 미용업  7857.142857  \n",
       "4                 0    NaN           기타 미용업  2000.000000  "
      ]
     },
     "execution_count": 1,
     "metadata": {},
     "output_type": "execute_result"
    }
   ],
   "source": [
    "import pandas as pd\n",
    "import numpy as np\n",
    "import seaborn as sns\n",
    "from tqdm import tqdm\n",
    "import matplotlib.pyplot as plt\n",
    "\n",
    "train = pd.read_csv('./funda_train.csv')\n",
    "train.head()"
   ]
  },
  {
   "cell_type": "code",
   "execution_count": 2,
   "metadata": {},
   "outputs": [
    {
     "data": {
      "text/plain": [
       "([0, 1, 2, 3, 4, 5, 6, 7, 8],\n",
       " [Text(0, 0, ''),\n",
       "  Text(0, 0, ''),\n",
       "  Text(0, 0, ''),\n",
       "  Text(0, 0, ''),\n",
       "  Text(0, 0, ''),\n",
       "  Text(0, 0, ''),\n",
       "  Text(0, 0, ''),\n",
       "  Text(0, 0, ''),\n",
       "  Text(0, 0, '')])"
      ]
     },
     "execution_count": 2,
     "metadata": {},
     "output_type": "execute_result"
    },
    {
     "data": {
      "image/png": "[encoded data removed]",
      "text/plain": [
       "<Figure size 936x288 with 1 Axes>"
      ]
     },
     "metadata": {
      "needs_background": "light"
     },
     "output_type": "display_data"
    }
   ],
   "source": [
    "plt.figure(figsize=(13, 4))\n",
    "plt.bar(train.columns, train.isnull().sum())\n",
    "plt.xticks(rotation=45)"
   ]
  },
  {
   "cell_type": "code",
   "execution_count": 3,
   "metadata": {},
   "outputs": [
    {
     "data": {
      "text/html": [
       "<div>\n",
       "<style scoped>\n",
       "    .dataframe tbody tr th:only-of-type {\n",
       "        vertical-align: middle;\n",
       "    }\n",
       "\n",
       "    .dataframe tbody tr th {\n",
       "        vertical-align: top;\n",
       "    }\n",
       "\n",
       "    .dataframe thead th {\n",
       "        text-align: right;\n",
       "    }\n",
       "</style>\n",
       "<table border=\"1\" class=\"dataframe\">\n",
       "  <thead>\n",
       "    <tr style=\"text-align: right;\">\n",
       "      <th></th>\n",
       "      <th>store_id</th>\n",
       "      <th>card_id</th>\n",
       "      <th>card_company</th>\n",
       "      <th>transacted_date</th>\n",
       "      <th>transacted_time</th>\n",
       "      <th>installment_term</th>\n",
       "      <th>amount</th>\n",
       "    </tr>\n",
       "  </thead>\n",
       "  <tbody>\n",
       "    <tr>\n",
       "      <td>0</td>\n",
       "      <td>0</td>\n",
       "      <td>0</td>\n",
       "      <td>b</td>\n",
       "      <td>2016-06-01</td>\n",
       "      <td>13:13</td>\n",
       "      <td>0</td>\n",
       "      <td>1857.142857</td>\n",
       "    </tr>\n",
       "    <tr>\n",
       "      <td>1</td>\n",
       "      <td>0</td>\n",
       "      <td>1</td>\n",
       "      <td>h</td>\n",
       "      <td>2016-06-01</td>\n",
       "      <td>18:12</td>\n",
       "      <td>0</td>\n",
       "      <td>857.142857</td>\n",
       "    </tr>\n",
       "    <tr>\n",
       "      <td>2</td>\n",
       "      <td>0</td>\n",
       "      <td>2</td>\n",
       "      <td>c</td>\n",
       "      <td>2016-06-01</td>\n",
       "      <td>18:52</td>\n",
       "      <td>0</td>\n",
       "      <td>2000.000000</td>\n",
       "    </tr>\n",
       "    <tr>\n",
       "      <td>3</td>\n",
       "      <td>0</td>\n",
       "      <td>3</td>\n",
       "      <td>a</td>\n",
       "      <td>2016-06-01</td>\n",
       "      <td>20:22</td>\n",
       "      <td>0</td>\n",
       "      <td>7857.142857</td>\n",
       "    </tr>\n",
       "    <tr>\n",
       "      <td>4</td>\n",
       "      <td>0</td>\n",
       "      <td>4</td>\n",
       "      <td>c</td>\n",
       "      <td>2016-06-02</td>\n",
       "      <td>11:06</td>\n",
       "      <td>0</td>\n",
       "      <td>2000.000000</td>\n",
       "    </tr>\n",
       "  </tbody>\n",
       "</table>\n",
       "</div>"
      ],
      "text/plain": [
       "   store_id  card_id card_company transacted_date transacted_time  \\\n",
       "0         0        0            b      2016-06-01           13:13   \n",
       "1         0        1            h      2016-06-01           18:12   \n",
       "2         0        2            c      2016-06-01           18:52   \n",
       "3         0        3            a      2016-06-01           20:22   \n",
       "4         0        4            c      2016-06-02           11:06   \n",
       "\n",
       "   installment_term       amount  \n",
       "0                 0  1857.142857  \n",
       "1                 0   857.142857  \n",
       "2                 0  2000.000000  \n",
       "3                 0  7857.142857  \n",
       "4                 0  2000.000000  "
      ]
     },
     "execution_count": 3,
     "metadata": {},
     "output_type": "execute_result"
    }
   ],
   "source": [
    "train = train.drop(['region','type_of_business'],axis=1)\n",
    "train.head()"
   ]
  },
  {
   "cell_type": "code",
   "execution_count": 4,
   "metadata": {},
   "outputs": [
    {
     "name": "stderr",
     "output_type": "stream",
     "text": [
      "C:\\Users\\sk8er\\anaconda3\\envs\\store_amount_prediction\\lib\\site-packages\\seaborn\\_decorators.py:43: FutureWarning: Pass the following variable as a keyword arg: x. From version 0.12, the only valid positional argument will be `data`, and passing other arguments without an explicit keyword will result in an error or misinterpretation.\n",
      "  FutureWarning\n"
     ]
    },
    {
     "data": {
      "text/plain": [
       "<AxesSubplot:xlabel='amount'>"
      ]
     },
     "execution_count": 4,
     "metadata": {},
     "output_type": "execute_result"
    },
    {
     "data": {
      "image/png": "[encoded data removed]",
      "text/plain": [
       "<Figure size 576x288 with 1 Axes>"
      ]
     },
     "metadata": {
      "needs_background": "light"
     },
     "output_type": "display_data"
    }
   ],
   "source": [
    "plt.figure(figsize=(8, 4))\n",
    "sns.boxplot(train['amount'])"
   ]
  },
  {
   "cell_type": "code",
   "execution_count": 5,
   "metadata": {},
   "outputs": [
    {
     "data": {
      "text/html": [
       "<div>\n",
       "<style scoped>\n",
       "    .dataframe tbody tr th:only-of-type {\n",
       "        vertical-align: middle;\n",
       "    }\n",
       "\n",
       "    .dataframe tbody tr th {\n",
       "        vertical-align: top;\n",
       "    }\n",
       "\n",
       "    .dataframe thead th {\n",
       "        text-align: right;\n",
       "    }\n",
       "</style>\n",
       "<table border=\"1\" class=\"dataframe\">\n",
       "  <thead>\n",
       "    <tr style=\"text-align: right;\">\n",
       "      <th></th>\n",
       "      <th>store_id</th>\n",
       "      <th>card_id</th>\n",
       "      <th>card_company</th>\n",
       "      <th>transacted_date</th>\n",
       "      <th>transacted_time</th>\n",
       "      <th>installment_term</th>\n",
       "      <th>amount</th>\n",
       "    </tr>\n",
       "  </thead>\n",
       "  <tbody>\n",
       "    <tr>\n",
       "      <td>41</td>\n",
       "      <td>0</td>\n",
       "      <td>40</td>\n",
       "      <td>a</td>\n",
       "      <td>2016-06-10</td>\n",
       "      <td>17:26</td>\n",
       "      <td>2</td>\n",
       "      <td>-8571.428571</td>\n",
       "    </tr>\n",
       "    <tr>\n",
       "      <td>347</td>\n",
       "      <td>0</td>\n",
       "      <td>285</td>\n",
       "      <td>a</td>\n",
       "      <td>2016-08-04</td>\n",
       "      <td>17:52</td>\n",
       "      <td>0</td>\n",
       "      <td>-1857.142857</td>\n",
       "    </tr>\n",
       "    <tr>\n",
       "      <td>731</td>\n",
       "      <td>0</td>\n",
       "      <td>473</td>\n",
       "      <td>g</td>\n",
       "      <td>2016-10-17</td>\n",
       "      <td>10:32</td>\n",
       "      <td>0</td>\n",
       "      <td>-2000.000000</td>\n",
       "    </tr>\n",
       "    <tr>\n",
       "      <td>831</td>\n",
       "      <td>0</td>\n",
       "      <td>230</td>\n",
       "      <td>b</td>\n",
       "      <td>2016-11-03</td>\n",
       "      <td>15:36</td>\n",
       "      <td>0</td>\n",
       "      <td>-85.714286</td>\n",
       "    </tr>\n",
       "    <tr>\n",
       "      <td>944</td>\n",
       "      <td>0</td>\n",
       "      <td>138</td>\n",
       "      <td>a</td>\n",
       "      <td>2016-11-28</td>\n",
       "      <td>13:21</td>\n",
       "      <td>0</td>\n",
       "      <td>-57.142857</td>\n",
       "    </tr>\n",
       "  </tbody>\n",
       "</table>\n",
       "</div>"
      ],
      "text/plain": [
       "     store_id  card_id card_company transacted_date transacted_time  \\\n",
       "41          0       40            a      2016-06-10           17:26   \n",
       "347         0      285            a      2016-08-04           17:52   \n",
       "731         0      473            g      2016-10-17           10:32   \n",
       "831         0      230            b      2016-11-03           15:36   \n",
       "944         0      138            a      2016-11-28           13:21   \n",
       "\n",
       "     installment_term       amount  \n",
       "41                  2 -8571.428571  \n",
       "347                 0 -1857.142857  \n",
       "731                 0 -2000.000000  \n",
       "831                 0   -85.714286  \n",
       "944                 0   -57.142857  "
      ]
     },
     "execution_count": 5,
     "metadata": {},
     "output_type": "execute_result"
    }
   ],
   "source": [
    "train[train['amount']<0].head()"
   ]
  },
  {
   "cell_type": "code",
   "execution_count": 6,
   "metadata": {},
   "outputs": [],
   "source": [
    "# 거래일와 거래시간을 합친 변수를 생성합니다.\n",
    "train['datetime'] = pd.to_datetime(train.transacted_date + \" \" + \n",
    "                                train.transacted_time, format='%Y-%m-%d %H:%M:%S')\n",
    "## 환불 거래를 제거하는 함수를 정의합니다.\n",
    "def remove_refund(df):\n",
    "    refund = df[df['amount']<0] # 매출액 음숫값 데이터를 추출합니다.\n",
    "    non_refund = df[df['amount']>0] # 매출액 양숫값 데이터를 추출합니다.\n",
    "    removed_data = pd.DataFrame()\n",
    "    \n",
    "    for i in tqdm(df.store_id.unique()):\n",
    "        # 매출액이 양숫값인 데이터를 상점별로 나눕니다.\n",
    "        divided_data = non_refund[non_refund['store_id']==i] \n",
    "        # 매출액이 음숫값인 데이터를 상점별로 나눕니다.\n",
    "        divided_data2 = refund[refund['store_id']==i] \n",
    "        \n",
    "        for neg in divided_data2.to_records()[:]: # 환불 데이터를 차례대로 검사합니다.\n",
    "            refund_store = neg['store_id']\n",
    "            refund_id = neg['card_id'] # 환불 카드 아이디를 추출합니다.\n",
    "            refund_datetime = neg['datetime'] # 환불 시간을 추출합니다.\n",
    "            refund_amount = abs(neg['amount']) # 매출 음숫값의 절댓값을 구합니다.\n",
    "                \n",
    "            ## 환불 시간 이전의 데이터 중 카드 이이디와 환불액이 같은 후보 리스트를 뽑습니다.\n",
    "            refund_pay_list = divided_data[divided_data['datetime']<=refund_datetime]\n",
    "            refund_pay_list = refund_pay_list[refund_pay_list['card_id']==refund_id]\n",
    "            refund_pay_list = refund_pay_list[refund_pay_list['amount']==refund_amount]\n",
    "                     \n",
    "            # 후보 리스트가 있으면 카드 아이디, 환불액이 같으면서 가장 최근시간을 제거합니다.\n",
    "            if(len(refund_pay_list)!=0):\n",
    "                refund_datetime = max(refund_pay_list['datetime']) # 가장 최근 시간을 구합니다\n",
    "                noise_list = divided_data[divided_data['datetime']==refund_datetime] # 가장 최근시간\n",
    "                noise_list = noise_list[noise_list['card_id']==refund_id] # 환불 카드 아이디\n",
    "                noise_list = noise_list[noise_list['amount']==refund_amount] ## 환불액\n",
    "                divided_data = divided_data.drop(index=noise_list.index) # 인덱스를 통해 제거\n",
    "                    \n",
    "        ## 제거한 데이터를 데이터프레임에 추가합니다.\n",
    "        removed_data = pd.concat([removed_data,divided_data],axis=0)\n",
    "    \n",
    "    return removed_data"
   ]
  },
  {
   "cell_type": "code",
   "execution_count": 7,
   "metadata": {},
   "outputs": [
    {
     "name": "stderr",
     "output_type": "stream",
     "text": [
      "100%|██████████████████████████████████████████████████████████████████████████████| 1967/1967 [08:15<00:00,  3.97it/s]\n",
      "C:\\Users\\sk8er\\anaconda3\\envs\\store_amount_prediction\\lib\\site-packages\\seaborn\\_decorators.py:43: FutureWarning: Pass the following variable as a keyword arg: x. From version 0.12, the only valid positional argument will be `data`, and passing other arguments without an explicit keyword will result in an error or misinterpretation.\n",
      "  FutureWarning\n"
     ]
    },
    {
     "data": {
      "text/plain": [
       "<AxesSubplot:xlabel='amount'>"
      ]
     },
     "execution_count": 7,
     "metadata": {},
     "output_type": "execute_result"
    },
    {
     "data": {
      "image/png": "[encoded data removed]",
      "text/plain": [
       "<Figure size 576x288 with 1 Axes>"
      ]
     },
     "metadata": {
      "needs_background": "light"
     },
     "output_type": "display_data"
    }
   ],
   "source": [
    "## 환불 거래 제거 함수를 통해 환불 거래를 제거합니다.\n",
    "positive_data = remove_refund(train)\n",
    "plt.figure(figsize=(8, 4))\n",
    "sns.boxplot(positive_data['amount'])"
   ]
  },
  {
   "cell_type": "markdown",
   "metadata": {},
   "source": [
    "### 4.2.2 다운 샘플링"
   ]
  },
  {
   "cell_type": "code",
   "execution_count": 8,
   "metadata": {},
   "outputs": [
    {
     "data": {
      "text/html": [
       "<div>\n",
       "<style scoped>\n",
       "    .dataframe tbody tr th:only-of-type {\n",
       "        vertical-align: middle;\n",
       "    }\n",
       "\n",
       "    .dataframe tbody tr th {\n",
       "        vertical-align: top;\n",
       "    }\n",
       "\n",
       "    .dataframe thead th {\n",
       "        text-align: right;\n",
       "    }\n",
       "</style>\n",
       "<table border=\"1\" class=\"dataframe\">\n",
       "  <thead>\n",
       "    <tr style=\"text-align: right;\">\n",
       "      <th></th>\n",
       "      <th>store_id</th>\n",
       "      <th>card_id</th>\n",
       "      <th>card_company</th>\n",
       "      <th>transacted_date</th>\n",
       "      <th>transacted_time</th>\n",
       "      <th>installment_term</th>\n",
       "      <th>amount</th>\n",
       "      <th>datetime</th>\n",
       "    </tr>\n",
       "  </thead>\n",
       "  <tbody>\n",
       "    <tr>\n",
       "      <td>0</td>\n",
       "      <td>0</td>\n",
       "      <td>0</td>\n",
       "      <td>b</td>\n",
       "      <td>2016-06-01</td>\n",
       "      <td>13:13</td>\n",
       "      <td>0</td>\n",
       "      <td>1857.142857</td>\n",
       "      <td>2016-06-01 13:13:00</td>\n",
       "    </tr>\n",
       "    <tr>\n",
       "      <td>1</td>\n",
       "      <td>0</td>\n",
       "      <td>1</td>\n",
       "      <td>h</td>\n",
       "      <td>2016-06-01</td>\n",
       "      <td>18:12</td>\n",
       "      <td>0</td>\n",
       "      <td>857.142857</td>\n",
       "      <td>2016-06-01 18:12:00</td>\n",
       "    </tr>\n",
       "    <tr>\n",
       "      <td>2</td>\n",
       "      <td>0</td>\n",
       "      <td>2</td>\n",
       "      <td>c</td>\n",
       "      <td>2016-06-01</td>\n",
       "      <td>18:52</td>\n",
       "      <td>0</td>\n",
       "      <td>2000.000000</td>\n",
       "      <td>2016-06-01 18:52:00</td>\n",
       "    </tr>\n",
       "    <tr>\n",
       "      <td>3</td>\n",
       "      <td>0</td>\n",
       "      <td>3</td>\n",
       "      <td>a</td>\n",
       "      <td>2016-06-01</td>\n",
       "      <td>20:22</td>\n",
       "      <td>0</td>\n",
       "      <td>7857.142857</td>\n",
       "      <td>2016-06-01 20:22:00</td>\n",
       "    </tr>\n",
       "    <tr>\n",
       "      <td>4</td>\n",
       "      <td>0</td>\n",
       "      <td>4</td>\n",
       "      <td>c</td>\n",
       "      <td>2016-06-02</td>\n",
       "      <td>11:06</td>\n",
       "      <td>0</td>\n",
       "      <td>2000.000000</td>\n",
       "      <td>2016-06-02 11:06:00</td>\n",
       "    </tr>\n",
       "  </tbody>\n",
       "</table>\n",
       "</div>"
      ],
      "text/plain": [
       "   store_id  card_id card_company transacted_date transacted_time  \\\n",
       "0         0        0            b      2016-06-01           13:13   \n",
       "1         0        1            h      2016-06-01           18:12   \n",
       "2         0        2            c      2016-06-01           18:52   \n",
       "3         0        3            a      2016-06-01           20:22   \n",
       "4         0        4            c      2016-06-02           11:06   \n",
       "\n",
       "   installment_term       amount            datetime  \n",
       "0                 0  1857.142857 2016-06-01 13:13:00  \n",
       "1                 0   857.142857 2016-06-01 18:12:00  \n",
       "2                 0  2000.000000 2016-06-01 18:52:00  \n",
       "3                 0  7857.142857 2016-06-01 20:22:00  \n",
       "4                 0  2000.000000 2016-06-02 11:06:00  "
      ]
     },
     "execution_count": 8,
     "metadata": {},
     "output_type": "execute_result"
    }
   ],
   "source": [
    "# 5개의 행을 출력합니다.\n",
    "positive_data.head()"
   ]
  },
  {
   "cell_type": "code",
   "execution_count": 9,
   "metadata": {},
   "outputs": [],
   "source": [
    "## 월 단위 다운 샘플링 함수를 정의\n",
    "def month_resampling(df):\n",
    "    new_data = pd.DataFrame() \n",
    "    # 년도와 월을 합친 변수를 생성합니다.\n",
    "    df['year_month'] = df['transacted_date'].str.slice(stop=7)\n",
    "    # 데이터의 전체 기간을 추출합니다.\n",
    "    year_month = df['year_month'].drop_duplicates()\n",
    "    # 상점 아이디별로 월 단위 매출액 총합을 구합니다.\n",
    "    downsampling_data = df.groupby(['store_id', 'year_month']).amount.sum()\n",
    "    downsampling_data = pd.DataFrame(downsampling_data)\n",
    "    downsampling_data = downsampling_data.reset_index(drop=False,inplace=False)\n",
    "    \n",
    "    for i in tqdm(df.store_id.unique()):\n",
    "        # 상점별로 데이터를 처리합니다.\n",
    "        store = downsampling_data[downsampling_data['store_id']==i]\n",
    "        # 각 상점의 처음 매출이 발생한 월을 구합니다.\n",
    "        start_time = min(store['year_month'])\n",
    "        # 모든 상점을 전체 기간 데이터로 만듭니다.\n",
    "        store = store.merge(year_month,how='outer')\n",
    "        # 데이터를 시간순으로 정렬합니다.\n",
    "        store = store.sort_values(by=['year_month'], axis=0, ascending=True) \n",
    "        store['amount'] = store['amount'].fillna(2)   # 매출이 발생하지 않는 월은 2로 채웁니다.\n",
    "        store['store_id'] = store['store_id'].fillna(i)  # 상점 아이디 결측치를 채웁니다.\n",
    "        store = store[store['year_month']>=start_time]  # 처음 매출이 발생한 월 이후만 뽑습니다.\n",
    "        \n",
    "        new_data = pd.concat([new_data,store],axis=0)\n",
    "        \n",
    "    return new_data\n"
   ]
  },
  {
   "cell_type": "code",
   "execution_count": 10,
   "metadata": {},
   "outputs": [
    {
     "name": "stderr",
     "output_type": "stream",
     "text": [
      "100%|█████████████████████████████████████████████████████████████████████████████| 1967/1967 [00:08<00:00, 236.62it/s]\n"
     ]
    },
    {
     "data": {
      "text/html": [
       "<div>\n",
       "<style scoped>\n",
       "    .dataframe tbody tr th:only-of-type {\n",
       "        vertical-align: middle;\n",
       "    }\n",
       "\n",
       "    .dataframe tbody tr th {\n",
       "        vertical-align: top;\n",
       "    }\n",
       "\n",
       "    .dataframe thead th {\n",
       "        text-align: right;\n",
       "    }\n",
       "</style>\n",
       "<table border=\"1\" class=\"dataframe\">\n",
       "  <thead>\n",
       "    <tr style=\"text-align: right;\">\n",
       "      <th></th>\n",
       "      <th>store_id</th>\n",
       "      <th>year_month</th>\n",
       "      <th>amount</th>\n",
       "    </tr>\n",
       "  </thead>\n",
       "  <tbody>\n",
       "    <tr>\n",
       "      <td>0</td>\n",
       "      <td>0</td>\n",
       "      <td>2016-06</td>\n",
       "      <td>7.470000e+05</td>\n",
       "    </tr>\n",
       "    <tr>\n",
       "      <td>1</td>\n",
       "      <td>0</td>\n",
       "      <td>2016-07</td>\n",
       "      <td>1.005000e+06</td>\n",
       "    </tr>\n",
       "    <tr>\n",
       "      <td>2</td>\n",
       "      <td>0</td>\n",
       "      <td>2016-08</td>\n",
       "      <td>8.697143e+05</td>\n",
       "    </tr>\n",
       "    <tr>\n",
       "      <td>3</td>\n",
       "      <td>0</td>\n",
       "      <td>2016-09</td>\n",
       "      <td>8.978571e+05</td>\n",
       "    </tr>\n",
       "    <tr>\n",
       "      <td>4</td>\n",
       "      <td>0</td>\n",
       "      <td>2016-10</td>\n",
       "      <td>8.354286e+05</td>\n",
       "    </tr>\n",
       "    <tr>\n",
       "      <td>...</td>\n",
       "      <td>...</td>\n",
       "      <td>...</td>\n",
       "      <td>...</td>\n",
       "    </tr>\n",
       "    <tr>\n",
       "      <td>17</td>\n",
       "      <td>2136</td>\n",
       "      <td>2018-10</td>\n",
       "      <td>2.012214e+06</td>\n",
       "    </tr>\n",
       "    <tr>\n",
       "      <td>18</td>\n",
       "      <td>2136</td>\n",
       "      <td>2018-11</td>\n",
       "      <td>2.127643e+06</td>\n",
       "    </tr>\n",
       "    <tr>\n",
       "      <td>19</td>\n",
       "      <td>2136</td>\n",
       "      <td>2018-12</td>\n",
       "      <td>2.427429e+06</td>\n",
       "    </tr>\n",
       "    <tr>\n",
       "      <td>20</td>\n",
       "      <td>2136</td>\n",
       "      <td>2019-01</td>\n",
       "      <td>1.867786e+06</td>\n",
       "    </tr>\n",
       "    <tr>\n",
       "      <td>21</td>\n",
       "      <td>2136</td>\n",
       "      <td>2019-02</td>\n",
       "      <td>2.227429e+06</td>\n",
       "    </tr>\n",
       "  </tbody>\n",
       "</table>\n",
       "<p>60982 rows × 3 columns</p>\n",
       "</div>"
      ],
      "text/plain": [
       "    store_id year_month        amount\n",
       "0          0    2016-06  7.470000e+05\n",
       "1          0    2016-07  1.005000e+06\n",
       "2          0    2016-08  8.697143e+05\n",
       "3          0    2016-09  8.978571e+05\n",
       "4          0    2016-10  8.354286e+05\n",
       "..       ...        ...           ...\n",
       "17      2136    2018-10  2.012214e+06\n",
       "18      2136    2018-11  2.127643e+06\n",
       "19      2136    2018-12  2.427429e+06\n",
       "20      2136    2019-01  1.867786e+06\n",
       "21      2136    2019-02  2.227429e+06\n",
       "\n",
       "[60982 rows x 3 columns]"
      ]
     },
     "execution_count": 10,
     "metadata": {},
     "output_type": "execute_result"
    }
   ],
   "source": [
    "# 환불 제거 데이터를 월 단위로 다운 샘플링합니다.\n",
    "resampling_data = month_resampling(positive_data)\n",
    "resampling_data['store_id'] = resampling_data['store_id'].astype(int)\n",
    "resampling_data\n"
   ]
  },
  {
   "cell_type": "markdown",
   "metadata": {},
   "source": [
    "### 4.2.3 날짜 지정 범위 생성과 시리즈 객체 변환"
   ]
  },
  {
   "cell_type": "code",
   "execution_count": 11,
   "metadata": {},
   "outputs": [
    {
     "name": "stdout",
     "output_type": "stream",
     "text": [
      "<class 'pandas.core.frame.DataFrame'>\n"
     ]
    }
   ],
   "source": [
    "## 데이터 타입을 출력\n",
    "print(type(resampling_data))"
   ]
  },
  {
   "cell_type": "code",
   "execution_count": 12,
   "metadata": {},
   "outputs": [],
   "source": [
    "# 데이터프레임을 Series로 변환하는 함수\n",
    "def time_series(df, i):\n",
    "    # 상점별로 데이터를 뽑습니다.\n",
    "    store = df[df['store_id']==i]\n",
    "    ## 날짜 지정 범위는 영업 시작 월부터 2019년 3월 전까지 영업 마감일 기준\n",
    "    index = pd.date_range(min(store['year_month']),'2019-03',freq='BM') \n",
    "    ## 시리즈 객체로 변환\n",
    "    ts = pd.Series(store['amount'].values,index=index)\n",
    "    return ts"
   ]
  },
  {
   "cell_type": "code",
   "execution_count": 13,
   "metadata": {},
   "outputs": [
    {
     "data": {
      "text/plain": [
       "2016-06-30    7.470000e+05\n",
       "2016-07-29    1.005000e+06\n",
       "2016-08-31    8.697143e+05\n",
       "2016-09-30    8.978571e+05\n",
       "2016-10-31    8.354286e+05\n",
       "2016-11-30    6.970000e+05\n",
       "2016-12-30    7.618571e+05\n",
       "2017-01-31    5.856429e+05\n",
       "2017-02-28    7.940000e+05\n",
       "2017-03-31    7.202571e+05\n",
       "2017-04-28    6.852857e+05\n",
       "2017-05-31    7.444286e+05\n",
       "2017-06-30    6.820000e+05\n",
       "2017-07-31    7.282857e+05\n",
       "2017-08-31    7.490000e+05\n",
       "2017-09-29    8.408571e+05\n",
       "2017-10-31    6.005714e+05\n",
       "2017-11-30    6.308571e+05\n",
       "2017-12-29    8.127143e+05\n",
       "2018-01-31    6.431429e+05\n",
       "2018-02-28    6.852857e+05\n",
       "2018-03-30    8.484286e+05\n",
       "2018-04-30    6.361429e+05\n",
       "2018-05-31    6.864286e+05\n",
       "2018-06-29    7.072857e+05\n",
       "2018-07-31    7.587143e+05\n",
       "2018-08-31    6.798571e+05\n",
       "2018-09-28    6.518571e+05\n",
       "2018-10-31    7.390000e+05\n",
       "2018-11-30    6.760000e+05\n",
       "2018-12-31    8.745714e+05\n",
       "2019-01-31    6.828571e+05\n",
       "2019-02-28    5.152857e+05\n",
       "Freq: BM, dtype: float64"
      ]
     },
     "execution_count": 13,
     "metadata": {},
     "output_type": "execute_result"
    }
   ],
   "source": [
    "# 상점 아이디가 0번인 데이터를 시리즈 객체로 변환\n",
    "store_0 = time_series(resampling_data, 0)\n",
    "store_0"
   ]
  },
  {
   "cell_type": "code",
   "execution_count": 14,
   "metadata": {
    "scrolled": true
   },
   "outputs": [
    {
     "name": "stdout",
     "output_type": "stream",
     "text": [
      "<class 'pandas.core.series.Series'>\n"
     ]
    }
   ],
   "source": [
    "## 데이터 타입을 출력\n",
    "store_1 = time_series(resampling_data, 1)\n",
    "print(type(store_1))"
   ]
  },
  {
   "cell_type": "code",
   "execution_count": 15,
   "metadata": {},
   "outputs": [
    {
     "data": {
      "text/plain": [
       "<AxesSubplot:>"
      ]
     },
     "execution_count": 15,
     "metadata": {},
     "output_type": "execute_result"
    },
    {
     "data": {
      "image/png": "[encoded data removed]",
      "text/plain": [
       "<Figure size 432x288 with 1 Axes>"
      ]
     },
     "metadata": {
      "needs_background": "light"
     },
     "output_type": "display_data"
    }
   ],
   "source": [
    "# 상점 아이디가 2번인 데이터를 시리즈 객체로 변환\n",
    "store_2 = time_series(resampling_data, 2)\n",
    "store_2.plot()"
   ]
  },
  {
   "cell_type": "markdown",
   "metadata": {},
   "source": [
    "## 4.3 탐색적 데이터 분석\n",
    "### 4.3.1 상점별 매출 특성\n",
    "#### 계절성이 있는 상점"
   ]
  },
  {
   "cell_type": "code",
   "execution_count": 16,
   "metadata": {},
   "outputs": [
    {
     "data": {
      "text/plain": [
       "2016-06-30    4.891857e+05\n",
       "2016-07-29    1.595280e+06\n",
       "2016-08-31    1.518714e+06\n",
       "2016-09-30    3.369143e+05\n",
       "2016-10-31    4.245714e+05\n",
       "2016-11-30    2.000000e+00\n",
       "2016-12-30    2.000000e+00\n",
       "2017-01-31    2.000000e+00\n",
       "2017-02-28    2.000000e+00\n",
       "2017-03-31    2.000000e+00\n",
       "2017-04-28    3.928571e+04\n",
       "2017-05-31    1.557286e+05\n",
       "2017-06-30    5.481143e+05\n",
       "2017-07-31    7.359286e+05\n",
       "2017-08-31    7.909700e+05\n",
       "2017-09-29    6.191429e+04\n",
       "2017-10-31    1.027143e+06\n",
       "2017-11-30    2.000000e+00\n",
       "2017-12-29    2.000000e+00\n",
       "2018-01-31    2.000000e+00\n",
       "2018-02-28    2.000000e+00\n",
       "2018-03-30    2.000000e+00\n",
       "2018-04-30    2.000000e+00\n",
       "2018-05-31    2.493857e+05\n",
       "2018-06-29    4.822286e+05\n",
       "2018-07-31    8.999714e+05\n",
       "2018-08-31    1.645877e+06\n",
       "2018-09-28    2.767857e+05\n",
       "2018-10-31    2.000000e+00\n",
       "2018-11-30    2.000000e+00\n",
       "2018-12-31    2.000000e+00\n",
       "2019-01-31    2.000000e+00\n",
       "2019-02-28    2.000000e+00\n",
       "Freq: BM, dtype: float64"
      ]
     },
     "execution_count": 16,
     "metadata": {},
     "output_type": "execute_result"
    }
   ],
   "source": [
    "# 상점 아이디가 257번인 데이터를 시리즈 객체로 데이터 출력\n",
    "store_257 = time_series(resampling_data, 257)\n",
    "store_257"
   ]
  },
  {
   "cell_type": "code",
   "execution_count": 17,
   "metadata": {},
   "outputs": [
    {
     "data": {
      "image/png": "[encoded data removed]",
      "text/plain": [
       "<Figure size 972x360 with 1 Axes>"
      ]
     },
     "metadata": {
      "needs_background": "light"
     },
     "output_type": "display_data"
    }
   ],
   "source": [
    "# 시계열 그래프 그리기\n",
    "store_plot_257 = store_257.plot()\n",
    "fig = store_plot_257.get_figure()\n",
    "fig.set_size_inches(13.5,5)"
   ]
  },
  {
   "cell_type": "code",
   "execution_count": 18,
   "metadata": {},
   "outputs": [
    {
     "data": {
      "text/plain": [
       "2016-07-29    5.075429e+04\n",
       "2016-08-31    9.219543e+05\n",
       "2016-09-30    4.720786e+05\n",
       "2016-10-31    5.145714e+05\n",
       "2016-11-30    1.494286e+05\n",
       "2016-12-30    1.071686e+06\n",
       "2017-01-31    1.602857e+06\n",
       "2017-02-28    1.332143e+06\n",
       "2017-03-31    2.432143e+05\n",
       "2017-04-28    3.903143e+06\n",
       "2017-05-31    1.729500e+06\n",
       "2017-06-30    4.280214e+06\n",
       "2017-07-31    1.775714e+06\n",
       "2017-08-31    7.428571e+05\n",
       "2017-09-29    1.415714e+06\n",
       "2017-10-31    1.180714e+06\n",
       "2017-11-30    4.640000e+05\n",
       "2017-12-29    1.389729e+06\n",
       "2018-01-31    2.000000e+00\n",
       "2018-02-28    8.285714e+05\n",
       "2018-03-30    7.857143e+05\n",
       "2018-04-30    6.670429e+06\n",
       "2018-05-31    1.837286e+05\n",
       "2018-06-29    3.285714e+06\n",
       "2018-07-31    9.502857e+05\n",
       "2018-08-31    3.675200e+06\n",
       "2018-09-28    1.793886e+06\n",
       "2018-10-31    4.717743e+06\n",
       "2018-11-30    7.593600e+06\n",
       "2018-12-31    1.428571e+06\n",
       "2019-01-31    4.285714e+05\n",
       "2019-02-28    1.428571e+06\n",
       "Freq: BM, dtype: float64"
      ]
     },
     "execution_count": 18,
     "metadata": {},
     "output_type": "execute_result"
    }
   ],
   "source": [
    "# 상점 아이디가 2096번인 데이터를 시리즈 객체로 데이터 출력\n",
    "store_2096 = time_series(resampling_data, 2096)\n",
    "store_2096"
   ]
  },
  {
   "cell_type": "code",
   "execution_count": 19,
   "metadata": {},
   "outputs": [
    {
     "data": {
      "image/png": "[encoded data removed]",
      "text/plain": [
       "<Figure size 972x360 with 1 Axes>"
      ]
     },
     "metadata": {
      "needs_background": "light"
     },
     "output_type": "display_data"
    }
   ],
   "source": [
    "# 상점 아이디가 2096번인 상점의 시계열 그래프\n",
    "store_plot_2096 = store_2096.plot()\n",
    "fig = store_plot_2096.get_figure()\n",
    "fig.set_size_inches(13.5,5)"
   ]
  },
  {
   "cell_type": "markdown",
   "metadata": {},
   "source": [
    "#### 추세가 있는 상점"
   ]
  },
  {
   "cell_type": "code",
   "execution_count": 20,
   "metadata": {},
   "outputs": [
    {
     "data": {
      "image/png": "[encoded data removed]",
      "text/plain": [
       "<Figure size 972x360 with 1 Axes>"
      ]
     },
     "metadata": {
      "needs_background": "light"
     },
     "output_type": "display_data"
    }
   ],
   "source": [
    "# 상점 아이디가 335번인 상점의 시계열 그래프\n",
    "store_335 = time_series(resampling_data, 335)\n",
    "store_plot_335 = store_335.plot()\n",
    "fig = store_plot_335.get_figure()\n",
    "fig.set_size_inches(13.5,5)"
   ]
  },
  {
   "cell_type": "code",
   "execution_count": 21,
   "metadata": {},
   "outputs": [
    {
     "data": {
      "image/png": "[encoded data removed]",
      "text/plain": [
       "<Figure size 972x360 with 1 Axes>"
      ]
     },
     "metadata": {
      "needs_background": "light"
     },
     "output_type": "display_data"
    }
   ],
   "source": [
    "# 상점 아이디가 510번인 상점의 시계열 그래프\n",
    "store_510 = time_series(resampling_data, 510)\n",
    "store_plot_510 = store_510.plot()\n",
    "fig = store_plot_510.get_figure()\n",
    "fig.set_size_inches(13.5,5)"
   ]
  },
  {
   "cell_type": "markdown",
   "metadata": {},
   "source": [
    "#### 휴업 중인 상점"
   ]
  },
  {
   "cell_type": "code",
   "execution_count": 22,
   "metadata": {
    "scrolled": true
   },
   "outputs": [
    {
     "data": {
      "text/plain": [
       "2016-06-30    812428.571429\n",
       "2016-07-29    391142.857143\n",
       "2016-08-31     13071.428571\n",
       "2016-09-30    495714.285714\n",
       "2016-10-31    182714.285714\n",
       "2016-11-30    178571.428571\n",
       "2016-12-30     43005.714286\n",
       "2017-01-31         2.000000\n",
       "2017-02-28      5428.571429\n",
       "2017-03-31     24857.142857\n",
       "2017-04-28    108000.000000\n",
       "2017-05-31    459142.857143\n",
       "2017-06-30    137571.428571\n",
       "2017-07-31    216285.714286\n",
       "2017-08-31     77000.000000\n",
       "2017-09-29     78005.714286\n",
       "2017-10-31         2.000000\n",
       "2017-11-30         2.000000\n",
       "2017-12-29         2.000000\n",
       "2018-01-31      1428.571429\n",
       "2018-02-28    309785.714286\n",
       "2018-03-30    259071.428571\n",
       "2018-04-30    225858.571429\n",
       "2018-05-31    105571.428571\n",
       "2018-06-29         2.000000\n",
       "2018-07-31    123285.714286\n",
       "2018-08-31         2.000000\n",
       "2018-09-28     83000.000000\n",
       "2018-10-31         2.000000\n",
       "2018-11-30         2.000000\n",
       "2018-12-31         2.000000\n",
       "2019-01-31         2.000000\n",
       "2019-02-28         2.000000\n",
       "Freq: BM, dtype: float64"
      ]
     },
     "execution_count": 22,
     "metadata": {},
     "output_type": "execute_result"
    }
   ],
   "source": [
    "# 상점 아이디가 111번인 데이터를 시리즈 객체로 데이터 출력\n",
    "store_111 = time_series(resampling_data, 111)\n",
    "store_111"
   ]
  },
  {
   "cell_type": "code",
   "execution_count": 23,
   "metadata": {},
   "outputs": [
    {
     "data": {
      "image/png": "[encoded data removed]",
      "text/plain": [
       "<Figure size 972x360 with 1 Axes>"
      ]
     },
     "metadata": {
      "needs_background": "light"
     },
     "output_type": "display_data"
    }
   ],
   "source": [
    "# 상점 아이디가 111번인 상점의 시계열 그래프\n",
    "store_plot_111 = store_111.plot()\n",
    "fig = store_plot_111.get_figure()\n",
    "fig.set_size_inches(13.5,5)"
   ]
  },
  {
   "cell_type": "code",
   "execution_count": 24,
   "metadata": {},
   "outputs": [
    {
     "data": {
      "text/plain": [
       "2016-06-30    4.488571e+05\n",
       "2016-07-29    1.156286e+06\n",
       "2016-08-31    1.372857e+06\n",
       "2016-09-30    3.150000e+05\n",
       "2016-10-31    8.748571e+05\n",
       "2016-11-30    3.128571e+05\n",
       "2016-12-30    5.828571e+05\n",
       "2017-01-31    3.214286e+04\n",
       "2017-02-28    2.000000e+00\n",
       "2017-03-31    4.955714e+05\n",
       "2017-04-28    5.940000e+05\n",
       "2017-05-31    1.041143e+06\n",
       "2017-06-30    8.354286e+05\n",
       "2017-07-31    6.171429e+05\n",
       "2017-08-31    4.284286e+05\n",
       "2017-09-29    1.581258e+06\n",
       "2017-10-31    3.294286e+05\n",
       "2017-11-30    2.241429e+05\n",
       "2017-12-29    2.785714e+05\n",
       "2018-01-31    4.018571e+05\n",
       "2018-02-28    1.282857e+05\n",
       "2018-03-30    2.000000e+00\n",
       "2018-04-30    2.000000e+00\n",
       "2018-05-31    2.000000e+00\n",
       "2018-06-29    2.000000e+00\n",
       "2018-07-31    2.000000e+00\n",
       "2018-08-31    2.000000e+00\n",
       "2018-09-28    2.000000e+00\n",
       "2018-10-31    2.000000e+00\n",
       "2018-11-30    2.101429e+05\n",
       "2018-12-31    2.191571e+05\n",
       "2019-01-31    1.779286e+05\n",
       "2019-02-28    5.157143e+04\n",
       "Freq: BM, dtype: float64"
      ]
     },
     "execution_count": 24,
     "metadata": {},
     "output_type": "execute_result"
    }
   ],
   "source": [
    "# 상점 아이디가 279번인 데이터를 시리즈 객체로 데이터 출력\n",
    "store_279 = time_series(resampling_data, 279)\n",
    "store_279"
   ]
  },
  {
   "cell_type": "code",
   "execution_count": 25,
   "metadata": {},
   "outputs": [
    {
     "data": {
      "image/png": "[encoded data removed]",
      "text/plain": [
       "<Figure size 972x360 with 1 Axes>"
      ]
     },
     "metadata": {
      "needs_background": "light"
     },
     "output_type": "display_data"
    }
   ],
   "source": [
    "# 상점 아이디가 279번인 상점의 시계열 그래프\n",
    "store_plot_279 = store_279.plot()\n",
    "fig = store_plot_279.get_figure()\n",
    "fig.set_size_inches(13.5,5)"
   ]
  },
  {
   "cell_type": "markdown",
   "metadata": {},
   "source": [
    "### 4.3.2 시계열 데이터의 정상성"
   ]
  },
  {
   "cell_type": "code",
   "execution_count": 26,
   "metadata": {},
   "outputs": [
    {
     "data": {
      "image/png": "[encoded data removed]",
      "text/plain": [
       "<Figure size 972x360 with 1 Axes>"
      ]
     },
     "metadata": {
      "needs_background": "light"
     },
     "output_type": "display_data"
    }
   ],
   "source": [
    "# 상점 아이디가 0번인 상점의 시계열 그래프\n",
    "store_0 = time_series(resampling_data, 0)\n",
    "store_plot_0 = store_0.plot()\n",
    "fig = store_plot_0.get_figure()\n",
    "fig.set_size_inches(13.5,5)"
   ]
  },
  {
   "cell_type": "code",
   "execution_count": 27,
   "metadata": {},
   "outputs": [
    {
     "data": {
      "image/png": "[encoded data removed]",
      "text/plain": [
       "<Figure size 972x360 with 1 Axes>"
      ]
     },
     "metadata": {
      "needs_background": "light"
     },
     "output_type": "display_data"
    }
   ],
   "source": [
    "# 상점 아이디가 257번인 상점의 시계열 그래프\n",
    "store_257 = time_series(resampling_data, 257)\n",
    "store_plot_257 = store_257.plot()\n",
    "fig = store_plot_257.get_figure()\n",
    "fig.set_size_inches(13.5,5)"
   ]
  },
  {
   "cell_type": "code",
   "execution_count": 28,
   "metadata": {},
   "outputs": [
    {
     "name": "stdout",
     "output_type": "stream",
     "text": [
      "p_val : nan , should_diff : False\n"
     ]
    }
   ],
   "source": [
    "# pmdarima 패키지에 있는 ADFTest 클래스를 임포트\n",
    "from pmdarima.arima import ADFTest\n",
    "\n",
    "# 상점 아이디가 0번인 데이터를 시리즈 객체로 변환\n",
    "store_0 = time_series(resampling_data, 0)\n",
    "# ADF-Test 시행\n",
    "p_val, should_diff = ADFTest().should_diff(store_0)\n",
    "print('p_val : %f , should_diff : %s' %(p_val, should_diff))"
   ]
  },
  {
   "cell_type": "code",
   "execution_count": 29,
   "metadata": {},
   "outputs": [
    {
     "name": "stdout",
     "output_type": "stream",
     "text": [
      "p_val : 0.093614 , should_diff : True\n"
     ]
    }
   ],
   "source": [
    "# 상점 아이디가 257번인 데이터를 시리즈 객체로 변환\n",
    "store_257 = time_series(resampling_data, 257)\n",
    "# ADF-Test 시행\n",
    "p_val, should_diff = ADFTest().should_diff(store_257)\n",
    "print('p_val : %f , should_diff : %s' %(p_val, should_diff))"
   ]
  },
  {
   "cell_type": "code",
   "execution_count": 30,
   "metadata": {},
   "outputs": [
    {
     "name": "stderr",
     "output_type": "stream",
     "text": [
      "100%|█████████████████████████████████████████████████████████████████████████████| 1967/1967 [00:04<00:00, 450.89it/s]\n",
      "C:\\Users\\sk8er\\anaconda3\\envs\\store_amount_prediction\\lib\\site-packages\\seaborn\\_decorators.py:43: FutureWarning: Pass the following variable as a keyword arg: x. From version 0.12, the only valid positional argument will be `data`, and passing other arguments without an explicit keyword will result in an error or misinterpretation.\n",
      "  FutureWarning\n"
     ]
    },
    {
     "data": {
      "text/plain": [
       "<AxesSubplot:>"
      ]
     },
     "execution_count": 30,
     "metadata": {},
     "output_type": "execute_result"
    },
    {
     "data": {
      "image/png": "[encoded data removed]",
      "text/plain": [
       "<Figure size 576x288 with 1 Axes>"
      ]
     },
     "metadata": {
      "needs_background": "light"
     },
     "output_type": "display_data"
    }
   ],
   "source": [
    "## ARIMA 모델의 차분 여부를 결정하기 위한 단위근 검정\n",
    "def adf_test(y):\n",
    "    return ADFTest().should_diff(y)[0]\n",
    "\n",
    "adf_p = []\n",
    "count = 0\n",
    "skipped = []\n",
    "\n",
    "for i in tqdm(resampling_data['store_id'].unique()):\n",
    "    ts = time_series(resampling_data,i)\n",
    "    try:\n",
    "        p_val = adf_test(ts)\n",
    "        if p_val < 0.05:\n",
    "            count += 1\n",
    "        adf_p.append(p_val)\n",
    "    except:\n",
    "        skipped.append(i)\n",
    "\n",
    "plt.figure(figsize=(8, 4))\n",
    "sns.boxplot(adf_p)"
   ]
  },
  {
   "cell_type": "code",
   "execution_count": 31,
   "metadata": {},
   "outputs": [
    {
     "name": "stdout",
     "output_type": "stream",
     "text": [
      "259\n"
     ]
    }
   ],
   "source": [
    "# p-value가 0.05보다 작은 상점의 개수\n",
    "print(count)"
   ]
  },
  {
   "cell_type": "code",
   "execution_count": 32,
   "metadata": {},
   "outputs": [
    {
     "name": "stdout",
     "output_type": "stream",
     "text": [
      "WarningCount: 1, store_id_list:[795]\n"
     ]
    }
   ],
   "source": [
    "# ADF-Test 오류 상점 개수\n",
    "if skipped:\n",
    "    print(f\"WarningCount: {len(skipped)}, store_id_list:{skipped}\")"
   ]
  },
  {
   "cell_type": "markdown",
   "metadata": {},
   "source": [
    "## 4.4 모델 구축과 검증\n",
    "### 4.4.1 파이썬에서 R 시계열 패키지 forecast를 통한 모델링"
   ]
  },
  {
   "cell_type": "code",
   "execution_count": 33,
   "metadata": {},
   "outputs": [
    {
     "data": {
      "text/plain": [
       "rpy2.rinterface.NULL"
      ]
     },
     "execution_count": 33,
     "metadata": {},
     "output_type": "execute_result"
    }
   ],
   "source": [
    "from rpy2.robjects.packages import importr # rpy2 내의 패키지를 불러올 importr 클래스\n",
    "\n",
    "utils = importr('utils') # utils 패키지를 임포트\n",
    "utils.install_packages('forecast') # r의 forecast 패키지 설치.\n",
    "utils.install_packages('forecastHybrid') # r의 forecastHybrid 패키지 설치"
   ]
  },
  {
   "cell_type": "code",
   "execution_count": 34,
   "metadata": {},
   "outputs": [
    {
     "name": "stderr",
     "output_type": "stream",
     "text": [
      "C:\\Users\\sk8er\\anaconda3\\envs\\store_amount_prediction\\lib\\site-packages\\rpy2\\robjects\\pandas2ri.py:191: FutureWarning: from_items is deprecated. Please use DataFrame.from_dict(dict(items), ...) instead. DataFrame.from_dict(OrderedDict(items)) may be used to preserve the key order.\n",
      "  res = PandasDataFrame.from_items(items)\n"
     ]
    },
    {
     "data": {
      "text/plain": [
       "2007226.9722140946"
      ]
     },
     "execution_count": 34,
     "metadata": {},
     "output_type": "execute_result"
    }
   ],
   "source": [
    "import rpy2.robjects as robjects # r 함수를 파이썬에서 사용 가능하게 변환하는 모듈\n",
    "from rpy2.robjects import pandas2ri # 파이썬 자료형과 R 자료형의 호환을 도와주는 모듈\n",
    "\n",
    "# pandas2ri를 활성화 \n",
    "pandas2ri.activate()\n",
    "\n",
    "auto_arima = \"\"\"\n",
    "    function(ts){\n",
    "        library(forecast) # forecast 패키지 로드\n",
    "        d_params = ndiffs(ts) # 시계열 자료의 차분 횟수 계산\n",
    "        model = auto.arima(ts, max.p=2, d=d_params) # auto.arima 모델 생성\n",
    "        forecasted_data = forecast(model, h=3) # 이후 3개월(h=3)을 예측\n",
    "        out_df = data.frame(forecasted_data$mean) # 예측값을 R의 데이터프레임으로 변환\n",
    "        colnames(out_df) = c('amount') # amount라는 열로 이름을 지정\n",
    "        out_df\n",
    "    }\n",
    "\"\"\"\n",
    "# r() 함수로 r 자료형을 파이썬에서 사용 가능\n",
    "auto_arima = robjects.r(auto_arima)\n",
    "ts = robjects.r('ts')# r 자료형 time series 자료형으로 만들어주는 함수\n",
    "c = robjects.r('c') # r 자료형 벡터를 만들어주는 함수\n",
    "\n",
    "store_0 = resampling_data[resampling_data['store_id']==0]\n",
    "start_year = int(min(store_0['year_month'])[:4]) # 영업 시작 년도\n",
    "start_month = int(min(store_0['year_month'])[5:]) # 영업 시작 월\n",
    "    \n",
    "# R의 ts 함수로 r의 time series 자료형으로 변환\n",
    "train = ts(store_0['amount'], start=c(start_year, start_month), frequency=12) \n",
    "\n",
    "#ensemble model\n",
    "forecast = auto_arima(train)\n",
    "np.sum(pandas2ri.ri2py(forecast).values) # 3개월 매출을 합산"
   ]
  },
  {
   "cell_type": "markdown",
   "metadata": {},
   "source": [
    "### 4.4.2 시계열 모델 선택과 검증\n",
    "#### 자기회귀누적이동평균 모델"
   ]
  },
  {
   "cell_type": "code",
   "execution_count": 35,
   "metadata": {},
   "outputs": [
    {
     "name": "stderr",
     "output_type": "stream",
     "text": [
      "100%|██████████████████████████████████████████████████████████████████████████████| 1967/1967 [01:24<00:00, 23.39it/s]\n"
     ]
    }
   ],
   "source": [
    "import rpy2.robjects as robjects # r 함수를 파이썬에서 사용 가능하게 변환하는 모듈\n",
    "from rpy2.robjects import pandas2ri # 파이썬 자료형과 R 자료형의 호환을 도와주는 모듈\n",
    "\n",
    "# pandas2ri를 활성화 \n",
    "pandas2ri.activate()\n",
    "\n",
    "auto_arima = \"\"\"\n",
    "    function(ts){\n",
    "        library(forecast) # forecast 패키지 로드\n",
    "        d_params = ndiffs(ts) # 시계열 자료의 차분 횟수 계산\n",
    "        model = auto.arima(ts, max.p=2, d=d_params) # auto.arima 모델 생성\n",
    "        forecasted_data = forecast(model, h=3) # 이후 3개월(h=3)을 예측\n",
    "        out_df = data.frame(forecasted_data$mean) # 예측값을 R의 데이터프레임으로 변환\n",
    "        colnames(out_df) = c('amount') # amount라는 열로 이름을 지정\n",
    "        out_df\n",
    "    }\n",
    "\"\"\"\n",
    "# r() 함수로 r 자료형을 파이썬에서 사용 가능\n",
    "auto_arima = robjects.r(auto_arima)# str 형식으로 정의된 auto_arima\n",
    "ts = robjects.r('ts')# r 자료형 time series 자료형으로 만들어주는 함수\n",
    "c = robjects.r('c') # r 자료형 벡터를 만들어주는 함수\n",
    "\n",
    "final_pred = []\n",
    "\n",
    "for i in tqdm(resampling_data.store_id.unique()):\n",
    "    store = resampling_data[resampling_data['store_id']==i]\n",
    "    start_year = int(min(store['year_month'])[:4]) ## 영업 시작 년도\n",
    "    start_month = int(min(store['year_month'])[5:]) ## 영업 시작 월\n",
    "    # R의 ts 함수로 time series 데이터로 변환\n",
    "    train = ts(store['amount'], start=c(start_year, start_month), frequency=12) \n",
    "    # 자동회귀누적이동평균 model\n",
    "    forecast = auto_arima(train)\n",
    "    # 3개월 매출을 합산, final_pred에 추가\n",
    "    final_pred.append(np.sum(pandas2ri.ri2py(forecast).values))"
   ]
  },
  {
   "cell_type": "code",
   "execution_count": 36,
   "metadata": {},
   "outputs": [
    {
     "data": {
      "text/html": [
       "<div>\n",
       "<style scoped>\n",
       "    .dataframe tbody tr th:only-of-type {\n",
       "        vertical-align: middle;\n",
       "    }\n",
       "\n",
       "    .dataframe tbody tr th {\n",
       "        vertical-align: top;\n",
       "    }\n",
       "\n",
       "    .dataframe thead th {\n",
       "        text-align: right;\n",
       "    }\n",
       "</style>\n",
       "<table border=\"1\" class=\"dataframe\">\n",
       "  <thead>\n",
       "    <tr style=\"text-align: right;\">\n",
       "      <th></th>\n",
       "      <th>store_id</th>\n",
       "      <th>amount</th>\n",
       "    </tr>\n",
       "  </thead>\n",
       "  <tbody>\n",
       "    <tr>\n",
       "      <td>0</td>\n",
       "      <td>0</td>\n",
       "      <td>2.007227e+06</td>\n",
       "    </tr>\n",
       "    <tr>\n",
       "      <td>1</td>\n",
       "      <td>1</td>\n",
       "      <td>2.886210e+05</td>\n",
       "    </tr>\n",
       "    <tr>\n",
       "      <td>2</td>\n",
       "      <td>2</td>\n",
       "      <td>1.276695e+06</td>\n",
       "    </tr>\n",
       "    <tr>\n",
       "      <td>3</td>\n",
       "      <td>4</td>\n",
       "      <td>2.697649e+06</td>\n",
       "    </tr>\n",
       "    <tr>\n",
       "      <td>4</td>\n",
       "      <td>5</td>\n",
       "      <td>8.291391e+05</td>\n",
       "    </tr>\n",
       "    <tr>\n",
       "      <td>...</td>\n",
       "      <td>...</td>\n",
       "      <td>...</td>\n",
       "    </tr>\n",
       "    <tr>\n",
       "      <td>1962</td>\n",
       "      <td>2132</td>\n",
       "      <td>2.190377e+06</td>\n",
       "    </tr>\n",
       "    <tr>\n",
       "      <td>1963</td>\n",
       "      <td>2133</td>\n",
       "      <td>7.414846e+05</td>\n",
       "    </tr>\n",
       "    <tr>\n",
       "      <td>1964</td>\n",
       "      <td>2134</td>\n",
       "      <td>9.818183e+04</td>\n",
       "    </tr>\n",
       "    <tr>\n",
       "      <td>1965</td>\n",
       "      <td>2135</td>\n",
       "      <td>1.755864e+06</td>\n",
       "    </tr>\n",
       "    <tr>\n",
       "      <td>1966</td>\n",
       "      <td>2136</td>\n",
       "      <td>6.935529e+06</td>\n",
       "    </tr>\n",
       "  </tbody>\n",
       "</table>\n",
       "<p>1967 rows × 2 columns</p>\n",
       "</div>"
      ],
      "text/plain": [
       "      store_id        amount\n",
       "0            0  2.007227e+06\n",
       "1            1  2.886210e+05\n",
       "2            2  1.276695e+06\n",
       "3            4  2.697649e+06\n",
       "4            5  8.291391e+05\n",
       "...        ...           ...\n",
       "1962      2132  2.190377e+06\n",
       "1963      2133  7.414846e+05\n",
       "1964      2134  9.818183e+04\n",
       "1965      2135  1.755864e+06\n",
       "1966      2136  6.935529e+06\n",
       "\n",
       "[1967 rows x 2 columns]"
      ]
     },
     "execution_count": 36,
     "metadata": {},
     "output_type": "execute_result"
    }
   ],
   "source": [
    "submission = pd.read_csv('./submission.csv')\n",
    "submission['amount'] = final_pred\n",
    "submission.to_csv('submission.csv', index=False)\n",
    "submission"
   ]
  },
  {
   "cell_type": "markdown",
   "metadata": {},
   "source": [
    "#### 지수평활법"
   ]
  },
  {
   "cell_type": "code",
   "execution_count": 37,
   "metadata": {},
   "outputs": [
    {
     "name": "stderr",
     "output_type": "stream",
     "text": [
      "100%|██████████████████████████████████████████████████████████████████████████████| 1967/1967 [09:07<00:00,  3.59it/s]\n"
     ]
    }
   ],
   "source": [
    "import rpy2.robjects as robjects # r 함수를 파이썬에서 사용 가능하게 변환하는 모듈\n",
    "from rpy2.robjects import pandas2ri # 파이썬 자료형과 R 자료형의 호환을 도와주는 모듈\n",
    "\n",
    "# pandas2ri를 활성화 \n",
    "pandas2ri.activate()\n",
    "\n",
    "ets = \"\"\"\n",
    "    function(ts){\n",
    "        library(forecast) # forecast 패키지 로드\n",
    "        model = ets(ts) # AIC가 낮은 지수평활 모델을 찾음 \n",
    "        forecasted_data = forecast(model, h=3) # 이후 3개월(h=3)을 예측\n",
    "        out_df = data.frame(forecasted_data$mean) # 예측값을 R의 데이터프레임으로 변환\n",
    "        colnames(out_df) = c('amount') # amount라는 열로 이름을 지정\n",
    "        out_df\n",
    "    }\n",
    "\"\"\"\n",
    "# r() 함수로 r 자료형을 파이썬에서 사용 가능\n",
    "ets = robjects.r(ets)# str 형식으로 정의된 ets\n",
    "ts = robjects.r('ts')# r 자료형 time series 자료형으로 만들어주는 함수\n",
    "c = robjects.r('c') # r 자료형 벡터를 만들어주는 함수\n",
    "\n",
    "final_pred = []\n",
    "\n",
    "for i in tqdm(resampling_data.store_id.unique()):\n",
    "    store = resampling_data[resampling_data['store_id']==i]\n",
    "    start_year = int(min(store['year_month'])[:4]) # 영업 시작 년도\n",
    "    start_month = int(min(store['year_month'])[5:]) # 영업 시작 월\n",
    "    # R의 ts 함수로 time series 데이터로 변환\n",
    "    train = ts(store['amount'], start=c(start_year, start_month), frequency=12) \n",
    "    # 지수평활법l\n",
    "    forecast = ets(train)\n",
    "    # 3개월 매출을 합산, final_pred에 추가\n",
    "    final_pred.append(np.sum(pandas2ri.ri2py(forecast).values))"
   ]
  },
  {
   "cell_type": "code",
   "execution_count": 38,
   "metadata": {},
   "outputs": [
    {
     "data": {
      "text/html": [
       "<div>\n",
       "<style scoped>\n",
       "    .dataframe tbody tr th:only-of-type {\n",
       "        vertical-align: middle;\n",
       "    }\n",
       "\n",
       "    .dataframe tbody tr th {\n",
       "        vertical-align: top;\n",
       "    }\n",
       "\n",
       "    .dataframe thead th {\n",
       "        text-align: right;\n",
       "    }\n",
       "</style>\n",
       "<table border=\"1\" class=\"dataframe\">\n",
       "  <thead>\n",
       "    <tr style=\"text-align: right;\">\n",
       "      <th></th>\n",
       "      <th>store_id</th>\n",
       "      <th>amount</th>\n",
       "    </tr>\n",
       "  </thead>\n",
       "  <tbody>\n",
       "    <tr>\n",
       "      <td>0</td>\n",
       "      <td>0</td>\n",
       "      <td>2.060501e+06</td>\n",
       "    </tr>\n",
       "    <tr>\n",
       "      <td>1</td>\n",
       "      <td>1</td>\n",
       "      <td>2.878790e+05</td>\n",
       "    </tr>\n",
       "    <tr>\n",
       "      <td>2</td>\n",
       "      <td>2</td>\n",
       "      <td>1.260318e+06</td>\n",
       "    </tr>\n",
       "    <tr>\n",
       "      <td>3</td>\n",
       "      <td>4</td>\n",
       "      <td>2.668637e+06</td>\n",
       "    </tr>\n",
       "    <tr>\n",
       "      <td>4</td>\n",
       "      <td>5</td>\n",
       "      <td>7.091162e+05</td>\n",
       "    </tr>\n",
       "    <tr>\n",
       "      <td>...</td>\n",
       "      <td>...</td>\n",
       "      <td>...</td>\n",
       "    </tr>\n",
       "    <tr>\n",
       "      <td>1962</td>\n",
       "      <td>2132</td>\n",
       "      <td>2.190512e+06</td>\n",
       "    </tr>\n",
       "    <tr>\n",
       "      <td>1963</td>\n",
       "      <td>2133</td>\n",
       "      <td>3.488475e+05</td>\n",
       "    </tr>\n",
       "    <tr>\n",
       "      <td>1964</td>\n",
       "      <td>2134</td>\n",
       "      <td>4.249576e+05</td>\n",
       "    </tr>\n",
       "    <tr>\n",
       "      <td>1965</td>\n",
       "      <td>2135</td>\n",
       "      <td>1.622992e+06</td>\n",
       "    </tr>\n",
       "    <tr>\n",
       "      <td>1966</td>\n",
       "      <td>2136</td>\n",
       "      <td>6.469047e+06</td>\n",
       "    </tr>\n",
       "  </tbody>\n",
       "</table>\n",
       "<p>1967 rows × 2 columns</p>\n",
       "</div>"
      ],
      "text/plain": [
       "      store_id        amount\n",
       "0            0  2.060501e+06\n",
       "1            1  2.878790e+05\n",
       "2            2  1.260318e+06\n",
       "3            4  2.668637e+06\n",
       "4            5  7.091162e+05\n",
       "...        ...           ...\n",
       "1962      2132  2.190512e+06\n",
       "1963      2133  3.488475e+05\n",
       "1964      2134  4.249576e+05\n",
       "1965      2135  1.622992e+06\n",
       "1966      2136  6.469047e+06\n",
       "\n",
       "[1967 rows x 2 columns]"
      ]
     },
     "execution_count": 38,
     "metadata": {},
     "output_type": "execute_result"
    }
   ],
   "source": [
    "submission = pd.read_csv('./submission.csv')\n",
    "submission['amount'] = final_pred\n",
    "submission.to_csv('submission.csv', index=False)\n",
    "submission"
   ]
  },
  {
   "cell_type": "markdown",
   "metadata": {},
   "source": [
    "#### STL 분해를 적용한 지수평활법"
   ]
  },
  {
   "cell_type": "code",
   "execution_count": 39,
   "metadata": {},
   "outputs": [
    {
     "name": "stderr",
     "output_type": "stream",
     "text": [
      "C:\\Users\\sk8er\\anaconda3\\envs\\store_amount_prediction\\lib\\site-packages\\ipykernel_launcher.py:6: FutureWarning: the 'freq' keyword is deprecated, use 'period' instead\n",
      "  \n"
     ]
    },
    {
     "data": {
      "image/png": "[encoded data removed]",
      "text/plain": [
       "<Figure size 432x288 with 4 Axes>"
      ]
     },
     "metadata": {
      "needs_background": "light"
     },
     "output_type": "display_data"
    }
   ],
   "source": [
    "from statsmodels.tsa.seasonal import seasonal_decompose\n",
    "import matplotlib.pyplot as plt\n",
    "\n",
    "store_0 = time_series(resampling_data, 0)\n",
    "# STL 분해\n",
    "stl = seasonal_decompose(store_0.values, freq=12)\n",
    "stl.plot()\n",
    "plt.show()"
   ]
  },
  {
   "cell_type": "code",
   "execution_count": 40,
   "metadata": {},
   "outputs": [
    {
     "name": "stderr",
     "output_type": "stream",
     "text": [
      "  0%|                                                                                         | 0/1967 [00:00<?, ?it/s]C:\\Users\\sk8er\\anaconda3\\envs\\store_amount_prediction\\lib\\site-packages\\rpy2\\robjects\\pandas2ri.py:191: FutureWarning: from_items is deprecated. Please use DataFrame.from_dict(dict(items), ...) instead. DataFrame.from_dict(OrderedDict(items)) may be used to preserve the key order.\n",
      "  res = PandasDataFrame.from_items(items)\n",
      "100%|██████████████████████████████████████████████████████████████████████████████| 1967/1967 [01:17<00:00, 25.27it/s]\n"
     ]
    }
   ],
   "source": [
    "import rpy2.robjects as robjects # r 함수를 파이썬에서 사용 가능하게 변환하는 모듈\n",
    "from rpy2.robjects import pandas2ri # 파이썬 자료형과 R 자료형의 호환을 도와주는 모듈\n",
    "\n",
    "# pandas2ri를 활성화 \n",
    "pandas2ri.activate()\n",
    "stlm = \"\"\"\n",
    "    function(ts){\n",
    "        library(forecast) # forecast 패키지 로드\n",
    "        model = stlm(ts, s.window=\"periodic\", method='ets') # STL 분해 후 지수평활법을 통한 예측 \n",
    "        forecasted_data = forecast(model, h=3) # 이후 3개월(h=3)을 예측\n",
    "        out_df = data.frame(forecasted_data$mean) # 예측값을 R의 데이터프레임으로 변환\n",
    "        colnames(out_df) = c('amount') # amount라는 열로 이름을 지정\n",
    "        out_df\n",
    "    }\n",
    "\"\"\"\n",
    "ets = \"\"\"\n",
    "    function(ts){\n",
    "        library(forecast) # forecast 패키지 로드\n",
    "        model = ets(ts) # AIC가 낮은 지수평활 모델을 찾음 \n",
    "        forecasted_data = forecast(model, h=3) # 이후 3개월(h=3)을 예측\n",
    "        out_df = data.frame(forecasted_data$mean) # 예측값을 R의 데이터프레임으로 변환\n",
    "        colnames(out_df) = c('amount') # amount라는 열로 이름을 지정\n",
    "        out_df\n",
    "    }\n",
    "\"\"\"\n",
    "# r() 함수로 r을 파이썬에서 사용 가능\n",
    "stlm = robjects.r(stlm)# str 형식으로 정의된 stlm\n",
    "ets = robjects.r(ets)# str 형식으로 정의된 ets\n",
    "ts = robjects.r('ts')# r 자료형 time series 자료형으로 만들어주는 함수\n",
    "c = robjects.r('c') # r 자료형 벡터를 만들어주는 함수\n",
    "\n",
    "final_pred = []\n",
    "\n",
    "for i in tqdm(resampling_data.store_id.unique()):\n",
    "    store = resampling_data[resampling_data['store_id']==i]\n",
    "    data_len = len(store)\n",
    "    \n",
    "    start_year = int(min(store['year_month'])[:4]) # 영업 시작 년도\n",
    "    start_month = int(min(store['year_month'])[5:]) # 영업 시작 월\n",
    "    # R의 ts 함수로 time series 데이터로 변환\n",
    "    train = ts(store['amount'], start=c(start_year, start_month), frequency=12) \n",
    "    # STL 분해를 적용한 지수평활 model\n",
    "    if data_len > 24:\n",
    "        forecast = stlm(train)\n",
    "    # 지수평활 model\n",
    "    else:\n",
    "        forecast = ets(train)    # 3개월 매출을 합산, final_pred에 추가\n",
    "    final_pred.append(np.sum(pandas2ri.ri2py(forecast).values))\n"
   ]
  },
  {
   "cell_type": "code",
   "execution_count": 41,
   "metadata": {},
   "outputs": [
    {
     "data": {
      "text/html": [
       "<div>\n",
       "<style scoped>\n",
       "    .dataframe tbody tr th:only-of-type {\n",
       "        vertical-align: middle;\n",
       "    }\n",
       "\n",
       "    .dataframe tbody tr th {\n",
       "        vertical-align: top;\n",
       "    }\n",
       "\n",
       "    .dataframe thead th {\n",
       "        text-align: right;\n",
       "    }\n",
       "</style>\n",
       "<table border=\"1\" class=\"dataframe\">\n",
       "  <thead>\n",
       "    <tr style=\"text-align: right;\">\n",
       "      <th></th>\n",
       "      <th>store_id</th>\n",
       "      <th>amount</th>\n",
       "    </tr>\n",
       "  </thead>\n",
       "  <tbody>\n",
       "    <tr>\n",
       "      <td>0</td>\n",
       "      <td>0</td>\n",
       "      <td>2.094277e+06</td>\n",
       "    </tr>\n",
       "    <tr>\n",
       "      <td>1</td>\n",
       "      <td>1</td>\n",
       "      <td>2.774723e+05</td>\n",
       "    </tr>\n",
       "    <tr>\n",
       "      <td>2</td>\n",
       "      <td>2</td>\n",
       "      <td>1.164701e+06</td>\n",
       "    </tr>\n",
       "    <tr>\n",
       "      <td>3</td>\n",
       "      <td>4</td>\n",
       "      <td>2.750955e+06</td>\n",
       "    </tr>\n",
       "    <tr>\n",
       "      <td>4</td>\n",
       "      <td>5</td>\n",
       "      <td>9.395993e+05</td>\n",
       "    </tr>\n",
       "    <tr>\n",
       "      <td>...</td>\n",
       "      <td>...</td>\n",
       "      <td>...</td>\n",
       "    </tr>\n",
       "    <tr>\n",
       "      <td>1962</td>\n",
       "      <td>2132</td>\n",
       "      <td>2.138210e+06</td>\n",
       "    </tr>\n",
       "    <tr>\n",
       "      <td>1963</td>\n",
       "      <td>2133</td>\n",
       "      <td>8.242583e+05</td>\n",
       "    </tr>\n",
       "    <tr>\n",
       "      <td>1964</td>\n",
       "      <td>2134</td>\n",
       "      <td>4.061268e+05</td>\n",
       "    </tr>\n",
       "    <tr>\n",
       "      <td>1965</td>\n",
       "      <td>2135</td>\n",
       "      <td>1.578473e+06</td>\n",
       "    </tr>\n",
       "    <tr>\n",
       "      <td>1966</td>\n",
       "      <td>2136</td>\n",
       "      <td>6.469047e+06</td>\n",
       "    </tr>\n",
       "  </tbody>\n",
       "</table>\n",
       "<p>1967 rows × 2 columns</p>\n",
       "</div>"
      ],
      "text/plain": [
       "      store_id        amount\n",
       "0            0  2.094277e+06\n",
       "1            1  2.774723e+05\n",
       "2            2  1.164701e+06\n",
       "3            4  2.750955e+06\n",
       "4            5  9.395993e+05\n",
       "...        ...           ...\n",
       "1962      2132  2.138210e+06\n",
       "1963      2133  8.242583e+05\n",
       "1964      2134  4.061268e+05\n",
       "1965      2135  1.578473e+06\n",
       "1966      2136  6.469047e+06\n",
       "\n",
       "[1967 rows x 2 columns]"
      ]
     },
     "execution_count": 41,
     "metadata": {},
     "output_type": "execute_result"
    }
   ],
   "source": [
    "submission = pd.read_csv('./submission.csv')\n",
    "submission['amount'] = final_pred\n",
    "submission.to_csv('submission.csv', index=False)\n",
    "submission"
   ]
  },
  {
   "cell_type": "markdown",
   "metadata": {},
   "source": [
    "## 4.5 성능 향상을 위한 방법\n",
    "### 4.5.1 상점 매출액의 로그 정규화"
   ]
  },
  {
   "cell_type": "code",
   "execution_count": 42,
   "metadata": {},
   "outputs": [
    {
     "name": "stdout",
     "output_type": "stream",
     "text": [
      "log-regularization mae:  2401.9664819482714\n",
      "mae: 5884.674066892825\n"
     ]
    }
   ],
   "source": [
    "import rpy2.robjects as robjects # r 함수를 파이썬에서 사용 가능하게 변환하는 모듈\n",
    "from rpy2.robjects import pandas2ri # 파이썬 자료형과 R 자료형의 호환을 도와주는 모듈\n",
    "import numpy as np\n",
    "\n",
    "# pandas2ri를 활성화 \n",
    "pandas2ri.activate()\n",
    "\n",
    "auto_arima = \"\"\"\n",
    "    function(ts){\n",
    "        library(forecast) # forecast 패키지 로드\n",
    "        d_params = ndiffs(ts) # 시계열 자료의 차분 횟수 계산\n",
    "        model = auto.arima(ts, max.p=2, d=d_params) # auto.arima 모델 생성\n",
    "        forecasted_data = forecast(model, h=3) # 이후 3개월(h=3)을 예측\n",
    "        out_df = data.frame(forecasted_data$mean) # 예측값을 R의 데이터프레임으로 변환\n",
    "        colnames(out_df) = c('amount') # amount라는 열로 이름을 지정\n",
    "        out_df\n",
    "    }\n",
    "\"\"\"\n",
    "\n",
    "# r() 함수로 r 자료형을 파이썬에서 사용 가능\n",
    "auto_arima = robjects.r(auto_arima)\n",
    "ts = robjects.r('ts')# r 자료형 time series 자료형으로 만들어주는 함수\n",
    "c = robjects.r('c') # r 자료형 벡터를 만들어주는 함수\n",
    "log = robjects.r('log')# 로그 변환 함수\n",
    "exp = robjects.r('exp')# 로그 역변환 함수\n",
    "\n",
    "# 0번 상점 추출\n",
    "store_0 = resampling_data[resampling_data['store_id']==0]\n",
    "start_year = int(min(store_0['year_month'])[:4]) # 영업 시작 년도\n",
    "start_month = int(min(store_0['year_month'])[5:]) # 영업 시작 월\n",
    "\n",
    "# train, test 분리\n",
    "train = store_0[store_0.index <= len(store_0)-4]\n",
    "test = store_0[store_0.index > len(store_0)-4]\n",
    "\n",
    "# R의 ts 함수로 r의 time series 자료형으로 변환\n",
    "train_log = ts(log(train['amount']), start=c(start_year, start_month), frequency=12) # log 정규화 \n",
    "train = ts(train['amount'], start=c(start_year, start_month), frequency=12) # log 정규화를 하지 않음\n",
    "\n",
    "# model arima\n",
    "forecast_log = auto_arima(train_log)\n",
    "forecast = auto_arima(train)\n",
    "\n",
    "# pred\n",
    "pred_log = np.sum(pandas2ri.ri2py(exp(forecast_log)).values) #로그 역변환 후 3개월 합산\n",
    "pred = np.sum(pandas2ri.ri2py(forecast).values) #3개월 매출을 합산\n",
    "\n",
    "# test(2018-12~2019-02)\n",
    "test = np.sum(test['amount'])\n",
    "\n",
    "# mae\n",
    "print('log-regularization mae: ', abs(test-pred_log))\n",
    "print('mae:', abs(test-pred))"
   ]
  },
  {
   "cell_type": "code",
   "execution_count": 43,
   "metadata": {},
   "outputs": [],
   "source": [
    "# 매출 변동 계수를 구하는 함수\n",
    "def coefficient_variation(df, i):\n",
    "    cv_data = df.groupby(['store_id']).amount.std()/df.groupby(['store_id']).amount.mean()\n",
    "    cv = cv_data[i]\n",
    "    return cv"
   ]
  },
  {
   "cell_type": "code",
   "execution_count": 44,
   "metadata": {},
   "outputs": [
    {
     "name": "stderr",
     "output_type": "stream",
     "text": [
      "100%|██████████████████████████████████████████████████████████████████████████████| 1967/1967 [10:34<00:00,  3.10it/s]\n"
     ]
    }
   ],
   "source": [
    "import rpy2.robjects as robjects # r 함수를 파이썬에서 사용 가능하게 변환하는 모듈\n",
    "from rpy2.robjects import pandas2ri # 파이썬 자료형과 R 자료형의 호환을 도와주는 모듈\n",
    "import numpy as np\n",
    "\n",
    "# pandas2ri를 활성화 \n",
    "pandas2ri.activate()\n",
    "\n",
    "ets = \"\"\"\n",
    "    function(ts){\n",
    "        library(forecast) # forecast 패키지 로드\n",
    "        model = ets(ts) # AIC가 낮은 지수평활 모델을 찾음 \n",
    "        forecasted_data = forecast(model, h=3) # 이후 3개월(h=3)을 예측\n",
    "        out_df = data.frame(forecasted_data$mean) # 예측값을 R의 데이터프레임으로 변환\n",
    "        colnames(out_df) = c('amount') # amount라는 열로 이름을 지정\n",
    "        out_df\n",
    "    }\n",
    "\"\"\"\n",
    "\n",
    "# r() 함수로 r 자료형을 파이썬에서 사용 가능\n",
    "ets = robjects.r(ets)\n",
    "ts = robjects.r('ts') # r 자료형 time series 자료형으로 만들어주는 함수\n",
    "c = robjects.r('c') # r 자료형 벡터를 만들어주는 함수\n",
    "log = robjects.r('log') # 로그 변환 함수\n",
    "exp = robjects.r('exp')# 로그 역변환 함수\n",
    "\n",
    "final_pred = []\n",
    "\n",
    "for i in tqdm(resampling_data.store_id.unique()):\n",
    "    store = resampling_data[resampling_data['store_id']==i]\n",
    "    start_year = int(min(store['year_month'])[:4]) # 영업 시작 년도\n",
    "    start_month = int(min(store['year_month'])[5:]) # 영업 시작 월\n",
    "    \n",
    "    cv = coefficient_variation(resampling_data, i)\n",
    "    # 매출액 변동 계수가 0.3 미만인 경우만 log를 씌움\n",
    "    if cv < 0.3:\n",
    "        train_log = ts(log(store['amount']), start=c(start_year,start_month), frequency=12) \n",
    "        # ets model\n",
    "        forecast_log = ets(train_log)\n",
    "        final_pred.append(np.sum(pandas2ri.ri2py(exp(forecast_log)).values))\n",
    "    # 매출액 변동 계수가 0.3 이상인 경우\n",
    "    else:\n",
    "        train = ts(store['amount'], start=c(start_year,start_month), frequency=12)\n",
    "        # 지수평활법\n",
    "        forecast = ets(train)\n",
    "        final_pred.append(np.sum(pandas2ri.ri2py(forecast).values)) "
   ]
  },
  {
   "cell_type": "code",
   "execution_count": 45,
   "metadata": {},
   "outputs": [
    {
     "data": {
      "text/html": [
       "<div>\n",
       "<style scoped>\n",
       "    .dataframe tbody tr th:only-of-type {\n",
       "        vertical-align: middle;\n",
       "    }\n",
       "\n",
       "    .dataframe tbody tr th {\n",
       "        vertical-align: top;\n",
       "    }\n",
       "\n",
       "    .dataframe thead th {\n",
       "        text-align: right;\n",
       "    }\n",
       "</style>\n",
       "<table border=\"1\" class=\"dataframe\">\n",
       "  <thead>\n",
       "    <tr style=\"text-align: right;\">\n",
       "      <th></th>\n",
       "      <th>store_id</th>\n",
       "      <th>amount</th>\n",
       "    </tr>\n",
       "  </thead>\n",
       "  <tbody>\n",
       "    <tr>\n",
       "      <td>0</td>\n",
       "      <td>0</td>\n",
       "      <td>1.963401e+06</td>\n",
       "    </tr>\n",
       "    <tr>\n",
       "      <td>1</td>\n",
       "      <td>1</td>\n",
       "      <td>2.483335e+05</td>\n",
       "    </tr>\n",
       "    <tr>\n",
       "      <td>2</td>\n",
       "      <td>2</td>\n",
       "      <td>1.260318e+06</td>\n",
       "    </tr>\n",
       "    <tr>\n",
       "      <td>3</td>\n",
       "      <td>4</td>\n",
       "      <td>2.660373e+06</td>\n",
       "    </tr>\n",
       "    <tr>\n",
       "      <td>4</td>\n",
       "      <td>5</td>\n",
       "      <td>7.091162e+05</td>\n",
       "    </tr>\n",
       "    <tr>\n",
       "      <td>...</td>\n",
       "      <td>...</td>\n",
       "      <td>...</td>\n",
       "    </tr>\n",
       "    <tr>\n",
       "      <td>1962</td>\n",
       "      <td>2132</td>\n",
       "      <td>2.122653e+06</td>\n",
       "    </tr>\n",
       "    <tr>\n",
       "      <td>1963</td>\n",
       "      <td>2133</td>\n",
       "      <td>3.488475e+05</td>\n",
       "    </tr>\n",
       "    <tr>\n",
       "      <td>1964</td>\n",
       "      <td>2134</td>\n",
       "      <td>4.249576e+05</td>\n",
       "    </tr>\n",
       "    <tr>\n",
       "      <td>1965</td>\n",
       "      <td>2135</td>\n",
       "      <td>1.603989e+06</td>\n",
       "    </tr>\n",
       "    <tr>\n",
       "      <td>1966</td>\n",
       "      <td>2136</td>\n",
       "      <td>6.504026e+06</td>\n",
       "    </tr>\n",
       "  </tbody>\n",
       "</table>\n",
       "<p>1967 rows × 2 columns</p>\n",
       "</div>"
      ],
      "text/plain": [
       "      store_id        amount\n",
       "0            0  1.963401e+06\n",
       "1            1  2.483335e+05\n",
       "2            2  1.260318e+06\n",
       "3            4  2.660373e+06\n",
       "4            5  7.091162e+05\n",
       "...        ...           ...\n",
       "1962      2132  2.122653e+06\n",
       "1963      2133  3.488475e+05\n",
       "1964      2134  4.249576e+05\n",
       "1965      2135  1.603989e+06\n",
       "1966      2136  6.504026e+06\n",
       "\n",
       "[1967 rows x 2 columns]"
      ]
     },
     "execution_count": 45,
     "metadata": {},
     "output_type": "execute_result"
    }
   ],
   "source": [
    "submission = pd.read_csv('./submission.csv')\n",
    "submission['amount'] = final_pred\n",
    "submission.to_csv('submission.csv', index=False)\n",
    "submission"
   ]
  },
  {
   "cell_type": "markdown",
   "metadata": {},
   "source": [
    "### 4.5.2.\t파이썬에서 R 시계열 패키지 forecastHybrid를 통한 앙상블"
   ]
  },
  {
   "cell_type": "code",
   "execution_count": 46,
   "metadata": {},
   "outputs": [
    {
     "name": "stderr",
     "output_type": "stream",
     "text": [
      "100%|██████████████████████████████████████████████████████████████████████████████| 1967/1967 [12:32<00:00,  2.61it/s]\n"
     ]
    }
   ],
   "source": [
    "import rpy2.robjects as robjects # r 함수를 파이썬에서 사용 가능하게 변환하는 모듈\n",
    "from rpy2.robjects import pandas2ri # 파이썬 자료형과 R 자료형의 호환을 도와주는 모듈\n",
    "import numpy as np\n",
    "\n",
    "# pandas2ri를 활성화 \n",
    "pandas2ri.activate()\n",
    "\n",
    "hybridModel = \"\"\"\n",
    "    function(ts){\n",
    "        library(forecast)\n",
    "        library(forecastHybrid)\n",
    "        d_params=ndiffs(ts)\n",
    "        hb_mdl<-hybridModel(ts, models=\"aes\", # auto_arima, ets, stlm\n",
    "                        a.arg=list(max.p=2, d=d_params), # auto_arima parameter\n",
    "                        weight=\"equal\") # 가중치를 동일하게 줌(평균)\n",
    "        forecasted_data<-forecast(hb_mdl, h=3) # 이후 3개월(h=3)을 예측\n",
    "        outdf<-data.frame(forecasted_data$mean)\n",
    "        colnames(outdf)<-c('amount')\n",
    "        outdf\n",
    "    }\n",
    "\"\"\" \n",
    "\n",
    "# r() 함수로 r 자료형을 파이썬에서 사용 가능\n",
    "hybridModel = robjects.r(hybridModel)\n",
    "ts = robjects.r('ts') # r 자료형 time series 자료형으로 만들어주는 함수\n",
    "c = robjects.r('c') # r 자료형 벡터를 만들어주는 함수\n",
    "log = robjects.r('log') # 로그 변환 함수\n",
    "exp = robjects.r('exp')# 로그 역변환 함수\n",
    "\n",
    "final_pred = []\n",
    "\n",
    "for i in tqdm(resampling_data.store_id.unique()):\n",
    "    store = resampling_data[resampling_data['store_id']==i]\n",
    "    start_year = int(min(store['year_month'])[:4]) # 영업 시작 년도\n",
    "    start_month = int(min(store['year_month'])[5:]) # 영업 시작 월\n",
    "    \n",
    "    cv = coefficient_variation(resampling_data, i)\n",
    "    # 매출액 변동 계수가 0.3 미만인 경우만 log를 씌움\n",
    "    if cv < 0.3:\n",
    "        train_log = ts(log(store['amount']), start=c(start_year,start_month), frequency=12) \n",
    "        # 앙상블 예측\n",
    "        forecast_log = hybridModel(train_log)\n",
    "        final_pred.append(np.sum(pandas2ri.ri2py(exp(forecast_log)).values)) \n",
    "    # 매출액 변동 계수가 0.3 이상인 경우\n",
    "    else:\n",
    "        train = ts(store['amount'], start=c(start_year,start_month), frequency=12)\n",
    "        # 앙상블 예측\n",
    "        forecast = hybridModel(train)\n",
    "        final_pred.append(np.sum(pandas2ri.ri2py(forecast).values))\n"
   ]
  },
  {
   "cell_type": "code",
   "execution_count": 47,
   "metadata": {},
   "outputs": [
    {
     "data": {
      "text/html": [
       "<div>\n",
       "<style scoped>\n",
       "    .dataframe tbody tr th:only-of-type {\n",
       "        vertical-align: middle;\n",
       "    }\n",
       "\n",
       "    .dataframe tbody tr th {\n",
       "        vertical-align: top;\n",
       "    }\n",
       "\n",
       "    .dataframe thead th {\n",
       "        text-align: right;\n",
       "    }\n",
       "</style>\n",
       "<table border=\"1\" class=\"dataframe\">\n",
       "  <thead>\n",
       "    <tr style=\"text-align: right;\">\n",
       "      <th></th>\n",
       "      <th>store_id</th>\n",
       "      <th>amount</th>\n",
       "    </tr>\n",
       "  </thead>\n",
       "  <tbody>\n",
       "    <tr>\n",
       "      <td>0</td>\n",
       "      <td>0</td>\n",
       "      <td>1.996290e+06</td>\n",
       "    </tr>\n",
       "    <tr>\n",
       "      <td>1</td>\n",
       "      <td>1</td>\n",
       "      <td>2.653045e+05</td>\n",
       "    </tr>\n",
       "    <tr>\n",
       "      <td>2</td>\n",
       "      <td>2</td>\n",
       "      <td>1.240681e+06</td>\n",
       "    </tr>\n",
       "    <tr>\n",
       "      <td>3</td>\n",
       "      <td>4</td>\n",
       "      <td>2.695279e+06</td>\n",
       "    </tr>\n",
       "    <tr>\n",
       "      <td>4</td>\n",
       "      <td>5</td>\n",
       "      <td>8.240620e+05</td>\n",
       "    </tr>\n",
       "    <tr>\n",
       "      <td>...</td>\n",
       "      <td>...</td>\n",
       "      <td>...</td>\n",
       "    </tr>\n",
       "    <tr>\n",
       "      <td>1962</td>\n",
       "      <td>2132</td>\n",
       "      <td>2.115933e+06</td>\n",
       "    </tr>\n",
       "    <tr>\n",
       "      <td>1963</td>\n",
       "      <td>2133</td>\n",
       "      <td>6.311052e+05</td>\n",
       "    </tr>\n",
       "    <tr>\n",
       "      <td>1964</td>\n",
       "      <td>2134</td>\n",
       "      <td>3.021292e+05</td>\n",
       "    </tr>\n",
       "    <tr>\n",
       "      <td>1965</td>\n",
       "      <td>2135</td>\n",
       "      <td>1.626442e+06</td>\n",
       "    </tr>\n",
       "    <tr>\n",
       "      <td>1966</td>\n",
       "      <td>2136</td>\n",
       "      <td>6.504046e+06</td>\n",
       "    </tr>\n",
       "  </tbody>\n",
       "</table>\n",
       "<p>1967 rows × 2 columns</p>\n",
       "</div>"
      ],
      "text/plain": [
       "      store_id        amount\n",
       "0            0  1.996290e+06\n",
       "1            1  2.653045e+05\n",
       "2            2  1.240681e+06\n",
       "3            4  2.695279e+06\n",
       "4            5  8.240620e+05\n",
       "...        ...           ...\n",
       "1962      2132  2.115933e+06\n",
       "1963      2133  6.311052e+05\n",
       "1964      2134  3.021292e+05\n",
       "1965      2135  1.626442e+06\n",
       "1966      2136  6.504046e+06\n",
       "\n",
       "[1967 rows x 2 columns]"
      ]
     },
     "execution_count": 47,
     "metadata": {},
     "output_type": "execute_result"
    }
   ],
   "source": [
    "submission = pd.read_csv('./submission.csv')\n",
    "submission['amount'] = final_pred\n",
    "submission.to_csv('submission.csv', index=False)\n",
    "submission"
   ]
  }
 ],
 "metadata": {
  "kernelspec": {
   "display_name": "[store_amount]",
   "language": "python",
   "name": "store_amount"
  },
  "language_info": {
   "codemirror_mode": {
    "name": "ipython",
    "version": 3
   },
   "file_extension": ".py",
   "mimetype": "text/x-python",
   "name": "python",
   "nbconvert_exporter": "python",
   "pygments_lexer": "ipython3",
   "version": "3.7.9"
  }
 },
 "nbformat": 4,
 "nbformat_minor": 4
}
