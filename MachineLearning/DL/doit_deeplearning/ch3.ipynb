{
 "cells": [
  {
   "cell_type": "code",
   "execution_count": 2,
   "metadata": {
    "execution": {
     "iopub.execute_input": "2021-12-06T04:21:35.869981Z",
     "iopub.status.busy": "2021-12-06T04:21:35.869681Z",
     "iopub.status.idle": "2021-12-06T04:21:35.876703Z",
     "shell.execute_reply": "2021-12-06T04:21:35.875781Z",
     "shell.execute_reply.started": "2021-12-06T04:21:35.869953Z"
    }
   },
   "outputs": [],
   "source": [
    "class Neuron:\n",
    "    \n",
    "    def __init__(self):\n",
    "        self.w = 1.0\n",
    "        self.b = 1.0\n",
    "        \n",
    "    def forpass(self, x):\n",
    "        y_hat = x * self.w + self.b\n",
    "        return y_hat\n",
    "    \n",
    "    def backprop(self, x, err):\n",
    "        w_grad = x * err\n",
    "        b_grad = 1 * err\n",
    "        return w_grad, b_grad\n",
    "    \n",
    "    def fit(self, x, y, epochs=100):\n",
    "        for i in range(epochs):\n",
    "            for x_i, y_i in zip(x,y):\n",
    "                y_hat = self.forpass(x_i)\n",
    "                err = -(y_i - y_hat)\n",
    "                w_grad, b_grad = self.backprop(x_i, err)\n",
    "                self.w -= w_grad\n",
    "                self.b -= b_grad"
   ]
  },
  {
   "cell_type": "code",
   "execution_count": 3,
   "metadata": {
    "execution": {
     "iopub.execute_input": "2021-12-06T04:21:59.916645Z",
     "iopub.status.busy": "2021-12-06T04:21:59.916350Z",
     "iopub.status.idle": "2021-12-06T04:22:01.732520Z",
     "shell.execute_reply": "2021-12-06T04:22:01.731501Z",
     "shell.execute_reply.started": "2021-12-06T04:21:59.916622Z"
    }
   },
   "outputs": [],
   "source": [
    "from sklearn.datasets import load_diabetes"
   ]
  },
  {
   "cell_type": "code",
   "execution_count": null,
   "metadata": {},
   "outputs": [],
   "source": []
  },
  {
   "cell_type": "code",
   "execution_count": null,
   "metadata": {},
   "outputs": [],
   "source": [
    "neuron = Neuron()\n",
    "neuron.fit(x,y)"
   ]
  }
 ],
 "metadata": {
  "kernelspec": {
   "display_name": "Python 3",
   "language": "python",
   "name": "python3"
  },
  "language_info": {
   "codemirror_mode": {
    "name": "ipython",
    "version": 3
   },
   "file_extension": ".py",
   "mimetype": "text/x-python",
   "name": "python",
   "nbconvert_exporter": "python",
   "pygments_lexer": "ipython3",
   "version": "3.7.3"
  }
 },
 "nbformat": 4,
 "nbformat_minor": 4
}
