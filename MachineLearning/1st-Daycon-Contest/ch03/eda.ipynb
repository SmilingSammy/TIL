{
 "cells": [
  {
   "cell_type": "markdown",
   "metadata": {},
   "source": [
    "### 3.1.4. 분석환경 구축"
   ]
  },
  {
   "cell_type": "markdown",
   "metadata": {},
   "source": [
    "#### 패키지 설치"
   ]
  },
  {
   "cell_type": "code",
   "execution_count": 1,
   "metadata": {
    "collapsed": true,
    "jupyter": {
     "outputs_hidden": true
    }
   },
   "outputs": [
    {
     "name": "stdout",
     "output_type": "stream",
     "text": [
      "Requirement already satisfied: pandas in c:\\programdata\\anaconda3\\lib\\site-packages (1.1.3)\n",
      "Requirement already satisfied: python-dateutil>=2.7.3 in c:\\programdata\\anaconda3\\lib\\site-packages (from pandas) (2.8.1)\n",
      "Requirement already satisfied: pytz>=2017.2 in c:\\programdata\\anaconda3\\lib\\site-packages (from pandas) (2020.1)\n",
      "Requirement already satisfied: numpy>=1.15.4 in c:\\programdata\\anaconda3\\lib\\site-packages (from pandas) (1.19.2)\n",
      "Requirement already satisfied: six>=1.5 in c:\\programdata\\anaconda3\\lib\\site-packages (from python-dateutil>=2.7.3->pandas) (1.15.0)\n",
      "Requirement already satisfied: numpy in c:\\programdata\\anaconda3\\lib\\site-packages (1.19.2)\n",
      "Requirement already satisfied: seaborn in c:\\programdata\\anaconda3\\lib\\site-packages (0.11.0)\n",
      "Requirement already satisfied: numpy>=1.15 in c:\\programdata\\anaconda3\\lib\\site-packages (from seaborn) (1.19.2)\n",
      "Requirement already satisfied: pandas>=0.23 in c:\\programdata\\anaconda3\\lib\\site-packages (from seaborn) (1.1.3)\n",
      "Requirement already satisfied: matplotlib>=2.2 in c:\\programdata\\anaconda3\\lib\\site-packages (from seaborn) (3.3.2)\n",
      "Requirement already satisfied: scipy>=1.0 in c:\\programdata\\anaconda3\\lib\\site-packages (from seaborn) (1.5.2)\n",
      "Requirement already satisfied: python-dateutil>=2.7.3 in c:\\programdata\\anaconda3\\lib\\site-packages (from pandas>=0.23->seaborn) (2.8.1)\n",
      "Requirement already satisfied: pytz>=2017.2 in c:\\programdata\\anaconda3\\lib\\site-packages (from pandas>=0.23->seaborn) (2020.1)\n",
      "Requirement already satisfied: cycler>=0.10 in c:\\programdata\\anaconda3\\lib\\site-packages (from matplotlib>=2.2->seaborn) (0.10.0)\n",
      "Requirement already satisfied: certifi>=2020.06.20 in c:\\programdata\\anaconda3\\lib\\site-packages (from matplotlib>=2.2->seaborn) (2020.6.20)\n",
      "Requirement already satisfied: kiwisolver>=1.0.1 in c:\\programdata\\anaconda3\\lib\\site-packages (from matplotlib>=2.2->seaborn) (1.3.0)\n",
      "Requirement already satisfied: pillow>=6.2.0 in c:\\programdata\\anaconda3\\lib\\site-packages (from matplotlib>=2.2->seaborn) (8.0.1)\n",
      "Requirement already satisfied: pyparsing!=2.0.4,!=2.1.2,!=2.1.6,>=2.0.3 in c:\\programdata\\anaconda3\\lib\\site-packages (from matplotlib>=2.2->seaborn) (2.4.7)\n",
      "Requirement already satisfied: six>=1.5 in c:\\programdata\\anaconda3\\lib\\site-packages (from python-dateutil>=2.7.3->pandas>=0.23->seaborn) (1.15.0)\n",
      "Requirement already satisfied: scikit-learn in c:\\programdata\\anaconda3\\lib\\site-packages (0.23.2)\n",
      "Requirement already satisfied: threadpoolctl>=2.0.0 in c:\\programdata\\anaconda3\\lib\\site-packages (from scikit-learn) (2.1.0)\n",
      "Requirement already satisfied: scipy>=0.19.1 in c:\\programdata\\anaconda3\\lib\\site-packages (from scikit-learn) (1.5.2)\n",
      "Requirement already satisfied: joblib>=0.11 in c:\\programdata\\anaconda3\\lib\\site-packages (from scikit-learn) (0.17.0)\n",
      "Requirement already satisfied: numpy>=1.13.3 in c:\\programdata\\anaconda3\\lib\\site-packages (from scikit-learn) (1.19.2)\n",
      "Requirement already satisfied: geopy in c:\\programdata\\anaconda3\\lib\\site-packages (2.0.0)\n",
      "Requirement already satisfied: geographiclib<2,>=1.49 in c:\\programdata\\anaconda3\\lib\\site-packages (from geopy) (1.50)\n",
      "Requirement already satisfied: xgboost in c:\\programdata\\anaconda3\\lib\\site-packages (1.2.1)\n",
      "Requirement already satisfied: scipy in c:\\programdata\\anaconda3\\lib\\site-packages (from xgboost) (1.5.2)\n",
      "Requirement already satisfied: numpy in c:\\programdata\\anaconda3\\lib\\site-packages (from xgboost) (1.19.2)\n",
      "Requirement already satisfied: lightgbm in c:\\programdata\\anaconda3\\lib\\site-packages (3.1.0)\n",
      "Requirement already satisfied: scikit-learn!=0.22.0 in c:\\programdata\\anaconda3\\lib\\site-packages (from lightgbm) (0.23.2)\n",
      "Requirement already satisfied: scipy in c:\\programdata\\anaconda3\\lib\\site-packages (from lightgbm) (1.5.2)\n",
      "Requirement already satisfied: numpy in c:\\programdata\\anaconda3\\lib\\site-packages (from lightgbm) (1.19.2)\n",
      "Requirement already satisfied: joblib>=0.11 in c:\\programdata\\anaconda3\\lib\\site-packages (from scikit-learn!=0.22.0->lightgbm) (0.17.0)\n",
      "Requirement already satisfied: threadpoolctl>=2.0.0 in c:\\programdata\\anaconda3\\lib\\site-packages (from scikit-learn!=0.22.0->lightgbm) (2.1.0)\n"
     ]
    }
   ],
   "source": [
    "# pandas 설치\n",
    "!pip install pandas\n",
    "# numpy 설치\n",
    "!pip install numpy\n",
    "# seaborn 설치\n",
    "!pip install seaborn\n",
    "# scikit-learn 설치\n",
    "!pip install scikit-learn\n",
    "# geopy 설치\n",
    "!pip install geopy\n",
    "# XGBoost 설치\n",
    "!pip install xgboost\n",
    "# lightGBM 설치\n",
    "!pip install lightgbm"
   ]
  },
  {
   "cell_type": "markdown",
   "metadata": {},
   "source": [
    "## 3.2. 탐색적 데이터 분석"
   ]
  },
  {
   "cell_type": "code",
   "execution_count": 2,
   "metadata": {},
   "outputs": [],
   "source": [
    "# 작업 경로 설정\n",
    "import os\n",
    "os.chdir(r\"C:\\dacon\\ch03\")"
   ]
  },
  {
   "cell_type": "markdown",
   "metadata": {},
   "source": [
    "### 3.2.1. 데이터 설명"
   ]
  },
  {
   "cell_type": "code",
   "execution_count": 2,
   "metadata": {
    "execution": {
     "iopub.execute_input": "2022-02-08T07:51:22.140138Z",
     "iopub.status.busy": "2022-02-08T07:51:22.139873Z",
     "iopub.status.idle": "2022-02-08T07:51:28.028066Z",
     "shell.execute_reply": "2022-02-08T07:51:28.027429Z",
     "shell.execute_reply.started": "2022-02-08T07:51:22.140116Z"
    }
   },
   "outputs": [],
   "source": [
    "import pandas as pd\n",
    "\n",
    "# 데이터 로드\n",
    "train = pd.read_csv('data/train.csv')\n",
    "test = pd.read_csv('data/test.csv')\n",
    "bts= pd.read_csv('data/bus_bts.csv')\n",
    "jeju_life = pd.read_csv('./jeju_financial_life_data.csv')\n",
    "weather = pd.read_csv('./weather.csv', encoding='cp949')\n",
    "rain = pd.read_csv('./rain.csv', encoding='utf-8')"
   ]
  },
  {
   "cell_type": "code",
   "execution_count": 3,
   "metadata": {
    "execution": {
     "iopub.execute_input": "2022-02-08T07:51:28.029819Z",
     "iopub.status.busy": "2022-02-08T07:51:28.029536Z",
     "iopub.status.idle": "2022-02-08T07:51:28.100337Z",
     "shell.execute_reply": "2022-02-08T07:51:28.099336Z",
     "shell.execute_reply.started": "2022-02-08T07:51:28.029799Z"
    }
   },
   "outputs": [
    {
     "data": {
      "text/html": [
       "<div>\n",
       "<style scoped>\n",
       "    .dataframe tbody tr th:only-of-type {\n",
       "        vertical-align: middle;\n",
       "    }\n",
       "\n",
       "    .dataframe tbody tr th {\n",
       "        vertical-align: top;\n",
       "    }\n",
       "\n",
       "    .dataframe thead th {\n",
       "        text-align: right;\n",
       "    }\n",
       "</style>\n",
       "<table border=\"1\" class=\"dataframe\">\n",
       "  <thead>\n",
       "    <tr style=\"text-align: right;\">\n",
       "      <th></th>\n",
       "      <th>id</th>\n",
       "      <th>date</th>\n",
       "      <th>bus_route_id</th>\n",
       "      <th>in_out</th>\n",
       "      <th>station_code</th>\n",
       "      <th>station_name</th>\n",
       "      <th>latitude</th>\n",
       "      <th>longitude</th>\n",
       "      <th>6~7_ride</th>\n",
       "      <th>7~8_ride</th>\n",
       "      <th>...</th>\n",
       "      <th>9~10_ride</th>\n",
       "      <th>10~11_ride</th>\n",
       "      <th>11~12_ride</th>\n",
       "      <th>6~7_takeoff</th>\n",
       "      <th>7~8_takeoff</th>\n",
       "      <th>8~9_takeoff</th>\n",
       "      <th>9~10_takeoff</th>\n",
       "      <th>10~11_takeoff</th>\n",
       "      <th>11~12_takeoff</th>\n",
       "      <th>18~20_ride</th>\n",
       "    </tr>\n",
       "  </thead>\n",
       "  <tbody>\n",
       "    <tr>\n",
       "      <th>0</th>\n",
       "      <td>0</td>\n",
       "      <td>2019-09-01</td>\n",
       "      <td>4270000</td>\n",
       "      <td>시외</td>\n",
       "      <td>344</td>\n",
       "      <td>제주썬호텔</td>\n",
       "      <td>33.48990</td>\n",
       "      <td>126.49373</td>\n",
       "      <td>0.0</td>\n",
       "      <td>1.0</td>\n",
       "      <td>...</td>\n",
       "      <td>5.0</td>\n",
       "      <td>2.0</td>\n",
       "      <td>6.0</td>\n",
       "      <td>0.0</td>\n",
       "      <td>0.0</td>\n",
       "      <td>0.0</td>\n",
       "      <td>0.0</td>\n",
       "      <td>0.0</td>\n",
       "      <td>0.0</td>\n",
       "      <td>0.0</td>\n",
       "    </tr>\n",
       "    <tr>\n",
       "      <th>1</th>\n",
       "      <td>1</td>\n",
       "      <td>2019-09-01</td>\n",
       "      <td>4270000</td>\n",
       "      <td>시외</td>\n",
       "      <td>357</td>\n",
       "      <td>한라병원</td>\n",
       "      <td>33.48944</td>\n",
       "      <td>126.48508</td>\n",
       "      <td>1.0</td>\n",
       "      <td>4.0</td>\n",
       "      <td>...</td>\n",
       "      <td>2.0</td>\n",
       "      <td>5.0</td>\n",
       "      <td>6.0</td>\n",
       "      <td>0.0</td>\n",
       "      <td>0.0</td>\n",
       "      <td>0.0</td>\n",
       "      <td>0.0</td>\n",
       "      <td>0.0</td>\n",
       "      <td>0.0</td>\n",
       "      <td>5.0</td>\n",
       "    </tr>\n",
       "    <tr>\n",
       "      <th>2</th>\n",
       "      <td>2</td>\n",
       "      <td>2019-09-01</td>\n",
       "      <td>4270000</td>\n",
       "      <td>시외</td>\n",
       "      <td>432</td>\n",
       "      <td>정존마을</td>\n",
       "      <td>33.48181</td>\n",
       "      <td>126.47352</td>\n",
       "      <td>1.0</td>\n",
       "      <td>1.0</td>\n",
       "      <td>...</td>\n",
       "      <td>2.0</td>\n",
       "      <td>0.0</td>\n",
       "      <td>0.0</td>\n",
       "      <td>0.0</td>\n",
       "      <td>0.0</td>\n",
       "      <td>0.0</td>\n",
       "      <td>0.0</td>\n",
       "      <td>0.0</td>\n",
       "      <td>0.0</td>\n",
       "      <td>2.0</td>\n",
       "    </tr>\n",
       "    <tr>\n",
       "      <th>3</th>\n",
       "      <td>3</td>\n",
       "      <td>2019-09-01</td>\n",
       "      <td>4270000</td>\n",
       "      <td>시내</td>\n",
       "      <td>1579</td>\n",
       "      <td>제주국제공항(600번)</td>\n",
       "      <td>33.50577</td>\n",
       "      <td>126.49252</td>\n",
       "      <td>0.0</td>\n",
       "      <td>17.0</td>\n",
       "      <td>...</td>\n",
       "      <td>26.0</td>\n",
       "      <td>14.0</td>\n",
       "      <td>16.0</td>\n",
       "      <td>0.0</td>\n",
       "      <td>0.0</td>\n",
       "      <td>0.0</td>\n",
       "      <td>0.0</td>\n",
       "      <td>0.0</td>\n",
       "      <td>0.0</td>\n",
       "      <td>53.0</td>\n",
       "    </tr>\n",
       "    <tr>\n",
       "      <th>4</th>\n",
       "      <td>4</td>\n",
       "      <td>2019-09-01</td>\n",
       "      <td>4270000</td>\n",
       "      <td>시내</td>\n",
       "      <td>1646</td>\n",
       "      <td>중문관광단지입구</td>\n",
       "      <td>33.25579</td>\n",
       "      <td>126.41260</td>\n",
       "      <td>0.0</td>\n",
       "      <td>0.0</td>\n",
       "      <td>...</td>\n",
       "      <td>0.0</td>\n",
       "      <td>0.0</td>\n",
       "      <td>0.0</td>\n",
       "      <td>0.0</td>\n",
       "      <td>0.0</td>\n",
       "      <td>0.0</td>\n",
       "      <td>1.0</td>\n",
       "      <td>0.0</td>\n",
       "      <td>0.0</td>\n",
       "      <td>0.0</td>\n",
       "    </tr>\n",
       "  </tbody>\n",
       "</table>\n",
       "<p>5 rows × 21 columns</p>\n",
       "</div>"
      ],
      "text/plain": [
       "   id        date  bus_route_id in_out  station_code  station_name  latitude  \\\n",
       "0   0  2019-09-01       4270000     시외           344         제주썬호텔  33.48990   \n",
       "1   1  2019-09-01       4270000     시외           357          한라병원  33.48944   \n",
       "2   2  2019-09-01       4270000     시외           432          정존마을  33.48181   \n",
       "3   3  2019-09-01       4270000     시내          1579  제주국제공항(600번)  33.50577   \n",
       "4   4  2019-09-01       4270000     시내          1646      중문관광단지입구  33.25579   \n",
       "\n",
       "   longitude  6~7_ride  7~8_ride  ...  9~10_ride  10~11_ride  11~12_ride  \\\n",
       "0  126.49373       0.0       1.0  ...        5.0         2.0         6.0   \n",
       "1  126.48508       1.0       4.0  ...        2.0         5.0         6.0   \n",
       "2  126.47352       1.0       1.0  ...        2.0         0.0         0.0   \n",
       "3  126.49252       0.0      17.0  ...       26.0        14.0        16.0   \n",
       "4  126.41260       0.0       0.0  ...        0.0         0.0         0.0   \n",
       "\n",
       "   6~7_takeoff  7~8_takeoff  8~9_takeoff  9~10_takeoff  10~11_takeoff  \\\n",
       "0          0.0          0.0          0.0           0.0            0.0   \n",
       "1          0.0          0.0          0.0           0.0            0.0   \n",
       "2          0.0          0.0          0.0           0.0            0.0   \n",
       "3          0.0          0.0          0.0           0.0            0.0   \n",
       "4          0.0          0.0          0.0           1.0            0.0   \n",
       "\n",
       "   11~12_takeoff  18~20_ride  \n",
       "0            0.0         0.0  \n",
       "1            0.0         5.0  \n",
       "2            0.0         2.0  \n",
       "3            0.0        53.0  \n",
       "4            0.0         0.0  \n",
       "\n",
       "[5 rows x 21 columns]"
      ]
     },
     "execution_count": 3,
     "metadata": {},
     "output_type": "execute_result"
    }
   ],
   "source": [
    "# 학습 데이터 상위 5줄 출력\n",
    "train.head()"
   ]
  },
  {
   "cell_type": "code",
   "execution_count": 4,
   "metadata": {
    "execution": {
     "iopub.execute_input": "2022-02-08T07:52:31.654484Z",
     "iopub.status.busy": "2022-02-08T07:52:31.654185Z",
     "iopub.status.idle": "2022-02-08T07:52:31.730864Z",
     "shell.execute_reply": "2022-02-08T07:52:31.729370Z",
     "shell.execute_reply.started": "2022-02-08T07:52:31.654462Z"
    }
   },
   "outputs": [
    {
     "name": "stdout",
     "output_type": "stream",
     "text": [
      "<class 'pandas.core.frame.DataFrame'>\n",
      "RangeIndex: 415423 entries, 0 to 415422\n",
      "Data columns (total 21 columns):\n",
      " #   Column         Non-Null Count   Dtype  \n",
      "---  ------         --------------   -----  \n",
      " 0   id             415423 non-null  int64  \n",
      " 1   date           415423 non-null  object \n",
      " 2   bus_route_id   415423 non-null  int64  \n",
      " 3   in_out         415423 non-null  object \n",
      " 4   station_code   415423 non-null  int64  \n",
      " 5   station_name   415423 non-null  object \n",
      " 6   latitude       415423 non-null  float64\n",
      " 7   longitude      415423 non-null  float64\n",
      " 8   6~7_ride       415423 non-null  float64\n",
      " 9   7~8_ride       415423 non-null  float64\n",
      " 10  8~9_ride       415423 non-null  float64\n",
      " 11  9~10_ride      415423 non-null  float64\n",
      " 12  10~11_ride     415423 non-null  float64\n",
      " 13  11~12_ride     415423 non-null  float64\n",
      " 14  6~7_takeoff    415423 non-null  float64\n",
      " 15  7~8_takeoff    415423 non-null  float64\n",
      " 16  8~9_takeoff    415423 non-null  float64\n",
      " 17  9~10_takeoff   415423 non-null  float64\n",
      " 18  10~11_takeoff  415423 non-null  float64\n",
      " 19  11~12_takeoff  415423 non-null  float64\n",
      " 20  18~20_ride     415423 non-null  float64\n",
      "dtypes: float64(15), int64(3), object(3)\n",
      "memory usage: 66.6+ MB\n"
     ]
    }
   ],
   "source": [
    "# 학습 데이터 정보 출력\n",
    "train.info()"
   ]
  },
  {
   "cell_type": "code",
   "execution_count": 5,
   "metadata": {
    "execution": {
     "iopub.execute_input": "2022-02-08T07:52:32.628758Z",
     "iopub.status.busy": "2022-02-08T07:52:32.628426Z",
     "iopub.status.idle": "2022-02-08T07:52:32.643738Z",
     "shell.execute_reply": "2022-02-08T07:52:32.642940Z",
     "shell.execute_reply.started": "2022-02-08T07:52:32.628728Z"
    }
   },
   "outputs": [
    {
     "data": {
      "text/html": [
       "<div>\n",
       "<style scoped>\n",
       "    .dataframe tbody tr th:only-of-type {\n",
       "        vertical-align: middle;\n",
       "    }\n",
       "\n",
       "    .dataframe tbody tr th {\n",
       "        vertical-align: top;\n",
       "    }\n",
       "\n",
       "    .dataframe thead th {\n",
       "        text-align: right;\n",
       "    }\n",
       "</style>\n",
       "<table border=\"1\" class=\"dataframe\">\n",
       "  <thead>\n",
       "    <tr style=\"text-align: right;\">\n",
       "      <th></th>\n",
       "      <th>user_card_id</th>\n",
       "      <th>bus_route_id</th>\n",
       "      <th>vhc_id</th>\n",
       "      <th>geton_date</th>\n",
       "      <th>geton_time</th>\n",
       "      <th>geton_station_code</th>\n",
       "      <th>geton_station_name</th>\n",
       "      <th>getoff_date</th>\n",
       "      <th>getoff_time</th>\n",
       "      <th>getoff_station_code</th>\n",
       "      <th>getoff_station_name</th>\n",
       "      <th>user_category</th>\n",
       "      <th>user_count</th>\n",
       "    </tr>\n",
       "  </thead>\n",
       "  <tbody>\n",
       "    <tr>\n",
       "      <th>0</th>\n",
       "      <td>1.010010e+15</td>\n",
       "      <td>23000000</td>\n",
       "      <td>149793674</td>\n",
       "      <td>2019-09-10</td>\n",
       "      <td>06:34:45</td>\n",
       "      <td>360</td>\n",
       "      <td>노형오거리</td>\n",
       "      <td>2019-09-10</td>\n",
       "      <td>07:10:31</td>\n",
       "      <td>592.0</td>\n",
       "      <td>화북초등학교</td>\n",
       "      <td>1</td>\n",
       "      <td>1</td>\n",
       "    </tr>\n",
       "    <tr>\n",
       "      <th>1</th>\n",
       "      <td>1.010010e+15</td>\n",
       "      <td>23000000</td>\n",
       "      <td>149793674</td>\n",
       "      <td>2019-09-10</td>\n",
       "      <td>06:34:58</td>\n",
       "      <td>360</td>\n",
       "      <td>노형오거리</td>\n",
       "      <td>2019-09-10</td>\n",
       "      <td>06:56:27</td>\n",
       "      <td>3273.0</td>\n",
       "      <td>고산동산(광양방면)</td>\n",
       "      <td>1</td>\n",
       "      <td>1</td>\n",
       "    </tr>\n",
       "    <tr>\n",
       "      <th>2</th>\n",
       "      <td>1.019160e+15</td>\n",
       "      <td>21420000</td>\n",
       "      <td>149793535</td>\n",
       "      <td>2019-09-10</td>\n",
       "      <td>07:19:07</td>\n",
       "      <td>2495</td>\n",
       "      <td>동광환승정류장4(제주방면)</td>\n",
       "      <td>2019-09-10</td>\n",
       "      <td>07:40:29</td>\n",
       "      <td>431.0</td>\n",
       "      <td>정존마을</td>\n",
       "      <td>4</td>\n",
       "      <td>1</td>\n",
       "    </tr>\n",
       "    <tr>\n",
       "      <th>3</th>\n",
       "      <td>1.019150e+15</td>\n",
       "      <td>21420000</td>\n",
       "      <td>149793512</td>\n",
       "      <td>2019-09-09</td>\n",
       "      <td>09:14:47</td>\n",
       "      <td>3282</td>\n",
       "      <td>대정환승정류장(대정읍사무소)</td>\n",
       "      <td>2019-09-09</td>\n",
       "      <td>10:02:46</td>\n",
       "      <td>431.0</td>\n",
       "      <td>정존마을</td>\n",
       "      <td>1</td>\n",
       "      <td>1</td>\n",
       "    </tr>\n",
       "    <tr>\n",
       "      <th>4</th>\n",
       "      <td>1.010010e+15</td>\n",
       "      <td>21420000</td>\n",
       "      <td>149793512</td>\n",
       "      <td>2019-09-09</td>\n",
       "      <td>09:28:53</td>\n",
       "      <td>2820</td>\n",
       "      <td>삼정지에듀</td>\n",
       "      <td>2019-09-09</td>\n",
       "      <td>10:21:37</td>\n",
       "      <td>2972.0</td>\n",
       "      <td>제주국제공항(종점)</td>\n",
       "      <td>4</td>\n",
       "      <td>1</td>\n",
       "    </tr>\n",
       "  </tbody>\n",
       "</table>\n",
       "</div>"
      ],
      "text/plain": [
       "   user_card_id  bus_route_id     vhc_id  geton_date geton_time  \\\n",
       "0  1.010010e+15      23000000  149793674  2019-09-10   06:34:45   \n",
       "1  1.010010e+15      23000000  149793674  2019-09-10   06:34:58   \n",
       "2  1.019160e+15      21420000  149793535  2019-09-10   07:19:07   \n",
       "3  1.019150e+15      21420000  149793512  2019-09-09   09:14:47   \n",
       "4  1.010010e+15      21420000  149793512  2019-09-09   09:28:53   \n",
       "\n",
       "   geton_station_code geton_station_name getoff_date getoff_time  \\\n",
       "0                 360              노형오거리  2019-09-10    07:10:31   \n",
       "1                 360              노형오거리  2019-09-10    06:56:27   \n",
       "2                2495     동광환승정류장4(제주방면)  2019-09-10    07:40:29   \n",
       "3                3282    대정환승정류장(대정읍사무소)  2019-09-09    10:02:46   \n",
       "4                2820              삼정지에듀  2019-09-09    10:21:37   \n",
       "\n",
       "   getoff_station_code getoff_station_name  user_category  user_count  \n",
       "0                592.0              화북초등학교              1           1  \n",
       "1               3273.0          고산동산(광양방면)              1           1  \n",
       "2                431.0                정존마을              4           1  \n",
       "3                431.0                정존마을              1           1  \n",
       "4               2972.0          제주국제공항(종점)              4           1  "
      ]
     },
     "execution_count": 5,
     "metadata": {},
     "output_type": "execute_result"
    }
   ],
   "source": [
    "# bus_bts 데이터 상위 5줄 출력\n",
    "bts.head()"
   ]
  },
  {
   "cell_type": "code",
   "execution_count": 6,
   "metadata": {
    "execution": {
     "iopub.execute_input": "2022-02-08T07:55:01.862883Z",
     "iopub.status.busy": "2022-02-08T07:55:01.862497Z",
     "iopub.status.idle": "2022-02-08T07:55:02.339404Z",
     "shell.execute_reply": "2022-02-08T07:55:02.338593Z",
     "shell.execute_reply.started": "2022-02-08T07:55:01.862848Z"
    }
   },
   "outputs": [
    {
     "name": "stderr",
     "output_type": "stream",
     "text": [
      "/Library/Frameworks/Python.framework/Versions/3.7/lib/python3.7/site-packages/ipykernel_launcher.py:2: FutureWarning: null_counts is deprecated. Use show_counts instead\n",
      "  \n"
     ]
    },
    {
     "name": "stdout",
     "output_type": "stream",
     "text": [
      "<class 'pandas.core.frame.DataFrame'>\n",
      "RangeIndex: 2409414 entries, 0 to 2409413\n",
      "Data columns (total 13 columns):\n",
      " #   Column               Non-Null Count    Dtype  \n",
      "---  ------               --------------    -----  \n",
      " 0   user_card_id         2409414 non-null  float64\n",
      " 1   bus_route_id         2409414 non-null  int64  \n",
      " 2   vhc_id               2409414 non-null  int64  \n",
      " 3   geton_date           2409414 non-null  object \n",
      " 4   geton_time           2409414 non-null  object \n",
      " 5   geton_station_code   2409414 non-null  int64  \n",
      " 6   geton_station_name   2409365 non-null  object \n",
      " 7   getoff_date          1513678 non-null  object \n",
      " 8   getoff_time          1513678 non-null  object \n",
      " 9   getoff_station_code  1513678 non-null  float64\n",
      " 10  getoff_station_name  1513639 non-null  object \n",
      " 11  user_category        2409414 non-null  int64  \n",
      " 12  user_count           2409414 non-null  int64  \n",
      "dtypes: float64(2), int64(5), object(6)\n",
      "memory usage: 239.0+ MB\n"
     ]
    }
   ],
   "source": [
    "# bus_bts 데이터 정보 출력\n",
    "bts.info(null_counts=True)"
   ]
  },
  {
   "cell_type": "code",
   "execution_count": 29,
   "metadata": {
    "execution": {
     "iopub.execute_input": "2022-02-08T07:59:13.408771Z",
     "iopub.status.busy": "2022-02-08T07:59:13.408509Z",
     "iopub.status.idle": "2022-02-08T07:59:13.429800Z",
     "shell.execute_reply": "2022-02-08T07:59:13.429071Z",
     "shell.execute_reply.started": "2022-02-08T07:59:13.408749Z"
    }
   },
   "outputs": [
    {
     "data": {
      "text/html": [
       "<div>\n",
       "<style scoped>\n",
       "    .dataframe tbody tr th:only-of-type {\n",
       "        vertical-align: middle;\n",
       "    }\n",
       "\n",
       "    .dataframe tbody tr th {\n",
       "        vertical-align: top;\n",
       "    }\n",
       "\n",
       "    .dataframe thead th {\n",
       "        text-align: right;\n",
       "    }\n",
       "</style>\n",
       "<table border=\"1\" class=\"dataframe\">\n",
       "  <thead>\n",
       "    <tr style=\"text-align: right;\">\n",
       "      <th></th>\n",
       "      <th>zip_cd</th>\n",
       "      <th>year_month</th>\n",
       "      <th>x_axis</th>\n",
       "      <th>y_axis</th>\n",
       "      <th>sex</th>\n",
       "      <th>age</th>\n",
       "      <th>job_majorc</th>\n",
       "      <th>job_smallc</th>\n",
       "      <th>job_public</th>\n",
       "      <th>job_profession</th>\n",
       "      <th>...</th>\n",
       "      <th>avg_debt</th>\n",
       "      <th>avg_debt_credit</th>\n",
       "      <th>avg_debt_noneb</th>\n",
       "      <th>avg_debt_mortgage</th>\n",
       "      <th>avg_debt_deposit</th>\n",
       "      <th>avg_debt_collateral</th>\n",
       "      <th>avg_credit_rat</th>\n",
       "      <th>medium_resid_rat</th>\n",
       "      <th>large_resid_rat</th>\n",
       "      <th>vehicle_own_rat</th>\n",
       "    </tr>\n",
       "  </thead>\n",
       "  <tbody>\n",
       "    <tr>\n",
       "      <th>0</th>\n",
       "      <td>63299</td>\n",
       "      <td>201902</td>\n",
       "      <td>126.565889</td>\n",
       "      <td>33.513210</td>\n",
       "      <td>1</td>\n",
       "      <td>54</td>\n",
       "      <td>0.0</td>\n",
       "      <td>0.166667</td>\n",
       "      <td>0.000000</td>\n",
       "      <td>0.000000</td>\n",
       "      <td>...</td>\n",
       "      <td>24285196</td>\n",
       "      <td>11419148</td>\n",
       "      <td>8863595</td>\n",
       "      <td>55550000</td>\n",
       "      <td>0</td>\n",
       "      <td>55550000</td>\n",
       "      <td>5</td>\n",
       "      <td>-999999.0</td>\n",
       "      <td>-999999.0</td>\n",
       "      <td>0.000000</td>\n",
       "    </tr>\n",
       "    <tr>\n",
       "      <th>1</th>\n",
       "      <td>63560</td>\n",
       "      <td>201902</td>\n",
       "      <td>126.497121</td>\n",
       "      <td>33.247225</td>\n",
       "      <td>1</td>\n",
       "      <td>59</td>\n",
       "      <td>0.0</td>\n",
       "      <td>0.125000</td>\n",
       "      <td>0.000000</td>\n",
       "      <td>0.000000</td>\n",
       "      <td>...</td>\n",
       "      <td>108571077</td>\n",
       "      <td>25896955</td>\n",
       "      <td>13317443</td>\n",
       "      <td>0</td>\n",
       "      <td>200000000</td>\n",
       "      <td>74421721</td>\n",
       "      <td>4</td>\n",
       "      <td>-999999.0</td>\n",
       "      <td>-999999.0</td>\n",
       "      <td>0.000000</td>\n",
       "    </tr>\n",
       "    <tr>\n",
       "      <th>2</th>\n",
       "      <td>63560</td>\n",
       "      <td>201902</td>\n",
       "      <td>126.497121</td>\n",
       "      <td>33.247225</td>\n",
       "      <td>2</td>\n",
       "      <td>49</td>\n",
       "      <td>0.0</td>\n",
       "      <td>0.250000</td>\n",
       "      <td>0.000000</td>\n",
       "      <td>0.000000</td>\n",
       "      <td>...</td>\n",
       "      <td>26424335</td>\n",
       "      <td>12015311</td>\n",
       "      <td>12015311</td>\n",
       "      <td>40833359</td>\n",
       "      <td>0</td>\n",
       "      <td>40833359</td>\n",
       "      <td>2</td>\n",
       "      <td>-999999.0</td>\n",
       "      <td>-999999.0</td>\n",
       "      <td>0.000000</td>\n",
       "    </tr>\n",
       "    <tr>\n",
       "      <th>3</th>\n",
       "      <td>63560</td>\n",
       "      <td>201902</td>\n",
       "      <td>126.497121</td>\n",
       "      <td>33.247225</td>\n",
       "      <td>1</td>\n",
       "      <td>54</td>\n",
       "      <td>0.0</td>\n",
       "      <td>0.181818</td>\n",
       "      <td>0.090909</td>\n",
       "      <td>0.090909</td>\n",
       "      <td>...</td>\n",
       "      <td>647716901</td>\n",
       "      <td>39952556</td>\n",
       "      <td>21558153</td>\n",
       "      <td>36697792</td>\n",
       "      <td>0</td>\n",
       "      <td>706300496</td>\n",
       "      <td>4</td>\n",
       "      <td>-999999.0</td>\n",
       "      <td>-999999.0</td>\n",
       "      <td>0.166667</td>\n",
       "    </tr>\n",
       "    <tr>\n",
       "      <th>4</th>\n",
       "      <td>63560</td>\n",
       "      <td>201902</td>\n",
       "      <td>126.497121</td>\n",
       "      <td>33.247225</td>\n",
       "      <td>1</td>\n",
       "      <td>49</td>\n",
       "      <td>0.0</td>\n",
       "      <td>0.250000</td>\n",
       "      <td>0.000000</td>\n",
       "      <td>0.000000</td>\n",
       "      <td>...</td>\n",
       "      <td>248232725</td>\n",
       "      <td>35712501</td>\n",
       "      <td>5568751</td>\n",
       "      <td>0</td>\n",
       "      <td>0</td>\n",
       "      <td>626810674</td>\n",
       "      <td>5</td>\n",
       "      <td>-999999.0</td>\n",
       "      <td>-999999.0</td>\n",
       "      <td>0.000000</td>\n",
       "    </tr>\n",
       "  </tbody>\n",
       "</table>\n",
       "<p>5 rows × 27 columns</p>\n",
       "</div>"
      ],
      "text/plain": [
       "   zip_cd  year_month      x_axis     y_axis  sex  age  job_majorc  \\\n",
       "0   63299      201902  126.565889  33.513210    1   54         0.0   \n",
       "1   63560      201902  126.497121  33.247225    1   59         0.0   \n",
       "2   63560      201902  126.497121  33.247225    2   49         0.0   \n",
       "3   63560      201902  126.497121  33.247225    1   54         0.0   \n",
       "4   63560      201902  126.497121  33.247225    1   49         0.0   \n",
       "\n",
       "   job_smallc  job_public  job_profession  ...   avg_debt  avg_debt_credit  \\\n",
       "0    0.166667    0.000000        0.000000  ...   24285196         11419148   \n",
       "1    0.125000    0.000000        0.000000  ...  108571077         25896955   \n",
       "2    0.250000    0.000000        0.000000  ...   26424335         12015311   \n",
       "3    0.181818    0.090909        0.090909  ...  647716901         39952556   \n",
       "4    0.250000    0.000000        0.000000  ...  248232725         35712501   \n",
       "\n",
       "   avg_debt_noneb  avg_debt_mortgage  avg_debt_deposit  avg_debt_collateral  \\\n",
       "0         8863595           55550000                 0             55550000   \n",
       "1        13317443                  0         200000000             74421721   \n",
       "2        12015311           40833359                 0             40833359   \n",
       "3        21558153           36697792                 0            706300496   \n",
       "4         5568751                  0                 0            626810674   \n",
       "\n",
       "   avg_credit_rat  medium_resid_rat  large_resid_rat  vehicle_own_rat  \n",
       "0               5         -999999.0        -999999.0         0.000000  \n",
       "1               4         -999999.0        -999999.0         0.000000  \n",
       "2               2         -999999.0        -999999.0         0.000000  \n",
       "3               4         -999999.0        -999999.0         0.166667  \n",
       "4               5         -999999.0        -999999.0         0.000000  \n",
       "\n",
       "[5 rows x 27 columns]"
      ]
     },
     "execution_count": 29,
     "metadata": {},
     "output_type": "execute_result"
    }
   ],
   "source": [
    "# jeju_financial_life_data 데이터 상위 5줄 출력\n",
    "jeju_life.head()"
   ]
  },
  {
   "cell_type": "code",
   "execution_count": 30,
   "metadata": {
    "execution": {
     "iopub.execute_input": "2022-02-08T07:59:13.619129Z",
     "iopub.status.busy": "2022-02-08T07:59:13.618785Z",
     "iopub.status.idle": "2022-02-08T07:59:13.633678Z",
     "shell.execute_reply": "2022-02-08T07:59:13.632870Z",
     "shell.execute_reply.started": "2022-02-08T07:59:13.619098Z"
    }
   },
   "outputs": [
    {
     "name": "stdout",
     "output_type": "stream",
     "text": [
      "<class 'pandas.core.frame.DataFrame'>\n",
      "RangeIndex: 10422 entries, 0 to 10421\n",
      "Data columns (total 27 columns):\n",
      " #   Column               Non-Null Count  Dtype  \n",
      "---  ------               --------------  -----  \n",
      " 0   zip_cd               10422 non-null  int64  \n",
      " 1   year_month           10422 non-null  int64  \n",
      " 2   x_axis               10422 non-null  float64\n",
      " 3   y_axis               10422 non-null  float64\n",
      " 4   sex                  10422 non-null  int64  \n",
      " 5   age                  10422 non-null  int64  \n",
      " 6   job_majorc           10422 non-null  float64\n",
      " 7   job_smallc           10422 non-null  float64\n",
      " 8   job_public           10422 non-null  float64\n",
      " 9   job_profession       10422 non-null  float64\n",
      " 10  job_self             10422 non-null  float64\n",
      " 11  job_none             10422 non-null  float64\n",
      " 12  job_other            10422 non-null  float64\n",
      " 13  avg_income           10422 non-null  int64  \n",
      " 14  med_income           10422 non-null  int64  \n",
      " 15  avg_spend            10422 non-null  int64  \n",
      " 16  avg_foreign_spend    10422 non-null  int64  \n",
      " 17  avg_debt             10422 non-null  int64  \n",
      " 18  avg_debt_credit      10422 non-null  int64  \n",
      " 19  avg_debt_noneb       10422 non-null  int64  \n",
      " 20  avg_debt_mortgage    10422 non-null  int64  \n",
      " 21  avg_debt_deposit     10422 non-null  int64  \n",
      " 22  avg_debt_collateral  10422 non-null  int64  \n",
      " 23  avg_credit_rat       10422 non-null  int64  \n",
      " 24  medium_resid_rat     10422 non-null  float64\n",
      " 25  large_resid_rat      10422 non-null  float64\n",
      " 26  vehicle_own_rat      10422 non-null  float64\n",
      "dtypes: float64(12), int64(15)\n",
      "memory usage: 2.1 MB\n"
     ]
    }
   ],
   "source": [
    "# jeju_financial_life_data 데이터 정보 출력\n",
    "jeju_life.info()"
   ]
  },
  {
   "cell_type": "code",
   "execution_count": 12,
   "metadata": {
    "execution": {
     "iopub.execute_input": "2022-02-08T07:56:27.115881Z",
     "iopub.status.busy": "2022-02-08T07:56:27.115560Z",
     "iopub.status.idle": "2022-02-08T07:56:27.126179Z",
     "shell.execute_reply": "2022-02-08T07:56:27.125509Z",
     "shell.execute_reply.started": "2022-02-08T07:56:27.115859Z"
    }
   },
   "outputs": [
    {
     "data": {
      "text/html": [
       "<div>\n",
       "<style scoped>\n",
       "    .dataframe tbody tr th:only-of-type {\n",
       "        vertical-align: middle;\n",
       "    }\n",
       "\n",
       "    .dataframe tbody tr th {\n",
       "        vertical-align: top;\n",
       "    }\n",
       "\n",
       "    .dataframe thead th {\n",
       "        text-align: right;\n",
       "    }\n",
       "</style>\n",
       "<table border=\"1\" class=\"dataframe\">\n",
       "  <thead>\n",
       "    <tr style=\"text-align: right;\">\n",
       "      <th></th>\n",
       "      <th>날짜</th>\n",
       "      <th>현재일기</th>\n",
       "      <th>현재기온</th>\n",
       "      <th>체감온도</th>\n",
       "      <th>일강수</th>\n",
       "    </tr>\n",
       "  </thead>\n",
       "  <tbody>\n",
       "    <tr>\n",
       "      <th>0</th>\n",
       "      <td>2019-09-01</td>\n",
       "      <td>흐림</td>\n",
       "      <td>26.2</td>\n",
       "      <td>75.0</td>\n",
       "      <td>0</td>\n",
       "    </tr>\n",
       "    <tr>\n",
       "      <th>1</th>\n",
       "      <td>2019-09-02</td>\n",
       "      <td>비 끝남</td>\n",
       "      <td>22.5</td>\n",
       "      <td>72.0</td>\n",
       "      <td>25.7</td>\n",
       "    </tr>\n",
       "    <tr>\n",
       "      <th>2</th>\n",
       "      <td>2019-09-03</td>\n",
       "      <td>흐림</td>\n",
       "      <td>25.4</td>\n",
       "      <td>77.0</td>\n",
       "      <td>12.1</td>\n",
       "    </tr>\n",
       "    <tr>\n",
       "      <th>3</th>\n",
       "      <td>2019-09-04</td>\n",
       "      <td>약한비단속</td>\n",
       "      <td>24.2</td>\n",
       "      <td>75.0</td>\n",
       "      <td>34.3</td>\n",
       "    </tr>\n",
       "    <tr>\n",
       "      <th>4</th>\n",
       "      <td>2019-09-05</td>\n",
       "      <td>구름많음</td>\n",
       "      <td>27.6</td>\n",
       "      <td>79.0</td>\n",
       "      <td>0.1</td>\n",
       "    </tr>\n",
       "  </tbody>\n",
       "</table>\n",
       "</div>"
      ],
      "text/plain": [
       "           날짜   현재일기  현재기온  체감온도   일강수\n",
       "0  2019-09-01     흐림  26.2  75.0     0\n",
       "1  2019-09-02   비 끝남  22.5  72.0  25.7\n",
       "2  2019-09-03     흐림  25.4  77.0  12.1\n",
       "3  2019-09-04  약한비단속  24.2  75.0  34.3\n",
       "4  2019-09-05   구름많음  27.6  79.0   0.1"
      ]
     },
     "execution_count": 12,
     "metadata": {},
     "output_type": "execute_result"
    }
   ],
   "source": [
    "# weather 데이터 상위 5줄 출력\n",
    "weather.head()"
   ]
  },
  {
   "cell_type": "code",
   "execution_count": 13,
   "metadata": {
    "execution": {
     "iopub.execute_input": "2022-02-08T07:56:28.051452Z",
     "iopub.status.busy": "2022-02-08T07:56:28.051153Z",
     "iopub.status.idle": "2022-02-08T07:56:28.063083Z",
     "shell.execute_reply": "2022-02-08T07:56:28.062231Z",
     "shell.execute_reply.started": "2022-02-08T07:56:28.051430Z"
    }
   },
   "outputs": [
    {
     "name": "stdout",
     "output_type": "stream",
     "text": [
      "<class 'pandas.core.frame.DataFrame'>\n",
      "RangeIndex: 46 entries, 0 to 45\n",
      "Data columns (total 5 columns):\n",
      " #   Column  Non-Null Count  Dtype  \n",
      "---  ------  --------------  -----  \n",
      " 0   날짜      46 non-null     object \n",
      " 1   현재일기    46 non-null     object \n",
      " 2   현재기온    46 non-null     float64\n",
      " 3   체감온도    46 non-null     float64\n",
      " 4   일강수     46 non-null     object \n",
      "dtypes: float64(2), object(3)\n",
      "memory usage: 1.9+ KB\n"
     ]
    }
   ],
   "source": [
    "# weather 데이터 정보 출력\n",
    "weather.info()"
   ]
  },
  {
   "cell_type": "code",
   "execution_count": 14,
   "metadata": {
    "execution": {
     "iopub.execute_input": "2022-02-08T07:56:30.787253Z",
     "iopub.status.busy": "2022-02-08T07:56:30.786917Z",
     "iopub.status.idle": "2022-02-08T07:56:30.796887Z",
     "shell.execute_reply": "2022-02-08T07:56:30.796088Z",
     "shell.execute_reply.started": "2022-02-08T07:56:30.787171Z"
    }
   },
   "outputs": [
    {
     "data": {
      "text/html": [
       "<div>\n",
       "<style scoped>\n",
       "    .dataframe tbody tr th:only-of-type {\n",
       "        vertical-align: middle;\n",
       "    }\n",
       "\n",
       "    .dataframe tbody tr th {\n",
       "        vertical-align: top;\n",
       "    }\n",
       "\n",
       "    .dataframe thead th {\n",
       "        text-align: right;\n",
       "    }\n",
       "</style>\n",
       "<table border=\"1\" class=\"dataframe\">\n",
       "  <thead>\n",
       "    <tr style=\"text-align: right;\">\n",
       "      <th></th>\n",
       "      <th>지점</th>\n",
       "      <th>일시</th>\n",
       "      <th>기온(°C)</th>\n",
       "      <th>강수량(mm)</th>\n",
       "    </tr>\n",
       "  </thead>\n",
       "  <tbody>\n",
       "    <tr>\n",
       "      <th>0</th>\n",
       "      <td>gosan</td>\n",
       "      <td>2019-09-01</td>\n",
       "      <td>23.916667</td>\n",
       "      <td>0.00</td>\n",
       "    </tr>\n",
       "    <tr>\n",
       "      <th>1</th>\n",
       "      <td>gosan</td>\n",
       "      <td>2019-09-02</td>\n",
       "      <td>23.700000</td>\n",
       "      <td>12.10</td>\n",
       "    </tr>\n",
       "    <tr>\n",
       "      <th>2</th>\n",
       "      <td>gosan</td>\n",
       "      <td>2019-09-03</td>\n",
       "      <td>23.550000</td>\n",
       "      <td>1.90</td>\n",
       "    </tr>\n",
       "    <tr>\n",
       "      <th>3</th>\n",
       "      <td>gosan</td>\n",
       "      <td>2019-09-04</td>\n",
       "      <td>23.533333</td>\n",
       "      <td>12.84</td>\n",
       "    </tr>\n",
       "    <tr>\n",
       "      <th>4</th>\n",
       "      <td>gosan</td>\n",
       "      <td>2019-09-05</td>\n",
       "      <td>26.033333</td>\n",
       "      <td>0.00</td>\n",
       "    </tr>\n",
       "  </tbody>\n",
       "</table>\n",
       "</div>"
      ],
      "text/plain": [
       "      지점          일시     기온(°C)  강수량(mm)\n",
       "0  gosan  2019-09-01  23.916667     0.00\n",
       "1  gosan  2019-09-02  23.700000    12.10\n",
       "2  gosan  2019-09-03  23.550000     1.90\n",
       "3  gosan  2019-09-04  23.533333    12.84\n",
       "4  gosan  2019-09-05  26.033333     0.00"
      ]
     },
     "execution_count": 14,
     "metadata": {},
     "output_type": "execute_result"
    }
   ],
   "source": [
    "# rain 데이터 상위 5줄 출력\n",
    "rain.head()"
   ]
  },
  {
   "cell_type": "code",
   "execution_count": 15,
   "metadata": {
    "execution": {
     "iopub.execute_input": "2022-02-08T07:56:31.435254Z",
     "iopub.status.busy": "2022-02-08T07:56:31.434961Z",
     "iopub.status.idle": "2022-02-08T07:56:31.445979Z",
     "shell.execute_reply": "2022-02-08T07:56:31.445236Z",
     "shell.execute_reply.started": "2022-02-08T07:56:31.435231Z"
    }
   },
   "outputs": [
    {
     "name": "stdout",
     "output_type": "stream",
     "text": [
      "<class 'pandas.core.frame.DataFrame'>\n",
      "RangeIndex: 184 entries, 0 to 183\n",
      "Data columns (total 4 columns):\n",
      " #   Column   Non-Null Count  Dtype  \n",
      "---  ------   --------------  -----  \n",
      " 0   지점       184 non-null    object \n",
      " 1   일시       184 non-null    object \n",
      " 2   기온(°C)   184 non-null    float64\n",
      " 3   강수량(mm)  66 non-null     float64\n",
      "dtypes: float64(2), object(2)\n",
      "memory usage: 5.9+ KB\n"
     ]
    }
   ],
   "source": [
    "# rain 데이터 정보 출력\n",
    "rain.info()"
   ]
  },
  {
   "cell_type": "markdown",
   "metadata": {},
   "source": [
    "### 3.2.2. 데이터 시각화를 통한 탐색적 데이터 분석"
   ]
  },
  {
   "cell_type": "code",
   "execution_count": 19,
   "metadata": {
    "execution": {
     "iopub.execute_input": "2022-02-08T07:56:45.981999Z",
     "iopub.status.busy": "2022-02-08T07:56:45.981737Z",
     "iopub.status.idle": "2022-02-08T07:56:45.987516Z",
     "shell.execute_reply": "2022-02-08T07:56:45.986563Z",
     "shell.execute_reply.started": "2022-02-08T07:56:45.981977Z"
    }
   },
   "outputs": [],
   "source": [
    "# 시각화에 필요한 라이브러리 임포트\n",
    "import matplotlib\n",
    "import matplotlib.pyplot as plt\n",
    "import seaborn as sns\n",
    "# 내부에 결과를 출력하도록 설정\n",
    "%matplotlib inline\n",
    "# 시각화 한글 폰트 설정\n",
    "# 윈도우 사용자\n",
    "# plt.rc('font', family='Malgun Gothic')\n",
    "# Mac 사용자\n",
    "plt.rc('font', family='AppleGothic')\n",
    "# 마이너스 기호 출력\n",
    "plt.rc('axes', unicode_minus=False) \n",
    "# 분석에 문제가 없는 경고 메세지는 숨긴다.\n",
    "import warnings\n",
    "warnings.filterwarnings('ignore') "
   ]
  },
  {
   "cell_type": "code",
   "execution_count": 20,
   "metadata": {
    "execution": {
     "iopub.execute_input": "2022-02-08T07:56:46.334153Z",
     "iopub.status.busy": "2022-02-08T07:56:46.333888Z",
     "iopub.status.idle": "2022-02-08T07:56:46.372491Z",
     "shell.execute_reply": "2022-02-08T07:56:46.371723Z",
     "shell.execute_reply.started": "2022-02-08T07:56:46.334131Z"
    }
   },
   "outputs": [],
   "source": [
    "# 학습 데이터 복사본 생성\n",
    "traindata = train.copy()"
   ]
  },
  {
   "cell_type": "markdown",
   "metadata": {},
   "source": [
    "#### 3.2.2.1. 타깃 변수 분포 확인하기"
   ]
  },
  {
   "cell_type": "code",
   "execution_count": 21,
   "metadata": {
    "execution": {
     "iopub.execute_input": "2022-02-08T07:56:47.054371Z",
     "iopub.status.busy": "2022-02-08T07:56:47.054107Z",
     "iopub.status.idle": "2022-02-08T07:56:47.299484Z",
     "shell.execute_reply": "2022-02-08T07:56:47.298623Z",
     "shell.execute_reply.started": "2022-02-08T07:56:47.054350Z"
    }
   },
   "outputs": [
    {
     "data": {
      "image/png": "[encoded data removed]",
      "text/plain": [
       "<Figure size 432x288 with 1 Axes>"
      ]
     },
     "metadata": {
      "needs_background": "light"
     },
     "output_type": "display_data"
    }
   ],
   "source": [
    "# 타깃 변수(퇴근 시간 승차 인원) 분포 시각화\n",
    "sns.distplot(traindata['18~20_ride'], kde = False, bins = 50)\n",
    "plt.axis([0, 50, 0, 450000]) # [x 축 최솟값, x 축 최댓값, y 축 최솟값, y 축 최댓값]\n",
    "plt.title(\"퇴근 시간 승차 인원 히스토그램\") # 그래프 제목 지정\n",
    "plt.show() # 그래프 그리기"
   ]
  },
  {
   "cell_type": "code",
   "execution_count": 22,
   "metadata": {
    "execution": {
     "iopub.execute_input": "2022-02-08T07:56:49.091335Z",
     "iopub.status.busy": "2022-02-08T07:56:49.091076Z",
     "iopub.status.idle": "2022-02-08T07:56:49.107104Z",
     "shell.execute_reply": "2022-02-08T07:56:49.106309Z",
     "shell.execute_reply.started": "2022-02-08T07:56:49.091313Z"
    }
   },
   "outputs": [
    {
     "data": {
      "text/plain": [
       "18~20_ride\n",
       "0.0    296528\n",
       "1.0     44268\n",
       "2.0     23752\n",
       "3.0     13560\n",
       "4.0      8630\n",
       "5.0      5911\n",
       "dtype: int64"
      ]
     },
     "execution_count": 22,
     "metadata": {},
     "output_type": "execute_result"
    }
   ],
   "source": [
    "# 타깃 변수(퇴근 시간 승차 인원) 분포 확인\n",
    "traindata.groupby('18~20_ride').size().head(6)"
   ]
  },
  {
   "cell_type": "markdown",
   "metadata": {},
   "source": [
    "#### 3.2.2.2. 단일 변수에 따른 타깃 변수의 변화"
   ]
  },
  {
   "cell_type": "code",
   "execution_count": 23,
   "metadata": {
    "execution": {
     "iopub.execute_input": "2022-02-08T07:56:51.850634Z",
     "iopub.status.busy": "2022-02-08T07:56:51.850367Z",
     "iopub.status.idle": "2022-02-08T07:56:54.224988Z",
     "shell.execute_reply": "2022-02-08T07:56:54.224345Z",
     "shell.execute_reply.started": "2022-02-08T07:56:51.850611Z"
    }
   },
   "outputs": [],
   "source": [
    "# 요일 변수 생성\n",
    "\n",
    "# 날짜형으로 변환\n",
    "traindata['date'] = pd.to_datetime(traindata['date'])\n",
    "# 요일을 문자형으로 추출해 변수 생성\n",
    "traindata['weekday'] = traindata['date'].dt.strftime('%a')"
   ]
  },
  {
   "cell_type": "code",
   "execution_count": 24,
   "metadata": {
    "execution": {
     "iopub.execute_input": "2022-02-08T07:56:54.226841Z",
     "iopub.status.busy": "2022-02-08T07:56:54.226539Z",
     "iopub.status.idle": "2022-02-08T07:56:57.603321Z",
     "shell.execute_reply": "2022-02-08T07:56:57.602474Z",
     "shell.execute_reply.started": "2022-02-08T07:56:54.226820Z"
    }
   },
   "outputs": [
    {
     "data": {
      "image/png": "[encoded data removed]",
      "text/plain": [
       "<Figure size 432x288 with 1 Axes>"
      ]
     },
     "metadata": {
      "needs_background": "light"
     },
     "output_type": "display_data"
    }
   ],
   "source": [
    "# 요일별 퇴근 시간 평균 탑승객 수 시각화\n",
    "sns.barplot(x=\"weekday\", y=\"18~20_ride\", data=traindata)\n",
    "plt.title(\"요일에 따른 퇴근 시간 평균 탑승객 수\")\n",
    "plt.show()"
   ]
  },
  {
   "cell_type": "code",
   "execution_count": 25,
   "metadata": {
    "execution": {
     "iopub.execute_input": "2022-02-08T07:56:57.605720Z",
     "iopub.status.busy": "2022-02-08T07:56:57.605360Z",
     "iopub.status.idle": "2022-02-08T07:57:02.796131Z",
     "shell.execute_reply": "2022-02-08T07:57:02.795162Z",
     "shell.execute_reply.started": "2022-02-08T07:56:57.605697Z"
    }
   },
   "outputs": [
    {
     "data": {
      "image/png": "[encoded data removed]",
      "text/plain": [
       "<Figure size 432x288 with 1 Axes>"
      ]
     },
     "metadata": {
      "needs_background": "light"
     },
     "output_type": "display_data"
    }
   ],
   "source": [
    "# 버스 종류별 퇴근 시간 평균 탑승객 수 시각화\n",
    "sns.barplot(x=\"in_out\", y=\"18~20_ride\", data=traindata)\n",
    "plt.title(\"버스 종류에 따른 평균 탑승객 수\")\n",
    "plt.show()"
   ]
  },
  {
   "cell_type": "code",
   "execution_count": 26,
   "metadata": {
    "execution": {
     "iopub.execute_input": "2022-02-08T07:57:17.595057Z",
     "iopub.status.busy": "2022-02-08T07:57:17.594798Z",
     "iopub.status.idle": "2022-02-08T07:57:17.706863Z",
     "shell.execute_reply": "2022-02-08T07:57:17.705977Z",
     "shell.execute_reply.started": "2022-02-08T07:57:17.595035Z"
    }
   },
   "outputs": [
    {
     "data": {
      "text/html": [
       "<div>\n",
       "<style scoped>\n",
       "    .dataframe tbody tr th:only-of-type {\n",
       "        vertical-align: middle;\n",
       "    }\n",
       "\n",
       "    .dataframe tbody tr th {\n",
       "        vertical-align: top;\n",
       "    }\n",
       "\n",
       "    .dataframe thead th {\n",
       "        text-align: right;\n",
       "    }\n",
       "</style>\n",
       "<table border=\"1\" class=\"dataframe\">\n",
       "  <thead>\n",
       "    <tr style=\"text-align: right;\">\n",
       "      <th></th>\n",
       "      <th>date</th>\n",
       "      <th>18~20_ride</th>\n",
       "      <th>8~10_ride</th>\n",
       "    </tr>\n",
       "  </thead>\n",
       "  <tbody>\n",
       "    <tr>\n",
       "      <th>0</th>\n",
       "      <td>2019-09-01</td>\n",
       "      <td>11537.0</td>\n",
       "      <td>11957.0</td>\n",
       "    </tr>\n",
       "    <tr>\n",
       "      <th>1</th>\n",
       "      <td>2019-09-02</td>\n",
       "      <td>20561.0</td>\n",
       "      <td>21844.0</td>\n",
       "    </tr>\n",
       "    <tr>\n",
       "      <th>2</th>\n",
       "      <td>2019-09-03</td>\n",
       "      <td>19743.0</td>\n",
       "      <td>25756.0</td>\n",
       "    </tr>\n",
       "    <tr>\n",
       "      <th>3</th>\n",
       "      <td>2019-09-04</td>\n",
       "      <td>20133.0</td>\n",
       "      <td>21472.0</td>\n",
       "    </tr>\n",
       "    <tr>\n",
       "      <th>4</th>\n",
       "      <td>2019-09-05</td>\n",
       "      <td>20392.0</td>\n",
       "      <td>26331.0</td>\n",
       "    </tr>\n",
       "  </tbody>\n",
       "</table>\n",
       "</div>"
      ],
      "text/plain": [
       "        date  18~20_ride  8~10_ride\n",
       "0 2019-09-01     11537.0    11957.0\n",
       "1 2019-09-02     20561.0    21844.0\n",
       "2 2019-09-03     19743.0    25756.0\n",
       "3 2019-09-04     20133.0    21472.0\n",
       "4 2019-09-05     20392.0    26331.0"
      ]
     },
     "execution_count": 26,
     "metadata": {},
     "output_type": "execute_result"
    }
   ],
   "source": [
    "# 일별 출퇴근 시간의 총 승차 인원 데이터 생성\n",
    "traindata['8~10_ride'] = traindata['8~9_ride'] + traindata['9~10_ride']\n",
    "eda_data = traindata.groupby('date')[['18~20_ride','8~10_ride']].agg('sum'\n",
    "                                                                    ).reset_index()\n",
    "# 상위 5개 행 확인\n",
    "eda_data.head()"
   ]
  },
  {
   "cell_type": "code",
   "execution_count": 31,
   "metadata": {
    "execution": {
     "iopub.execute_input": "2022-02-08T08:03:27.564740Z",
     "iopub.status.busy": "2022-02-08T08:03:27.564426Z",
     "iopub.status.idle": "2022-02-08T08:03:27.790523Z",
     "shell.execute_reply": "2022-02-08T08:03:27.789571Z",
     "shell.execute_reply.started": "2022-02-08T08:03:27.564717Z"
    }
   },
   "outputs": [
    {
     "data": {
      "image/png": "[encoded data removed]",
      "text/plain": [
       "<Figure size 432x288 with 1 Axes>"
      ]
     },
     "metadata": {
      "needs_background": "light"
     },
     "output_type": "display_data"
    }
   ],
   "source": [
    "# 일별 출퇴근 시간 탑승객 수 시각화\n",
    "plt.plot(\"date\", \"18~20_ride\", \"g-\", label = \"퇴근 시간 탑승객 수\", data=eda_data)\n",
    "plt.plot(\"date\", \"8~10_ride\", \"b-\", label = \"출근 시간 탑승객 수\", data=eda_data)\n",
    "plt.gcf().autofmt_xdate() # x축의 라벨이 서로 겹치지 않도록 설정\n",
    "plt.legend(loc=0) # 그래프 상에서 최적의 위치에 범례 표시\n",
    "plt.title(\"일별 출퇴근 시간 탑승객 수\")   \n",
    "plt.show()"
   ]
  },
  {
   "cell_type": "code",
   "execution_count": null,
   "metadata": {},
   "outputs": [],
   "source": []
  }
 ],
 "metadata": {
  "kernelspec": {
   "display_name": "Python 3",
   "language": "python",
   "name": "python3"
  },
  "language_info": {
   "codemirror_mode": {
    "name": "ipython",
    "version": 3
   },
   "file_extension": ".py",
   "mimetype": "text/x-python",
   "name": "python",
   "nbconvert_exporter": "python",
   "pygments_lexer": "ipython3",
   "version": "3.7.3"
  },
  "toc": {
   "base_numbering": 1,
   "nav_menu": {},
   "number_sections": true,
   "sideBar": true,
   "skip_h1_title": false,
   "title_cell": "Table of Contents",
   "title_sidebar": "Contents",
   "toc_cell": false,
   "toc_position": {},
   "toc_section_display": true,
   "toc_window_display": false
  }
 },
 "nbformat": 4,
 "nbformat_minor": 4
}
