{
 "cells": [
  {
   "cell_type": "markdown",
   "metadata": {
    "heading_collapsed": "true"
   },
   "source": [
    "## 3.3 데이터 전처리"
   ]
  },
  {
   "cell_type": "code",
   "execution_count": 1,
   "metadata": {},
   "outputs": [],
   "source": [
    "# 작업 경로 설정\n",
    "import os\n",
    "os.chdir(r\"C:\\dacon\\ch03\")"
   ]
  },
  {
   "cell_type": "code",
   "execution_count": 1,
   "metadata": {
    "execution": {
     "iopub.execute_input": "2022-02-09T00:49:50.333665Z",
     "iopub.status.busy": "2022-02-09T00:49:50.333318Z",
     "iopub.status.idle": "2022-02-09T00:49:58.132321Z",
     "shell.execute_reply": "2022-02-09T00:49:58.131243Z",
     "shell.execute_reply.started": "2022-02-09T00:49:50.333604Z"
    }
   },
   "outputs": [],
   "source": [
    "import pandas as pd\n",
    "\n",
    "# 데이터 로드\n",
    "train = pd.read_csv('data/train.csv')\n",
    "test = pd.read_csv('data/test.csv')\n",
    "bts= pd.read_csv('data/bus_bts.csv')\n",
    "jeju_life = pd.read_csv('./jeju_financial_life_data.csv')\n",
    "weather = pd.read_csv('./weather.csv', encoding='cp949')\n",
    "rain = pd.read_csv('./rain.csv', encoding='utf-8')"
   ]
  },
  {
   "cell_type": "code",
   "execution_count": 2,
   "metadata": {
    "execution": {
     "iopub.execute_input": "2022-02-09T00:49:58.134183Z",
     "iopub.status.busy": "2022-02-09T00:49:58.133896Z",
     "iopub.status.idle": "2022-02-09T00:50:00.231913Z",
     "shell.execute_reply": "2022-02-09T00:50:00.230738Z",
     "shell.execute_reply.started": "2022-02-09T00:49:58.134157Z"
    }
   },
   "outputs": [],
   "source": [
    "# 시각화에 필요한 라이브러리 임포트\n",
    "import matplotlib\n",
    "import matplotlib.pyplot as plt\n",
    "import seaborn as sns\n",
    "# 내부에 결과를 출력하도록 설정\n",
    "%matplotlib inline\n",
    "# 시각화 한글 폰트 설정\n",
    "# 윈도우 사용자\n",
    "# plt.rc('font', family='Malgun Gothic')\n",
    "# Mac 사용자\n",
    "plt.rc('font', family='AppleGothic')\n",
    "# 마이너스 기호 출력\n",
    "plt.rc('axes', unicode_minus=False) \n",
    "# 분석에 문제가 없는 경고 메세지는 숨긴다.\n",
    "import warnings\n",
    "warnings.filterwarnings('ignore') "
   ]
  },
  {
   "cell_type": "code",
   "execution_count": 10,
   "metadata": {
    "execution": {
     "iopub.execute_input": "2022-02-09T00:54:43.943485Z",
     "iopub.status.busy": "2022-02-09T00:54:43.943245Z",
     "iopub.status.idle": "2022-02-09T00:54:44.054057Z",
     "shell.execute_reply": "2022-02-09T00:54:44.053293Z",
     "shell.execute_reply.started": "2022-02-09T00:54:43.943465Z"
    }
   },
   "outputs": [],
   "source": [
    "# 학습 데이터와 테스트 데이터를 구분하기 위한 변수 생성\n",
    "train['cue'] = 0\n",
    "test['cue'] = 1\n",
    "\n",
    "# 학습 데이터와 테스트 데이터 통합\n",
    "df = pd.concat([train, test], axis=0)"
   ]
  },
  {
   "cell_type": "markdown",
   "metadata": {
    "heading_collapsed": "true"
   },
   "source": [
    "### 3.3.1 내부 데이터를 통한 변수 생성"
   ]
  },
  {
   "cell_type": "markdown",
   "metadata": {
    "heading_collapsed": "true"
   },
   "source": [
    "#### 3.3.1.1 탐색적 데이터 분석을 통한 변수"
   ]
  },
  {
   "cell_type": "markdown",
   "metadata": {},
   "source": [
    "* 요일을 나타내는 변수(weekday)"
   ]
  },
  {
   "cell_type": "code",
   "execution_count": 11,
   "metadata": {
    "execution": {
     "iopub.execute_input": "2022-02-09T00:54:45.436274Z",
     "iopub.status.busy": "2022-02-09T00:54:45.436005Z",
     "iopub.status.idle": "2022-02-09T00:54:45.545986Z",
     "shell.execute_reply": "2022-02-09T00:54:45.545233Z",
     "shell.execute_reply.started": "2022-02-09T00:54:45.436254Z"
    }
   },
   "outputs": [],
   "source": [
    "# datetime 변수형으로 변환\n",
    "df['date'] = pd.to_datetime(df['date'])\n",
    "# 요일 추출 (0-월요일~6-일요일)\n",
    "df['weekday'] = df['date'].dt.weekday"
   ]
  },
  {
   "cell_type": "code",
   "execution_count": 12,
   "metadata": {
    "execution": {
     "iopub.execute_input": "2022-02-09T00:54:46.854338Z",
     "iopub.status.busy": "2022-02-09T00:54:46.854040Z",
     "iopub.status.idle": "2022-02-09T00:54:47.069368Z",
     "shell.execute_reply": "2022-02-09T00:54:47.068105Z",
     "shell.execute_reply.started": "2022-02-09T00:54:46.854315Z"
    }
   },
   "outputs": [
    {
     "data": {
      "text/html": [
       "<div>\n",
       "<style scoped>\n",
       "    .dataframe tbody tr th:only-of-type {\n",
       "        vertical-align: middle;\n",
       "    }\n",
       "\n",
       "    .dataframe tbody tr th {\n",
       "        vertical-align: top;\n",
       "    }\n",
       "\n",
       "    .dataframe thead th {\n",
       "        text-align: right;\n",
       "    }\n",
       "</style>\n",
       "<table border=\"1\" class=\"dataframe\">\n",
       "  <thead>\n",
       "    <tr style=\"text-align: right;\">\n",
       "      <th></th>\n",
       "      <th>weekday</th>\n",
       "    </tr>\n",
       "  </thead>\n",
       "  <tbody>\n",
       "    <tr>\n",
       "      <th>0</th>\n",
       "      <td>6</td>\n",
       "    </tr>\n",
       "    <tr>\n",
       "      <th>1</th>\n",
       "      <td>6</td>\n",
       "    </tr>\n",
       "    <tr>\n",
       "      <th>2</th>\n",
       "      <td>6</td>\n",
       "    </tr>\n",
       "    <tr>\n",
       "      <th>3</th>\n",
       "      <td>6</td>\n",
       "    </tr>\n",
       "    <tr>\n",
       "      <th>4</th>\n",
       "      <td>6</td>\n",
       "    </tr>\n",
       "  </tbody>\n",
       "</table>\n",
       "</div>"
      ],
      "text/plain": [
       "   weekday\n",
       "0        6\n",
       "1        6\n",
       "2        6\n",
       "3        6\n",
       "4        6"
      ]
     },
     "execution_count": 12,
     "metadata": {},
     "output_type": "execute_result"
    }
   ],
   "source": [
    "df[['weekday']].head()"
   ]
  },
  {
   "cell_type": "markdown",
   "metadata": {},
   "source": [
    "* 요일별 평균 탑승객 수"
   ]
  },
  {
   "cell_type": "code",
   "execution_count": 13,
   "metadata": {
    "execution": {
     "iopub.execute_input": "2022-02-09T00:54:47.412927Z",
     "iopub.status.busy": "2022-02-09T00:54:47.412667Z",
     "iopub.status.idle": "2022-02-09T00:54:47.795426Z",
     "shell.execute_reply": "2022-02-09T00:54:47.794753Z",
     "shell.execute_reply.started": "2022-02-09T00:54:47.412906Z"
    }
   },
   "outputs": [],
   "source": [
    "# 요일별 평균 탑승 승객수를 구하는 함수\n",
    "def week_mean() :\n",
    "    # 전체 데이터에서 train 데이터에 해당하는 행 추출\n",
    "    train_data = df.query('cue==0').reset_index(drop=True)\n",
    "    \n",
    "    # 일괄적으로 1의 값을 가지는 'weekdaymean'변수 생성\n",
    "    df['weekdaymean'] = 1\n",
    "\n",
    "    # 각 요일에 해당하는 인덱스 추출\n",
    "    index0 = df.query('weekday==0').index\n",
    "    index1 = df.query('weekday==1').index\n",
    "    index2 = df.query('weekday==2').index\n",
    "    index3 = df.query('weekday==3').index\n",
    "    index4 = df.query('weekday==4').index\n",
    "    index5 = df.query('weekday==5').index\n",
    "    index6 = df.query('weekday==6').index\n",
    "\n",
    "    # 인덱스를 활용하여 'weekdaymean'의 값을 각 요일에 맞는 평균 탑승 승객수로 변경 \n",
    "    df.iloc[index0,-1] = train_data.query('weekday==0')['18~20_ride'].mean()\n",
    "    df.iloc[index1,-1] = train_data.query('weekday==1')['18~20_ride'].mean()\n",
    "    df.iloc[index2,-1] = train_data.query('weekday==2')['18~20_ride'].mean()\n",
    "    df.iloc[index3,-1] = train_data.query('weekday==3')['18~20_ride'].mean()\n",
    "    df.iloc[index4,-1] = train_data.query('weekday==4')['18~20_ride'].mean()\n",
    "    df.iloc[index5,-1] = train_data.query('weekday==5')['18~20_ride'].mean()\n",
    "    df.iloc[index6,-1] = train_data.query('weekday==6')['18~20_ride'].mean()\n",
    "    \n",
    "    return df\n",
    "\n",
    "# 함수를 실행하여 변수 생성\n",
    "df = week_mean()"
   ]
  },
  {
   "cell_type": "code",
   "execution_count": 14,
   "metadata": {
    "execution": {
     "iopub.execute_input": "2022-02-09T00:54:47.797536Z",
     "iopub.status.busy": "2022-02-09T00:54:47.797184Z",
     "iopub.status.idle": "2022-02-09T00:54:47.895697Z",
     "shell.execute_reply": "2022-02-09T00:54:47.894881Z",
     "shell.execute_reply.started": "2022-02-09T00:54:47.797505Z"
    }
   },
   "outputs": [
    {
     "data": {
      "text/html": [
       "<div>\n",
       "<style scoped>\n",
       "    .dataframe tbody tr th:only-of-type {\n",
       "        vertical-align: middle;\n",
       "    }\n",
       "\n",
       "    .dataframe tbody tr th {\n",
       "        vertical-align: top;\n",
       "    }\n",
       "\n",
       "    .dataframe thead th {\n",
       "        text-align: right;\n",
       "    }\n",
       "</style>\n",
       "<table border=\"1\" class=\"dataframe\">\n",
       "  <thead>\n",
       "    <tr style=\"text-align: right;\">\n",
       "      <th></th>\n",
       "      <th>weekdaymean</th>\n",
       "    </tr>\n",
       "  </thead>\n",
       "  <tbody>\n",
       "    <tr>\n",
       "      <th>0</th>\n",
       "      <td>1.034282</td>\n",
       "    </tr>\n",
       "    <tr>\n",
       "      <th>1</th>\n",
       "      <td>1.034282</td>\n",
       "    </tr>\n",
       "    <tr>\n",
       "      <th>2</th>\n",
       "      <td>1.034282</td>\n",
       "    </tr>\n",
       "    <tr>\n",
       "      <th>3</th>\n",
       "      <td>1.034282</td>\n",
       "    </tr>\n",
       "    <tr>\n",
       "      <th>4</th>\n",
       "      <td>1.034282</td>\n",
       "    </tr>\n",
       "  </tbody>\n",
       "</table>\n",
       "</div>"
      ],
      "text/plain": [
       "   weekdaymean\n",
       "0     1.034282\n",
       "1     1.034282\n",
       "2     1.034282\n",
       "3     1.034282\n",
       "4     1.034282"
      ]
     },
     "execution_count": 14,
     "metadata": {},
     "output_type": "execute_result"
    }
   ],
   "source": [
    "df[['weekdaymean']].head()"
   ]
  },
  {
   "cell_type": "markdown",
   "metadata": {},
   "source": [
    "* 버스 종류별 평균 탑승객 수"
   ]
  },
  {
   "cell_type": "code",
   "execution_count": 15,
   "metadata": {
    "execution": {
     "iopub.execute_input": "2022-02-09T00:54:48.033738Z",
     "iopub.status.busy": "2022-02-09T00:54:48.033301Z",
     "iopub.status.idle": "2022-02-09T00:54:48.330948Z",
     "shell.execute_reply": "2022-02-09T00:54:48.329776Z",
     "shell.execute_reply.started": "2022-02-09T00:54:48.033704Z"
    }
   },
   "outputs": [],
   "source": [
    "# 버스 종류별 평균 탑승 승객수를 구하는 함수\n",
    "def inout_mean() :\n",
    "    # 전체 데이터에서 train 데이터에 해당하는 행 추출\n",
    "    train_data = df.query('cue==0').reset_index(drop=True)\n",
    "    \n",
    "    # 일괄적으로 1의 값을 가지는 in_out_mean 변수 생성\n",
    "    df['in_out_mean'] = 1\n",
    "\n",
    "    # 버스 종류별 인덱스 추출\n",
    "    in_index = df.query('in_out == \"시내\"').index # 시내버스\n",
    "    out_index = df.query('in_out == \"시외\"').index # 시외버스\n",
    "\n",
    "    # 인덱스를 활용하여 in_out_mean의 값을 각 버스 종류에 맞는 \n",
    "    # 평균 탑승 승객수로 변경\n",
    "    df.iloc[in_index,-1] = train_data.query('in_out == \"시내\"')['18~20_ride'].mean()\n",
    "    df.iloc[out_index,-1] = train_data.query('in_out == \"시외\"')['18~20_ride'].mean()\n",
    "    \n",
    "    return df\n",
    "\n",
    "# 함수를 실행하여 변수 생성\n",
    "df = inout_mean()"
   ]
  },
  {
   "cell_type": "code",
   "execution_count": 16,
   "metadata": {
    "execution": {
     "iopub.execute_input": "2022-02-09T00:54:48.334847Z",
     "iopub.status.busy": "2022-02-09T00:54:48.334111Z",
     "iopub.status.idle": "2022-02-09T00:54:48.443656Z",
     "shell.execute_reply": "2022-02-09T00:54:48.442712Z",
     "shell.execute_reply.started": "2022-02-09T00:54:48.334809Z"
    }
   },
   "outputs": [
    {
     "data": {
      "text/html": [
       "<div>\n",
       "<style scoped>\n",
       "    .dataframe tbody tr th:only-of-type {\n",
       "        vertical-align: middle;\n",
       "    }\n",
       "\n",
       "    .dataframe tbody tr th {\n",
       "        vertical-align: top;\n",
       "    }\n",
       "\n",
       "    .dataframe thead th {\n",
       "        text-align: right;\n",
       "    }\n",
       "</style>\n",
       "<table border=\"1\" class=\"dataframe\">\n",
       "  <thead>\n",
       "    <tr style=\"text-align: right;\">\n",
       "      <th></th>\n",
       "      <th>in_out_mean</th>\n",
       "    </tr>\n",
       "  </thead>\n",
       "  <tbody>\n",
       "    <tr>\n",
       "      <th>0</th>\n",
       "      <td>2.044345</td>\n",
       "    </tr>\n",
       "    <tr>\n",
       "      <th>1</th>\n",
       "      <td>2.044345</td>\n",
       "    </tr>\n",
       "    <tr>\n",
       "      <th>2</th>\n",
       "      <td>2.044345</td>\n",
       "    </tr>\n",
       "    <tr>\n",
       "      <th>3</th>\n",
       "      <td>1.228499</td>\n",
       "    </tr>\n",
       "    <tr>\n",
       "      <th>4</th>\n",
       "      <td>1.228499</td>\n",
       "    </tr>\n",
       "  </tbody>\n",
       "</table>\n",
       "</div>"
      ],
      "text/plain": [
       "   in_out_mean\n",
       "0     2.044345\n",
       "1     2.044345\n",
       "2     2.044345\n",
       "3     1.228499\n",
       "4     1.228499"
      ]
     },
     "execution_count": 16,
     "metadata": {},
     "output_type": "execute_result"
    }
   ],
   "source": [
    "df[['in_out_mean']].head()"
   ]
  },
  {
   "cell_type": "markdown",
   "metadata": {},
   "source": [
    "* 일별 오전 시간대의 총 탑승객 수"
   ]
  },
  {
   "cell_type": "code",
   "execution_count": 17,
   "metadata": {
    "execution": {
     "iopub.execute_input": "2022-02-09T00:54:48.627265Z",
     "iopub.status.busy": "2022-02-09T00:54:48.626976Z",
     "iopub.status.idle": "2022-02-09T00:54:48.920464Z",
     "shell.execute_reply": "2022-02-09T00:54:48.919281Z",
     "shell.execute_reply.started": "2022-02-09T00:54:48.627229Z"
    }
   },
   "outputs": [],
   "source": [
    "# 날짜별 오전시간에 탑승한 총 승객수\n",
    "f=df.groupby('date')['6~7_ride','7~8_ride','8~9_ride','9~10_ride','10~11_ride'\n",
    "                    ].sum().reset_index()\n",
    "\n",
    "# 변수명 바꾸기\n",
    "f.columns=['date','6~7_ride_sum','7~8_ride_sum','8~9_ride_sum','9~10_ride_sum',\n",
    "           '10~11_ride_sum']\n",
    "\n",
    "# 기존의 데이터프레임에 새로운 변수를 병합\n",
    "df = pd.merge(df, f, how='left', on='date')"
   ]
  },
  {
   "cell_type": "code",
   "execution_count": 18,
   "metadata": {
    "execution": {
     "iopub.execute_input": "2022-02-09T00:54:48.922429Z",
     "iopub.status.busy": "2022-02-09T00:54:48.922133Z",
     "iopub.status.idle": "2022-02-09T00:54:49.093008Z",
     "shell.execute_reply": "2022-02-09T00:54:49.092155Z",
     "shell.execute_reply.started": "2022-02-09T00:54:48.922408Z"
    }
   },
   "outputs": [
    {
     "data": {
      "text/html": [
       "<div>\n",
       "<style scoped>\n",
       "    .dataframe tbody tr th:only-of-type {\n",
       "        vertical-align: middle;\n",
       "    }\n",
       "\n",
       "    .dataframe tbody tr th {\n",
       "        vertical-align: top;\n",
       "    }\n",
       "\n",
       "    .dataframe thead th {\n",
       "        text-align: right;\n",
       "    }\n",
       "</style>\n",
       "<table border=\"1\" class=\"dataframe\">\n",
       "  <thead>\n",
       "    <tr style=\"text-align: right;\">\n",
       "      <th></th>\n",
       "      <th>date</th>\n",
       "      <th>6~7_ride_sum</th>\n",
       "      <th>7~8_ride_sum</th>\n",
       "      <th>8~9_ride_sum</th>\n",
       "      <th>9~10_ride_sum</th>\n",
       "      <th>10~11_ride_sum</th>\n",
       "    </tr>\n",
       "  </thead>\n",
       "  <tbody>\n",
       "    <tr>\n",
       "      <th>0</th>\n",
       "      <td>2019-09-01</td>\n",
       "      <td>2942.0</td>\n",
       "      <td>4518.0</td>\n",
       "      <td>5682.0</td>\n",
       "      <td>6275.0</td>\n",
       "      <td>6774.0</td>\n",
       "    </tr>\n",
       "    <tr>\n",
       "      <th>1</th>\n",
       "      <td>2019-09-01</td>\n",
       "      <td>2942.0</td>\n",
       "      <td>4518.0</td>\n",
       "      <td>5682.0</td>\n",
       "      <td>6275.0</td>\n",
       "      <td>6774.0</td>\n",
       "    </tr>\n",
       "    <tr>\n",
       "      <th>2</th>\n",
       "      <td>2019-09-01</td>\n",
       "      <td>2942.0</td>\n",
       "      <td>4518.0</td>\n",
       "      <td>5682.0</td>\n",
       "      <td>6275.0</td>\n",
       "      <td>6774.0</td>\n",
       "    </tr>\n",
       "    <tr>\n",
       "      <th>3</th>\n",
       "      <td>2019-09-01</td>\n",
       "      <td>2942.0</td>\n",
       "      <td>4518.0</td>\n",
       "      <td>5682.0</td>\n",
       "      <td>6275.0</td>\n",
       "      <td>6774.0</td>\n",
       "    </tr>\n",
       "    <tr>\n",
       "      <th>4</th>\n",
       "      <td>2019-09-01</td>\n",
       "      <td>2942.0</td>\n",
       "      <td>4518.0</td>\n",
       "      <td>5682.0</td>\n",
       "      <td>6275.0</td>\n",
       "      <td>6774.0</td>\n",
       "    </tr>\n",
       "  </tbody>\n",
       "</table>\n",
       "</div>"
      ],
      "text/plain": [
       "        date  6~7_ride_sum  7~8_ride_sum  8~9_ride_sum  9~10_ride_sum  \\\n",
       "0 2019-09-01        2942.0        4518.0        5682.0         6275.0   \n",
       "1 2019-09-01        2942.0        4518.0        5682.0         6275.0   \n",
       "2 2019-09-01        2942.0        4518.0        5682.0         6275.0   \n",
       "3 2019-09-01        2942.0        4518.0        5682.0         6275.0   \n",
       "4 2019-09-01        2942.0        4518.0        5682.0         6275.0   \n",
       "\n",
       "   10~11_ride_sum  \n",
       "0          6774.0  \n",
       "1          6774.0  \n",
       "2          6774.0  \n",
       "3          6774.0  \n",
       "4          6774.0  "
      ]
     },
     "execution_count": 18,
     "metadata": {},
     "output_type": "execute_result"
    }
   ],
   "source": [
    "df[['date','6~7_ride_sum','7~8_ride_sum','8~9_ride_sum','9~10_ride_sum',\n",
    "    '10~11_ride_sum']].head()"
   ]
  },
  {
   "cell_type": "markdown",
   "metadata": {
    "heading_collapsed": "true"
   },
   "source": [
    "#### 3.3.1.2 도메인 조사를 통한 변수"
   ]
  },
  {
   "cell_type": "markdown",
   "metadata": {},
   "source": [
    "* 배차 간격"
   ]
  },
  {
   "cell_type": "code",
   "execution_count": 19,
   "metadata": {
    "execution": {
     "iopub.execute_input": "2022-02-09T00:54:49.413222Z",
     "iopub.status.busy": "2022-02-09T00:54:49.412967Z",
     "iopub.status.idle": "2022-02-09T00:56:41.203893Z",
     "shell.execute_reply": "2022-02-09T00:56:41.202953Z",
     "shell.execute_reply.started": "2022-02-09T00:54:49.413201Z"
    }
   },
   "outputs": [],
   "source": [
    "# 탑승 날짜를 datetime형으로 변환\n",
    "bts['geton_time2'] = pd.to_datetime(bts['geton_time'])\n",
    "\n",
    "# 탑승 날짜, 탑승 정류장 코드, 탑승 노선 번호 기준으로 정렬\n",
    "f = bts.sort_values(by=['geton_date','geton_station_code','bus_route_id',\n",
    "                        'geton_time2'],ascending=True).reset_index()"
   ]
  },
  {
   "cell_type": "code",
   "execution_count": 20,
   "metadata": {
    "execution": {
     "iopub.execute_input": "2022-02-09T00:56:41.205526Z",
     "iopub.status.busy": "2022-02-09T00:56:41.205246Z",
     "iopub.status.idle": "2022-02-09T01:52:41.448043Z",
     "shell.execute_reply": "2022-02-09T01:52:41.446985Z",
     "shell.execute_reply.started": "2022-02-09T00:56:41.205501Z"
    }
   },
   "outputs": [
    {
     "data": {
      "application/vnd.jupyter.widget-view+json": {
       "model_id": "ab462c8aeaf44539ab541a4eefcead8c",
       "version_major": 2,
       "version_minor": 0
      },
      "text/plain": [
       "  0%|          | 0/2409413 [00:00<?, ?it/s]"
      ]
     },
     "metadata": {},
     "output_type": "display_data"
    }
   ],
   "source": [
    "# 반복문 실행 시간이 많이 소요되어 상태 진행률을 확인할 수 있는 tqdm 라이브러리 사용\n",
    "from tqdm import notebook\n",
    "\n",
    "# 시차를 넣기 위한 빈 리스트 생성\n",
    "interval_lst = []\n",
    "for i in notebook.tqdm(range(0,len(f)-1)):\n",
    "    # 탑승 날짜, 탑승 정류장 코드, 탑승 노선 번호가 같다면\n",
    "    if ((f.iloc[i].geton_date == f.iloc[i+1].geton_date) & \n",
    "        (f.iloc[i].geton_station_code == f.iloc[i+1].geton_station_code) & \n",
    "        (f.iloc[i].bus_route_id == f.iloc[i+1].bus_route_id)):\n",
    "        # 탑승 날짜의 차를 interval_lst에 넣기\n",
    "        interval_lst.append(f.iloc[i+1].geton_time2 - f.iloc[i].geton_time2)\n",
    "    else:\n",
    "       # 같지 않다면 0을 interval_lst에 넣기\n",
    "        interval_lst.append(0)\n",
    "\n",
    "interval_lst.insert(0, '0')"
   ]
  },
  {
   "cell_type": "code",
   "execution_count": 21,
   "metadata": {
    "execution": {
     "iopub.execute_input": "2022-02-09T01:52:41.450722Z",
     "iopub.status.busy": "2022-02-09T01:52:41.450272Z",
     "iopub.status.idle": "2022-02-09T01:52:54.281781Z",
     "shell.execute_reply": "2022-02-09T01:52:54.281039Z",
     "shell.execute_reply.started": "2022-02-09T01:52:41.450667Z"
    }
   },
   "outputs": [],
   "source": [
    "f['interval'] = interval_lst # interval_lst를 'interval'변수로 생성 \n",
    "# 'interval' 변수의 값을 문자형으로 변환 후 '시:분:초'의 형태로 변환\n",
    "f['interval'] = f['interval'].astype(str).str[7:].replace('','00:00:00')\n",
    "f['bus_route_id'] = f['bus_route_id'].astype(object)"
   ]
  },
  {
   "cell_type": "code",
   "execution_count": 22,
   "metadata": {
    "execution": {
     "iopub.execute_input": "2022-02-09T01:52:54.284380Z",
     "iopub.status.busy": "2022-02-09T01:52:54.283997Z",
     "iopub.status.idle": "2022-02-09T01:52:58.243716Z",
     "shell.execute_reply": "2022-02-09T01:52:58.242876Z",
     "shell.execute_reply.started": "2022-02-09T01:52:54.284360Z"
    }
   },
   "outputs": [],
   "source": [
    "# 분으로 변환하는 함수\n",
    "def get_min(time_str):\n",
    "    h, m, s = time_str.split(':')\n",
    "    return (int(h) * 3600 + int(m) * 60 + int(s)) / 60\n",
    "# 'interval' 함수의 모든 값에 대해 함수 적용하여 나온 값을 time리스트에 넣기\n",
    "time = []\n",
    "for i in f['interval'] :\n",
    "    time.append(get_min(i))\n",
    "\n",
    "f['time'] = time # time리스트를 'time' 변수로 생성\n",
    "f['time'] = f['time'].astype(int) # 'time' 변수를 int 타입으로 변경\n",
    "f = f[f['time'] > 3] # 간격이 3분보다 작은 것 제외 \n",
    "f = f[f['time'] < 180] # 간격이 3시간보다 큰 것 제외"
   ]
  },
  {
   "cell_type": "code",
   "execution_count": 23,
   "metadata": {
    "execution": {
     "iopub.execute_input": "2022-02-09T01:52:58.245566Z",
     "iopub.status.busy": "2022-02-09T01:52:58.245158Z",
     "iopub.status.idle": "2022-02-09T01:52:58.383557Z",
     "shell.execute_reply": "2022-02-09T01:52:58.382511Z",
     "shell.execute_reply.started": "2022-02-09T01:52:58.245544Z"
    }
   },
   "outputs": [],
   "source": [
    "# 버스 노선별 버스 간격의 평균 'bus_interval’변수 생성\n",
    "data = f.groupby('bus_route_id')['time'].agg([('bus_interval', 'mean')]\n",
    "                                            ).reset_index()\n",
    "data['bus_interval'] = data['bus_interval'].astype(int)\n",
    "\n",
    "# 변수 생성에 많은 시간이 소요되므로 csv 파일로 저장\n",
    "data.to_csv('bus_interval.csv', index = False)"
   ]
  },
  {
   "cell_type": "code",
   "execution_count": 24,
   "metadata": {
    "execution": {
     "iopub.execute_input": "2022-02-09T01:52:58.385212Z",
     "iopub.status.busy": "2022-02-09T01:52:58.384885Z",
     "iopub.status.idle": "2022-02-09T01:52:58.649137Z",
     "shell.execute_reply": "2022-02-09T01:52:58.648438Z",
     "shell.execute_reply.started": "2022-02-09T01:52:58.385192Z"
    }
   },
   "outputs": [],
   "source": [
    "# csv 파일이 성공적으로 저장됐다면 다음 과정부터 진행\n",
    "import numpy as np\n",
    "df['bus_route_id'] = df['bus_route_id'].astype(np.int64)\n",
    "bus_interval = pd.read_csv(\"bus_interval.csv\")\n",
    "\n",
    "# 기존의 데이터프레임에 새로운 변수를 병합\n",
    "df = pd.merge(df, bus_interval, how = 'left', on = 'bus_route_id')\n",
    "df['bus_interval'] = df['bus_interval'].fillna(9999) # 병합 중 생기는 NA값 처리"
   ]
  },
  {
   "cell_type": "code",
   "execution_count": 25,
   "metadata": {
    "execution": {
     "iopub.execute_input": "2022-02-09T01:52:58.650921Z",
     "iopub.status.busy": "2022-02-09T01:52:58.650537Z",
     "iopub.status.idle": "2022-02-09T01:52:58.744813Z",
     "shell.execute_reply": "2022-02-09T01:52:58.743869Z",
     "shell.execute_reply.started": "2022-02-09T01:52:58.650892Z"
    }
   },
   "outputs": [
    {
     "data": {
      "text/html": [
       "<div>\n",
       "<style scoped>\n",
       "    .dataframe tbody tr th:only-of-type {\n",
       "        vertical-align: middle;\n",
       "    }\n",
       "\n",
       "    .dataframe tbody tr th {\n",
       "        vertical-align: top;\n",
       "    }\n",
       "\n",
       "    .dataframe thead th {\n",
       "        text-align: right;\n",
       "    }\n",
       "</style>\n",
       "<table border=\"1\" class=\"dataframe\">\n",
       "  <thead>\n",
       "    <tr style=\"text-align: right;\">\n",
       "      <th></th>\n",
       "      <th>bus_interval</th>\n",
       "    </tr>\n",
       "  </thead>\n",
       "  <tbody>\n",
       "    <tr>\n",
       "      <th>0</th>\n",
       "      <td>34.0</td>\n",
       "    </tr>\n",
       "    <tr>\n",
       "      <th>1</th>\n",
       "      <td>34.0</td>\n",
       "    </tr>\n",
       "    <tr>\n",
       "      <th>2</th>\n",
       "      <td>34.0</td>\n",
       "    </tr>\n",
       "    <tr>\n",
       "      <th>3</th>\n",
       "      <td>34.0</td>\n",
       "    </tr>\n",
       "    <tr>\n",
       "      <th>4</th>\n",
       "      <td>34.0</td>\n",
       "    </tr>\n",
       "  </tbody>\n",
       "</table>\n",
       "</div>"
      ],
      "text/plain": [
       "   bus_interval\n",
       "0          34.0\n",
       "1          34.0\n",
       "2          34.0\n",
       "3          34.0\n",
       "4          34.0"
      ]
     },
     "execution_count": 25,
     "metadata": {},
     "output_type": "execute_result"
    }
   ],
   "source": [
    "df[['bus_interval']].head()"
   ]
  },
  {
   "cell_type": "markdown",
   "metadata": {},
   "source": [
    "* 수요가 많을 것으로 예상되는 정류장"
   ]
  },
  {
   "cell_type": "code",
   "execution_count": 26,
   "metadata": {
    "execution": {
     "iopub.execute_input": "2022-02-09T01:52:58.748567Z",
     "iopub.status.busy": "2022-02-09T01:52:58.748310Z",
     "iopub.status.idle": "2022-02-09T01:52:59.815482Z",
     "shell.execute_reply": "2022-02-09T01:52:59.814804Z",
     "shell.execute_reply.started": "2022-02-09T01:52:58.748545Z"
    }
   },
   "outputs": [],
   "source": [
    "# school 변수 생성\n",
    "# 정류장명에 '고등학교'가 포함되어 있는 행 뽑기 \n",
    "highschool_station = df[df['station_name'].str.contains('고등학교')]\n",
    "# '고등학교'가 포함되어 있는 정류장명을 중복 없이 리스트에 저장\n",
    "highschool = list(highschool_station['station_name'].unique())\n",
    "# 정류장명에 '대학교'가 포함되어 있는 행 뽑기\n",
    "university_station = df[df['station_name'].str.contains('대학교')]\n",
    "# '대학교'가 포함되어 있는 정류장명을 중복 없이 리스트에 저장\n",
    "university = list(university_station['station_name'].unique())\n",
    "\n",
    "# '고등학교'와 '대학교' 근처 정류장 구분 함수\n",
    "def schoolstation(x):\n",
    "    # highschool 리스트에 정류장명이 포함되어 있다면 1을 반환\n",
    "    if x in highschool:\n",
    "        return 1\n",
    "    # university 리스트에 정류장명이 포함되어 있다면 1을 반환\n",
    "    elif x in university:\n",
    "        return 1\n",
    "    # 둘 다 포함되지 않는 정류장명이라면 0을 반환\n",
    "    else:\n",
    "        return 0\n",
    "\n",
    "# 모든 정류장명에 대해 적용\n",
    "df['school'] = df['station_name'].apply(schoolstation) "
   ]
  },
  {
   "cell_type": "code",
   "execution_count": 27,
   "metadata": {
    "execution": {
     "iopub.execute_input": "2022-02-09T01:52:59.818495Z",
     "iopub.status.busy": "2022-02-09T01:52:59.817943Z",
     "iopub.status.idle": "2022-02-09T01:52:59.845479Z",
     "shell.execute_reply": "2022-02-09T01:52:59.844434Z",
     "shell.execute_reply.started": "2022-02-09T01:52:59.818462Z"
    }
   },
   "outputs": [
    {
     "data": {
      "text/html": [
       "<div>\n",
       "<style scoped>\n",
       "    .dataframe tbody tr th:only-of-type {\n",
       "        vertical-align: middle;\n",
       "    }\n",
       "\n",
       "    .dataframe tbody tr th {\n",
       "        vertical-align: top;\n",
       "    }\n",
       "\n",
       "    .dataframe thead th {\n",
       "        text-align: right;\n",
       "    }\n",
       "</style>\n",
       "<table border=\"1\" class=\"dataframe\">\n",
       "  <thead>\n",
       "    <tr style=\"text-align: right;\">\n",
       "      <th></th>\n",
       "      <th>school</th>\n",
       "    </tr>\n",
       "  </thead>\n",
       "  <tbody>\n",
       "    <tr>\n",
       "      <th>0</th>\n",
       "      <td>0</td>\n",
       "    </tr>\n",
       "    <tr>\n",
       "      <th>1</th>\n",
       "      <td>0</td>\n",
       "    </tr>\n",
       "    <tr>\n",
       "      <th>2</th>\n",
       "      <td>0</td>\n",
       "    </tr>\n",
       "    <tr>\n",
       "      <th>3</th>\n",
       "      <td>0</td>\n",
       "    </tr>\n",
       "    <tr>\n",
       "      <th>4</th>\n",
       "      <td>0</td>\n",
       "    </tr>\n",
       "  </tbody>\n",
       "</table>\n",
       "</div>"
      ],
      "text/plain": [
       "   school\n",
       "0       0\n",
       "1       0\n",
       "2       0\n",
       "3       0\n",
       "4       0"
      ]
     },
     "execution_count": 27,
     "metadata": {},
     "output_type": "execute_result"
    }
   ],
   "source": [
    "df[['school']].head()"
   ]
  },
  {
   "cell_type": "code",
   "execution_count": 28,
   "metadata": {
    "execution": {
     "iopub.execute_input": "2022-02-09T01:52:59.847488Z",
     "iopub.status.busy": "2022-02-09T01:52:59.847158Z",
     "iopub.status.idle": "2022-02-09T01:53:01.264135Z",
     "shell.execute_reply": "2022-02-09T01:53:01.263260Z",
     "shell.execute_reply.started": "2022-02-09T01:52:59.847449Z"
    }
   },
   "outputs": [],
   "source": [
    "# school 변수와 동일한 방법으로 transfer 변수 생성\n",
    "transfer_station = df[df['station_name'].str.contains('환승')]\n",
    "transfers = list(transfer_station['station_name'].unique())\n",
    "\n",
    "airport_station = df[df['station_name'].str.contains('공항')]\n",
    "airport = list(airport_station['station_name'].unique())\n",
    "\n",
    "terminal_station = df[df['station_name'].str.contains('터미널')]\n",
    "terminal = list(terminal_station['station_name'].unique())\n",
    "\n",
    "# 항상 수요가 많은 정류장 구분 함수\n",
    "def transfer_station(x):\n",
    "    if x in transfers:\n",
    "        return 1\n",
    "    elif x in airport:\n",
    "        return 1\n",
    "    elif x in terminal:\n",
    "        return 1\n",
    "    else:\n",
    "        return 0\n",
    "\n",
    "df['transfer'] = df['station_name'].apply(transfer_station)"
   ]
  },
  {
   "cell_type": "code",
   "execution_count": 29,
   "metadata": {
    "execution": {
     "iopub.execute_input": "2022-02-09T01:53:01.265762Z",
     "iopub.status.busy": "2022-02-09T01:53:01.265328Z",
     "iopub.status.idle": "2022-02-09T01:53:01.295134Z",
     "shell.execute_reply": "2022-02-09T01:53:01.294276Z",
     "shell.execute_reply.started": "2022-02-09T01:53:01.265722Z"
    }
   },
   "outputs": [
    {
     "data": {
      "text/html": [
       "<div>\n",
       "<style scoped>\n",
       "    .dataframe tbody tr th:only-of-type {\n",
       "        vertical-align: middle;\n",
       "    }\n",
       "\n",
       "    .dataframe tbody tr th {\n",
       "        vertical-align: top;\n",
       "    }\n",
       "\n",
       "    .dataframe thead th {\n",
       "        text-align: right;\n",
       "    }\n",
       "</style>\n",
       "<table border=\"1\" class=\"dataframe\">\n",
       "  <thead>\n",
       "    <tr style=\"text-align: right;\">\n",
       "      <th></th>\n",
       "      <th>transfer</th>\n",
       "    </tr>\n",
       "  </thead>\n",
       "  <tbody>\n",
       "    <tr>\n",
       "      <th>0</th>\n",
       "      <td>0</td>\n",
       "    </tr>\n",
       "    <tr>\n",
       "      <th>1</th>\n",
       "      <td>0</td>\n",
       "    </tr>\n",
       "    <tr>\n",
       "      <th>2</th>\n",
       "      <td>0</td>\n",
       "    </tr>\n",
       "    <tr>\n",
       "      <th>3</th>\n",
       "      <td>1</td>\n",
       "    </tr>\n",
       "    <tr>\n",
       "      <th>4</th>\n",
       "      <td>0</td>\n",
       "    </tr>\n",
       "  </tbody>\n",
       "</table>\n",
       "</div>"
      ],
      "text/plain": [
       "   transfer\n",
       "0         0\n",
       "1         0\n",
       "2         0\n",
       "3         1\n",
       "4         0"
      ]
     },
     "execution_count": 29,
     "metadata": {},
     "output_type": "execute_result"
    }
   ],
   "source": [
    "df[['transfer']].head()"
   ]
  },
  {
   "cell_type": "markdown",
   "metadata": {},
   "source": [
    "* 연휴"
   ]
  },
  {
   "cell_type": "code",
   "execution_count": 30,
   "metadata": {
    "execution": {
     "iopub.execute_input": "2022-02-09T01:53:01.297256Z",
     "iopub.status.busy": "2022-02-09T01:53:01.296973Z",
     "iopub.status.idle": "2022-02-09T01:53:03.889206Z",
     "shell.execute_reply": "2022-02-09T01:53:03.888129Z",
     "shell.execute_reply.started": "2022-02-09T01:53:01.297222Z"
    }
   },
   "outputs": [
    {
     "data": {
      "text/html": [
       "<div>\n",
       "<style scoped>\n",
       "    .dataframe tbody tr th:only-of-type {\n",
       "        vertical-align: middle;\n",
       "    }\n",
       "\n",
       "    .dataframe tbody tr th {\n",
       "        vertical-align: top;\n",
       "    }\n",
       "\n",
       "    .dataframe thead th {\n",
       "        text-align: right;\n",
       "    }\n",
       "</style>\n",
       "<table border=\"1\" class=\"dataframe\">\n",
       "  <thead>\n",
       "    <tr style=\"text-align: right;\">\n",
       "      <th></th>\n",
       "      <th>holiday</th>\n",
       "    </tr>\n",
       "  </thead>\n",
       "  <tbody>\n",
       "    <tr>\n",
       "      <th>0</th>\n",
       "      <td>0</td>\n",
       "    </tr>\n",
       "    <tr>\n",
       "      <th>1</th>\n",
       "      <td>0</td>\n",
       "    </tr>\n",
       "    <tr>\n",
       "      <th>2</th>\n",
       "      <td>0</td>\n",
       "    </tr>\n",
       "    <tr>\n",
       "      <th>3</th>\n",
       "      <td>0</td>\n",
       "    </tr>\n",
       "    <tr>\n",
       "      <th>4</th>\n",
       "      <td>0</td>\n",
       "    </tr>\n",
       "  </tbody>\n",
       "</table>\n",
       "</div>"
      ],
      "text/plain": [
       "   holiday\n",
       "0        0\n",
       "1        0\n",
       "2        0\n",
       "3        0\n",
       "4        0"
      ]
     },
     "execution_count": 30,
     "metadata": {},
     "output_type": "execute_result"
    }
   ],
   "source": [
    "# 날짜에서 연휴 구분 함수\n",
    "def holiday(x):\n",
    "    # 공휴일이라면 1을 반환\n",
    "    if x in ['2019-09-12','2019-09-13','2019-09-14','2019-10-03','2019-10-09']:\n",
    "        return 1\n",
    "    else:\n",
    "        # 공휴일이 아니라면 0을 반환\n",
    "        return 0\n",
    "\n",
    "    # 모든 날짜에 적용\n",
    "df['holiday'] = df['date'].apply(holiday)\n",
    "df[['holiday']].head()"
   ]
  },
  {
   "cell_type": "markdown",
   "metadata": {
    "heading_collapsed": "true"
   },
   "source": [
    "#### 3.3.1.3. 시간대를 활용한 변수"
   ]
  },
  {
   "cell_type": "markdown",
   "metadata": {},
   "source": [
    "* 승하차 시간대 통합 변수(t~t+2)"
   ]
  },
  {
   "cell_type": "code",
   "execution_count": 31,
   "metadata": {
    "execution": {
     "iopub.execute_input": "2022-02-09T01:53:03.891338Z",
     "iopub.status.busy": "2022-02-09T01:53:03.890551Z",
     "iopub.status.idle": "2022-02-09T01:53:03.921172Z",
     "shell.execute_reply": "2022-02-09T01:53:03.920194Z",
     "shell.execute_reply.started": "2022-02-09T01:53:03.891291Z"
    }
   },
   "outputs": [],
   "source": [
    "# 오전 시간대에 2시간 동안 승차한 인원수의 합계\n",
    "df['68a'] = df['6~7_ride'] + df['7~8_ride'] \n",
    "df['810a'] = df['8~9_ride'] + df['9~10_ride']\n",
    "df['1012a'] = df['10~11_ride'] + df['11~12_ride']\n",
    "\n",
    "# 오전 시간대에 2시간 동안 하차한 인원수의 합계\n",
    "df['68b'] = df['6~7_takeoff'] + df['7~8_takeoff'] \n",
    "df['810b'] = df['8~9_takeoff'] + df['9~10_takeoff']\n",
    "df['1012b'] = df['10~11_takeoff'] + df['11~12_takeoff']"
   ]
  },
  {
   "cell_type": "code",
   "execution_count": 32,
   "metadata": {
    "execution": {
     "iopub.execute_input": "2022-02-09T01:53:03.922761Z",
     "iopub.status.busy": "2022-02-09T01:53:03.922373Z",
     "iopub.status.idle": "2022-02-09T01:53:04.061159Z",
     "shell.execute_reply": "2022-02-09T01:53:04.059351Z",
     "shell.execute_reply.started": "2022-02-09T01:53:03.922738Z"
    }
   },
   "outputs": [
    {
     "data": {
      "text/html": [
       "<div>\n",
       "<style scoped>\n",
       "    .dataframe tbody tr th:only-of-type {\n",
       "        vertical-align: middle;\n",
       "    }\n",
       "\n",
       "    .dataframe tbody tr th {\n",
       "        vertical-align: top;\n",
       "    }\n",
       "\n",
       "    .dataframe thead th {\n",
       "        text-align: right;\n",
       "    }\n",
       "</style>\n",
       "<table border=\"1\" class=\"dataframe\">\n",
       "  <thead>\n",
       "    <tr style=\"text-align: right;\">\n",
       "      <th></th>\n",
       "      <th>68a</th>\n",
       "      <th>810a</th>\n",
       "      <th>1012a</th>\n",
       "      <th>68b</th>\n",
       "      <th>810b</th>\n",
       "      <th>1012b</th>\n",
       "    </tr>\n",
       "  </thead>\n",
       "  <tbody>\n",
       "    <tr>\n",
       "      <th>0</th>\n",
       "      <td>1.0</td>\n",
       "      <td>7.0</td>\n",
       "      <td>8.0</td>\n",
       "      <td>0.0</td>\n",
       "      <td>0.0</td>\n",
       "      <td>0.0</td>\n",
       "    </tr>\n",
       "    <tr>\n",
       "      <th>1</th>\n",
       "      <td>5.0</td>\n",
       "      <td>6.0</td>\n",
       "      <td>11.0</td>\n",
       "      <td>0.0</td>\n",
       "      <td>0.0</td>\n",
       "      <td>0.0</td>\n",
       "    </tr>\n",
       "    <tr>\n",
       "      <th>2</th>\n",
       "      <td>2.0</td>\n",
       "      <td>2.0</td>\n",
       "      <td>0.0</td>\n",
       "      <td>0.0</td>\n",
       "      <td>0.0</td>\n",
       "      <td>0.0</td>\n",
       "    </tr>\n",
       "    <tr>\n",
       "      <th>3</th>\n",
       "      <td>17.0</td>\n",
       "      <td>32.0</td>\n",
       "      <td>30.0</td>\n",
       "      <td>0.0</td>\n",
       "      <td>0.0</td>\n",
       "      <td>0.0</td>\n",
       "    </tr>\n",
       "    <tr>\n",
       "      <th>4</th>\n",
       "      <td>0.0</td>\n",
       "      <td>0.0</td>\n",
       "      <td>0.0</td>\n",
       "      <td>0.0</td>\n",
       "      <td>1.0</td>\n",
       "      <td>0.0</td>\n",
       "    </tr>\n",
       "  </tbody>\n",
       "</table>\n",
       "</div>"
      ],
      "text/plain": [
       "    68a  810a  1012a  68b  810b  1012b\n",
       "0   1.0   7.0    8.0  0.0   0.0    0.0\n",
       "1   5.0   6.0   11.0  0.0   0.0    0.0\n",
       "2   2.0   2.0    0.0  0.0   0.0    0.0\n",
       "3  17.0  32.0   30.0  0.0   0.0    0.0\n",
       "4   0.0   0.0    0.0  0.0   1.0    0.0"
      ]
     },
     "execution_count": 32,
     "metadata": {},
     "output_type": "execute_result"
    }
   ],
   "source": [
    "df[['68a', '810a', '1012a', '68b', '810b', '1012b']].head()"
   ]
  },
  {
   "cell_type": "markdown",
   "metadata": {},
   "source": [
    "* 오전 시간의 승객 수"
   ]
  },
  {
   "cell_type": "code",
   "execution_count": 33,
   "metadata": {
    "execution": {
     "iopub.execute_input": "2022-02-09T01:53:04.063793Z",
     "iopub.status.busy": "2022-02-09T01:53:04.063446Z",
     "iopub.status.idle": "2022-02-09T01:53:04.300910Z",
     "shell.execute_reply": "2022-02-09T01:53:04.300248Z",
     "shell.execute_reply.started": "2022-02-09T01:53:04.063745Z"
    }
   },
   "outputs": [],
   "source": [
    "# 오전 시간(6시~12시)에 승차한 승객 수의 합계\n",
    "df['ride_sum'] = df[['6~7_ride', '7~8_ride', '8~9_ride', '9~10_ride', \n",
    "                     '10~11_ride', '11~12_ride']].sum(axis=1)\n",
    "\n",
    "# 오전 시간(6시~12시)에 하차한 승객 수의 합계\n",
    "df['takeoff_sum'] = df[['6~7_takeoff', '7~8_takeoff', '8~9_takeoff', '9~10_takeoff',\n",
    "                        '10~11_takeoff', '11~12_takeoff']].sum(axis=1)"
   ]
  },
  {
   "cell_type": "code",
   "execution_count": 34,
   "metadata": {
    "execution": {
     "iopub.execute_input": "2022-02-09T01:53:04.302446Z",
     "iopub.status.busy": "2022-02-09T01:53:04.302051Z",
     "iopub.status.idle": "2022-02-09T01:53:04.488549Z",
     "shell.execute_reply": "2022-02-09T01:53:04.487639Z",
     "shell.execute_reply.started": "2022-02-09T01:53:04.302421Z"
    }
   },
   "outputs": [
    {
     "data": {
      "text/html": [
       "<div>\n",
       "<style scoped>\n",
       "    .dataframe tbody tr th:only-of-type {\n",
       "        vertical-align: middle;\n",
       "    }\n",
       "\n",
       "    .dataframe tbody tr th {\n",
       "        vertical-align: top;\n",
       "    }\n",
       "\n",
       "    .dataframe thead th {\n",
       "        text-align: right;\n",
       "    }\n",
       "</style>\n",
       "<table border=\"1\" class=\"dataframe\">\n",
       "  <thead>\n",
       "    <tr style=\"text-align: right;\">\n",
       "      <th></th>\n",
       "      <th>ride_sum</th>\n",
       "      <th>takeoff_sum</th>\n",
       "    </tr>\n",
       "  </thead>\n",
       "  <tbody>\n",
       "    <tr>\n",
       "      <th>0</th>\n",
       "      <td>16.0</td>\n",
       "      <td>0.0</td>\n",
       "    </tr>\n",
       "    <tr>\n",
       "      <th>1</th>\n",
       "      <td>22.0</td>\n",
       "      <td>0.0</td>\n",
       "    </tr>\n",
       "    <tr>\n",
       "      <th>2</th>\n",
       "      <td>4.0</td>\n",
       "      <td>0.0</td>\n",
       "    </tr>\n",
       "    <tr>\n",
       "      <th>3</th>\n",
       "      <td>79.0</td>\n",
       "      <td>0.0</td>\n",
       "    </tr>\n",
       "    <tr>\n",
       "      <th>4</th>\n",
       "      <td>0.0</td>\n",
       "      <td>1.0</td>\n",
       "    </tr>\n",
       "  </tbody>\n",
       "</table>\n",
       "</div>"
      ],
      "text/plain": [
       "   ride_sum  takeoff_sum\n",
       "0      16.0          0.0\n",
       "1      22.0          0.0\n",
       "2       4.0          0.0\n",
       "3      79.0          0.0\n",
       "4       0.0          1.0"
      ]
     },
     "execution_count": 34,
     "metadata": {},
     "output_type": "execute_result"
    }
   ],
   "source": [
    "df[['ride_sum', 'takeoff_sum']].head()"
   ]
  },
  {
   "cell_type": "code",
   "execution_count": 35,
   "metadata": {
    "execution": {
     "iopub.execute_input": "2022-02-09T01:53:04.491466Z",
     "iopub.status.busy": "2022-02-09T01:53:04.490695Z",
     "iopub.status.idle": "2022-02-09T01:53:06.129782Z",
     "shell.execute_reply": "2022-02-09T01:53:06.128481Z",
     "shell.execute_reply.started": "2022-02-09T01:53:04.491431Z"
    }
   },
   "outputs": [],
   "source": [
    "# 'bus_route_id'와 'station_code'를 결합해 route_station 생성\n",
    "df['route_station'] = df['bus_route_id'].astype(str) + ',' \\\n",
    "                    + df['station_code'].astype(str)\n",
    "\n",
    "# 버스노선별 오전시간의 총 승객수와 평균 승객수 구하기\n",
    "data = df.groupby(['route_station'])['1012a'].agg({'sum', 'mean'}).reset_index()\n",
    "\n",
    "# 변수명을 route_station, 1012a_mean, 1012a_sum으로 바꾸기\n",
    "data.rename(columns = {'mean':'1012a_mean', 'sum':'1012a_sum'}, inplace=True)\n",
    "\n",
    "# 기존의 데이터프레임에 새로운 변수를 병합\n",
    "df = pd.merge(df, data, how='left', on='route_station')"
   ]
  },
  {
   "cell_type": "code",
   "execution_count": 36,
   "metadata": {
    "execution": {
     "iopub.execute_input": "2022-02-09T01:53:06.131854Z",
     "iopub.status.busy": "2022-02-09T01:53:06.131578Z",
     "iopub.status.idle": "2022-02-09T01:53:06.388768Z",
     "shell.execute_reply": "2022-02-09T01:53:06.387903Z",
     "shell.execute_reply.started": "2022-02-09T01:53:06.131833Z"
    }
   },
   "outputs": [
    {
     "data": {
      "text/html": [
       "<div>\n",
       "<style scoped>\n",
       "    .dataframe tbody tr th:only-of-type {\n",
       "        vertical-align: middle;\n",
       "    }\n",
       "\n",
       "    .dataframe tbody tr th {\n",
       "        vertical-align: top;\n",
       "    }\n",
       "\n",
       "    .dataframe thead th {\n",
       "        text-align: right;\n",
       "    }\n",
       "</style>\n",
       "<table border=\"1\" class=\"dataframe\">\n",
       "  <thead>\n",
       "    <tr style=\"text-align: right;\">\n",
       "      <th></th>\n",
       "      <th>1012a_mean</th>\n",
       "      <th>1012a_sum</th>\n",
       "    </tr>\n",
       "  </thead>\n",
       "  <tbody>\n",
       "    <tr>\n",
       "      <th>0</th>\n",
       "      <td>5.304348</td>\n",
       "      <td>244.0</td>\n",
       "    </tr>\n",
       "    <tr>\n",
       "      <th>1</th>\n",
       "      <td>11.608696</td>\n",
       "      <td>534.0</td>\n",
       "    </tr>\n",
       "    <tr>\n",
       "      <th>2</th>\n",
       "      <td>2.304348</td>\n",
       "      <td>106.0</td>\n",
       "    </tr>\n",
       "    <tr>\n",
       "      <th>3</th>\n",
       "      <td>36.673913</td>\n",
       "      <td>1687.0</td>\n",
       "    </tr>\n",
       "    <tr>\n",
       "      <th>4</th>\n",
       "      <td>0.564103</td>\n",
       "      <td>22.0</td>\n",
       "    </tr>\n",
       "  </tbody>\n",
       "</table>\n",
       "</div>"
      ],
      "text/plain": [
       "   1012a_mean  1012a_sum\n",
       "0    5.304348      244.0\n",
       "1   11.608696      534.0\n",
       "2    2.304348      106.0\n",
       "3   36.673913     1687.0\n",
       "4    0.564103       22.0"
      ]
     },
     "execution_count": 36,
     "metadata": {},
     "output_type": "execute_result"
    }
   ],
   "source": [
    "df[['1012a_mean','1012a_sum']].head()"
   ]
  },
  {
   "cell_type": "markdown",
   "metadata": {
    "heading_collapsed": "true"
   },
   "source": [
    "#### 3.3.1.4. bus_bts를 활용한 변수"
   ]
  },
  {
   "cell_type": "markdown",
   "metadata": {},
   "source": [
    "* 카테고리별 승객 수의 합과 비율"
   ]
  },
  {
   "cell_type": "code",
   "execution_count": 37,
   "metadata": {
    "execution": {
     "iopub.execute_input": "2022-02-09T01:53:06.390425Z",
     "iopub.status.busy": "2022-02-09T01:53:06.390121Z",
     "iopub.status.idle": "2022-02-09T01:53:09.382639Z",
     "shell.execute_reply": "2022-02-09T01:53:09.381997Z",
     "shell.execute_reply.started": "2022-02-09T01:53:06.390404Z"
    }
   },
   "outputs": [],
   "source": [
    "# 카테고리별 승객 수의 합\n",
    "def category_people():\n",
    "    # df와 병합을 위해 bus_route_id의 타입을 str로 변환\n",
    "    bts['bus_route_id'] = bts['bus_route_id'].astype(str)\n",
    "\n",
    "    # bus_route_id와 user_category별 승객 수의 합\n",
    "    f = bts.groupby(\n",
    "        ['bus_route_id','user_category']\n",
    "    )['user_count'].agg([('승객수', 'sum')]).reset_index()\n",
    "\n",
    "    # bus_route_id별 user_category 변수의 승객수의 피벗 테이블 형태로 변환\n",
    "    g = pd.pivot_table(f, values='승객수', index='bus_route_id', \n",
    "                       columns='user_category', fill_value=0).reset_index()\n",
    "    g.columns = ['bus_route_id', 'adult','kids','teen','elder','jang','jang2','ugong','ugong2']\n",
    "    g = g[['bus_route_id', 'adult','kids','teen','elder']]\n",
    "\n",
    "    # 기존의 데이터프레임에 새로운 변수를 병합\n",
    "    merge_data = pd.merge(df, g, how='left', on='bus_route_id')\n",
    "                 \n",
    "    return merge_data\n",
    "\n",
    "# bus_route_id의 타입을 str로 통일시켜준 뒤, 함수를 실행하여 변수 생성\n",
    "df['bus_route_id'] = df['bus_route_id'].astype(str)\n",
    "df = category_people()"
   ]
  },
  {
   "cell_type": "code",
   "execution_count": 38,
   "metadata": {
    "execution": {
     "iopub.execute_input": "2022-02-09T01:53:09.384267Z",
     "iopub.status.busy": "2022-02-09T01:53:09.383809Z",
     "iopub.status.idle": "2022-02-09T01:53:09.689514Z",
     "shell.execute_reply": "2022-02-09T01:53:09.688604Z",
     "shell.execute_reply.started": "2022-02-09T01:53:09.384229Z"
    }
   },
   "outputs": [
    {
     "data": {
      "text/html": [
       "<div>\n",
       "<style scoped>\n",
       "    .dataframe tbody tr th:only-of-type {\n",
       "        vertical-align: middle;\n",
       "    }\n",
       "\n",
       "    .dataframe tbody tr th {\n",
       "        vertical-align: top;\n",
       "    }\n",
       "\n",
       "    .dataframe thead th {\n",
       "        text-align: right;\n",
       "    }\n",
       "</style>\n",
       "<table border=\"1\" class=\"dataframe\">\n",
       "  <thead>\n",
       "    <tr style=\"text-align: right;\">\n",
       "      <th></th>\n",
       "      <th>adult</th>\n",
       "      <th>kids</th>\n",
       "      <th>teen</th>\n",
       "      <th>elder</th>\n",
       "    </tr>\n",
       "  </thead>\n",
       "  <tbody>\n",
       "    <tr>\n",
       "      <th>0</th>\n",
       "      <td>8158.0</td>\n",
       "      <td>72.0</td>\n",
       "      <td>38.0</td>\n",
       "      <td>0.0</td>\n",
       "    </tr>\n",
       "    <tr>\n",
       "      <th>1</th>\n",
       "      <td>8158.0</td>\n",
       "      <td>72.0</td>\n",
       "      <td>38.0</td>\n",
       "      <td>0.0</td>\n",
       "    </tr>\n",
       "    <tr>\n",
       "      <th>2</th>\n",
       "      <td>8158.0</td>\n",
       "      <td>72.0</td>\n",
       "      <td>38.0</td>\n",
       "      <td>0.0</td>\n",
       "    </tr>\n",
       "    <tr>\n",
       "      <th>3</th>\n",
       "      <td>8158.0</td>\n",
       "      <td>72.0</td>\n",
       "      <td>38.0</td>\n",
       "      <td>0.0</td>\n",
       "    </tr>\n",
       "    <tr>\n",
       "      <th>4</th>\n",
       "      <td>8158.0</td>\n",
       "      <td>72.0</td>\n",
       "      <td>38.0</td>\n",
       "      <td>0.0</td>\n",
       "    </tr>\n",
       "  </tbody>\n",
       "</table>\n",
       "</div>"
      ],
      "text/plain": [
       "    adult  kids  teen  elder\n",
       "0  8158.0  72.0  38.0    0.0\n",
       "1  8158.0  72.0  38.0    0.0\n",
       "2  8158.0  72.0  38.0    0.0\n",
       "3  8158.0  72.0  38.0    0.0\n",
       "4  8158.0  72.0  38.0    0.0"
      ]
     },
     "execution_count": 38,
     "metadata": {},
     "output_type": "execute_result"
    }
   ],
   "source": [
    "df[['adult','kids','teen','elder']].head()"
   ]
  },
  {
   "cell_type": "code",
   "execution_count": 39,
   "metadata": {
    "execution": {
     "iopub.execute_input": "2022-02-09T01:53:09.691403Z",
     "iopub.status.busy": "2022-02-09T01:53:09.690992Z",
     "iopub.status.idle": "2022-02-09T01:53:10.891944Z",
     "shell.execute_reply": "2022-02-09T01:53:10.890883Z",
     "shell.execute_reply.started": "2022-02-09T01:53:09.691359Z"
    }
   },
   "outputs": [],
   "source": [
    "# 카테고리별 승객 비율\n",
    "def category_people_ratio() :\n",
    "\n",
    "    # bus_route_id별 user_category의 전체 합\n",
    "    f_all = bts.groupby('bus_route_id'\n",
    "                       )['user_count'].agg([('전체', 'sum')]).reset_index()\n",
    "\n",
    "   # bus_route_id와 user_category별 승객 수의 합\n",
    "    f_sum = bts.groupby(['bus_route_id','user_category']\n",
    "                       )['user_count'].agg([('승객수', 'sum')]).reset_index()\n",
    "    \n",
    "    # 승객 수의 합을 전체 합으로 나눠줘 비율을 구함\n",
    "    data = pd.merge(f_all, f_sum, on='bus_route_id')\n",
    "    data['비율'] = data['승객수'] / data['전체']\n",
    "\n",
    "   # 피벗 테이블을 통해 bus_route_id별 user_category변수의 승객 비율 형태로 변환\n",
    "    data = pd.pivot_table(data, values='비율', index='bus_route_id', \n",
    "                          columns='user_category',fill_value=0).reset_index()\n",
    "    data.columns = ['bus_route_id', 'adult_prop','kids_prop','teen_prop',\n",
    "                    'elder_prop','jang_prop','jang2_prop','ugong_prop','ugong2_prop']\n",
    "    f = data[['bus_route_id', 'adult_prop','kids_prop','teen_prop','elder_prop']]\n",
    "\n",
    "    # 기존의 데이터프레임에 새로운 변수를 병합\n",
    "    merge_data = pd.merge(df, f, how='left', on='bus_route_id')\n",
    "\n",
    "    return merge_data\n",
    "\n",
    "# 함수를 실행하여 변수 생성\n",
    "df = category_people_ratio()"
   ]
  },
  {
   "cell_type": "code",
   "execution_count": 40,
   "metadata": {
    "execution": {
     "iopub.execute_input": "2022-02-09T01:53:10.893663Z",
     "iopub.status.busy": "2022-02-09T01:53:10.893322Z",
     "iopub.status.idle": "2022-02-09T01:53:11.260948Z",
     "shell.execute_reply": "2022-02-09T01:53:11.260070Z",
     "shell.execute_reply.started": "2022-02-09T01:53:10.893637Z"
    }
   },
   "outputs": [
    {
     "data": {
      "text/html": [
       "<div>\n",
       "<style scoped>\n",
       "    .dataframe tbody tr th:only-of-type {\n",
       "        vertical-align: middle;\n",
       "    }\n",
       "\n",
       "    .dataframe tbody tr th {\n",
       "        vertical-align: top;\n",
       "    }\n",
       "\n",
       "    .dataframe thead th {\n",
       "        text-align: right;\n",
       "    }\n",
       "</style>\n",
       "<table border=\"1\" class=\"dataframe\">\n",
       "  <thead>\n",
       "    <tr style=\"text-align: right;\">\n",
       "      <th></th>\n",
       "      <th>adult_prop</th>\n",
       "      <th>kids_prop</th>\n",
       "      <th>teen_prop</th>\n",
       "      <th>elder_prop</th>\n",
       "    </tr>\n",
       "  </thead>\n",
       "  <tbody>\n",
       "    <tr>\n",
       "      <th>0</th>\n",
       "      <td>0.986696</td>\n",
       "      <td>0.008708</td>\n",
       "      <td>0.004596</td>\n",
       "      <td>0.0</td>\n",
       "    </tr>\n",
       "    <tr>\n",
       "      <th>1</th>\n",
       "      <td>0.986696</td>\n",
       "      <td>0.008708</td>\n",
       "      <td>0.004596</td>\n",
       "      <td>0.0</td>\n",
       "    </tr>\n",
       "    <tr>\n",
       "      <th>2</th>\n",
       "      <td>0.986696</td>\n",
       "      <td>0.008708</td>\n",
       "      <td>0.004596</td>\n",
       "      <td>0.0</td>\n",
       "    </tr>\n",
       "    <tr>\n",
       "      <th>3</th>\n",
       "      <td>0.986696</td>\n",
       "      <td>0.008708</td>\n",
       "      <td>0.004596</td>\n",
       "      <td>0.0</td>\n",
       "    </tr>\n",
       "    <tr>\n",
       "      <th>4</th>\n",
       "      <td>0.986696</td>\n",
       "      <td>0.008708</td>\n",
       "      <td>0.004596</td>\n",
       "      <td>0.0</td>\n",
       "    </tr>\n",
       "  </tbody>\n",
       "</table>\n",
       "</div>"
      ],
      "text/plain": [
       "   adult_prop  kids_prop  teen_prop  elder_prop\n",
       "0    0.986696   0.008708   0.004596         0.0\n",
       "1    0.986696   0.008708   0.004596         0.0\n",
       "2    0.986696   0.008708   0.004596         0.0\n",
       "3    0.986696   0.008708   0.004596         0.0\n",
       "4    0.986696   0.008708   0.004596         0.0"
      ]
     },
     "execution_count": 40,
     "metadata": {},
     "output_type": "execute_result"
    }
   ],
   "source": [
    "df[['adult_prop','kids_prop','teen_prop','elder_prop']].head()"
   ]
  },
  {
   "cell_type": "code",
   "execution_count": 41,
   "metadata": {
    "execution": {
     "iopub.execute_input": "2022-02-09T01:53:11.269393Z",
     "iopub.status.busy": "2022-02-09T01:53:11.269106Z",
     "iopub.status.idle": "2022-02-09T01:53:11.718532Z",
     "shell.execute_reply": "2022-02-09T01:53:11.717741Z",
     "shell.execute_reply.started": "2022-02-09T01:53:11.269357Z"
    }
   },
   "outputs": [],
   "source": [
    "# 연속형 변수의 결측치를 평균값으로 처리할 수 있도록 SimpleImputer를 사용\n",
    "from sklearn.impute import SimpleImputer  \n",
    "\n",
    "# SimpleImputer를 사용할 변수 추출\n",
    "na_col = ['adult', 'kids', 'teen', 'elder', 'adult_prop', 'kids_prop', 'teen_prop',\n",
    "          'elder_prop']\n",
    "# 평균값으로 결측치 처리를 위해 strategy옵션을 mean으로 설정 \n",
    "imputer = SimpleImputer(strategy=\"mean\")\n",
    "# 각 변수에 대해 평균값을 구하고 결측치 대치를 위해 fit_transform을 사용\n",
    "df[na_col] = pd.DataFrame(imputer.fit_transform(df[na_col]), columns = na_col)"
   ]
  },
  {
   "cell_type": "markdown",
   "metadata": {
    "heading_collapsed": "true"
   },
   "source": [
    "#### 3.3.1.5 좌표를 활용한 변수"
   ]
  },
  {
   "cell_type": "code",
   "execution_count": 45,
   "metadata": {
    "execution": {
     "iopub.execute_input": "2022-02-09T01:55:45.457741Z",
     "iopub.status.busy": "2022-02-09T01:55:45.457463Z",
     "iopub.status.idle": "2022-02-09T02:00:28.263972Z",
     "shell.execute_reply": "2022-02-09T02:00:28.263018Z",
     "shell.execute_reply.started": "2022-02-09T01:55:45.457718Z"
    }
   },
   "outputs": [],
   "source": [
    "import geopy.distance\n",
    "\n",
    "coords_jejusi = (33.500770, 126.522761) # 제주시의 위도 경도\n",
    "coords_seoquiposi = (33.259429, 126.558217) # 서귀포시의 위도 경도\n",
    "\n",
    "# 제주시와의 거리\n",
    "df['dis_jejusi'] = [geopy.distance.geodesic((df['latitude'].iloc[i],\n",
    "    df['longitude'].iloc[i]), coords_jejusi).km for i in range(len(df))]\n",
    "# 서귀포시와의 거리\n",
    "df['dis_seoquiposi'] = [geopy.distance.geodesic((df['latitude'].iloc[i],\n",
    "    df['longitude'].iloc[i]), coords_seoquiposi).km for i in range(len(df))]"
   ]
  },
  {
   "cell_type": "code",
   "execution_count": 46,
   "metadata": {
    "execution": {
     "iopub.execute_input": "2022-02-09T02:00:28.266011Z",
     "iopub.status.busy": "2022-02-09T02:00:28.265755Z",
     "iopub.status.idle": "2022-02-09T02:00:28.514077Z",
     "shell.execute_reply": "2022-02-09T02:00:28.513211Z",
     "shell.execute_reply.started": "2022-02-09T02:00:28.265990Z"
    }
   },
   "outputs": [
    {
     "data": {
      "text/html": [
       "<div>\n",
       "<style scoped>\n",
       "    .dataframe tbody tr th:only-of-type {\n",
       "        vertical-align: middle;\n",
       "    }\n",
       "\n",
       "    .dataframe tbody tr th {\n",
       "        vertical-align: top;\n",
       "    }\n",
       "\n",
       "    .dataframe thead th {\n",
       "        text-align: right;\n",
       "    }\n",
       "</style>\n",
       "<table border=\"1\" class=\"dataframe\">\n",
       "  <thead>\n",
       "    <tr style=\"text-align: right;\">\n",
       "      <th></th>\n",
       "      <th>dis_jejusi</th>\n",
       "      <th>dis_seoquiposi</th>\n",
       "    </tr>\n",
       "  </thead>\n",
       "  <tbody>\n",
       "    <tr>\n",
       "      <th>0</th>\n",
       "      <td>2.954920</td>\n",
       "      <td>26.256744</td>\n",
       "    </tr>\n",
       "    <tr>\n",
       "      <th>1</th>\n",
       "      <td>3.720275</td>\n",
       "      <td>26.403025</td>\n",
       "    </tr>\n",
       "    <tr>\n",
       "      <th>2</th>\n",
       "      <td>5.036124</td>\n",
       "      <td>25.893305</td>\n",
       "    </tr>\n",
       "    <tr>\n",
       "      <th>3</th>\n",
       "      <td>2.864166</td>\n",
       "      <td>27.997494</td>\n",
       "    </tr>\n",
       "    <tr>\n",
       "      <th>4</th>\n",
       "      <td>29.040353</td>\n",
       "      <td>13.574693</td>\n",
       "    </tr>\n",
       "  </tbody>\n",
       "</table>\n",
       "</div>"
      ],
      "text/plain": [
       "   dis_jejusi  dis_seoquiposi\n",
       "0    2.954920       26.256744\n",
       "1    3.720275       26.403025\n",
       "2    5.036124       25.893305\n",
       "3    2.864166       27.997494\n",
       "4   29.040353       13.574693"
      ]
     },
     "execution_count": 46,
     "metadata": {},
     "output_type": "execute_result"
    }
   ],
   "source": [
    "df[['dis_jejusi', 'dis_seoquiposi']].head()"
   ]
  },
  {
   "cell_type": "markdown",
   "metadata": {},
   "source": [
    "* 탑승하는 승객의 수가 많은 버스정류장과의 거리"
   ]
  },
  {
   "cell_type": "code",
   "execution_count": 47,
   "metadata": {
    "execution": {
     "iopub.execute_input": "2022-02-09T02:02:50.631088Z",
     "iopub.status.busy": "2022-02-09T02:02:50.630780Z",
     "iopub.status.idle": "2022-02-09T02:26:29.533067Z",
     "shell.execute_reply": "2022-02-09T02:26:29.532168Z",
     "shell.execute_reply.started": "2022-02-09T02:02:50.631038Z"
    }
   },
   "outputs": [],
   "source": [
    "# 승차 인원 상위 10개의 버스정류장 좌표\n",
    "coords_jejusicheong1 = (33.49892, 126.53035) # 제주시청(광양 방면)의 위도 경도\n",
    "coords_jejuairport = (33.50661, 126.49345) # 제주국제공항(구제주 방면)의 위도 경도\n",
    "coords_hallahosp = (33.48963, 126.486) # 한라병원의 위도 경도\n",
    "coords_rotary = (33.49143, 126.49678) # 제주도청신제주로터리의 위도 경도\n",
    "coords_jejucenterhigh = (33.48902, 126.5392) # 제주중앙여자고등학교의 위도 경도\n",
    "coords_jejumarket = (33.51315, 126.52706) # 동문시장의 위도 경도\n",
    "coords_jejusclass = (33.47626, 126.48141) # 제주고등학교/중흥S클래스의 위도 경도\n",
    "coords_centerroad = (33.51073, 126.5239) # 중앙로(국민은행)의 위도 경도\n",
    "coords_fiveway = (33.48667, 126.48092) # 노형오거리의 위도 경도\n",
    "coords_law = (33.49363, 126.53476) # 제주지방법원(광양 방면)의 위도 경도\n",
    "\n",
    "# 승차 인원 상위 10개의 버스정류장 좌표와 각 정류장의 지구 표면에서 두 점 사이의 거리를 구함\n",
    "df['dis_jejusicheong1'] = [geopy.distance.geodesic((df['latitude'].iloc[i],\n",
    "    df['longitude'].iloc[i]), coords_jejusicheong1).km for i in range(len(df))]\n",
    "df['dis_jejuairport'] = [geopy.distance.geodesic((df['latitude'].iloc[i],\n",
    "    df['longitude'].iloc[i]), coords_jejuairport).km for i in range(len(df))]\n",
    "df['dis_hallahosp'] = [geopy.distance.geodesic((df['latitude'].iloc[i],\n",
    "    df['longitude'].iloc[i]), coords_hallahosp).km for i in range(len(df))]\n",
    "df['dis_rotary'] = [geopy.distance.geodesic((df['latitude'].iloc[i],\n",
    "    df['longitude'].iloc[i]), coords_rotary).km for i in range(len(df))]\n",
    "df['dis_jejucenterhigh'] = [geopy.distance.geodesic((df['latitude'].iloc[i],\n",
    "    df['longitude'].iloc[i]), coords_jejucenterhigh).km for i in range(len(df))]\n",
    "df['dis_jejumarket'] = [geopy.distance.geodesic((df['latitude'].iloc[i],\n",
    "    df['longitude'].iloc[i]), coords_jejumarket).km for i in range(len(df))]\n",
    "df['dis_jejusclass'] = [geopy.distance.geodesic((df['latitude'].iloc[i],\n",
    "    df['longitude'].iloc[i]), coords_jejusclass).km for i in range(len(df))]\n",
    "df['dis_centerroad'] = [geopy.distance.geodesic((df['latitude'].iloc[i],\n",
    "    df['longitude'].iloc[i]), coords_centerroad).km for i in range(len(df))]\n",
    "df['dis_fiveway'] = [geopy.distance.geodesic((df['latitude'].iloc[i],\n",
    "    df['longitude'].iloc[i]), coords_fiveway).km for i in range(len(df))]\n",
    "df['dis_law'] = [geopy.distance.geodesic((df['latitude'].iloc[i],\n",
    "    df['longitude'].iloc[i]), coords_law).km for i in range(len(df))]"
   ]
  },
  {
   "cell_type": "code",
   "execution_count": 48,
   "metadata": {
    "execution": {
     "iopub.execute_input": "2022-02-09T02:26:29.534939Z",
     "iopub.status.busy": "2022-02-09T02:26:29.534524Z",
     "iopub.status.idle": "2022-02-09T02:26:29.847643Z",
     "shell.execute_reply": "2022-02-09T02:26:29.846843Z",
     "shell.execute_reply.started": "2022-02-09T02:26:29.534915Z"
    }
   },
   "outputs": [
    {
     "data": {
      "text/html": [
       "<div>\n",
       "<style scoped>\n",
       "    .dataframe tbody tr th:only-of-type {\n",
       "        vertical-align: middle;\n",
       "    }\n",
       "\n",
       "    .dataframe tbody tr th {\n",
       "        vertical-align: top;\n",
       "    }\n",
       "\n",
       "    .dataframe thead th {\n",
       "        text-align: right;\n",
       "    }\n",
       "</style>\n",
       "<table border=\"1\" class=\"dataframe\">\n",
       "  <thead>\n",
       "    <tr style=\"text-align: right;\">\n",
       "      <th></th>\n",
       "      <th>dis_jejusicheong1</th>\n",
       "      <th>dis_jejuairport</th>\n",
       "      <th>dis_hallahosp</th>\n",
       "      <th>dis_rotary</th>\n",
       "      <th>dis_jejucenterhigh</th>\n",
       "      <th>dis_jejumarket</th>\n",
       "      <th>dis_jejusclass</th>\n",
       "      <th>dis_centerroad</th>\n",
       "      <th>dis_fiveway</th>\n",
       "      <th>dis_law</th>\n",
       "    </tr>\n",
       "  </thead>\n",
       "  <tbody>\n",
       "    <tr>\n",
       "      <th>0</th>\n",
       "      <td>3.547051</td>\n",
       "      <td>1.853545</td>\n",
       "      <td>0.719000</td>\n",
       "      <td>0.330360</td>\n",
       "      <td>4.226827</td>\n",
       "      <td>4.030090</td>\n",
       "      <td>1.897319</td>\n",
       "      <td>3.632769</td>\n",
       "      <td>1.243233</td>\n",
       "      <td>3.835351</td>\n",
       "    </tr>\n",
       "    <tr>\n",
       "      <th>1</th>\n",
       "      <td>4.336294</td>\n",
       "      <td>2.057088</td>\n",
       "      <td>0.088058</td>\n",
       "      <td>1.109489</td>\n",
       "      <td>5.029806</td>\n",
       "      <td>4.704476</td>\n",
       "      <td>1.501101</td>\n",
       "      <td>4.311404</td>\n",
       "      <td>0.493820</td>\n",
       "      <td>4.640172</td>\n",
       "    </tr>\n",
       "    <tr>\n",
       "      <th>2</th>\n",
       "      <td>5.611975</td>\n",
       "      <td>3.316057</td>\n",
       "      <td>1.448297</td>\n",
       "      <td>2.410695</td>\n",
       "      <td>6.156335</td>\n",
       "      <td>6.069228</td>\n",
       "      <td>0.957447</td>\n",
       "      <td>5.675079</td>\n",
       "      <td>0.873821</td>\n",
       "      <td>5.840420</td>\n",
       "    </tr>\n",
       "    <tr>\n",
       "      <th>3</th>\n",
       "      <td>3.596334</td>\n",
       "      <td>0.127071</td>\n",
       "      <td>1.889890</td>\n",
       "      <td>1.639020</td>\n",
       "      <td>4.718848</td>\n",
       "      <td>3.311940</td>\n",
       "      <td>3.432034</td>\n",
       "      <td>2.967079</td>\n",
       "      <td>2.376926</td>\n",
       "      <td>4.149595</td>\n",
       "    </tr>\n",
       "    <tr>\n",
       "      <th>4</th>\n",
       "      <td>29.106917</td>\n",
       "      <td>28.818039</td>\n",
       "      <td>26.819826</td>\n",
       "      <td>27.283840</td>\n",
       "      <td>28.424280</td>\n",
       "      <td>30.466215</td>\n",
       "      <td>25.277182</td>\n",
       "      <td>30.112554</td>\n",
       "      <td>26.384623</td>\n",
       "      <td>28.724248</td>\n",
       "    </tr>\n",
       "  </tbody>\n",
       "</table>\n",
       "</div>"
      ],
      "text/plain": [
       "   dis_jejusicheong1  dis_jejuairport  dis_hallahosp  dis_rotary  \\\n",
       "0           3.547051         1.853545       0.719000    0.330360   \n",
       "1           4.336294         2.057088       0.088058    1.109489   \n",
       "2           5.611975         3.316057       1.448297    2.410695   \n",
       "3           3.596334         0.127071       1.889890    1.639020   \n",
       "4          29.106917        28.818039      26.819826   27.283840   \n",
       "\n",
       "   dis_jejucenterhigh  dis_jejumarket  dis_jejusclass  dis_centerroad  \\\n",
       "0            4.226827        4.030090        1.897319        3.632769   \n",
       "1            5.029806        4.704476        1.501101        4.311404   \n",
       "2            6.156335        6.069228        0.957447        5.675079   \n",
       "3            4.718848        3.311940        3.432034        2.967079   \n",
       "4           28.424280       30.466215       25.277182       30.112554   \n",
       "\n",
       "   dis_fiveway    dis_law  \n",
       "0     1.243233   3.835351  \n",
       "1     0.493820   4.640172  \n",
       "2     0.873821   5.840420  \n",
       "3     2.376926   4.149595  \n",
       "4    26.384623  28.724248  "
      ]
     },
     "execution_count": 48,
     "metadata": {},
     "output_type": "execute_result"
    }
   ],
   "source": [
    "df[['dis_jejusicheong1', 'dis_jejuairport', 'dis_hallahosp', 'dis_rotary',\n",
    "    'dis_jejucenterhigh', 'dis_jejumarket', 'dis_jejusclass', 'dis_centerroad',\n",
    "    'dis_fiveway', 'dis_law']].head()"
   ]
  },
  {
   "cell_type": "markdown",
   "metadata": {
    "heading_collapsed": "true"
   },
   "source": [
    "### 3.3.2. 외부 데이터를 통한 변수 생성"
   ]
  },
  {
   "cell_type": "markdown",
   "metadata": {
    "heading_collapsed": "true"
   },
   "source": [
    "#### 3.3.2.1. 날씨를 활용한 변수"
   ]
  },
  {
   "cell_type": "markdown",
   "metadata": {},
   "source": [
    "* 버스정류장과 각 측정소의 거리"
   ]
  },
  {
   "cell_type": "code",
   "execution_count": 58,
   "metadata": {
    "execution": {
     "iopub.execute_input": "2022-02-09T02:26:34.296687Z",
     "iopub.status.busy": "2022-02-09T02:26:34.296315Z",
     "iopub.status.idle": "2022-02-09T02:34:31.412639Z",
     "shell.execute_reply": "2022-02-09T02:34:31.411839Z",
     "shell.execute_reply.started": "2022-02-09T02:26:34.296633Z"
    }
   },
   "outputs": [],
   "source": [
    "# 측정소별 위도, 경도\n",
    "jeju = (33.51411, 126.52969) # 제주 측정소 근처\n",
    "gosan = (33.29382, 126.16283) # 고산 측정소 근처\n",
    "seongsan = (33.38677, 126.8802) # 성산 측정소 근처\n",
    "po = (33.24616, 126.5653) # 서귀포 측정소 근처\n",
    "\n",
    "# 버스정류장과 제주 측정소와의 거리\n",
    "t1 = [geopy.distance.geodesic((i,j), jeju).km\n",
    "      for i,j in list(zip(df['latitude'], df['longitude']))]\n",
    "df['dis_jeju'] = t1\n",
    "\n",
    "# 버스정류장과 고산 측정소와의 거리\n",
    "t2 = [geopy.distance.geodesic((i,j), gosan).km\n",
    "      for i,j in list(zip(df['latitude'], df['longitude']))]\n",
    "df['dis_gosan']=t2\n",
    "\n",
    "# 버스정류장과 성산 측정소와의 거리\n",
    "t3 = [geopy.distance.geodesic((i,j), seongsan).km\n",
    "      for i,j in list(zip(df['latitude'], df['longitude']))]\n",
    "df['dis_seongsan']=t3\n",
    "\n",
    "# 버스정류장과 서귀포 측정소와의 거리\n",
    "t4 = [geopy.distance.geodesic((i,j), po).km\n",
    "      for i,j in list(zip(df['latitude'], df['longitude']))]\n",
    "df['dis_po']=t4"
   ]
  },
  {
   "cell_type": "code",
   "execution_count": 59,
   "metadata": {
    "execution": {
     "iopub.execute_input": "2022-02-09T02:34:31.414237Z",
     "iopub.status.busy": "2022-02-09T02:34:31.413914Z",
     "iopub.status.idle": "2022-02-09T02:34:31.857526Z",
     "shell.execute_reply": "2022-02-09T02:34:31.856608Z",
     "shell.execute_reply.started": "2022-02-09T02:34:31.414215Z"
    },
    "scrolled": true
   },
   "outputs": [
    {
     "data": {
      "text/html": [
       "<div>\n",
       "<style scoped>\n",
       "    .dataframe tbody tr th:only-of-type {\n",
       "        vertical-align: middle;\n",
       "    }\n",
       "\n",
       "    .dataframe tbody tr th {\n",
       "        vertical-align: top;\n",
       "    }\n",
       "\n",
       "    .dataframe thead th {\n",
       "        text-align: right;\n",
       "    }\n",
       "</style>\n",
       "<table border=\"1\" class=\"dataframe\">\n",
       "  <thead>\n",
       "    <tr style=\"text-align: right;\">\n",
       "      <th></th>\n",
       "      <th>dis_jeju</th>\n",
       "      <th>dis_gosan</th>\n",
       "      <th>dis_seongsan</th>\n",
       "      <th>dis_po</th>\n",
       "    </tr>\n",
       "  </thead>\n",
       "  <tbody>\n",
       "    <tr>\n",
       "      <th>0</th>\n",
       "      <td>4.286659</td>\n",
       "      <td>37.692766</td>\n",
       "      <td>37.713630</td>\n",
       "      <td>27.841879</td>\n",
       "    </tr>\n",
       "    <tr>\n",
       "      <th>1</th>\n",
       "      <td>4.966848</td>\n",
       "      <td>37.008492</td>\n",
       "      <td>38.465822</td>\n",
       "      <td>27.996179</td>\n",
       "    </tr>\n",
       "    <tr>\n",
       "      <th>2</th>\n",
       "      <td>6.330746</td>\n",
       "      <td>35.642126</td>\n",
       "      <td>39.259820</td>\n",
       "      <td>27.496551</td>\n",
       "    </tr>\n",
       "    <tr>\n",
       "      <th>3</th>\n",
       "      <td>3.575272</td>\n",
       "      <td>38.643401</td>\n",
       "      <td>38.386802</td>\n",
       "      <td>29.579404</td>\n",
       "    </tr>\n",
       "    <tr>\n",
       "      <th>4</th>\n",
       "      <td>30.652098</td>\n",
       "      <td>23.648361</td>\n",
       "      <td>45.899140</td>\n",
       "      <td>14.269792</td>\n",
       "    </tr>\n",
       "  </tbody>\n",
       "</table>\n",
       "</div>"
      ],
      "text/plain": [
       "    dis_jeju  dis_gosan  dis_seongsan     dis_po\n",
       "0   4.286659  37.692766     37.713630  27.841879\n",
       "1   4.966848  37.008492     38.465822  27.996179\n",
       "2   6.330746  35.642126     39.259820  27.496551\n",
       "3   3.575272  38.643401     38.386802  29.579404\n",
       "4  30.652098  23.648361     45.899140  14.269792"
      ]
     },
     "execution_count": 59,
     "metadata": {},
     "output_type": "execute_result"
    }
   ],
   "source": [
    "df[['dis_jeju', 'dis_gosan', 'dis_seongsan', 'dis_po']].head()"
   ]
  },
  {
   "cell_type": "markdown",
   "metadata": {},
   "source": [
    "* 버스정류장과 가장 가까운 관측소"
   ]
  },
  {
   "cell_type": "code",
   "execution_count": 60,
   "metadata": {
    "execution": {
     "iopub.execute_input": "2022-02-09T02:34:31.859088Z",
     "iopub.status.busy": "2022-02-09T02:34:31.858812Z",
     "iopub.status.idle": "2022-02-09T02:35:03.054179Z",
     "shell.execute_reply": "2022-02-09T02:35:03.053517Z",
     "shell.execute_reply.started": "2022-02-09T02:34:31.859067Z"
    }
   },
   "outputs": [],
   "source": [
    "total = pd.DataFrame(list(zip(t1,t2,t3,t4)),\n",
    "                     columns=['jeju', 'gosan', 'seongsan', 'po'])\n",
    "df['dist_name'] = total.apply(lambda x: x.idxmin(), axis=1)"
   ]
  },
  {
   "cell_type": "code",
   "execution_count": 61,
   "metadata": {
    "execution": {
     "iopub.execute_input": "2022-02-09T02:35:03.055819Z",
     "iopub.status.busy": "2022-02-09T02:35:03.055430Z",
     "iopub.status.idle": "2022-02-09T02:35:03.204349Z",
     "shell.execute_reply": "2022-02-09T02:35:03.203461Z",
     "shell.execute_reply.started": "2022-02-09T02:35:03.055783Z"
    }
   },
   "outputs": [
    {
     "data": {
      "text/html": [
       "<div>\n",
       "<style scoped>\n",
       "    .dataframe tbody tr th:only-of-type {\n",
       "        vertical-align: middle;\n",
       "    }\n",
       "\n",
       "    .dataframe tbody tr th {\n",
       "        vertical-align: top;\n",
       "    }\n",
       "\n",
       "    .dataframe thead th {\n",
       "        text-align: right;\n",
       "    }\n",
       "</style>\n",
       "<table border=\"1\" class=\"dataframe\">\n",
       "  <thead>\n",
       "    <tr style=\"text-align: right;\">\n",
       "      <th></th>\n",
       "      <th>dist_name</th>\n",
       "    </tr>\n",
       "  </thead>\n",
       "  <tbody>\n",
       "    <tr>\n",
       "      <th>0</th>\n",
       "      <td>jeju</td>\n",
       "    </tr>\n",
       "    <tr>\n",
       "      <th>1</th>\n",
       "      <td>jeju</td>\n",
       "    </tr>\n",
       "    <tr>\n",
       "      <th>2</th>\n",
       "      <td>jeju</td>\n",
       "    </tr>\n",
       "    <tr>\n",
       "      <th>3</th>\n",
       "      <td>jeju</td>\n",
       "    </tr>\n",
       "    <tr>\n",
       "      <th>4</th>\n",
       "      <td>po</td>\n",
       "    </tr>\n",
       "  </tbody>\n",
       "</table>\n",
       "</div>"
      ],
      "text/plain": [
       "  dist_name\n",
       "0      jeju\n",
       "1      jeju\n",
       "2      jeju\n",
       "3      jeju\n",
       "4        po"
      ]
     },
     "execution_count": 61,
     "metadata": {},
     "output_type": "execute_result"
    }
   ],
   "source": [
    "df[['dist_name']].head()"
   ]
  },
  {
   "cell_type": "markdown",
   "metadata": {},
   "source": [
    "* 지점별 기상정보 변수"
   ]
  },
  {
   "cell_type": "code",
   "execution_count": 62,
   "metadata": {
    "execution": {
     "iopub.execute_input": "2022-02-09T02:35:03.206064Z",
     "iopub.status.busy": "2022-02-09T02:35:03.205760Z",
     "iopub.status.idle": "2022-02-09T02:35:04.614631Z",
     "shell.execute_reply": "2022-02-09T02:35:04.613717Z",
     "shell.execute_reply.started": "2022-02-09T02:35:03.206041Z"
    }
   },
   "outputs": [],
   "source": [
    "# 변수명 변경 \n",
    "# ['지점', '일시', '기온(°C)', '강수량(mm)']\n",
    "rain.columns = ['dist_name', 'date', 'temperature', 'rainfall']\n",
    "\n",
    "# fillna 함수를 활용해 결측치를 0으로 치환\n",
    "rain = rain.fillna(0)\n",
    "\n",
    "# rain 데이터의 date 변수를 datetime 형태로 변환\n",
    "rain['date'] = pd.to_datetime(rain['date'])\n",
    "\n",
    "# 기존의 데이터프레임에 새로운 변수를 병합\n",
    "df = pd.merge(df, rain, how='left', on=['dist_name', 'date'])"
   ]
  },
  {
   "cell_type": "code",
   "execution_count": 63,
   "metadata": {
    "execution": {
     "iopub.execute_input": "2022-02-09T02:35:04.616065Z",
     "iopub.status.busy": "2022-02-09T02:35:04.615752Z",
     "iopub.status.idle": "2022-02-09T02:35:05.187997Z",
     "shell.execute_reply": "2022-02-09T02:35:05.187179Z",
     "shell.execute_reply.started": "2022-02-09T02:35:04.616031Z"
    }
   },
   "outputs": [
    {
     "data": {
      "text/html": [
       "<div>\n",
       "<style scoped>\n",
       "    .dataframe tbody tr th:only-of-type {\n",
       "        vertical-align: middle;\n",
       "    }\n",
       "\n",
       "    .dataframe tbody tr th {\n",
       "        vertical-align: top;\n",
       "    }\n",
       "\n",
       "    .dataframe thead th {\n",
       "        text-align: right;\n",
       "    }\n",
       "</style>\n",
       "<table border=\"1\" class=\"dataframe\">\n",
       "  <thead>\n",
       "    <tr style=\"text-align: right;\">\n",
       "      <th></th>\n",
       "      <th>temperature</th>\n",
       "      <th>rainfall</th>\n",
       "    </tr>\n",
       "  </thead>\n",
       "  <tbody>\n",
       "    <tr>\n",
       "      <th>0</th>\n",
       "      <td>24.650000</td>\n",
       "      <td>0.0</td>\n",
       "    </tr>\n",
       "    <tr>\n",
       "      <th>1</th>\n",
       "      <td>24.650000</td>\n",
       "      <td>0.0</td>\n",
       "    </tr>\n",
       "    <tr>\n",
       "      <th>2</th>\n",
       "      <td>24.650000</td>\n",
       "      <td>0.0</td>\n",
       "    </tr>\n",
       "    <tr>\n",
       "      <th>3</th>\n",
       "      <td>24.650000</td>\n",
       "      <td>0.0</td>\n",
       "    </tr>\n",
       "    <tr>\n",
       "      <th>4</th>\n",
       "      <td>23.783333</td>\n",
       "      <td>0.0</td>\n",
       "    </tr>\n",
       "  </tbody>\n",
       "</table>\n",
       "</div>"
      ],
      "text/plain": [
       "   temperature  rainfall\n",
       "0    24.650000       0.0\n",
       "1    24.650000       0.0\n",
       "2    24.650000       0.0\n",
       "3    24.650000       0.0\n",
       "4    23.783333       0.0"
      ]
     },
     "execution_count": 63,
     "metadata": {},
     "output_type": "execute_result"
    }
   ],
   "source": [
    "df[['temperature', 'rainfall']].head()"
   ]
  },
  {
   "cell_type": "markdown",
   "metadata": {},
   "source": [
    "* rainy_day"
   ]
  },
  {
   "cell_type": "code",
   "execution_count": 64,
   "metadata": {
    "execution": {
     "iopub.execute_input": "2022-02-09T02:35:05.189540Z",
     "iopub.status.busy": "2022-02-09T02:35:05.189148Z",
     "iopub.status.idle": "2022-02-09T02:35:05.394474Z",
     "shell.execute_reply": "2022-02-09T02:35:05.393810Z",
     "shell.execute_reply.started": "2022-02-09T02:35:05.189516Z"
    }
   },
   "outputs": [],
   "source": [
    "def is_rainy(x):\n",
    "    if x == 0:\n",
    "        return 0 # 비 안오는 날\n",
    "    else:\n",
    "        return 1 # 비 오는 날\n",
    "\n",
    "df['rainy_day'] = df['rainfall'].apply(is_rainy)"
   ]
  },
  {
   "cell_type": "code",
   "execution_count": 65,
   "metadata": {
    "execution": {
     "iopub.execute_input": "2022-02-09T02:35:05.396341Z",
     "iopub.status.busy": "2022-02-09T02:35:05.395909Z",
     "iopub.status.idle": "2022-02-09T02:35:05.429701Z",
     "shell.execute_reply": "2022-02-09T02:35:05.428838Z",
     "shell.execute_reply.started": "2022-02-09T02:35:05.396304Z"
    }
   },
   "outputs": [
    {
     "data": {
      "text/html": [
       "<div>\n",
       "<style scoped>\n",
       "    .dataframe tbody tr th:only-of-type {\n",
       "        vertical-align: middle;\n",
       "    }\n",
       "\n",
       "    .dataframe tbody tr th {\n",
       "        vertical-align: top;\n",
       "    }\n",
       "\n",
       "    .dataframe thead th {\n",
       "        text-align: right;\n",
       "    }\n",
       "</style>\n",
       "<table border=\"1\" class=\"dataframe\">\n",
       "  <thead>\n",
       "    <tr style=\"text-align: right;\">\n",
       "      <th></th>\n",
       "      <th>rainy_day</th>\n",
       "    </tr>\n",
       "  </thead>\n",
       "  <tbody>\n",
       "    <tr>\n",
       "      <th>0</th>\n",
       "      <td>0</td>\n",
       "    </tr>\n",
       "    <tr>\n",
       "      <th>1</th>\n",
       "      <td>0</td>\n",
       "    </tr>\n",
       "    <tr>\n",
       "      <th>2</th>\n",
       "      <td>0</td>\n",
       "    </tr>\n",
       "    <tr>\n",
       "      <th>3</th>\n",
       "      <td>0</td>\n",
       "    </tr>\n",
       "    <tr>\n",
       "      <th>4</th>\n",
       "      <td>0</td>\n",
       "    </tr>\n",
       "  </tbody>\n",
       "</table>\n",
       "</div>"
      ],
      "text/plain": [
       "   rainy_day\n",
       "0          0\n",
       "1          0\n",
       "2          0\n",
       "3          0\n",
       "4          0"
      ]
     },
     "execution_count": 65,
     "metadata": {},
     "output_type": "execute_result"
    }
   ],
   "source": [
    "df[['rainy_day']].head()"
   ]
  },
  {
   "cell_type": "markdown",
   "metadata": {},
   "source": [
    "#### 3.3.2.2. jeju_financial_life_data를 활용한 변수"
   ]
  },
  {
   "cell_type": "code",
   "execution_count": 49,
   "metadata": {
    "execution": {
     "iopub.execute_input": "2022-02-09T02:26:29.849990Z",
     "iopub.status.busy": "2022-02-09T02:26:29.849680Z",
     "iopub.status.idle": "2022-02-09T02:26:31.624558Z",
     "shell.execute_reply": "2022-02-09T02:26:31.623683Z",
     "shell.execute_reply.started": "2022-02-09T02:26:29.849968Z"
    }
   },
   "outputs": [],
   "source": [
    "# df 주소 데이터(df_location.csv) 로드\n",
    "df_loc = pd.read_csv(\"./df_location.csv\", encoding='cp949')[['location','dong', 'si']]\n",
    "# jeju_life 주소 데이터(life_location.csv) 로드\n",
    "life_loc = pd.read_csv(\"./life_location.csv\", encoding='cp949'\n",
    "                      )[['location','dong', 'si']]\n",
    "\n",
    "# df의 위도, 경도 변수를 문자열로 취급하여 location 변수 생성\n",
    "df['location'] = df['latitude'].astype(str) + ',' + df['longitude'].astype(str)\n",
    "# jeju_life의 위도, 경도 변수를 문자열로 취급하여 location 변수 생성\n",
    "jeju_life['location'] = jeju_life['y_axis'].astype(str).str[:10] + ',' + \\\n",
    "                        jeju_life['x_axis'].astype(str).str[:10]\n",
    "\n",
    "# location 변수를 기준으로 df와 df_loc 병합\n",
    "df = pd.merge(df, df_loc, how='left', on='location')\n",
    "# location 변수를 기준으로 jeju_life와 life_loc 병합\n",
    "jeju_life = pd.merge(jeju_life, life_loc, how='left', on='location')"
   ]
  },
  {
   "cell_type": "code",
   "execution_count": 50,
   "metadata": {
    "execution": {
     "iopub.execute_input": "2022-02-09T02:26:31.626889Z",
     "iopub.status.busy": "2022-02-09T02:26:31.626538Z",
     "iopub.status.idle": "2022-02-09T02:26:31.999349Z",
     "shell.execute_reply": "2022-02-09T02:26:31.998208Z",
     "shell.execute_reply.started": "2022-02-09T02:26:31.626863Z"
    }
   },
   "outputs": [
    {
     "data": {
      "text/html": [
       "<div>\n",
       "<style scoped>\n",
       "    .dataframe tbody tr th:only-of-type {\n",
       "        vertical-align: middle;\n",
       "    }\n",
       "\n",
       "    .dataframe tbody tr th {\n",
       "        vertical-align: top;\n",
       "    }\n",
       "\n",
       "    .dataframe thead th {\n",
       "        text-align: right;\n",
       "    }\n",
       "</style>\n",
       "<table border=\"1\" class=\"dataframe\">\n",
       "  <thead>\n",
       "    <tr style=\"text-align: right;\">\n",
       "      <th></th>\n",
       "      <th>location</th>\n",
       "      <th>dong</th>\n",
       "      <th>si</th>\n",
       "    </tr>\n",
       "  </thead>\n",
       "  <tbody>\n",
       "    <tr>\n",
       "      <th>0</th>\n",
       "      <td>33.4899,126.49373</td>\n",
       "      <td>연동</td>\n",
       "      <td>제주시</td>\n",
       "    </tr>\n",
       "    <tr>\n",
       "      <th>1</th>\n",
       "      <td>33.48944,126.48508</td>\n",
       "      <td>연동</td>\n",
       "      <td>제주시</td>\n",
       "    </tr>\n",
       "    <tr>\n",
       "      <th>2</th>\n",
       "      <td>33.48181,126.47352</td>\n",
       "      <td>노형동</td>\n",
       "      <td>제주시</td>\n",
       "    </tr>\n",
       "    <tr>\n",
       "      <th>3</th>\n",
       "      <td>33.50577,126.49252</td>\n",
       "      <td>용담이동</td>\n",
       "      <td>제주시</td>\n",
       "    </tr>\n",
       "    <tr>\n",
       "      <th>4</th>\n",
       "      <td>33.255790000000005,126.4126</td>\n",
       "      <td>색달동</td>\n",
       "      <td>서귀포시</td>\n",
       "    </tr>\n",
       "  </tbody>\n",
       "</table>\n",
       "</div>"
      ],
      "text/plain": [
       "                      location  dong    si\n",
       "0            33.4899,126.49373    연동   제주시\n",
       "1           33.48944,126.48508    연동   제주시\n",
       "2           33.48181,126.47352   노형동   제주시\n",
       "3           33.50577,126.49252  용담이동   제주시\n",
       "4  33.255790000000005,126.4126   색달동  서귀포시"
      ]
     },
     "execution_count": 50,
     "metadata": {},
     "output_type": "execute_result"
    }
   ],
   "source": [
    "df[['location', 'dong', 'si']].head()"
   ]
  },
  {
   "cell_type": "markdown",
   "metadata": {},
   "source": [
    "* 각 동(읍, 면별) 직업, 소득, 소비, 부동산 관련 변수의 평균, 합계, 비율"
   ]
  },
  {
   "cell_type": "code",
   "execution_count": 51,
   "metadata": {
    "execution": {
     "iopub.execute_input": "2022-02-09T02:26:32.000935Z",
     "iopub.status.busy": "2022-02-09T02:26:32.000520Z",
     "iopub.status.idle": "2022-02-09T02:26:33.056474Z",
     "shell.execute_reply": "2022-02-09T02:26:33.055761Z",
     "shell.execute_reply.started": "2022-02-09T02:26:32.000913Z"
    }
   },
   "outputs": [],
   "source": [
    "col = ['job_majorc', 'job_smallc', 'job_public', 'job_profession', 'job_self', \n",
    "       'avg_income', 'med_income', 'avg_spend', 'vehicle_own_rat']\n",
    "\n",
    "# groupby 함수를 사용해 dong을 기준으로 위에서 선택한 변수들의 평균을 구함\n",
    "data1 = jeju_life.groupby(['dong'])[col].mean().reset_index()\n",
    "data1.columns=['dong','mean_job_majorc', 'mean_job_smallc', 'mean_job_public', \n",
    "               'mean_job_profession', 'mean_job_self', 'mean_vehicle_own_rat',\n",
    "               'mean_avg_income', 'mean_med_income', 'mean_avg_spend']\n",
    "\n",
    "# groupby 함수를 사용해 dong을 기준으로 위에서 선택한 변수들의 합계를 구함 \n",
    "data2 = jeju_life.groupby(['dong'])[col].sum().reset_index()\n",
    "data2.columns=['dong','sum_job_majorc', 'sum_job_smallc', 'sum_job_public', \n",
    "               'sum_job_profession', 'sum_job_self', 'sum_vehicle_own_rat', \n",
    "               'sum_avg_income', 'sum_med_income', 'sum_avg_spend']\n",
    "\n",
    "# groupby 함수를 사용해 dong을 기준으로 위에서 선택한 변수들의 비율을 구함\n",
    "data3 = (jeju_life.groupby(['dong'])[col].sum() \\\n",
    "             / jeju_life.groupby(['dong'])[col].sum().sum()).reset_index()\n",
    "data3.columns = ['dong','rate_job_majorc', 'rate_job_smallc', 'rate_job_public', \n",
    "                 'rate_job_profession', 'rate_job_self', 'rate_vehicle_own_rat', \n",
    "                 'rate_avg_income', 'rate_med_income', 'rate_avg_spend']\n",
    "\n",
    "# dong을 기준으로 기존의 데이터프레임에 새로운 변수를 병합\n",
    "merge_data1 = pd.merge(data1, data2, how='left', on='dong')\n",
    "merge_data2 = pd.merge(merge_data1, data3, how='left', on='dong')\n",
    "df = pd.merge(df, merge_data2, how='left', on='dong')"
   ]
  },
  {
   "cell_type": "code",
   "execution_count": 52,
   "metadata": {
    "execution": {
     "iopub.execute_input": "2022-02-09T02:26:33.058156Z",
     "iopub.status.busy": "2022-02-09T02:26:33.057879Z",
     "iopub.status.idle": "2022-02-09T02:26:33.599260Z",
     "shell.execute_reply": "2022-02-09T02:26:33.598447Z",
     "shell.execute_reply.started": "2022-02-09T02:26:33.058132Z"
    }
   },
   "outputs": [
    {
     "data": {
      "text/html": [
       "<div>\n",
       "<style scoped>\n",
       "    .dataframe tbody tr th:only-of-type {\n",
       "        vertical-align: middle;\n",
       "    }\n",
       "\n",
       "    .dataframe tbody tr th {\n",
       "        vertical-align: top;\n",
       "    }\n",
       "\n",
       "    .dataframe thead th {\n",
       "        text-align: right;\n",
       "    }\n",
       "</style>\n",
       "<table border=\"1\" class=\"dataframe\">\n",
       "  <thead>\n",
       "    <tr style=\"text-align: right;\">\n",
       "      <th></th>\n",
       "      <th>mean_job_majorc</th>\n",
       "      <th>mean_job_smallc</th>\n",
       "      <th>mean_job_public</th>\n",
       "      <th>mean_job_profession</th>\n",
       "      <th>mean_job_self</th>\n",
       "      <th>mean_vehicle_own_rat</th>\n",
       "      <th>mean_avg_income</th>\n",
       "      <th>mean_med_income</th>\n",
       "      <th>mean_avg_spend</th>\n",
       "    </tr>\n",
       "  </thead>\n",
       "  <tbody>\n",
       "    <tr>\n",
       "      <th>0</th>\n",
       "      <td>0.030512</td>\n",
       "      <td>0.161997</td>\n",
       "      <td>0.039919</td>\n",
       "      <td>0.014888</td>\n",
       "      <td>0.138164</td>\n",
       "      <td>3.511182e+07</td>\n",
       "      <td>3.095374e+07</td>\n",
       "      <td>4.683326e+06</td>\n",
       "      <td>0.031514</td>\n",
       "    </tr>\n",
       "    <tr>\n",
       "      <th>1</th>\n",
       "      <td>0.030512</td>\n",
       "      <td>0.161997</td>\n",
       "      <td>0.039919</td>\n",
       "      <td>0.014888</td>\n",
       "      <td>0.138164</td>\n",
       "      <td>3.511182e+07</td>\n",
       "      <td>3.095374e+07</td>\n",
       "      <td>4.683326e+06</td>\n",
       "      <td>0.031514</td>\n",
       "    </tr>\n",
       "    <tr>\n",
       "      <th>2</th>\n",
       "      <td>0.032494</td>\n",
       "      <td>0.154253</td>\n",
       "      <td>0.042997</td>\n",
       "      <td>0.020755</td>\n",
       "      <td>0.139257</td>\n",
       "      <td>3.678985e+07</td>\n",
       "      <td>3.265628e+07</td>\n",
       "      <td>5.128032e+06</td>\n",
       "      <td>0.035210</td>\n",
       "    </tr>\n",
       "    <tr>\n",
       "      <th>3</th>\n",
       "      <td>0.025593</td>\n",
       "      <td>0.167158</td>\n",
       "      <td>0.035757</td>\n",
       "      <td>0.014249</td>\n",
       "      <td>0.135443</td>\n",
       "      <td>3.076244e+07</td>\n",
       "      <td>2.891900e+07</td>\n",
       "      <td>4.000557e+06</td>\n",
       "      <td>0.029785</td>\n",
       "    </tr>\n",
       "    <tr>\n",
       "      <th>4</th>\n",
       "      <td>0.035615</td>\n",
       "      <td>0.178596</td>\n",
       "      <td>0.019174</td>\n",
       "      <td>0.004394</td>\n",
       "      <td>0.305618</td>\n",
       "      <td>3.498224e+07</td>\n",
       "      <td>3.017862e+07</td>\n",
       "      <td>4.115050e+06</td>\n",
       "      <td>0.044791</td>\n",
       "    </tr>\n",
       "  </tbody>\n",
       "</table>\n",
       "</div>"
      ],
      "text/plain": [
       "   mean_job_majorc  mean_job_smallc  mean_job_public  mean_job_profession  \\\n",
       "0         0.030512         0.161997         0.039919             0.014888   \n",
       "1         0.030512         0.161997         0.039919             0.014888   \n",
       "2         0.032494         0.154253         0.042997             0.020755   \n",
       "3         0.025593         0.167158         0.035757             0.014249   \n",
       "4         0.035615         0.178596         0.019174             0.004394   \n",
       "\n",
       "   mean_job_self  mean_vehicle_own_rat  mean_avg_income  mean_med_income  \\\n",
       "0       0.138164          3.511182e+07     3.095374e+07     4.683326e+06   \n",
       "1       0.138164          3.511182e+07     3.095374e+07     4.683326e+06   \n",
       "2       0.139257          3.678985e+07     3.265628e+07     5.128032e+06   \n",
       "3       0.135443          3.076244e+07     2.891900e+07     4.000557e+06   \n",
       "4       0.305618          3.498224e+07     3.017862e+07     4.115050e+06   \n",
       "\n",
       "   mean_avg_spend  \n",
       "0        0.031514  \n",
       "1        0.031514  \n",
       "2        0.035210  \n",
       "3        0.029785  \n",
       "4        0.044791  "
      ]
     },
     "execution_count": 52,
     "metadata": {},
     "output_type": "execute_result"
    }
   ],
   "source": [
    "df[['mean_job_majorc', 'mean_job_smallc', 'mean_job_public', \n",
    "    'mean_job_profession', 'mean_job_self', 'mean_vehicle_own_rat', \n",
    "    'mean_avg_income', 'mean_med_income', 'mean_avg_spend']].head()"
   ]
  },
  {
   "cell_type": "code",
   "execution_count": 53,
   "metadata": {
    "execution": {
     "iopub.execute_input": "2022-02-09T02:26:33.600946Z",
     "iopub.status.busy": "2022-02-09T02:26:33.600567Z",
     "iopub.status.idle": "2022-02-09T02:26:33.628686Z",
     "shell.execute_reply": "2022-02-09T02:26:33.626246Z",
     "shell.execute_reply.started": "2022-02-09T02:26:33.600924Z"
    }
   },
   "outputs": [
    {
     "data": {
      "text/html": [
       "<div>\n",
       "<style scoped>\n",
       "    .dataframe tbody tr th:only-of-type {\n",
       "        vertical-align: middle;\n",
       "    }\n",
       "\n",
       "    .dataframe tbody tr th {\n",
       "        vertical-align: top;\n",
       "    }\n",
       "\n",
       "    .dataframe thead th {\n",
       "        text-align: right;\n",
       "    }\n",
       "</style>\n",
       "<table border=\"1\" class=\"dataframe\">\n",
       "  <thead>\n",
       "    <tr style=\"text-align: right;\">\n",
       "      <th></th>\n",
       "      <th>sum_job_majorc</th>\n",
       "      <th>sum_job_smallc</th>\n",
       "      <th>sum_job_public</th>\n",
       "      <th>sum_job_profession</th>\n",
       "      <th>sum_job_self</th>\n",
       "      <th>sum_vehicle_own_rat</th>\n",
       "      <th>sum_avg_income</th>\n",
       "      <th>sum_med_income</th>\n",
       "      <th>sum_avg_spend</th>\n",
       "    </tr>\n",
       "  </thead>\n",
       "  <tbody>\n",
       "    <tr>\n",
       "      <th>0</th>\n",
       "      <td>18.948217</td>\n",
       "      <td>100.600402</td>\n",
       "      <td>24.789940</td>\n",
       "      <td>9.245359</td>\n",
       "      <td>85.799611</td>\n",
       "      <td>2.180444e+10</td>\n",
       "      <td>1.922227e+10</td>\n",
       "      <td>2.908346e+09</td>\n",
       "      <td>19.570112</td>\n",
       "    </tr>\n",
       "    <tr>\n",
       "      <th>1</th>\n",
       "      <td>18.948217</td>\n",
       "      <td>100.600402</td>\n",
       "      <td>24.789940</td>\n",
       "      <td>9.245359</td>\n",
       "      <td>85.799611</td>\n",
       "      <td>2.180444e+10</td>\n",
       "      <td>1.922227e+10</td>\n",
       "      <td>2.908346e+09</td>\n",
       "      <td>19.570112</td>\n",
       "    </tr>\n",
       "    <tr>\n",
       "      <th>2</th>\n",
       "      <td>19.918703</td>\n",
       "      <td>94.556852</td>\n",
       "      <td>26.357053</td>\n",
       "      <td>12.723008</td>\n",
       "      <td>85.364807</td>\n",
       "      <td>2.255218e+10</td>\n",
       "      <td>2.001830e+10</td>\n",
       "      <td>3.143484e+09</td>\n",
       "      <td>21.583853</td>\n",
       "    </tr>\n",
       "    <tr>\n",
       "      <th>3</th>\n",
       "      <td>6.244585</td>\n",
       "      <td>40.786531</td>\n",
       "      <td>8.724751</td>\n",
       "      <td>3.476796</td>\n",
       "      <td>33.048145</td>\n",
       "      <td>7.506035e+09</td>\n",
       "      <td>7.056235e+09</td>\n",
       "      <td>9.761358e+08</td>\n",
       "      <td>7.267512</td>\n",
       "    </tr>\n",
       "    <tr>\n",
       "      <th>4</th>\n",
       "      <td>1.032846</td>\n",
       "      <td>5.179291</td>\n",
       "      <td>0.556057</td>\n",
       "      <td>0.127439</td>\n",
       "      <td>8.862915</td>\n",
       "      <td>1.014485e+09</td>\n",
       "      <td>8.751800e+08</td>\n",
       "      <td>1.193365e+08</td>\n",
       "      <td>1.298941</td>\n",
       "    </tr>\n",
       "  </tbody>\n",
       "</table>\n",
       "</div>"
      ],
      "text/plain": [
       "   sum_job_majorc  sum_job_smallc  sum_job_public  sum_job_profession  \\\n",
       "0       18.948217      100.600402       24.789940            9.245359   \n",
       "1       18.948217      100.600402       24.789940            9.245359   \n",
       "2       19.918703       94.556852       26.357053           12.723008   \n",
       "3        6.244585       40.786531        8.724751            3.476796   \n",
       "4        1.032846        5.179291        0.556057            0.127439   \n",
       "\n",
       "   sum_job_self  sum_vehicle_own_rat  sum_avg_income  sum_med_income  \\\n",
       "0     85.799611         2.180444e+10    1.922227e+10    2.908346e+09   \n",
       "1     85.799611         2.180444e+10    1.922227e+10    2.908346e+09   \n",
       "2     85.364807         2.255218e+10    2.001830e+10    3.143484e+09   \n",
       "3     33.048145         7.506035e+09    7.056235e+09    9.761358e+08   \n",
       "4      8.862915         1.014485e+09    8.751800e+08    1.193365e+08   \n",
       "\n",
       "   sum_avg_spend  \n",
       "0      19.570112  \n",
       "1      19.570112  \n",
       "2      21.583853  \n",
       "3       7.267512  \n",
       "4       1.298941  "
      ]
     },
     "execution_count": 53,
     "metadata": {},
     "output_type": "execute_result"
    }
   ],
   "source": [
    "df[['sum_job_majorc', 'sum_job_smallc', 'sum_job_public', \n",
    "    'sum_job_profession', 'sum_job_self', 'sum_vehicle_own_rat', \n",
    "    'sum_avg_income', 'sum_med_income', 'sum_avg_spend']].head()"
   ]
  },
  {
   "cell_type": "code",
   "execution_count": 54,
   "metadata": {
    "execution": {
     "iopub.execute_input": "2022-02-09T02:26:33.633901Z",
     "iopub.status.busy": "2022-02-09T02:26:33.633544Z",
     "iopub.status.idle": "2022-02-09T02:26:33.664524Z",
     "shell.execute_reply": "2022-02-09T02:26:33.662362Z",
     "shell.execute_reply.started": "2022-02-09T02:26:33.633871Z"
    }
   },
   "outputs": [
    {
     "data": {
      "text/html": [
       "<div>\n",
       "<style scoped>\n",
       "    .dataframe tbody tr th:only-of-type {\n",
       "        vertical-align: middle;\n",
       "    }\n",
       "\n",
       "    .dataframe tbody tr th {\n",
       "        vertical-align: top;\n",
       "    }\n",
       "\n",
       "    .dataframe thead th {\n",
       "        text-align: right;\n",
       "    }\n",
       "</style>\n",
       "<table border=\"1\" class=\"dataframe\">\n",
       "  <thead>\n",
       "    <tr style=\"text-align: right;\">\n",
       "      <th></th>\n",
       "      <th>rate_job_majorc</th>\n",
       "      <th>rate_job_smallc</th>\n",
       "      <th>rate_job_public</th>\n",
       "      <th>rate_job_profession</th>\n",
       "      <th>rate_job_self</th>\n",
       "      <th>rate_vehicle_own_rat</th>\n",
       "      <th>rate_avg_income</th>\n",
       "      <th>rate_med_income</th>\n",
       "      <th>rate_avg_spend</th>\n",
       "    </tr>\n",
       "  </thead>\n",
       "  <tbody>\n",
       "    <tr>\n",
       "      <th>0</th>\n",
       "      <td>0.070785</td>\n",
       "      <td>0.067234</td>\n",
       "      <td>0.072519</td>\n",
       "      <td>0.059186</td>\n",
       "      <td>0.039145</td>\n",
       "      <td>0.060589</td>\n",
       "      <td>0.059915</td>\n",
       "      <td>0.065706</td>\n",
       "      <td>0.048458</td>\n",
       "    </tr>\n",
       "    <tr>\n",
       "      <th>1</th>\n",
       "      <td>0.070785</td>\n",
       "      <td>0.067234</td>\n",
       "      <td>0.072519</td>\n",
       "      <td>0.059186</td>\n",
       "      <td>0.039145</td>\n",
       "      <td>0.060589</td>\n",
       "      <td>0.059915</td>\n",
       "      <td>0.065706</td>\n",
       "      <td>0.048458</td>\n",
       "    </tr>\n",
       "    <tr>\n",
       "      <th>2</th>\n",
       "      <td>0.074411</td>\n",
       "      <td>0.063195</td>\n",
       "      <td>0.077104</td>\n",
       "      <td>0.081449</td>\n",
       "      <td>0.038947</td>\n",
       "      <td>0.062667</td>\n",
       "      <td>0.062396</td>\n",
       "      <td>0.071018</td>\n",
       "      <td>0.053445</td>\n",
       "    </tr>\n",
       "    <tr>\n",
       "      <th>3</th>\n",
       "      <td>0.023328</td>\n",
       "      <td>0.027259</td>\n",
       "      <td>0.025523</td>\n",
       "      <td>0.022257</td>\n",
       "      <td>0.015078</td>\n",
       "      <td>0.020857</td>\n",
       "      <td>0.021994</td>\n",
       "      <td>0.022053</td>\n",
       "      <td>0.017995</td>\n",
       "    </tr>\n",
       "    <tr>\n",
       "      <th>4</th>\n",
       "      <td>0.003858</td>\n",
       "      <td>0.003461</td>\n",
       "      <td>0.001627</td>\n",
       "      <td>0.000816</td>\n",
       "      <td>0.004044</td>\n",
       "      <td>0.002819</td>\n",
       "      <td>0.002728</td>\n",
       "      <td>0.002696</td>\n",
       "      <td>0.003216</td>\n",
       "    </tr>\n",
       "  </tbody>\n",
       "</table>\n",
       "</div>"
      ],
      "text/plain": [
       "   rate_job_majorc  rate_job_smallc  rate_job_public  rate_job_profession  \\\n",
       "0         0.070785         0.067234         0.072519             0.059186   \n",
       "1         0.070785         0.067234         0.072519             0.059186   \n",
       "2         0.074411         0.063195         0.077104             0.081449   \n",
       "3         0.023328         0.027259         0.025523             0.022257   \n",
       "4         0.003858         0.003461         0.001627             0.000816   \n",
       "\n",
       "   rate_job_self  rate_vehicle_own_rat  rate_avg_income  rate_med_income  \\\n",
       "0       0.039145              0.060589         0.059915         0.065706   \n",
       "1       0.039145              0.060589         0.059915         0.065706   \n",
       "2       0.038947              0.062667         0.062396         0.071018   \n",
       "3       0.015078              0.020857         0.021994         0.022053   \n",
       "4       0.004044              0.002819         0.002728         0.002696   \n",
       "\n",
       "   rate_avg_spend  \n",
       "0        0.048458  \n",
       "1        0.048458  \n",
       "2        0.053445  \n",
       "3        0.017995  \n",
       "4        0.003216  "
      ]
     },
     "execution_count": 54,
     "metadata": {},
     "output_type": "execute_result"
    }
   ],
   "source": [
    "df[['rate_job_majorc', 'rate_job_smallc', 'rate_job_public', \n",
    "    'rate_job_profession', 'rate_job_self', 'rate_vehicle_own_rat', \n",
    "    'rate_avg_income', 'rate_med_income', 'rate_avg_spend']].head()"
   ]
  },
  {
   "cell_type": "code",
   "execution_count": 55,
   "metadata": {
    "execution": {
     "iopub.execute_input": "2022-02-09T02:26:33.668829Z",
     "iopub.status.busy": "2022-02-09T02:26:33.668520Z",
     "iopub.status.idle": "2022-02-09T02:26:33.765192Z",
     "shell.execute_reply": "2022-02-09T02:26:33.764131Z",
     "shell.execute_reply.started": "2022-02-09T02:26:33.668804Z"
    }
   },
   "outputs": [
    {
     "name": "stdout",
     "output_type": "stream",
     "text": [
      "<class 'pandas.core.frame.DataFrame'>\n",
      "Int64Index: 643593 entries, 0 to 643592\n",
      "Data columns (total 27 columns):\n",
      " #   Column                Non-Null Count   Dtype  \n",
      "---  ------                --------------   -----  \n",
      " 0   mean_job_majorc       641868 non-null  float64\n",
      " 1   mean_job_smallc       641868 non-null  float64\n",
      " 2   mean_job_public       641868 non-null  float64\n",
      " 3   mean_job_profession   641868 non-null  float64\n",
      " 4   mean_job_self         641868 non-null  float64\n",
      " 5   mean_vehicle_own_rat  641868 non-null  float64\n",
      " 6   mean_avg_income       641868 non-null  float64\n",
      " 7   mean_med_income       641868 non-null  float64\n",
      " 8   mean_avg_spend        641868 non-null  float64\n",
      " 9   sum_job_majorc        641868 non-null  float64\n",
      " 10  sum_job_smallc        641868 non-null  float64\n",
      " 11  sum_job_public        641868 non-null  float64\n",
      " 12  sum_job_profession    641868 non-null  float64\n",
      " 13  sum_job_self          641868 non-null  float64\n",
      " 14  sum_vehicle_own_rat   641868 non-null  float64\n",
      " 15  sum_avg_income        641868 non-null  float64\n",
      " 16  sum_med_income        641868 non-null  float64\n",
      " 17  sum_avg_spend         641868 non-null  float64\n",
      " 18  rate_job_majorc       641868 non-null  float64\n",
      " 19  rate_job_smallc       641868 non-null  float64\n",
      " 20  rate_job_public       641868 non-null  float64\n",
      " 21  rate_job_profession   641868 non-null  float64\n",
      " 22  rate_job_self         641868 non-null  float64\n",
      " 23  rate_vehicle_own_rat  641868 non-null  float64\n",
      " 24  rate_avg_income       641868 non-null  float64\n",
      " 25  rate_med_income       641868 non-null  float64\n",
      " 26  rate_avg_spend        641868 non-null  float64\n",
      "dtypes: float64(27)\n",
      "memory usage: 137.5 MB\n"
     ]
    }
   ],
   "source": [
    "# 새로 생성한 27개의 변수 정보\n",
    "df[merge_data2.columns[1:]].info() # 새로 생성한 27개 변수 각각 201개의 NA값이 존재"
   ]
  },
  {
   "cell_type": "code",
   "execution_count": 56,
   "metadata": {
    "execution": {
     "iopub.execute_input": "2022-02-09T02:26:33.766902Z",
     "iopub.status.busy": "2022-02-09T02:26:33.766466Z",
     "iopub.status.idle": "2022-02-09T02:26:34.215557Z",
     "shell.execute_reply": "2022-02-09T02:26:34.214833Z",
     "shell.execute_reply.started": "2022-02-09T02:26:33.766876Z"
    }
   },
   "outputs": [],
   "source": [
    "# 결측치를 평균값으로 처리할 수 있도록 SimpleImputer를 사용\n",
    "imputer = SimpleImputer(strategy=\"mean\")\n",
    "\n",
    "# 결측치가 존재하는 변수 목록\n",
    "na_col = list(merge_data2.columns[1:])\n",
    "\n",
    "# 각 변수에 대해 평균값을 구하고 결측치 대치를 위해 fit_transform을 사용\n",
    "df[na_col] = pd.DataFrame(imputer.fit_transform(df[na_col]), columns = na_col)"
   ]
  },
  {
   "cell_type": "code",
   "execution_count": 57,
   "metadata": {
    "execution": {
     "iopub.execute_input": "2022-02-09T02:26:34.217243Z",
     "iopub.status.busy": "2022-02-09T02:26:34.216866Z",
     "iopub.status.idle": "2022-02-09T02:26:34.294830Z",
     "shell.execute_reply": "2022-02-09T02:26:34.293813Z",
     "shell.execute_reply.started": "2022-02-09T02:26:34.217209Z"
    }
   },
   "outputs": [
    {
     "data": {
      "text/plain": [
       "mean_job_majorc         0\n",
       "mean_job_smallc         0\n",
       "mean_job_public         0\n",
       "mean_job_profession     0\n",
       "mean_job_self           0\n",
       "mean_vehicle_own_rat    0\n",
       "mean_avg_income         0\n",
       "mean_med_income         0\n",
       "mean_avg_spend          0\n",
       "sum_job_majorc          0\n",
       "sum_job_smallc          0\n",
       "sum_job_public          0\n",
       "sum_job_profession      0\n",
       "sum_job_self            0\n",
       "sum_vehicle_own_rat     0\n",
       "sum_avg_income          0\n",
       "sum_med_income          0\n",
       "sum_avg_spend           0\n",
       "rate_job_majorc         0\n",
       "rate_job_smallc         0\n",
       "rate_job_public         0\n",
       "rate_job_profession     0\n",
       "rate_job_self           0\n",
       "rate_vehicle_own_rat    0\n",
       "rate_avg_income         0\n",
       "rate_med_income         0\n",
       "rate_avg_spend          0\n",
       "dtype: int64"
      ]
     },
     "execution_count": 57,
     "metadata": {},
     "output_type": "execute_result"
    }
   ],
   "source": [
    "# NA값 확인\n",
    "df[na_col].isnull().sum()"
   ]
  },
  {
   "cell_type": "markdown",
   "metadata": {
    "heading_collapsed": "true"
   },
   "source": [
    "### 3.3.3. 추가 변수 생성"
   ]
  },
  {
   "cell_type": "markdown",
   "metadata": {},
   "source": [
    "<font color='blue'>3.3.3. '추가 변수 생성'에서 생성하는 변수는 책에는 나와있지 않으므로 주피터 파일을 참고해주세요."
   ]
  },
  {
   "cell_type": "markdown",
   "metadata": {},
   "source": [
    "* 승하차 시간대 통합 변수(t~t+3)"
   ]
  },
  {
   "cell_type": "code",
   "execution_count": 66,
   "metadata": {
    "execution": {
     "iopub.execute_input": "2022-02-09T02:35:05.431448Z",
     "iopub.status.busy": "2022-02-09T02:35:05.431020Z",
     "iopub.status.idle": "2022-02-09T02:35:05.460153Z",
     "shell.execute_reply": "2022-02-09T02:35:05.458604Z",
     "shell.execute_reply.started": "2022-02-09T02:35:05.431421Z"
    }
   },
   "outputs": [],
   "source": [
    "# 오전시간대에 3시간동안 승차한 인원수의 합계\n",
    "df['69a'] = df['6~7_ride'] + df['7~8_ride'] + df['8~9_ride']\n",
    "df['912a']= df['9~10_ride'] + df['10~11_ride'] + df['11~12_ride']\n",
    "\n",
    "# 오전시간대에 3시간동안 하차한 인원수의 합계\n",
    "df['69b'] = df['6~7_takeoff'] + df['7~8_takeoff'] + df['8~9_takeoff']\n",
    "df['912b'] = df['9~10_takeoff'] + df['10~11_takeoff'] + df['11~12_takeoff']"
   ]
  },
  {
   "cell_type": "code",
   "execution_count": 67,
   "metadata": {
    "execution": {
     "iopub.execute_input": "2022-02-09T02:35:05.462310Z",
     "iopub.status.busy": "2022-02-09T02:35:05.461572Z",
     "iopub.status.idle": "2022-02-09T02:35:05.920800Z",
     "shell.execute_reply": "2022-02-09T02:35:05.919875Z",
     "shell.execute_reply.started": "2022-02-09T02:35:05.462275Z"
    }
   },
   "outputs": [
    {
     "data": {
      "text/html": [
       "<div>\n",
       "<style scoped>\n",
       "    .dataframe tbody tr th:only-of-type {\n",
       "        vertical-align: middle;\n",
       "    }\n",
       "\n",
       "    .dataframe tbody tr th {\n",
       "        vertical-align: top;\n",
       "    }\n",
       "\n",
       "    .dataframe thead th {\n",
       "        text-align: right;\n",
       "    }\n",
       "</style>\n",
       "<table border=\"1\" class=\"dataframe\">\n",
       "  <thead>\n",
       "    <tr style=\"text-align: right;\">\n",
       "      <th></th>\n",
       "      <th>69a</th>\n",
       "      <th>912a</th>\n",
       "      <th>69b</th>\n",
       "      <th>912b</th>\n",
       "    </tr>\n",
       "  </thead>\n",
       "  <tbody>\n",
       "    <tr>\n",
       "      <th>0</th>\n",
       "      <td>3.0</td>\n",
       "      <td>13.0</td>\n",
       "      <td>0.0</td>\n",
       "      <td>0.0</td>\n",
       "    </tr>\n",
       "    <tr>\n",
       "      <th>1</th>\n",
       "      <td>9.0</td>\n",
       "      <td>13.0</td>\n",
       "      <td>0.0</td>\n",
       "      <td>0.0</td>\n",
       "    </tr>\n",
       "    <tr>\n",
       "      <th>2</th>\n",
       "      <td>2.0</td>\n",
       "      <td>2.0</td>\n",
       "      <td>0.0</td>\n",
       "      <td>0.0</td>\n",
       "    </tr>\n",
       "    <tr>\n",
       "      <th>3</th>\n",
       "      <td>23.0</td>\n",
       "      <td>56.0</td>\n",
       "      <td>0.0</td>\n",
       "      <td>0.0</td>\n",
       "    </tr>\n",
       "    <tr>\n",
       "      <th>4</th>\n",
       "      <td>0.0</td>\n",
       "      <td>0.0</td>\n",
       "      <td>0.0</td>\n",
       "      <td>1.0</td>\n",
       "    </tr>\n",
       "  </tbody>\n",
       "</table>\n",
       "</div>"
      ],
      "text/plain": [
       "    69a  912a  69b  912b\n",
       "0   3.0  13.0  0.0   0.0\n",
       "1   9.0  13.0  0.0   0.0\n",
       "2   2.0   2.0  0.0   0.0\n",
       "3  23.0  56.0  0.0   0.0\n",
       "4   0.0   0.0  0.0   1.0"
      ]
     },
     "execution_count": 67,
     "metadata": {},
     "output_type": "execute_result"
    }
   ],
   "source": [
    "df[['69a', '912a', '69b', '912b']].head()"
   ]
  },
  {
   "cell_type": "markdown",
   "metadata": {},
   "source": [
    "* 제주도 기상정보 변수"
   ]
  },
  {
   "cell_type": "code",
   "execution_count": 68,
   "metadata": {
    "execution": {
     "iopub.execute_input": "2022-02-09T02:35:05.922578Z",
     "iopub.status.busy": "2022-02-09T02:35:05.922273Z",
     "iopub.status.idle": "2022-02-09T02:35:07.364562Z",
     "shell.execute_reply": "2022-02-09T02:35:07.363816Z",
     "shell.execute_reply.started": "2022-02-09T02:35:05.922553Z"
    }
   },
   "outputs": [],
   "source": [
    "# 변수명 변경\n",
    "# ['날짜', '현재일기', '현재기온', '체감온도', '일강수']\n",
    "weather.columns = ['date','description','temp','feels_like','rain']\n",
    "weather['rain'] = weather['rain'].replace(' ', '0')\n",
    "weather['rain'] = weather['rain'].astype(float)\n",
    "weather['date'] = pd.to_datetime(weather['date'])\n",
    "df = pd.merge(df, weather, how='left', on='date')"
   ]
  },
  {
   "cell_type": "code",
   "execution_count": 69,
   "metadata": {
    "execution": {
     "iopub.execute_input": "2022-02-09T02:35:07.371454Z",
     "iopub.status.busy": "2022-02-09T02:35:07.371121Z",
     "iopub.status.idle": "2022-02-09T02:35:07.994246Z",
     "shell.execute_reply": "2022-02-09T02:35:07.993184Z",
     "shell.execute_reply.started": "2022-02-09T02:35:07.371435Z"
    }
   },
   "outputs": [
    {
     "data": {
      "text/html": [
       "<div>\n",
       "<style scoped>\n",
       "    .dataframe tbody tr th:only-of-type {\n",
       "        vertical-align: middle;\n",
       "    }\n",
       "\n",
       "    .dataframe tbody tr th {\n",
       "        vertical-align: top;\n",
       "    }\n",
       "\n",
       "    .dataframe thead th {\n",
       "        text-align: right;\n",
       "    }\n",
       "</style>\n",
       "<table border=\"1\" class=\"dataframe\">\n",
       "  <thead>\n",
       "    <tr style=\"text-align: right;\">\n",
       "      <th></th>\n",
       "      <th>description</th>\n",
       "      <th>temp</th>\n",
       "      <th>feels_like</th>\n",
       "      <th>rain</th>\n",
       "    </tr>\n",
       "  </thead>\n",
       "  <tbody>\n",
       "    <tr>\n",
       "      <th>0</th>\n",
       "      <td>흐림</td>\n",
       "      <td>26.2</td>\n",
       "      <td>75.0</td>\n",
       "      <td>0.0</td>\n",
       "    </tr>\n",
       "    <tr>\n",
       "      <th>1</th>\n",
       "      <td>흐림</td>\n",
       "      <td>26.2</td>\n",
       "      <td>75.0</td>\n",
       "      <td>0.0</td>\n",
       "    </tr>\n",
       "    <tr>\n",
       "      <th>2</th>\n",
       "      <td>흐림</td>\n",
       "      <td>26.2</td>\n",
       "      <td>75.0</td>\n",
       "      <td>0.0</td>\n",
       "    </tr>\n",
       "    <tr>\n",
       "      <th>3</th>\n",
       "      <td>흐림</td>\n",
       "      <td>26.2</td>\n",
       "      <td>75.0</td>\n",
       "      <td>0.0</td>\n",
       "    </tr>\n",
       "    <tr>\n",
       "      <th>4</th>\n",
       "      <td>흐림</td>\n",
       "      <td>26.2</td>\n",
       "      <td>75.0</td>\n",
       "      <td>0.0</td>\n",
       "    </tr>\n",
       "  </tbody>\n",
       "</table>\n",
       "</div>"
      ],
      "text/plain": [
       "  description  temp  feels_like  rain\n",
       "0          흐림  26.2        75.0   0.0\n",
       "1          흐림  26.2        75.0   0.0\n",
       "2          흐림  26.2        75.0   0.0\n",
       "3          흐림  26.2        75.0   0.0\n",
       "4          흐림  26.2        75.0   0.0"
      ]
     },
     "execution_count": 69,
     "metadata": {},
     "output_type": "execute_result"
    }
   ],
   "source": [
    "df[['description', 'temp', 'feels_like', 'rain']].head()"
   ]
  },
  {
   "cell_type": "markdown",
   "metadata": {},
   "source": [
    "* id별 퇴근 시간 총/평균 승객수"
   ]
  },
  {
   "cell_type": "code",
   "execution_count": 70,
   "metadata": {
    "execution": {
     "iopub.execute_input": "2022-02-09T02:35:07.997691Z",
     "iopub.status.busy": "2022-02-09T02:35:07.997312Z",
     "iopub.status.idle": "2022-02-09T02:35:18.037799Z",
     "shell.execute_reply": "2022-02-09T02:35:18.036912Z",
     "shell.execute_reply.started": "2022-02-09T02:35:07.997654Z"
    }
   },
   "outputs": [],
   "source": [
    "def id_statistic(ID, col1, col2) :\n",
    "    \n",
    "    train_data = df.query('cue==0').reset_index()    \n",
    "\n",
    "    # mean, sum\n",
    "    rs_mean = train_data.groupby([ID])['18~20_ride'].agg([(col1, 'mean')]\n",
    "                                                        ).reset_index()\n",
    "    rs_sum = train_data.groupby([ID])['18~20_ride'].agg([(col2, 'sum')]\n",
    "                                                       ).reset_index()\n",
    "    rs_mean_sum = pd.merge(rs_mean, rs_sum, on=ID)\n",
    "\n",
    "    # merge\n",
    "    merge_data = pd.merge(df, rs_mean_sum, how='left', on=ID)\n",
    "\n",
    "    # 연속형 변수의 결측치를 평균값으로 대체\n",
    "    merge_data[col1] = merge_data[col1].fillna(rs_mean[col1].mean())\n",
    "    merge_data[col2] = merge_data[col2].fillna(rs_sum[col2].mean())\n",
    "    \n",
    "    return merge_data\n",
    "\n",
    "\n",
    "df = id_statistic('bus_route_id', '1820_r_mean', '1820_r_sum')\n",
    "df = id_statistic('station_code', '1820_s_mean', '1820_s_sum')\n",
    "df = id_statistic('weekday', '1820_w_mean', '1820_w_sum')\n",
    "df = id_statistic('route_station', '1820_rs_mean', '1820_rs_sum')"
   ]
  },
  {
   "cell_type": "code",
   "execution_count": 71,
   "metadata": {
    "execution": {
     "iopub.execute_input": "2022-02-09T02:35:18.039500Z",
     "iopub.status.busy": "2022-02-09T02:35:18.039121Z",
     "iopub.status.idle": "2022-02-09T02:35:18.692963Z",
     "shell.execute_reply": "2022-02-09T02:35:18.692112Z",
     "shell.execute_reply.started": "2022-02-09T02:35:18.039474Z"
    }
   },
   "outputs": [
    {
     "data": {
      "text/html": [
       "<div>\n",
       "<style scoped>\n",
       "    .dataframe tbody tr th:only-of-type {\n",
       "        vertical-align: middle;\n",
       "    }\n",
       "\n",
       "    .dataframe tbody tr th {\n",
       "        vertical-align: top;\n",
       "    }\n",
       "\n",
       "    .dataframe thead th {\n",
       "        text-align: right;\n",
       "    }\n",
       "</style>\n",
       "<table border=\"1\" class=\"dataframe\">\n",
       "  <thead>\n",
       "    <tr style=\"text-align: right;\">\n",
       "      <th></th>\n",
       "      <th>1820_r_mean</th>\n",
       "      <th>1820_r_sum</th>\n",
       "      <th>1820_s_mean</th>\n",
       "      <th>1820_s_sum</th>\n",
       "      <th>1820_w_mean</th>\n",
       "      <th>1820_w_sum</th>\n",
       "      <th>1820_rs_mean</th>\n",
       "      <th>1820_rs_sum</th>\n",
       "    </tr>\n",
       "  </thead>\n",
       "  <tbody>\n",
       "    <tr>\n",
       "      <th>0</th>\n",
       "      <td>3.104381</td>\n",
       "      <td>2409.0</td>\n",
       "      <td>1.466667</td>\n",
       "      <td>44.0</td>\n",
       "      <td>1.034282</td>\n",
       "      <td>54306.0</td>\n",
       "      <td>1.466667</td>\n",
       "      <td>44.0</td>\n",
       "    </tr>\n",
       "    <tr>\n",
       "      <th>1</th>\n",
       "      <td>3.104381</td>\n",
       "      <td>2409.0</td>\n",
       "      <td>4.178218</td>\n",
       "      <td>6330.0</td>\n",
       "      <td>1.034282</td>\n",
       "      <td>54306.0</td>\n",
       "      <td>5.366667</td>\n",
       "      <td>161.0</td>\n",
       "    </tr>\n",
       "    <tr>\n",
       "      <th>2</th>\n",
       "      <td>3.104381</td>\n",
       "      <td>2409.0</td>\n",
       "      <td>2.169559</td>\n",
       "      <td>1625.0</td>\n",
       "      <td>1.034282</td>\n",
       "      <td>54306.0</td>\n",
       "      <td>1.600000</td>\n",
       "      <td>48.0</td>\n",
       "    </tr>\n",
       "    <tr>\n",
       "      <th>3</th>\n",
       "      <td>3.104381</td>\n",
       "      <td>2409.0</td>\n",
       "      <td>52.032258</td>\n",
       "      <td>1613.0</td>\n",
       "      <td>1.034282</td>\n",
       "      <td>54306.0</td>\n",
       "      <td>53.766667</td>\n",
       "      <td>1613.0</td>\n",
       "    </tr>\n",
       "    <tr>\n",
       "      <th>4</th>\n",
       "      <td>3.104381</td>\n",
       "      <td>2409.0</td>\n",
       "      <td>0.732794</td>\n",
       "      <td>181.0</td>\n",
       "      <td>1.034282</td>\n",
       "      <td>54306.0</td>\n",
       "      <td>0.153846</td>\n",
       "      <td>4.0</td>\n",
       "    </tr>\n",
       "  </tbody>\n",
       "</table>\n",
       "</div>"
      ],
      "text/plain": [
       "   1820_r_mean  1820_r_sum  1820_s_mean  1820_s_sum  1820_w_mean  1820_w_sum  \\\n",
       "0     3.104381      2409.0     1.466667        44.0     1.034282     54306.0   \n",
       "1     3.104381      2409.0     4.178218      6330.0     1.034282     54306.0   \n",
       "2     3.104381      2409.0     2.169559      1625.0     1.034282     54306.0   \n",
       "3     3.104381      2409.0    52.032258      1613.0     1.034282     54306.0   \n",
       "4     3.104381      2409.0     0.732794       181.0     1.034282     54306.0   \n",
       "\n",
       "   1820_rs_mean  1820_rs_sum  \n",
       "0      1.466667         44.0  \n",
       "1      5.366667        161.0  \n",
       "2      1.600000         48.0  \n",
       "3     53.766667       1613.0  \n",
       "4      0.153846          4.0  "
      ]
     },
     "execution_count": 71,
     "metadata": {},
     "output_type": "execute_result"
    }
   ],
   "source": [
    "df[['1820_r_mean', '1820_r_sum', '1820_s_mean', '1820_s_sum',\n",
    "   '1820_w_mean', '1820_w_sum', '1820_rs_mean', '1820_rs_sum']].head()"
   ]
  },
  {
   "cell_type": "markdown",
   "metadata": {},
   "source": [
    "* 라벨 인코딩"
   ]
  },
  {
   "cell_type": "code",
   "execution_count": 72,
   "metadata": {
    "execution": {
     "iopub.execute_input": "2022-02-09T02:35:18.694620Z",
     "iopub.status.busy": "2022-02-09T02:35:18.694192Z",
     "iopub.status.idle": "2022-02-09T02:35:19.050632Z",
     "shell.execute_reply": "2022-02-09T02:35:19.049780Z",
     "shell.execute_reply.started": "2022-02-09T02:35:18.694594Z"
    }
   },
   "outputs": [],
   "source": [
    "# sklearn라이브러리에서 라벨 인코딩 객체 불러와서 저장하기\n",
    "from sklearn.preprocessing import LabelEncoder\n",
    "labelencoder = LabelEncoder()\n",
    "\n",
    "# 라벨 인코딩 할 변수 선택\n",
    "df_encode = df[['description', 'bus_route_id','station_code']]\n",
    "# fit_transform을 통해 라벨 인코딩 \n",
    "df_encoded = df_encode.apply(labelencoder.fit_transform)\n",
    "\n",
    "df['description'] = df_encoded['description']\n",
    "df['bus_route_id2'] = df_encoded['bus_route_id']\n",
    "df['station_code2'] = df_encoded['station_code']"
   ]
  },
  {
   "cell_type": "code",
   "execution_count": 73,
   "metadata": {
    "execution": {
     "iopub.execute_input": "2022-02-09T02:35:19.052517Z",
     "iopub.status.busy": "2022-02-09T02:35:19.052127Z",
     "iopub.status.idle": "2022-02-09T02:35:19.108898Z",
     "shell.execute_reply": "2022-02-09T02:35:19.108120Z",
     "shell.execute_reply.started": "2022-02-09T02:35:19.052490Z"
    }
   },
   "outputs": [
    {
     "data": {
      "text/html": [
       "<div>\n",
       "<style scoped>\n",
       "    .dataframe tbody tr th:only-of-type {\n",
       "        vertical-align: middle;\n",
       "    }\n",
       "\n",
       "    .dataframe tbody tr th {\n",
       "        vertical-align: top;\n",
       "    }\n",
       "\n",
       "    .dataframe thead th {\n",
       "        text-align: right;\n",
       "    }\n",
       "</style>\n",
       "<table border=\"1\" class=\"dataframe\">\n",
       "  <thead>\n",
       "    <tr style=\"text-align: right;\">\n",
       "      <th></th>\n",
       "      <th>description</th>\n",
       "      <th>bus_route_id2</th>\n",
       "      <th>station_code2</th>\n",
       "    </tr>\n",
       "  </thead>\n",
       "  <tbody>\n",
       "    <tr>\n",
       "      <th>0</th>\n",
       "      <td>9</td>\n",
       "      <td>625</td>\n",
       "      <td>322</td>\n",
       "    </tr>\n",
       "    <tr>\n",
       "      <th>1</th>\n",
       "      <td>9</td>\n",
       "      <td>625</td>\n",
       "      <td>335</td>\n",
       "    </tr>\n",
       "    <tr>\n",
       "      <th>2</th>\n",
       "      <td>9</td>\n",
       "      <td>625</td>\n",
       "      <td>408</td>\n",
       "    </tr>\n",
       "    <tr>\n",
       "      <th>3</th>\n",
       "      <td>9</td>\n",
       "      <td>625</td>\n",
       "      <td>1448</td>\n",
       "    </tr>\n",
       "    <tr>\n",
       "      <th>4</th>\n",
       "      <td>9</td>\n",
       "      <td>625</td>\n",
       "      <td>1510</td>\n",
       "    </tr>\n",
       "  </tbody>\n",
       "</table>\n",
       "</div>"
      ],
      "text/plain": [
       "   description  bus_route_id2  station_code2\n",
       "0            9            625            322\n",
       "1            9            625            335\n",
       "2            9            625            408\n",
       "3            9            625           1448\n",
       "4            9            625           1510"
      ]
     },
     "execution_count": 73,
     "metadata": {},
     "output_type": "execute_result"
    }
   ],
   "source": [
    "df[['description', 'bus_route_id2', 'station_code2']].head()"
   ]
  },
  {
   "cell_type": "markdown",
   "metadata": {
    "heading_collapsed": "true"
   },
   "source": [
    "### 3.3.4. 라벨 인코딩과 원핫 인코딩 변수"
   ]
  },
  {
   "cell_type": "markdown",
   "metadata": {},
   "source": [
    "#### 3.3.4.1. 라벨 인코딩 변수"
   ]
  },
  {
   "cell_type": "markdown",
   "metadata": {},
   "source": [
    "* in_out"
   ]
  },
  {
   "cell_type": "code",
   "execution_count": 74,
   "metadata": {
    "execution": {
     "iopub.execute_input": "2022-02-09T02:35:19.110657Z",
     "iopub.status.busy": "2022-02-09T02:35:19.110315Z",
     "iopub.status.idle": "2022-02-09T02:35:19.211117Z",
     "shell.execute_reply": "2022-02-09T02:35:19.210436Z",
     "shell.execute_reply.started": "2022-02-09T02:35:19.110632Z"
    }
   },
   "outputs": [],
   "source": [
    "df['in_out'] = df['in_out'].map({'시내':0, '시외':1})"
   ]
  },
  {
   "cell_type": "code",
   "execution_count": 75,
   "metadata": {
    "execution": {
     "iopub.execute_input": "2022-02-09T02:35:19.212714Z",
     "iopub.status.busy": "2022-02-09T02:35:19.212410Z",
     "iopub.status.idle": "2022-02-09T02:35:19.255663Z",
     "shell.execute_reply": "2022-02-09T02:35:19.254991Z",
     "shell.execute_reply.started": "2022-02-09T02:35:19.212680Z"
    }
   },
   "outputs": [
    {
     "data": {
      "text/html": [
       "<div>\n",
       "<style scoped>\n",
       "    .dataframe tbody tr th:only-of-type {\n",
       "        vertical-align: middle;\n",
       "    }\n",
       "\n",
       "    .dataframe tbody tr th {\n",
       "        vertical-align: top;\n",
       "    }\n",
       "\n",
       "    .dataframe thead th {\n",
       "        text-align: right;\n",
       "    }\n",
       "</style>\n",
       "<table border=\"1\" class=\"dataframe\">\n",
       "  <thead>\n",
       "    <tr style=\"text-align: right;\">\n",
       "      <th></th>\n",
       "      <th>in_out</th>\n",
       "    </tr>\n",
       "  </thead>\n",
       "  <tbody>\n",
       "    <tr>\n",
       "      <th>0</th>\n",
       "      <td>1</td>\n",
       "    </tr>\n",
       "    <tr>\n",
       "      <th>1</th>\n",
       "      <td>1</td>\n",
       "    </tr>\n",
       "    <tr>\n",
       "      <th>2</th>\n",
       "      <td>1</td>\n",
       "    </tr>\n",
       "    <tr>\n",
       "      <th>3</th>\n",
       "      <td>0</td>\n",
       "    </tr>\n",
       "    <tr>\n",
       "      <th>4</th>\n",
       "      <td>0</td>\n",
       "    </tr>\n",
       "  </tbody>\n",
       "</table>\n",
       "</div>"
      ],
      "text/plain": [
       "   in_out\n",
       "0       1\n",
       "1       1\n",
       "2       1\n",
       "3       0\n",
       "4       0"
      ]
     },
     "execution_count": 75,
     "metadata": {},
     "output_type": "execute_result"
    }
   ],
   "source": [
    "df[['in_out']].head()"
   ]
  },
  {
   "cell_type": "markdown",
   "metadata": {},
   "source": [
    "* 주말 및 주중"
   ]
  },
  {
   "cell_type": "code",
   "execution_count": 76,
   "metadata": {
    "execution": {
     "iopub.execute_input": "2022-02-09T02:35:19.258221Z",
     "iopub.status.busy": "2022-02-09T02:35:19.257785Z",
     "iopub.status.idle": "2022-02-09T02:35:19.452854Z",
     "shell.execute_reply": "2022-02-09T02:35:19.451796Z",
     "shell.execute_reply.started": "2022-02-09T02:35:19.258191Z"
    }
   },
   "outputs": [],
   "source": [
    "def is_weekend(x):\n",
    "    if x == 5: # 토요일\n",
    "        return 1\n",
    "    elif x == 6: # 일요일\n",
    "        return 1\n",
    "    else:\n",
    "        return 0\n",
    "# 'weekday’변수에 is_weekend함수를 적용하여 'weekend' 변수 생성      \n",
    "df['weekend'] = df['weekday'].apply(is_weekend)"
   ]
  },
  {
   "cell_type": "code",
   "execution_count": 77,
   "metadata": {
    "execution": {
     "iopub.execute_input": "2022-02-09T02:35:19.454420Z",
     "iopub.status.busy": "2022-02-09T02:35:19.454091Z",
     "iopub.status.idle": "2022-02-09T02:35:19.503569Z",
     "shell.execute_reply": "2022-02-09T02:35:19.502398Z",
     "shell.execute_reply.started": "2022-02-09T02:35:19.454391Z"
    }
   },
   "outputs": [
    {
     "data": {
      "text/html": [
       "<div>\n",
       "<style scoped>\n",
       "    .dataframe tbody tr th:only-of-type {\n",
       "        vertical-align: middle;\n",
       "    }\n",
       "\n",
       "    .dataframe tbody tr th {\n",
       "        vertical-align: top;\n",
       "    }\n",
       "\n",
       "    .dataframe thead th {\n",
       "        text-align: right;\n",
       "    }\n",
       "</style>\n",
       "<table border=\"1\" class=\"dataframe\">\n",
       "  <thead>\n",
       "    <tr style=\"text-align: right;\">\n",
       "      <th></th>\n",
       "      <th>weekend</th>\n",
       "    </tr>\n",
       "  </thead>\n",
       "  <tbody>\n",
       "    <tr>\n",
       "      <th>0</th>\n",
       "      <td>1</td>\n",
       "    </tr>\n",
       "    <tr>\n",
       "      <th>1</th>\n",
       "      <td>1</td>\n",
       "    </tr>\n",
       "    <tr>\n",
       "      <th>2</th>\n",
       "      <td>1</td>\n",
       "    </tr>\n",
       "    <tr>\n",
       "      <th>3</th>\n",
       "      <td>1</td>\n",
       "    </tr>\n",
       "    <tr>\n",
       "      <th>4</th>\n",
       "      <td>1</td>\n",
       "    </tr>\n",
       "  </tbody>\n",
       "</table>\n",
       "</div>"
      ],
      "text/plain": [
       "   weekend\n",
       "0        1\n",
       "1        1\n",
       "2        1\n",
       "3        1\n",
       "4        1"
      ]
     },
     "execution_count": 77,
     "metadata": {},
     "output_type": "execute_result"
    }
   ],
   "source": [
    "df[['weekend']].head()"
   ]
  },
  {
   "cell_type": "markdown",
   "metadata": {},
   "source": [
    "* 시, 동"
   ]
  },
  {
   "cell_type": "code",
   "execution_count": 78,
   "metadata": {
    "execution": {
     "iopub.execute_input": "2022-02-09T02:35:19.505438Z",
     "iopub.status.busy": "2022-02-09T02:35:19.505096Z",
     "iopub.status.idle": "2022-02-09T02:35:19.837212Z",
     "shell.execute_reply": "2022-02-09T02:35:19.836468Z",
     "shell.execute_reply.started": "2022-02-09T02:35:19.505417Z"
    }
   },
   "outputs": [],
   "source": [
    "labelencoder = LabelEncoder()\n",
    "\n",
    "# 라벨 인코딩 할 변수 선택\n",
    "df_encode = df[['si', 'dong']]\n",
    "# fit_transform을 통해 라벨 인코딩 \n",
    "df_encoded = df_encode.apply(labelencoder.fit_transform)\n",
    "\n",
    "df['si']=df_encoded['si']\n",
    "df['dong']=df_encoded['dong']"
   ]
  },
  {
   "cell_type": "code",
   "execution_count": 79,
   "metadata": {
    "execution": {
     "iopub.execute_input": "2022-02-09T02:35:19.838835Z",
     "iopub.status.busy": "2022-02-09T02:35:19.838388Z",
     "iopub.status.idle": "2022-02-09T02:35:19.890836Z",
     "shell.execute_reply": "2022-02-09T02:35:19.889892Z",
     "shell.execute_reply.started": "2022-02-09T02:35:19.838797Z"
    }
   },
   "outputs": [
    {
     "data": {
      "text/html": [
       "<div>\n",
       "<style scoped>\n",
       "    .dataframe tbody tr th:only-of-type {\n",
       "        vertical-align: middle;\n",
       "    }\n",
       "\n",
       "    .dataframe tbody tr th {\n",
       "        vertical-align: top;\n",
       "    }\n",
       "\n",
       "    .dataframe thead th {\n",
       "        text-align: right;\n",
       "    }\n",
       "</style>\n",
       "<table border=\"1\" class=\"dataframe\">\n",
       "  <thead>\n",
       "    <tr style=\"text-align: right;\">\n",
       "      <th></th>\n",
       "      <th>si</th>\n",
       "      <th>dong</th>\n",
       "    </tr>\n",
       "  </thead>\n",
       "  <tbody>\n",
       "    <tr>\n",
       "      <th>0</th>\n",
       "      <td>1</td>\n",
       "      <td>36</td>\n",
       "    </tr>\n",
       "    <tr>\n",
       "      <th>1</th>\n",
       "      <td>1</td>\n",
       "      <td>36</td>\n",
       "    </tr>\n",
       "    <tr>\n",
       "      <th>2</th>\n",
       "      <td>1</td>\n",
       "      <td>5</td>\n",
       "    </tr>\n",
       "    <tr>\n",
       "      <th>3</th>\n",
       "      <td>1</td>\n",
       "      <td>47</td>\n",
       "    </tr>\n",
       "    <tr>\n",
       "      <th>4</th>\n",
       "      <td>0</td>\n",
       "      <td>26</td>\n",
       "    </tr>\n",
       "  </tbody>\n",
       "</table>\n",
       "</div>"
      ],
      "text/plain": [
       "   si  dong\n",
       "0   1    36\n",
       "1   1    36\n",
       "2   1     5\n",
       "3   1    47\n",
       "4   0    26"
      ]
     },
     "execution_count": 79,
     "metadata": {},
     "output_type": "execute_result"
    }
   ],
   "source": [
    "df[['si', 'dong']].head()"
   ]
  },
  {
   "cell_type": "markdown",
   "metadata": {},
   "source": [
    "#### 3.3.4.2. 원핫 인코딩 변수"
   ]
  },
  {
   "cell_type": "code",
   "execution_count": 80,
   "metadata": {
    "execution": {
     "iopub.execute_input": "2022-02-09T02:35:19.892419Z",
     "iopub.status.busy": "2022-02-09T02:35:19.892065Z",
     "iopub.status.idle": "2022-02-09T02:35:20.409031Z",
     "shell.execute_reply": "2022-02-09T02:35:20.408361Z",
     "shell.execute_reply.started": "2022-02-09T02:35:19.892392Z"
    }
   },
   "outputs": [],
   "source": [
    "df = pd.get_dummies(df, columns=['weekday', 'dist_name'])"
   ]
  },
  {
   "cell_type": "code",
   "execution_count": 81,
   "metadata": {
    "execution": {
     "iopub.execute_input": "2022-02-09T02:35:20.410625Z",
     "iopub.status.busy": "2022-02-09T02:35:20.410320Z",
     "iopub.status.idle": "2022-02-09T02:35:20.756381Z",
     "shell.execute_reply": "2022-02-09T02:35:20.755803Z",
     "shell.execute_reply.started": "2022-02-09T02:35:20.410601Z"
    }
   },
   "outputs": [
    {
     "data": {
      "text/html": [
       "<div>\n",
       "<style scoped>\n",
       "    .dataframe tbody tr th:only-of-type {\n",
       "        vertical-align: middle;\n",
       "    }\n",
       "\n",
       "    .dataframe tbody tr th {\n",
       "        vertical-align: top;\n",
       "    }\n",
       "\n",
       "    .dataframe thead th {\n",
       "        text-align: right;\n",
       "    }\n",
       "</style>\n",
       "<table border=\"1\" class=\"dataframe\">\n",
       "  <thead>\n",
       "    <tr style=\"text-align: right;\">\n",
       "      <th></th>\n",
       "      <th>weekday_0</th>\n",
       "      <th>weekday_1</th>\n",
       "      <th>weekday_2</th>\n",
       "      <th>weekday_3</th>\n",
       "      <th>weekday_4</th>\n",
       "      <th>weekday_5</th>\n",
       "      <th>weekday_6</th>\n",
       "    </tr>\n",
       "  </thead>\n",
       "  <tbody>\n",
       "    <tr>\n",
       "      <th>0</th>\n",
       "      <td>0</td>\n",
       "      <td>0</td>\n",
       "      <td>0</td>\n",
       "      <td>0</td>\n",
       "      <td>0</td>\n",
       "      <td>0</td>\n",
       "      <td>1</td>\n",
       "    </tr>\n",
       "    <tr>\n",
       "      <th>1</th>\n",
       "      <td>0</td>\n",
       "      <td>0</td>\n",
       "      <td>0</td>\n",
       "      <td>0</td>\n",
       "      <td>0</td>\n",
       "      <td>0</td>\n",
       "      <td>1</td>\n",
       "    </tr>\n",
       "    <tr>\n",
       "      <th>2</th>\n",
       "      <td>0</td>\n",
       "      <td>0</td>\n",
       "      <td>0</td>\n",
       "      <td>0</td>\n",
       "      <td>0</td>\n",
       "      <td>0</td>\n",
       "      <td>1</td>\n",
       "    </tr>\n",
       "    <tr>\n",
       "      <th>3</th>\n",
       "      <td>0</td>\n",
       "      <td>0</td>\n",
       "      <td>0</td>\n",
       "      <td>0</td>\n",
       "      <td>0</td>\n",
       "      <td>0</td>\n",
       "      <td>1</td>\n",
       "    </tr>\n",
       "    <tr>\n",
       "      <th>4</th>\n",
       "      <td>0</td>\n",
       "      <td>0</td>\n",
       "      <td>0</td>\n",
       "      <td>0</td>\n",
       "      <td>0</td>\n",
       "      <td>0</td>\n",
       "      <td>1</td>\n",
       "    </tr>\n",
       "  </tbody>\n",
       "</table>\n",
       "</div>"
      ],
      "text/plain": [
       "   weekday_0  weekday_1  weekday_2  weekday_3  weekday_4  weekday_5  weekday_6\n",
       "0          0          0          0          0          0          0          1\n",
       "1          0          0          0          0          0          0          1\n",
       "2          0          0          0          0          0          0          1\n",
       "3          0          0          0          0          0          0          1\n",
       "4          0          0          0          0          0          0          1"
      ]
     },
     "execution_count": 81,
     "metadata": {},
     "output_type": "execute_result"
    }
   ],
   "source": [
    "df[['weekday_0', 'weekday_1', 'weekday_2', 'weekday_3',\n",
    "    'weekday_4', 'weekday_5', 'weekday_6']].head()"
   ]
  },
  {
   "cell_type": "code",
   "execution_count": 82,
   "metadata": {
    "execution": {
     "iopub.execute_input": "2022-02-09T02:35:20.758283Z",
     "iopub.status.busy": "2022-02-09T02:35:20.757895Z",
     "iopub.status.idle": "2022-02-09T02:35:20.770600Z",
     "shell.execute_reply": "2022-02-09T02:35:20.769685Z",
     "shell.execute_reply.started": "2022-02-09T02:35:20.758260Z"
    }
   },
   "outputs": [
    {
     "data": {
      "text/html": [
       "<div>\n",
       "<style scoped>\n",
       "    .dataframe tbody tr th:only-of-type {\n",
       "        vertical-align: middle;\n",
       "    }\n",
       "\n",
       "    .dataframe tbody tr th {\n",
       "        vertical-align: top;\n",
       "    }\n",
       "\n",
       "    .dataframe thead th {\n",
       "        text-align: right;\n",
       "    }\n",
       "</style>\n",
       "<table border=\"1\" class=\"dataframe\">\n",
       "  <thead>\n",
       "    <tr style=\"text-align: right;\">\n",
       "      <th></th>\n",
       "      <th>dist_name_gosan</th>\n",
       "      <th>dist_name_jeju</th>\n",
       "      <th>dist_name_po</th>\n",
       "      <th>dist_name_seongsan</th>\n",
       "    </tr>\n",
       "  </thead>\n",
       "  <tbody>\n",
       "    <tr>\n",
       "      <th>0</th>\n",
       "      <td>0</td>\n",
       "      <td>1</td>\n",
       "      <td>0</td>\n",
       "      <td>0</td>\n",
       "    </tr>\n",
       "    <tr>\n",
       "      <th>1</th>\n",
       "      <td>0</td>\n",
       "      <td>1</td>\n",
       "      <td>0</td>\n",
       "      <td>0</td>\n",
       "    </tr>\n",
       "    <tr>\n",
       "      <th>2</th>\n",
       "      <td>0</td>\n",
       "      <td>1</td>\n",
       "      <td>0</td>\n",
       "      <td>0</td>\n",
       "    </tr>\n",
       "    <tr>\n",
       "      <th>3</th>\n",
       "      <td>0</td>\n",
       "      <td>1</td>\n",
       "      <td>0</td>\n",
       "      <td>0</td>\n",
       "    </tr>\n",
       "    <tr>\n",
       "      <th>4</th>\n",
       "      <td>0</td>\n",
       "      <td>0</td>\n",
       "      <td>1</td>\n",
       "      <td>0</td>\n",
       "    </tr>\n",
       "  </tbody>\n",
       "</table>\n",
       "</div>"
      ],
      "text/plain": [
       "   dist_name_gosan  dist_name_jeju  dist_name_po  dist_name_seongsan\n",
       "0                0               1             0                   0\n",
       "1                0               1             0                   0\n",
       "2                0               1             0                   0\n",
       "3                0               1             0                   0\n",
       "4                0               0             1                   0"
      ]
     },
     "execution_count": 82,
     "metadata": {},
     "output_type": "execute_result"
    }
   ],
   "source": [
    "df[['dist_name_gosan','dist_name_jeju','dist_name_po','dist_name_seongsan']].head()"
   ]
  },
  {
   "cell_type": "code",
   "execution_count": 83,
   "metadata": {
    "execution": {
     "iopub.execute_input": "2022-02-09T02:35:20.772324Z",
     "iopub.status.busy": "2022-02-09T02:35:20.771960Z",
     "iopub.status.idle": "2022-02-09T02:35:20.779310Z",
     "shell.execute_reply": "2022-02-09T02:35:20.777852Z",
     "shell.execute_reply.started": "2022-02-09T02:35:20.772229Z"
    }
   },
   "outputs": [
    {
     "data": {
      "text/plain": [
       "(643593, 131)"
      ]
     },
     "execution_count": 83,
     "metadata": {},
     "output_type": "execute_result"
    }
   ],
   "source": [
    "df.shape"
   ]
  },
  {
   "cell_type": "markdown",
   "metadata": {},
   "source": [
    "## 3.4. 모델 구축과 검증"
   ]
  },
  {
   "cell_type": "code",
   "execution_count": 84,
   "metadata": {
    "execution": {
     "iopub.execute_input": "2022-02-09T02:35:20.782932Z",
     "iopub.status.busy": "2022-02-09T02:35:20.782626Z",
     "iopub.status.idle": "2022-02-09T02:35:21.058160Z",
     "shell.execute_reply": "2022-02-09T02:35:21.057403Z",
     "shell.execute_reply.started": "2022-02-09T02:35:20.782909Z"
    }
   },
   "outputs": [],
   "source": [
    "# 문자 형태의 변수 추출\n",
    "object_column = list(df.columns[df.dtypes == 'object'])\n",
    "# 문자형 변수 제거\n",
    "df = df.drop(object_column, axis='columns')\n",
    "\n",
    "# datetime 형태의 변수 추출\n",
    "datetime_column = list(df.columns[df.dtypes == 'datetime64[ns]'])\n",
    "# datetime형 변수 제거\n",
    "df = df.drop(datetime_column, axis='columns')"
   ]
  },
  {
   "cell_type": "code",
   "execution_count": 85,
   "metadata": {
    "execution": {
     "iopub.execute_input": "2022-02-09T02:35:21.059785Z",
     "iopub.status.busy": "2022-02-09T02:35:21.059316Z",
     "iopub.status.idle": "2022-02-09T02:35:21.064631Z",
     "shell.execute_reply": "2022-02-09T02:35:21.063634Z",
     "shell.execute_reply.started": "2022-02-09T02:35:21.059760Z"
    }
   },
   "outputs": [
    {
     "name": "stdout",
     "output_type": "stream",
     "text": [
      "['bus_route_id', 'station_name', 'route_station', 'location', 'date']\n"
     ]
    }
   ],
   "source": [
    "print(object_column + datetime_column)"
   ]
  },
  {
   "cell_type": "code",
   "execution_count": 86,
   "metadata": {
    "execution": {
     "iopub.execute_input": "2022-02-09T02:35:21.066304Z",
     "iopub.status.busy": "2022-02-09T02:35:21.065874Z",
     "iopub.status.idle": "2022-02-09T02:35:21.072893Z",
     "shell.execute_reply": "2022-02-09T02:35:21.072079Z",
     "shell.execute_reply.started": "2022-02-09T02:35:21.066277Z"
    }
   },
   "outputs": [
    {
     "data": {
      "text/plain": [
       "(643593, 126)"
      ]
     },
     "execution_count": 86,
     "metadata": {},
     "output_type": "execute_result"
    }
   ],
   "source": [
    "df.shape"
   ]
  },
  {
   "cell_type": "code",
   "execution_count": 87,
   "metadata": {
    "execution": {
     "iopub.execute_input": "2022-02-09T02:35:21.075780Z",
     "iopub.status.busy": "2022-02-09T02:35:21.075409Z",
     "iopub.status.idle": "2022-02-09T02:35:21.634941Z",
     "shell.execute_reply": "2022-02-09T02:35:21.634308Z",
     "shell.execute_reply.started": "2022-02-09T02:35:21.075756Z"
    }
   },
   "outputs": [],
   "source": [
    "# 학습 데이터\n",
    "X_train = df.query(\"cue==0\").drop(['cue', '18~20_ride'], axis='columns')\n",
    "# 테스트 데이터\n",
    "X_test = df.query(\"cue==1\").drop(['cue', '18~20_ride'], axis='columns')\n",
    "# 타깃 변수\n",
    "y_train = df.query(\"cue==0\")['18~20_ride']"
   ]
  },
  {
   "cell_type": "code",
   "execution_count": 88,
   "metadata": {
    "execution": {
     "iopub.execute_input": "2022-02-09T02:35:21.636705Z",
     "iopub.status.busy": "2022-02-09T02:35:21.636377Z",
     "iopub.status.idle": "2022-02-09T02:35:21.647511Z",
     "shell.execute_reply": "2022-02-09T02:35:21.645513Z",
     "shell.execute_reply.started": "2022-02-09T02:35:21.636679Z"
    }
   },
   "outputs": [
    {
     "data": {
      "text/plain": [
       "(415423, 124)"
      ]
     },
     "metadata": {},
     "output_type": "display_data"
    },
    {
     "data": {
      "text/plain": [
       "(228170, 124)"
      ]
     },
     "metadata": {},
     "output_type": "display_data"
    },
    {
     "data": {
      "text/plain": [
       "(415423,)"
      ]
     },
     "metadata": {},
     "output_type": "display_data"
    }
   ],
   "source": [
    "display(X_train.shape)\n",
    "display(X_test.shape)\n",
    "display(y_train.shape)"
   ]
  },
  {
   "cell_type": "markdown",
   "metadata": {},
   "source": [
    "### 3.4.1. 머신러닝 모델"
   ]
  },
  {
   "cell_type": "markdown",
   "metadata": {
    "heading_collapsed": "true"
   },
   "source": [
    "#### 3.4.1.1. 배깅 방식 앙상블 모델"
   ]
  },
  {
   "cell_type": "markdown",
   "metadata": {},
   "source": [
    "* 랜덤포레스트"
   ]
  },
  {
   "cell_type": "code",
   "execution_count": 89,
   "metadata": {
    "execution": {
     "iopub.execute_input": "2022-02-09T02:35:21.649617Z",
     "iopub.status.busy": "2022-02-09T02:35:21.649300Z",
     "iopub.status.idle": "2022-02-09T03:02:34.632730Z",
     "shell.execute_reply": "2022-02-09T03:02:34.631830Z",
     "shell.execute_reply.started": "2022-02-09T02:35:21.649594Z"
    }
   },
   "outputs": [
    {
     "name": "stdout",
     "output_type": "stream",
     "text": [
      "CPU times: user 27min 5s, sys: 3.22 s, total: 27min 9s\n",
      "Wall time: 27min 12s\n"
     ]
    }
   ],
   "source": [
    "%%time\n",
    "\n",
    "from sklearn.ensemble import RandomForestRegressor\n",
    "\n",
    "rf_model = RandomForestRegressor(random_state=1217)\n",
    "# 모델 학습\n",
    "rf_model.fit(X_train, y_train)\n",
    "# 예측값 생성\n",
    "y_test = rf_model.predict(X_test)"
   ]
  },
  {
   "cell_type": "markdown",
   "metadata": {
    "heading_collapsed": "true"
   },
   "source": [
    "#### 3.4.1.2. 부스팅 방식 앙상블 모델"
   ]
  },
  {
   "cell_type": "markdown",
   "metadata": {},
   "source": [
    "* XGBoost"
   ]
  },
  {
   "cell_type": "code",
   "execution_count": 90,
   "metadata": {
    "execution": {
     "iopub.execute_input": "2022-02-09T03:02:34.634209Z",
     "iopub.status.busy": "2022-02-09T03:02:34.633857Z",
     "iopub.status.idle": "2022-02-09T03:03:52.648549Z",
     "shell.execute_reply": "2022-02-09T03:03:52.647870Z",
     "shell.execute_reply.started": "2022-02-09T03:02:34.634176Z"
    }
   },
   "outputs": [
    {
     "name": "stdout",
     "output_type": "stream",
     "text": [
      "CPU times: user 4min 59s, sys: 831 ms, total: 5min\n",
      "Wall time: 1min 18s\n"
     ]
    }
   ],
   "source": [
    "%%time\n",
    "\n",
    "from xgboost import XGBRegressor\n",
    "\n",
    "xgb_model = XGBRegressor(random_state=1217)\n",
    "# 모델 학습\n",
    "xgb_model.fit(X_train, y_train)\n",
    "# 예측값 생성\n",
    "y_test = xgb_model.predict(X_test)"
   ]
  },
  {
   "cell_type": "markdown",
   "metadata": {},
   "source": [
    "* LightGBM"
   ]
  },
  {
   "cell_type": "code",
   "execution_count": 91,
   "metadata": {
    "execution": {
     "iopub.execute_input": "2022-02-09T03:03:52.650070Z",
     "iopub.status.busy": "2022-02-09T03:03:52.649800Z",
     "iopub.status.idle": "2022-02-09T03:03:57.032514Z",
     "shell.execute_reply": "2022-02-09T03:03:57.031731Z",
     "shell.execute_reply.started": "2022-02-09T03:03:52.650044Z"
    }
   },
   "outputs": [
    {
     "name": "stdout",
     "output_type": "stream",
     "text": [
      "CPU times: user 15.1 s, sys: 183 ms, total: 15.3 s\n",
      "Wall time: 4.38 s\n"
     ]
    }
   ],
   "source": [
    "%%time\n",
    "\n",
    "import lightgbm as lgb\n",
    "\n",
    "lgbm = lgb.LGBMRegressor(random_state=1217)\n",
    "# 모델 학습\n",
    "lgbm.fit(X_train, y_train)\n",
    "# 예측값 생성\n",
    "y_test = lgbm.predict(X_test)"
   ]
  },
  {
   "cell_type": "markdown",
   "metadata": {},
   "source": [
    "### 3.4.2. 모델 검증"
   ]
  },
  {
   "cell_type": "markdown",
   "metadata": {
    "heading_collapsed": "true"
   },
   "source": [
    "#### 3.4.2.1. 교차검증"
   ]
  },
  {
   "cell_type": "code",
   "execution_count": 92,
   "metadata": {
    "execution": {
     "iopub.execute_input": "2022-02-09T03:03:57.034417Z",
     "iopub.status.busy": "2022-02-09T03:03:57.034000Z",
     "iopub.status.idle": "2022-02-09T03:50:09.298268Z",
     "shell.execute_reply": "2022-02-09T03:50:09.297182Z",
     "shell.execute_reply.started": "2022-02-09T03:03:57.034372Z"
    }
   },
   "outputs": [
    {
     "name": "stdout",
     "output_type": "stream",
     "text": [
      "cross_val_score \n",
      "[2.38101306 2.47822485 2.53693106 2.35324465 2.23566721]\n",
      "cross_val_score.mean \n",
      "2.399\n",
      "CPU times: user 458 ms, sys: 334 ms, total: 791 ms\n",
      "Wall time: 46min 12s\n"
     ]
    }
   ],
   "source": [
    "%%time\n",
    "\n",
    "from sklearn.model_selection import cross_val_score\n",
    "\n",
    "rf_model = RandomForestRegressor(random_state=1217)\n",
    "\n",
    "# cv=5인 교차 검증\n",
    "scores = cross_val_score(rf_model, X_train, y_train, cv=5, n_jobs=-1,\n",
    "                         scoring = 'neg_mean_squared_error')\n",
    "\n",
    "# 성능 확인\n",
    "print('cross_val_score \\n{}'.format(np.sqrt(-scores)))\n",
    "print('cross_val_score.mean \\n{:.3f}'.format(np.sqrt(-scores.mean())))"
   ]
  },
  {
   "cell_type": "markdown",
   "metadata": {
    "heading_collapsed": "true"
   },
   "source": [
    "### 3.4.3. 변수 선택"
   ]
  },
  {
   "cell_type": "markdown",
   "metadata": {
    "heading_collapsed": "true"
   },
   "source": [
    "#### 3.4.3.1. 최종 데이터 구축"
   ]
  },
  {
   "cell_type": "code",
   "execution_count": 93,
   "metadata": {
    "execution": {
     "iopub.execute_input": "2022-02-09T03:50:09.301048Z",
     "iopub.status.busy": "2022-02-09T03:50:09.300607Z",
     "iopub.status.idle": "2022-02-09T03:50:09.308356Z",
     "shell.execute_reply": "2022-02-09T03:50:09.307536Z",
     "shell.execute_reply.started": "2022-02-09T03:50:09.301013Z"
    }
   },
   "outputs": [],
   "source": [
    "input_var1=['in_out', 'latitude', 'longitude','6~7_ride', '7~8_ride', '8~9_ride',\n",
    "            '9~10_ride', '10~11_ride', '11~12_ride', '6~7_takeoff', '7~8_takeoff',\n",
    "            '8~9_takeoff', '9~10_takeoff', '10~11_takeoff', '11~12_takeoff',\n",
    "            'weekday_0', 'weekday_1', 'weekday_2', 'weekday_3', 'weekday_4',\n",
    "            'weekday_5', 'weekday_6', 'dis_jejusi', 'dis_jejusicheong1',\n",
    "            'dis_jejuairport', 'dis_hallahosp', 'dis_rotary','dis_jejucenterhigh',\n",
    "            'dis_jejumarket', 'dis_centerroad', 'dis_jejusclass', 'dis_fiveway',\n",
    "            'dis_law', 'weekend', 'holiday', 'ride_sum', 'takeoff_sum',\n",
    "            '1820_r_mean', '1820_s_mean', '1820_w_mean', '1820_rs_mean',\n",
    "            'station_code2', 'bus_route_id2', 'rain', 'description', 'feels_like',\n",
    "            '6~7_ride_sum', '7~8_ride_sum', '8~9_ride_sum', '9~10_ride_sum',\n",
    "            '10~11_ride_sum', 'in_out_mean', 'weekdaymean', 'adult', 'kids', 'teen',\n",
    "            'elder', 'adult_prop', 'kids_prop', 'teen_prop', 'elder_prop',\n",
    "            'mean_job_majorc', 'mean_job_smallc', 'mean_job_public', \n",
    "            'mean_job_profession', 'mean_job_self', 'mean_vehicle_own_rat',\n",
    "            'mean_avg_income', 'mean_med_income', 'mean_avg_spend',\n",
    "            'rate_job_majorc', 'rate_job_smallc', 'rate_job_public',\n",
    "            'rate_job_profession', 'rate_job_self', 'rate_vehicle_own_rat', \n",
    "            'rate_avg_income', 'rate_med_income', 'rate_avg_spend',\n",
    "            'sum_job_majorc', 'sum_job_smallc', 'sum_job_public',\n",
    "            'sum_job_profession', 'sum_job_self', 'sum_vehicle_own_rat',\n",
    "            'sum_avg_income', 'sum_med_income', 'sum_avg_spend', '68a', '810a',\n",
    "            '1012a', '68b', '810b', '1012b', '69a', '912a', '69b', '912b',\n",
    "            'dis_jeju', 'dis_gosan', 'dis_seongsan', 'dis_po', 'dist_name_gosan',\n",
    "            'dist_name_jeju', 'dist_name_po', 'dist_name_seongsan', 'temperature',\n",
    "            'rainfall', 'school', 'transfer', 'si', 'dong', 'rainy_day']"
   ]
  },
  {
   "cell_type": "code",
   "execution_count": 94,
   "metadata": {
    "execution": {
     "iopub.execute_input": "2022-02-09T03:50:09.309945Z",
     "iopub.status.busy": "2022-02-09T03:50:09.309509Z",
     "iopub.status.idle": "2022-02-09T03:50:09.316242Z",
     "shell.execute_reply": "2022-02-09T03:50:09.315377Z",
     "shell.execute_reply.started": "2022-02-09T03:50:09.309922Z"
    }
   },
   "outputs": [],
   "source": [
    "input_var2=['in_out', 'latitude', 'longitude','6~7_ride', '7~8_ride', '8~9_ride',\n",
    "            '9~10_ride', '10~11_ride', '11~12_ride', '6~7_takeoff', '7~8_takeoff',\n",
    "            '8~9_takeoff', '9~10_takeoff', '10~11_takeoff', '11~12_takeoff',\n",
    "            'weekday_0', 'weekday_1', 'weekday_2', 'weekday_3', 'weekday_4', \n",
    "            'weekday_5', 'weekday_6', 'dis_jejusi', 'dis_jejusicheong1',\n",
    "            'dis_jejuairport','dis_hallahosp', 'dis_rotary','dis_jejucenterhigh',\n",
    "            'dis_jejumarket', 'dis_centerroad', 'dis_jejusclass', 'dis_fiveway',\n",
    "            'dis_law', 'weekend', 'holiday', 'ride_sum', 'takeoff_sum',\n",
    "            '1820_rs_mean', '1820_r_mean', '1820_s_mean', 'station_code2',\n",
    "            'bus_route_id2', 'rain', 'description', 'feels_like', '1820_w_mean',\n",
    "            'in_out_mean', 'weekdaymean', 'adult', 'kids', 'teen', 'elder',\n",
    "            'adult_prop', 'kids_prop', 'teen_prop', 'elder_prop', 'mean_job_majorc',\n",
    "            'mean_job_smallc', 'mean_job_public', 'mean_job_profession',\n",
    "            'mean_job_self', 'mean_vehicle_own_rat', '68a', '810a', '1012a', '68b',\n",
    "            '810b', '1012b', 'dis_jeju', 'dis_gosan', 'dis_seongsan', 'dis_po',\n",
    "            'dist_name_gosan','dist_name_jeju', 'dist_name_po', 'dist_name_seongsan',\n",
    "            'temperature', 'rainfall']"
   ]
  },
  {
   "cell_type": "code",
   "execution_count": 95,
   "metadata": {
    "execution": {
     "iopub.execute_input": "2022-02-09T03:50:09.317778Z",
     "iopub.status.busy": "2022-02-09T03:50:09.317498Z",
     "iopub.status.idle": "2022-02-09T03:50:09.332162Z",
     "shell.execute_reply": "2022-02-09T03:50:09.323462Z",
     "shell.execute_reply.started": "2022-02-09T03:50:09.317756Z"
    }
   },
   "outputs": [],
   "source": [
    "input_var3=['in_out', 'latitude', 'longitude','6~7_ride', '7~8_ride', '8~9_ride',\n",
    "            '9~10_ride', '10~11_ride', '11~12_ride', '6~7_takeoff', '7~8_takeoff',\n",
    "            '8~9_takeoff', '9~10_takeoff', '10~11_takeoff', '11~12_takeoff',\n",
    "            'weekday_0', 'weekday_1', 'weekday_2', 'weekday_3', 'weekday_4',\n",
    "            'weekday_5', 'weekday_6', 'dis_jejusi', 'dis_jejuairport', 'ride_sum',\n",
    "            'takeoff_sum','1820_r_mean','1820_r_sum', '1820_s_mean', '1820_s_sum', \n",
    "            '1820_w_mean', '1820_w_sum', '1820_rs_mean', '1820_rs_sum',\n",
    "            'bus_route_id2', '6~7_ride_sum', '7~8_ride_sum', '8~9_ride_sum',\n",
    "            '9~10_ride_sum', '10~11_ride_sum', 'sum_avg_spend', '68a', '810a', 'si',\n",
    "            'dong']"
   ]
  },
  {
   "cell_type": "markdown",
   "metadata": {},
   "source": [
    "### 3.4.4. 하이퍼파라미터 튜닝"
   ]
  },
  {
   "cell_type": "markdown",
   "metadata": {},
   "source": [
    "#### 3.4.4.1. 그리드 서치"
   ]
  },
  {
   "cell_type": "code",
   "execution_count": 96,
   "metadata": {
    "execution": {
     "iopub.execute_input": "2022-02-09T03:50:09.352246Z",
     "iopub.status.busy": "2022-02-09T03:50:09.351125Z",
     "iopub.status.idle": "2022-02-09T05:36:43.824396Z",
     "shell.execute_reply": "2022-02-09T05:36:43.823252Z",
     "shell.execute_reply.started": "2022-02-09T03:50:09.352201Z"
    }
   },
   "outputs": [
    {
     "name": "stdout",
     "output_type": "stream",
     "text": [
      "최적 하이퍼파라미터:  {'max_features': 8, 'min_samples_leaf': 1, 'n_estimators': 500}\n",
      "최적 하이퍼파라미터의 성능(RMSE): 0.8697\n",
      "CPU times: user 10min 17s, sys: 5.48 s, total: 10min 23s\n",
      "Wall time: 1h 46min 34s\n"
     ]
    }
   ],
   "source": [
    "%%time\n",
    "\n",
    "from sklearn.model_selection import GridSearchCV\n",
    "\n",
    "rf = RandomForestRegressor(random_state=1217)\n",
    "\n",
    "# 탐색할 하이퍼파라미터 값 지정\n",
    "params = {'n_estimators' : [200, 300, 500],\n",
    "          'max_features': [5, 6, 8],\n",
    "          'min_samples_leaf' : [1, 3, 5]}\n",
    "\n",
    "# GridSearchCV를 이용해 최적의 하이퍼파라미터 탐색\n",
    "grid_cv = GridSearchCV(rf, param_grid = params, cv = 3, n_jobs=-1)\n",
    "grid_cv.fit(X_train[input_var1], y_train)\n",
    "\n",
    "# 최적의 하이퍼파라미터 값과 성능 출력\n",
    "print('최적 하이퍼파라미터: ', grid_cv.best_params_)\n",
    "print('최적 하이퍼파라미터의 성능(RMSE): {:.4f}'.format(\n",
    "    np.sqrt(grid_cv.best_score_)))"
   ]
  },
  {
   "cell_type": "markdown",
   "metadata": {},
   "source": [
    "#### 3.4.4.2. 랜덤 서치"
   ]
  },
  {
   "cell_type": "code",
   "execution_count": 97,
   "metadata": {
    "execution": {
     "iopub.execute_input": "2022-02-09T05:36:43.826462Z",
     "iopub.status.busy": "2022-02-09T05:36:43.826125Z",
     "iopub.status.idle": "2022-02-09T06:14:27.338545Z",
     "shell.execute_reply": "2022-02-09T06:14:27.337484Z",
     "shell.execute_reply.started": "2022-02-09T05:36:43.826436Z"
    }
   },
   "outputs": [
    {
     "name": "stdout",
     "output_type": "stream",
     "text": [
      "최적 하이퍼파라미터:  {'max_features': 7, 'min_samples_leaf': 1, 'n_estimators': 225}\n",
      "최적 하이퍼파라미터의 성능(RMSE): 0.8685\n",
      "CPU times: user 4min 2s, sys: 2.43 s, total: 4min 4s\n",
      "Wall time: 37min 43s\n"
     ]
    }
   ],
   "source": [
    "%%time\n",
    "\n",
    "import scipy.stats as stats\n",
    "from sklearn.model_selection import RandomizedSearchCV\n",
    "\n",
    "rf = RandomForestRegressor(random_state=1217)\n",
    "\n",
    "# 탐색할 하이퍼파라미터 구간 지정\n",
    "params = {'n_estimators': stats.randint(200, 500),\n",
    "          'max_features': stats.randint(4, 8),\n",
    "          'min_samples_leaf': stats.randint(1, 5)}\n",
    "\n",
    "# RandomizedSearchCV를 이용해 최적의 하이퍼파라미터 탐색\n",
    "rand_cv = RandomizedSearchCV(rf, param_distributions = params, n_iter=10, \n",
    "                             cv = 3, random_state = 1217, n_jobs=-1)\n",
    "rand_cv.fit(X_train[input_var1], y_train)\n",
    "\n",
    "# 최적의 하이퍼파라미터 값과 성능 출력\n",
    "print('최적 하이퍼파라미터: ', rand_cv.best_params_)\n",
    "print('최적 하이퍼파라미터의 성능(RMSE): {:.4f}'.format(np.sqrt(rand_cv.best_score_)))"
   ]
  },
  {
   "cell_type": "markdown",
   "metadata": {},
   "source": [
    "### 3.4.5. 최종 모델 구축"
   ]
  },
  {
   "cell_type": "markdown",
   "metadata": {},
   "source": [
    "#### 3.4.5.2. 최종 모델 구축"
   ]
  },
  {
   "cell_type": "code",
   "execution_count": 100,
   "metadata": {
    "execution": {
     "iopub.execute_input": "2022-02-09T06:52:46.574577Z",
     "iopub.status.busy": "2022-02-09T06:52:46.574269Z",
     "iopub.status.idle": "2022-02-09T06:52:46.605663Z",
     "shell.execute_reply": "2022-02-09T06:52:46.604966Z",
     "shell.execute_reply.started": "2022-02-09T06:52:46.574527Z"
    }
   },
   "outputs": [],
   "source": [
    "import os\n",
    "# submission_sample 데이터 로드\n",
    "sub = pd.read_csv('./data/submission_sample.csv')"
   ]
  },
  {
   "cell_type": "code",
   "execution_count": 101,
   "metadata": {
    "execution": {
     "iopub.execute_input": "2022-02-09T06:52:47.376147Z",
     "iopub.status.busy": "2022-02-09T06:52:47.375845Z",
     "iopub.status.idle": "2022-02-09T06:52:47.380334Z",
     "shell.execute_reply": "2022-02-09T06:52:47.379543Z",
     "shell.execute_reply.started": "2022-02-09T06:52:47.376123Z"
    }
   },
   "outputs": [],
   "source": [
    "sub_dir = \"./data/submission/\" \n",
    "\n",
    "# submission 폴더가 없다면 submission 폴더를 생성\n",
    "if not os.path.isdir(sub_dir):\n",
    "    os.mkdir(sub_dir)\n",
    "\n",
    "# 작업 경로를 submission 폴더로 변경\n",
    "os.chdir(sub_dir)"
   ]
  },
  {
   "cell_type": "markdown",
   "metadata": {},
   "source": [
    "* 첫 번째 데이터로 만든 모델"
   ]
  },
  {
   "cell_type": "code",
   "execution_count": 102,
   "metadata": {
    "execution": {
     "iopub.execute_input": "2022-02-09T06:52:58.003545Z",
     "iopub.status.busy": "2022-02-09T06:52:58.003285Z",
     "iopub.status.idle": "2022-02-09T06:55:29.925592Z",
     "shell.execute_reply": "2022-02-09T06:55:29.924784Z",
     "shell.execute_reply.started": "2022-02-09T06:52:58.003524Z"
    }
   },
   "outputs": [
    {
     "name": "stdout",
     "output_type": "stream",
     "text": [
      "[LightGBM] [Warning] Unknown parameter: Metric\n",
      "[LightGBM] [Warning] boosting is set=dart, boosting_type=gbdt will be ignored. Current value: boosting=dart\n",
      "CPU times: user 9min 16s, sys: 3.13 s, total: 9min 19s\n",
      "Wall time: 2min 31s\n"
     ]
    },
    {
     "data": {
      "text/plain": [
       "1.7246246613354825"
      ]
     },
     "execution_count": 102,
     "metadata": {},
     "output_type": "execute_result"
    }
   ],
   "source": [
    "%%time\n",
    "\n",
    "# 첫 번째 모델 정의\n",
    "model1 = lgb.LGBMRegressor(random_state=1217, num_iterations = 1000, learning_rate = 0.05,\n",
    "                           boosting = 'dart', Metric = 'regression_l2', n_jobs=-1)\n",
    "# 모델 학습\n",
    "model1.fit(X_train[input_var1], y_train)\n",
    "# 예측값 생성\n",
    "pred1 = model1.predict(X_train[input_var1])\n",
    "# 성능 확인\n",
    "from sklearn.metrics import mean_squared_error\n",
    "np.sqrt(mean_squared_error(y_train, pred1))"
   ]
  },
  {
   "cell_type": "code",
   "execution_count": 103,
   "metadata": {
    "execution": {
     "iopub.execute_input": "2022-02-09T06:55:29.927442Z",
     "iopub.status.busy": "2022-02-09T06:55:29.927143Z",
     "iopub.status.idle": "2022-02-09T06:55:33.851254Z",
     "shell.execute_reply": "2022-02-09T06:55:33.850385Z",
     "shell.execute_reply.started": "2022-02-09T06:55:29.927419Z"
    }
   },
   "outputs": [],
   "source": [
    "# X_test 데이터에 대한 예측값 생성\n",
    "y_pred1 = model1.predict(X_test[input_var1])\n",
    "sub['18~20_ride'] = y_pred1\n",
    "# 'submission' 폴더에 csv 파일 저장\n",
    "sub.to_csv('model1_lgbm.csv', index = False)"
   ]
  },
  {
   "cell_type": "code",
   "execution_count": 104,
   "metadata": {
    "execution": {
     "iopub.execute_input": "2022-02-09T06:55:33.854500Z",
     "iopub.status.busy": "2022-02-09T06:55:33.853570Z",
     "iopub.status.idle": "2022-02-09T06:59:23.465073Z",
     "shell.execute_reply": "2022-02-09T06:59:23.464010Z",
     "shell.execute_reply.started": "2022-02-09T06:55:33.854452Z"
    }
   },
   "outputs": [
    {
     "name": "stdout",
     "output_type": "stream",
     "text": [
      "CPU times: user 14min, sys: 9.35 s, total: 14min 10s\n",
      "Wall time: 3min 49s\n"
     ]
    },
    {
     "data": {
      "text/plain": [
       "0.818244148742815"
      ]
     },
     "execution_count": 104,
     "metadata": {},
     "output_type": "execute_result"
    }
   ],
   "source": [
    "%%time\n",
    "\n",
    "# 두 번째 모델 정의\n",
    "model2 = RandomForestRegressor(random_state=1217, max_features=8, \n",
    "                               min_samples_leaf=1, n_estimators=500, n_jobs=-1)\n",
    "# 모델 학습\n",
    "model2.fit(X_train[input_var1], y_train)\n",
    "# 예측값 생성\n",
    "pred2 = model2.predict(X_train[input_var1])\n",
    "# 성능 확인\n",
    "np.sqrt(mean_squared_error(y_train, pred2))"
   ]
  },
  {
   "cell_type": "code",
   "execution_count": 105,
   "metadata": {
    "execution": {
     "iopub.execute_input": "2022-02-09T06:59:23.467447Z",
     "iopub.status.busy": "2022-02-09T06:59:23.467090Z",
     "iopub.status.idle": "2022-02-09T06:59:34.307116Z",
     "shell.execute_reply": "2022-02-09T06:59:34.306254Z",
     "shell.execute_reply.started": "2022-02-09T06:59:23.467421Z"
    }
   },
   "outputs": [],
   "source": [
    "# X_test 데이터에 대한 예측값 생성\n",
    "y_pred2 = model2.predict(X_test[input_var1])\n",
    "sub['18~20_ride'] = y_pred2\n",
    "# 'submission' 폴더에 CSV 파일 저장\n",
    "sub.to_csv('model2_rf.csv', index = False)"
   ]
  },
  {
   "cell_type": "code",
   "execution_count": 106,
   "metadata": {
    "execution": {
     "iopub.execute_input": "2022-02-09T06:59:34.308816Z",
     "iopub.status.busy": "2022-02-09T06:59:34.308548Z",
     "iopub.status.idle": "2022-02-09T07:01:18.658083Z",
     "shell.execute_reply": "2022-02-09T07:01:18.657050Z",
     "shell.execute_reply.started": "2022-02-09T06:59:34.308795Z"
    }
   },
   "outputs": [
    {
     "name": "stdout",
     "output_type": "stream",
     "text": [
      "CPU times: user 6min 27s, sys: 4.53 s, total: 6min 32s\n",
      "Wall time: 1min 44s\n"
     ]
    },
    {
     "data": {
      "text/plain": [
       "1.5308804873716944"
      ]
     },
     "execution_count": 106,
     "metadata": {},
     "output_type": "execute_result"
    }
   ],
   "source": [
    "%%time\n",
    "\n",
    "# 세 번째 모델 정의\n",
    "model3 = RandomForestRegressor(random_state=1217, max_features=3, \n",
    "                               min_samples_leaf=2, n_estimators=500, n_jobs=-1)\n",
    "# 모델 학습\n",
    "model3.fit(X_train[input_var1], y_train)\n",
    "# 예측값 생성\n",
    "pred3 = model3.predict(X_train[input_var1])\n",
    "# 성능 확인\n",
    "np.sqrt(mean_squared_error(y_train, pred3))"
   ]
  },
  {
   "cell_type": "code",
   "execution_count": 107,
   "metadata": {
    "execution": {
     "iopub.execute_input": "2022-02-09T07:01:18.659743Z",
     "iopub.status.busy": "2022-02-09T07:01:18.659391Z",
     "iopub.status.idle": "2022-02-09T07:01:28.612339Z",
     "shell.execute_reply": "2022-02-09T07:01:28.611662Z",
     "shell.execute_reply.started": "2022-02-09T07:01:18.659720Z"
    }
   },
   "outputs": [],
   "source": [
    "# X_test 데이터에 대한 예측값 생성\n",
    "y_pred3 = model3.predict(X_test[input_var1])\n",
    "sub['18~20_ride'] = y_pred3\n",
    "# 'submission' 폴더에 csv 파일 저장\n",
    "sub.to_csv('model3_rf.csv', index = False)"
   ]
  },
  {
   "cell_type": "markdown",
   "metadata": {},
   "source": [
    "* 두 번째 데이터로 만든 모델"
   ]
  },
  {
   "cell_type": "code",
   "execution_count": 108,
   "metadata": {
    "execution": {
     "iopub.execute_input": "2022-02-09T07:01:28.613913Z",
     "iopub.status.busy": "2022-02-09T07:01:28.613595Z",
     "iopub.status.idle": "2022-02-09T07:03:27.323219Z",
     "shell.execute_reply": "2022-02-09T07:03:27.322193Z",
     "shell.execute_reply.started": "2022-02-09T07:01:28.613889Z"
    }
   },
   "outputs": [
    {
     "name": "stdout",
     "output_type": "stream",
     "text": [
      "CPU times: user 7min 18s, sys: 4.78 s, total: 7min 23s\n",
      "Wall time: 1min 58s\n"
     ]
    },
    {
     "data": {
      "text/plain": [
       "1.4449648489168587"
      ]
     },
     "execution_count": 108,
     "metadata": {},
     "output_type": "execute_result"
    }
   ],
   "source": [
    "%%time\n",
    "\n",
    "# 네 번째 모델 정의\n",
    "model4 = RandomForestRegressor(random_state=1217, max_features=4, \n",
    "                               min_samples_leaf=2, n_estimators=500, n_jobs=-1)\n",
    "# 모델 학습\n",
    "model4.fit(X_train[input_var2], y_train)\n",
    "# 예측값 생성\n",
    "pred4 = model4.predict(X_train[input_var2])\n",
    "# 성능 확인\n",
    "np.sqrt(mean_squared_error(y_train, pred4))"
   ]
  },
  {
   "cell_type": "code",
   "execution_count": 109,
   "metadata": {
    "execution": {
     "iopub.execute_input": "2022-02-09T07:03:27.327431Z",
     "iopub.status.busy": "2022-02-09T07:03:27.327121Z",
     "iopub.status.idle": "2022-02-09T07:03:36.069656Z",
     "shell.execute_reply": "2022-02-09T07:03:36.068842Z",
     "shell.execute_reply.started": "2022-02-09T07:03:27.327404Z"
    }
   },
   "outputs": [],
   "source": [
    "# X_test 데이터에 대한 예측값 생성\n",
    "y_pred4 = model4.predict(X_test[input_var2])\n",
    "sub['18~20_ride'] = y_pred4\n",
    "# 'submission' 폴더에 csv 파일 저장\n",
    "sub.to_csv('model4_rf.csv', index = False)"
   ]
  },
  {
   "cell_type": "markdown",
   "metadata": {},
   "source": [
    "* 세 번째 데이터로 만든 모델"
   ]
  },
  {
   "cell_type": "code",
   "execution_count": 110,
   "metadata": {
    "execution": {
     "iopub.execute_input": "2022-02-09T07:03:36.071509Z",
     "iopub.status.busy": "2022-02-09T07:03:36.071135Z",
     "iopub.status.idle": "2022-02-09T07:05:03.104204Z",
     "shell.execute_reply": "2022-02-09T07:05:03.103108Z",
     "shell.execute_reply.started": "2022-02-09T07:03:36.071486Z"
    }
   },
   "outputs": [
    {
     "name": "stdout",
     "output_type": "stream",
     "text": [
      "CPU times: user 5min 21s, sys: 1.79 s, total: 5min 23s\n",
      "Wall time: 1min 27s\n"
     ]
    },
    {
     "data": {
      "text/plain": [
       "1.5517365312224696"
      ]
     },
     "execution_count": 110,
     "metadata": {},
     "output_type": "execute_result"
    }
   ],
   "source": [
    "%%time\n",
    "\n",
    "# 다섯 번째 모델 정의\n",
    "model5 = RandomForestRegressor(random_state=1217, max_features=7, \n",
    "                               min_samples_leaf=4, n_estimators=300, n_jobs=-1)\n",
    "# 모델 학습\n",
    "model5.fit(X_train[input_var3], y_train)\n",
    "# 예측값 생성\n",
    "pred5 = model5.predict(X_train[input_var3])\n",
    "# 성능 확인\n",
    "np.sqrt(mean_squared_error(y_train, pred5))"
   ]
  },
  {
   "cell_type": "code",
   "execution_count": 111,
   "metadata": {
    "execution": {
     "iopub.execute_input": "2022-02-09T07:05:03.106254Z",
     "iopub.status.busy": "2022-02-09T07:05:03.105825Z",
     "iopub.status.idle": "2022-02-09T07:05:07.064169Z",
     "shell.execute_reply": "2022-02-09T07:05:07.063295Z",
     "shell.execute_reply.started": "2022-02-09T07:05:03.106228Z"
    }
   },
   "outputs": [],
   "source": [
    "# X_test 데이터에 대한 예측값 생성\n",
    "y_pred5 = model5.predict(X_test[input_var3])\n",
    "sub['18~20_ride'] = y_pred5\n",
    "# 'submission' 폴더에 csv 파일 저장\n",
    "sub.to_csv('model5_rf.csv', index = False)"
   ]
  },
  {
   "cell_type": "code",
   "execution_count": null,
   "metadata": {},
   "outputs": [],
   "source": []
  }
 ],
 "metadata": {
  "kernelspec": {
   "display_name": "Python 3",
   "language": "python",
   "name": "python3"
  },
  "language_info": {
   "codemirror_mode": {
    "name": "ipython",
    "version": 3
   },
   "file_extension": ".py",
   "mimetype": "text/x-python",
   "name": "python",
   "nbconvert_exporter": "python",
   "pygments_lexer": "ipython3",
   "version": "3.7.3"
  },
  "toc": {
   "base_numbering": 1,
   "nav_menu": {},
   "number_sections": true,
   "sideBar": true,
   "skip_h1_title": false,
   "title_cell": "Table of Contents",
   "title_sidebar": "Contents",
   "toc_cell": false,
   "toc_position": {},
   "toc_section_display": true,
   "toc_window_display": false
  }
 },
 "nbformat": 4,
 "nbformat_minor": 4
}
