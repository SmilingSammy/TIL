{
 "cells": [
  {
   "cell_type": "markdown",
   "metadata": {},
   "source": [
    "- 순차데이터: 샘플에 순서가 있는 데이터 (ex. 시계열 데이터)"
   ]
  },
  {
   "cell_type": "code",
   "execution_count": 4,
   "metadata": {
    "execution": {
     "iopub.execute_input": "2021-12-16T04:56:26.623885Z",
     "iopub.status.busy": "2021-12-16T04:56:26.623613Z",
     "iopub.status.idle": "2021-12-16T04:56:31.069961Z",
     "shell.execute_reply": "2021-12-16T04:56:31.068982Z",
     "shell.execute_reply.started": "2021-12-16T04:56:26.623863Z"
    }
   },
   "outputs": [
    {
     "name": "stderr",
     "output_type": "stream",
     "text": [
      "<string>:6: VisibleDeprecationWarning: Creating an ndarray from ragged nested sequences (which is a list-or-tuple of lists-or-tuples-or ndarrays with different lengths or shapes) is deprecated. If you meant to do this, you must specify 'dtype=object' when creating the ndarray\n",
      "/Library/Frameworks/Python.framework/Versions/3.7/lib/python3.7/site-packages/tensorflow/python/keras/datasets/imdb.py:159: VisibleDeprecationWarning: Creating an ndarray from ragged nested sequences (which is a list-or-tuple of lists-or-tuples-or ndarrays with different lengths or shapes) is deprecated. If you meant to do this, you must specify 'dtype=object' when creating the ndarray\n",
      "  x_train, y_train = np.array(xs[:idx]), np.array(labels[:idx])\n",
      "/Library/Frameworks/Python.framework/Versions/3.7/lib/python3.7/site-packages/tensorflow/python/keras/datasets/imdb.py:160: VisibleDeprecationWarning: Creating an ndarray from ragged nested sequences (which is a list-or-tuple of lists-or-tuples-or ndarrays with different lengths or shapes) is deprecated. If you meant to do this, you must specify 'dtype=object' when creating the ndarray\n",
      "  x_test, y_test = np.array(xs[idx:]), np.array(labels[idx:])\n"
     ]
    }
   ],
   "source": [
    "import numpy as np\n",
    "from tensorflow.keras.datasets import imdb\n",
    "\n",
    "(x_train_all, y_train_all), (x_test, y_test) = imdb.load_data(skip_top=20, num_words=100)"
   ]
  },
  {
   "cell_type": "code",
   "execution_count": 4,
   "metadata": {
    "execution": {
     "iopub.execute_input": "2021-12-16T03:45:02.248303Z",
     "iopub.status.busy": "2021-12-16T03:45:02.248019Z",
     "iopub.status.idle": "2021-12-16T03:45:02.252487Z",
     "shell.execute_reply": "2021-12-16T03:45:02.251595Z",
     "shell.execute_reply.started": "2021-12-16T03:45:02.248282Z"
    }
   },
   "outputs": [
    {
     "name": "stdout",
     "output_type": "stream",
     "text": [
      "[2, 2, 22, 2, 43, 2, 2, 2, 2, 65, 2, 2, 66, 2, 2, 2, 36, 2, 2, 25, 2, 43, 2, 2, 50, 2, 2, 2, 35, 2, 2, 2, 2, 2, 2, 2, 2, 2, 2, 2, 39, 2, 2, 2, 2, 2, 2, 38, 2, 2, 2, 2, 50, 2, 2, 2, 2, 2, 2, 22, 2, 2, 2, 2, 2, 22, 71, 87, 2, 2, 43, 2, 38, 76, 2, 2, 2, 2, 22, 2, 2, 2, 2, 2, 2, 2, 2, 2, 62, 2, 2, 2, 2, 2, 2, 2, 2, 2, 2, 2, 2, 66, 2, 33, 2, 2, 2, 2, 38, 2, 2, 25, 2, 51, 36, 2, 48, 25, 2, 33, 2, 22, 2, 2, 28, 77, 52, 2, 2, 2, 2, 82, 2, 2, 2, 2, 2, 2, 2, 2, 2, 2, 2, 2, 2, 2, 36, 71, 43, 2, 2, 26, 2, 2, 46, 2, 2, 2, 2, 2, 2, 88, 2, 2, 2, 2, 98, 32, 2, 56, 26, 2, 2, 2, 2, 2, 2, 2, 22, 21, 2, 2, 26, 2, 2, 2, 30, 2, 2, 51, 36, 28, 2, 92, 25, 2, 2, 2, 65, 2, 38, 2, 88, 2, 2, 2, 2, 2, 2, 2, 2, 32, 2, 2, 2, 2, 2, 32]\n"
     ]
    }
   ],
   "source": [
    "print(x_train_all[0])"
   ]
  },
  {
   "cell_type": "code",
   "execution_count": 5,
   "metadata": {
    "execution": {
     "iopub.execute_input": "2021-12-16T03:45:08.169757Z",
     "iopub.status.busy": "2021-12-16T03:45:08.169480Z",
     "iopub.status.idle": "2021-12-16T03:45:08.400521Z",
     "shell.execute_reply": "2021-12-16T03:45:08.399339Z",
     "shell.execute_reply.started": "2021-12-16T03:45:08.169734Z"
    }
   },
   "outputs": [
    {
     "name": "stdout",
     "output_type": "stream",
     "text": [
      "[22, 43, 65, 66, 36, 25, 43, 50, 35, 39, 38, 50, 22, 22, 71, 87, 43, 38, 76, 22, 62, 66, 33, 38, 25, 51, 36, 48, 25, 33, 22, 28, 77, 52, 82, 36, 71, 43, 26, 46, 88, 98, 32, 56, 26, 22, 21, 26, 30, 51, 36, 28, 92, 25, 65, 38, 88, 32, 32]\n"
     ]
    }
   ],
   "source": [
    "for i in range(len(x_train_all)):\n",
    "    x_train_all[i] = [w for w in x_train_all[i] if w > 2]\n",
    "\n",
    "print(x_train_all[0])"
   ]
  },
  {
   "cell_type": "code",
   "execution_count": 6,
   "metadata": {
    "execution": {
     "iopub.execute_input": "2021-12-16T03:45:21.982752Z",
     "iopub.status.busy": "2021-12-16T03:45:21.982449Z",
     "iopub.status.idle": "2021-12-16T03:45:22.058541Z",
     "shell.execute_reply": "2021-12-16T03:45:22.057649Z",
     "shell.execute_reply.started": "2021-12-16T03:45:21.982727Z"
    }
   },
   "outputs": [
    {
     "data": {
      "text/plain": [
       "17"
      ]
     },
     "execution_count": 6,
     "metadata": {},
     "output_type": "execute_result"
    }
   ],
   "source": [
    "word_to_index = imdb.get_word_index()\n",
    "word_to_index['movie']"
   ]
  },
  {
   "cell_type": "code",
   "execution_count": 7,
   "metadata": {
    "execution": {
     "iopub.execute_input": "2021-12-16T03:45:36.797710Z",
     "iopub.status.busy": "2021-12-16T03:45:36.797459Z",
     "iopub.status.idle": "2021-12-16T03:45:36.859632Z",
     "shell.execute_reply": "2021-12-16T03:45:36.857195Z",
     "shell.execute_reply.started": "2021-12-16T03:45:36.797689Z"
    }
   },
   "outputs": [
    {
     "name": "stdout",
     "output_type": "stream",
     "text": [
      "film just story really they you just there an from so there film film were great just so much film would really at so you what they if you at film have been good also they were just are out because them all up are film but are be what they have don't you story so because all all "
     ]
    }
   ],
   "source": [
    "index_to_word = {word_to_index[k]: k for k in word_to_index}\n",
    "\n",
    "for w in x_train_all[0]:\n",
    "    print(index_to_word[w - 3], end=' ')\n"
   ]
  },
  {
   "cell_type": "code",
   "execution_count": 5,
   "metadata": {
    "execution": {
     "iopub.execute_input": "2021-12-16T04:56:33.423979Z",
     "iopub.status.busy": "2021-12-16T04:56:33.423674Z",
     "iopub.status.idle": "2021-12-16T04:56:33.429898Z",
     "shell.execute_reply": "2021-12-16T04:56:33.429057Z",
     "shell.execute_reply.started": "2021-12-16T04:56:33.423954Z"
    }
   },
   "outputs": [],
   "source": [
    "np.random.seed(42)\n",
    "random_index = np.random.permutation(25000)\n",
    "\n",
    "x_train = x_train_all[random_index[:20000]]\n",
    "y_train = y_train_all[random_index[:20000]]\n",
    "x_val = x_train_all[random_index[20000:]]\n",
    "y_val = y_train_all[random_index[20000:]]\n"
   ]
  },
  {
   "cell_type": "code",
   "execution_count": 6,
   "metadata": {
    "execution": {
     "iopub.execute_input": "2021-12-16T04:56:35.260217Z",
     "iopub.status.busy": "2021-12-16T04:56:35.259932Z",
     "iopub.status.idle": "2021-12-16T04:56:35.546340Z",
     "shell.execute_reply": "2021-12-16T04:56:35.545677Z",
     "shell.execute_reply.started": "2021-12-16T04:56:35.260183Z"
    }
   },
   "outputs": [],
   "source": [
    "from tensorflow.keras.preprocessing import sequence\n",
    "\n",
    "maxlen=100\n",
    "x_train_seq = sequence.pad_sequences(x_train, maxlen=maxlen)\n",
    "x_val_seq = sequence.pad_sequences(x_val, maxlen=maxlen)"
   ]
  },
  {
   "cell_type": "code",
   "execution_count": 11,
   "metadata": {
    "execution": {
     "iopub.execute_input": "2021-12-16T04:26:30.702263Z",
     "iopub.status.busy": "2021-12-16T04:26:30.702013Z",
     "iopub.status.idle": "2021-12-16T04:26:30.706798Z",
     "shell.execute_reply": "2021-12-16T04:26:30.705833Z",
     "shell.execute_reply.started": "2021-12-16T04:26:30.702242Z"
    }
   },
   "outputs": [
    {
     "name": "stdout",
     "output_type": "stream",
     "text": [
      "(20000, 100) (5000, 100)\n"
     ]
    }
   ],
   "source": [
    "print(x_train_seq.shape, x_val_seq.shape)\n"
   ]
  },
  {
   "cell_type": "code",
   "execution_count": 15,
   "metadata": {
    "execution": {
     "iopub.execute_input": "2021-12-16T04:26:48.089881Z",
     "iopub.status.busy": "2021-12-16T04:26:48.089570Z",
     "iopub.status.idle": "2021-12-16T04:26:48.094896Z",
     "shell.execute_reply": "2021-12-16T04:26:48.094008Z",
     "shell.execute_reply.started": "2021-12-16T04:26:48.089857Z"
    }
   },
   "outputs": [
    {
     "name": "stdout",
     "output_type": "stream",
     "text": [
      "[35, 40, 27, 28, 40, 22, 83, 31, 85, 45, 24, 23, 31, 70, 31, 76, 30, 98, 32, 22, 28, 51, 75, 56, 30, 33, 97, 53, 38, 46, 53, 74, 31, 35, 23, 34, 22, 58]\n"
     ]
    }
   ],
   "source": [
    "print(x_train[0])"
   ]
  },
  {
   "cell_type": "code",
   "execution_count": 16,
   "metadata": {
    "execution": {
     "iopub.execute_input": "2021-12-16T04:26:54.463508Z",
     "iopub.status.busy": "2021-12-16T04:26:54.463228Z",
     "iopub.status.idle": "2021-12-16T04:26:54.467913Z",
     "shell.execute_reply": "2021-12-16T04:26:54.467098Z",
     "shell.execute_reply.started": "2021-12-16T04:26:54.463475Z"
    }
   },
   "outputs": [
    {
     "name": "stdout",
     "output_type": "stream",
     "text": [
      "[ 0  0  0  0  0  0  0  0  0  0  0  0  0  0  0  0  0  0  0  0  0  0  0  0\n",
      "  0  0  0  0  0  0  0  0  0  0  0  0  0  0  0  0  0  0  0  0  0  0  0  0\n",
      "  0  0  0  0  0  0  0  0  0  0  0  0  0  0 35 40 27 28 40 22 83 31 85 45\n",
      " 24 23 31 70 31 76 30 98 32 22 28 51 75 56 30 33 97 53 38 46 53 74 31 35\n",
      " 23 34 22 58]\n"
     ]
    }
   ],
   "source": [
    "print(x_train_seq[0])"
   ]
  },
  {
   "cell_type": "code",
   "execution_count": 7,
   "metadata": {
    "execution": {
     "iopub.execute_input": "2021-12-16T04:56:36.457875Z",
     "iopub.status.busy": "2021-12-16T04:56:36.457609Z",
     "iopub.status.idle": "2021-12-16T04:56:36.823884Z",
     "shell.execute_reply": "2021-12-16T04:56:36.823028Z",
     "shell.execute_reply.started": "2021-12-16T04:56:36.457853Z"
    }
   },
   "outputs": [
    {
     "name": "stdout",
     "output_type": "stream",
     "text": [
      "(20000, 100, 100)\n",
      "800000000\n"
     ]
    }
   ],
   "source": [
    "from tensorflow.keras.utils import to_categorical\n",
    "\n",
    "x_train_onehot = to_categorical(x_train_seq)\n",
    "x_val_onehot = to_categorical(x_val_seq)\n",
    "\n",
    "print(x_train_onehot.shape)\n",
    "print(x_train_onehot.nbytes)"
   ]
  },
  {
   "cell_type": "code",
   "execution_count": 19,
   "metadata": {
    "execution": {
     "iopub.execute_input": "2021-12-16T04:28:54.276378Z",
     "iopub.status.busy": "2021-12-16T04:28:54.276127Z",
     "iopub.status.idle": "2021-12-16T04:28:54.299494Z",
     "shell.execute_reply": "2021-12-16T04:28:54.298743Z",
     "shell.execute_reply.started": "2021-12-16T04:28:54.276358Z"
    }
   },
   "outputs": [],
   "source": [
    "import tensorflow as tf\n",
    "\n",
    "class RecurrentNetwork:\n",
    "    \n",
    "    def __init__(self, n_cells=10, batch_size=32, learning_rate=0.1):\n",
    "        self.n_cells = n_cells     # 셀 개수\n",
    "        self.batch_size = batch_size     # 배치 크기\n",
    "        self.w1h = None            # 은닉 상태에 대한 가중치\n",
    "        self.w1x = None            # 입력에 대한 가중치\n",
    "        self.b1 = None             # 순환층의 절편\n",
    "        self.w2 = None             # 출력층의 가중치\n",
    "        self.b2 = None             # 출력층의 절편\n",
    "        self.h = None              # 순환층의 활성화 출력\n",
    "        self.losses = []           # 훈련 손실\n",
    "        self.val_losses = []       # 검증 손실\n",
    "        self.lr = learning_rate    # 학습률\n",
    "\n",
    "    def forpass(self, x):\n",
    "        self.h = [np.zeros((x.shape[0], self.n_cells))]   # 은닉 상태를 초기화합니다.\n",
    "        # 배치 차원과 타임 스텝 차원을 바꿉니다.\n",
    "        seq = np.swapaxes(x, 0, 1)\n",
    "        # 순환 층의 선형 식을 계산합니다.\n",
    "        for x in seq:\n",
    "            z1 = np.dot(x, self.w1x) + np.dot(self.h[-1], self.w1h) + self.b1\n",
    "            h = np.tanh(z1)                    # 활성화 함수를 적용합니다.\n",
    "            self.h.append(h)                   # 역전파를 위해 은닉 상태 저장합니다.\n",
    "            z2 = np.dot(h, self.w2) + self.b2  # 출력층의 선형 식을 계산합니다.\n",
    "        return z2\n",
    "\n",
    "    def backprop(self, x, err):\n",
    "        m = len(x)       # 샘플 개수\n",
    "        \n",
    "        # 출력층의 가중치와 절편에 대한 그래디언트를 계산합니다.\n",
    "        w2_grad = np.dot(self.h[-1].T, err) / m\n",
    "        b2_grad = np.sum(err) / m\n",
    "        # 배치 차원과 타임 스텝 차원을 바꿉니다.\n",
    "        seq = np.swapaxes(x, 0, 1)\n",
    "        \n",
    "        w1h_grad = w1x_grad = b1_grad = 0\n",
    "        # 셀 직전까지 그래디언트를 계산합니다.\n",
    "        err_to_cell = np.dot(err, self.w2.T) * (1 - self.h[-1] ** 2)\n",
    "        # 모든 타임 스텝을 거슬러가면서 그래디언트를 전파합니다.\n",
    "        for x, h in zip(seq[::-1][:10], self.h[:-1][::-1][:10]):\n",
    "            w1h_grad += np.dot(h.T, err_to_cell)\n",
    "            w1x_grad += np.dot(x.T, err_to_cell)\n",
    "            b1_grad += np.sum(err_to_cell, axis=0)\n",
    "            # 이전 타임 스텝의 셀 직전까지 그래디언트를 계산합니다.\n",
    "            err_to_cell = np.dot(err_to_cell, self.w1h) * (1 - h ** 2)\n",
    "        \n",
    "        w1h_grad /= m\n",
    "        w1x_grad /= m\n",
    "        b1_grad /= m\n",
    "    \n",
    "        return w1h_grad, w1x_grad, b1_grad, w2_grad, b2_grad\n",
    "    \n",
    "    def sigmoid(self, z):\n",
    "        z = np.clip(z, -100, None)            # 안전한 np.exp() 계산을 위해\n",
    "        a = 1 / (1 + np.exp(-z))              # 시그모이드 계산\n",
    "        return a\n",
    "    \n",
    "    def init_weights(self, n_features, n_classes):\n",
    "        orth_init = tf.initializers.Orthogonal()\n",
    "        glorot_init = tf.initializers.GlorotUniform()\n",
    "        \n",
    "        self.w1h = orth_init((self.n_cells, self.n_cells)).numpy() # (셀 개수, 셀 개수)\n",
    "        self.w1x = glorot_init((n_features, self.n_cells)).numpy() # (특성 개수, 셀 개수)\n",
    "        self.b1 = np.zeros(self.n_cells)                           # 은닉층의 크기\n",
    "        self.w2 = glorot_init((self.n_cells, n_classes)).numpy()   # (셀 개수, 클래스 개수)\n",
    "        self.b2 = np.zeros(n_classes)\n",
    "        \n",
    "    def fit(self, x, y, epochs=100, x_val=None, y_val=None):\n",
    "        y = y.reshape(-1, 1)\n",
    "        y_val = y_val.reshape(-1, 1)\n",
    "        np.random.seed(42)\n",
    "        self.init_weights(x.shape[2], y.shape[1])    # 은닉층과 출력층의 가중치를 초기화합니다.\n",
    "        # epochs만큼 반복합니다.\n",
    "        for i in range(epochs):\n",
    "            print('에포크', i, end=' ')\n",
    "            # 제너레이터 함수에서 반환한 미니배치를 순환합니다.\n",
    "            batch_losses = []\n",
    "            for x_batch, y_batch in self.gen_batch(x, y):\n",
    "                print('.', end='')\n",
    "                a = self.training(x_batch, y_batch)\n",
    "                # 안전한 로그 계산을 위해 클리핑합니다.\n",
    "                a = np.clip(a, 1e-10, 1-1e-10)\n",
    "                # 로그 손실과 규제 손실을 더하여 리스트에 추가합니다.\n",
    "                loss = np.mean(-(y_batch*np.log(a) + (1-y_batch)*np.log(1-a)))\n",
    "                batch_losses.append(loss)\n",
    "            print()\n",
    "            self.losses.append(np.mean(batch_losses))\n",
    "            # 검증 세트에 대한 손실을 계산합니다.\n",
    "            self.update_val_loss(x_val, y_val)\n",
    "\n",
    "    # 미니배치 제너레이터 함수\n",
    "    def gen_batch(self, x, y):\n",
    "        length = len(x)\n",
    "        bins = length // self.batch_size # 미니배치 횟수\n",
    "        if length % self.batch_size:\n",
    "            bins += 1                    # 나누어 떨어지지 않을 때\n",
    "        indexes = np.random.permutation(np.arange(len(x))) # 인덱스를 섞습니다.\n",
    "        x = x[indexes]\n",
    "        y = y[indexes]\n",
    "        for i in range(bins):\n",
    "            start = self.batch_size * i\n",
    "            end = self.batch_size * (i + 1)\n",
    "            yield x[start:end], y[start:end]   # batch_size만큼 슬라이싱하여 반환합니다.\n",
    "            \n",
    "    def training(self, x, y):\n",
    "        m = len(x)                # 샘플 개수를 저장합니다.\n",
    "        z = self.forpass(x)       # 정방향 계산을 수행합니다.\n",
    "        a = self.sigmoid(z)       # 활성화 함수를 적용합니다.\n",
    "        err = -(y - a)            # 오차를 계산합니다.\n",
    "        # 오차를 역전파하여 그래디언트를 계산합니다.\n",
    "        w1h_grad, w1x_grad, b1_grad, w2_grad, b2_grad = self.backprop(x, err)\n",
    "        # 셀의 가중치와 절편을 업데이트합니다.\n",
    "        self.w1h -= self.lr * w1h_grad\n",
    "        self.w1x -= self.lr * w1x_grad\n",
    "        self.b1 -= self.lr * b1_grad\n",
    "        # 출력층의 가중치와 절편을 업데이트합니다.\n",
    "        self.w2 -= self.lr * w2_grad\n",
    "        self.b2 -= self.lr * b2_grad\n",
    "        return a\n",
    "   \n",
    "    def predict(self, x):\n",
    "        z = self.forpass(x)          # 정방향 계산을 수행합니다.\n",
    "        return z > 0                 # 스텝 함수를 적용합니다.\n",
    "    \n",
    "    def score(self, x, y):\n",
    "        # 예측과 타깃 열 벡터를 비교하여 True의 비율을 반환합니다.\n",
    "        return np.mean(self.predict(x) == y.reshape(-1, 1))\n",
    "\n",
    "    def update_val_loss(self, x_val, y_val):\n",
    "        z = self.forpass(x_val)            # 정방향 계산을 수행합니다.\n",
    "        a = self.sigmoid(z)                # 활성화 함수를 적용합니다.\n",
    "        a = np.clip(a, 1e-10, 1-1e-10)     # 출력 값을 클리핑합니다.\n",
    "        val_loss = np.mean(-(y_val*np.log(a) + (1-y_val)*np.log(1-a)))\n",
    "        self.val_losses.append(val_loss)\n"
   ]
  },
  {
   "cell_type": "code",
   "execution_count": 20,
   "metadata": {
    "execution": {
     "iopub.execute_input": "2021-12-16T04:29:05.829434Z",
     "iopub.status.busy": "2021-12-16T04:29:05.829188Z",
     "iopub.status.idle": "2021-12-16T04:30:16.849536Z",
     "shell.execute_reply": "2021-12-16T04:30:16.848889Z",
     "shell.execute_reply.started": "2021-12-16T04:29:05.829413Z"
    }
   },
   "outputs": [
    {
     "name": "stdout",
     "output_type": "stream",
     "text": [
      "에포크 0 .................................................................................................................................................................................................................................................................................................................................................................................................................................................................................................................................................................................................................................................\n",
      "에포크 1 .................................................................................................................................................................................................................................................................................................................................................................................................................................................................................................................................................................................................................................................\n",
      "에포크 2 .................................................................................................................................................................................................................................................................................................................................................................................................................................................................................................................................................................................................................................................\n",
      "에포크 3 .................................................................................................................................................................................................................................................................................................................................................................................................................................................................................................................................................................................................................................................\n",
      "에포크 4 .................................................................................................................................................................................................................................................................................................................................................................................................................................................................................................................................................................................................................................................\n",
      "에포크 5 .................................................................................................................................................................................................................................................................................................................................................................................................................................................................................................................................................................................................................................................\n",
      "에포크 6 .................................................................................................................................................................................................................................................................................................................................................................................................................................................................................................................................................................................................................................................\n",
      "에포크 7 .................................................................................................................................................................................................................................................................................................................................................................................................................................................................................................................................................................................................................................................\n",
      "에포크 8 .................................................................................................................................................................................................................................................................................................................................................................................................................................................................................................................................................................................................................................................\n",
      "에포크 9 .................................................................................................................................................................................................................................................................................................................................................................................................................................................................................................................................................................................................................................................\n",
      "에포크 10 .................................................................................................................................................................................................................................................................................................................................................................................................................................................................................................................................................................................................................................................\n",
      "에포크 11 .................................................................................................................................................................................................................................................................................................................................................................................................................................................................................................................................................................................................................................................\n",
      "에포크 12 .................................................................................................................................................................................................................................................................................................................................................................................................................................................................................................................................................................................................................................................\n",
      "에포크 13 .................................................................................................................................................................................................................................................................................................................................................................................................................................................................................................................................................................................................................................................\n",
      "에포크 14 .................................................................................................................................................................................................................................................................................................................................................................................................................................................................................................................................................................................................................................................\n",
      "에포크 15 .................................................................................................................................................................................................................................................................................................................................................................................................................................................................................................................................................................................................................................................\n",
      "에포크 16 .................................................................................................................................................................................................................................................................................................................................................................................................................................................................................................................................................................................................................................................\n",
      "에포크 17 .................................................................................................................................................................................................................................................................................................................................................................................................................................................................................................................................................................................................................................................\n",
      "에포크 18 .................................................................................................................................................................................................................................................................................................................................................................................................................................................................................................................................................................................................................................................\n",
      "에포크 19 .................................................................................................................................................................................................................................................................................................................................................................................................................................................................................................................................................................................................................................................\n"
     ]
    }
   ],
   "source": [
    "rn = RecurrentNetwork(n_cells=32, batch_size=32, learning_rate=0.01)\n",
    "\n",
    "rn.fit(x_train_onehot, y_train, epochs=20, x_val=x_val_onehot, y_val=y_val)"
   ]
  },
  {
   "cell_type": "code",
   "execution_count": 21,
   "metadata": {
    "execution": {
     "iopub.execute_input": "2021-12-16T04:30:16.851379Z",
     "iopub.status.busy": "2021-12-16T04:30:16.850786Z",
     "iopub.status.idle": "2021-12-16T04:30:17.190850Z",
     "shell.execute_reply": "2021-12-16T04:30:17.189988Z",
     "shell.execute_reply.started": "2021-12-16T04:30:16.851014Z"
    }
   },
   "outputs": [
    {
     "data": {
      "image/png": "[encoded data removed]",
      "text/plain": [
       "<Figure size 432x288 with 1 Axes>"
      ]
     },
     "metadata": {
      "needs_background": "light"
     },
     "output_type": "display_data"
    }
   ],
   "source": [
    "import matplotlib.pyplot as plt\n",
    "plt.plot(rn.losses)\n",
    "plt.plot(rn.val_losses)\n",
    "plt.show()\n"
   ]
  },
  {
   "cell_type": "code",
   "execution_count": 22,
   "metadata": {
    "execution": {
     "iopub.execute_input": "2021-12-16T04:30:17.193185Z",
     "iopub.status.busy": "2021-12-16T04:30:17.192797Z",
     "iopub.status.idle": "2021-12-16T04:30:17.533658Z",
     "shell.execute_reply": "2021-12-16T04:30:17.532676Z",
     "shell.execute_reply.started": "2021-12-16T04:30:17.193159Z"
    }
   },
   "outputs": [
    {
     "data": {
      "text/plain": [
       "0.6728"
      ]
     },
     "execution_count": 22,
     "metadata": {},
     "output_type": "execute_result"
    }
   ],
   "source": [
    "rn.score(x_val_onehot, y_val)\n"
   ]
  },
  {
   "cell_type": "code",
   "execution_count": 1,
   "metadata": {
    "execution": {
     "iopub.execute_input": "2021-12-16T04:41:57.580567Z",
     "iopub.status.busy": "2021-12-16T04:41:57.580256Z",
     "iopub.status.idle": "2021-12-16T04:41:59.784348Z",
     "shell.execute_reply": "2021-12-16T04:41:59.783464Z",
     "shell.execute_reply.started": "2021-12-16T04:41:57.580511Z"
    }
   },
   "outputs": [
    {
     "name": "stdout",
     "output_type": "stream",
     "text": [
      "Model: \"sequential\"\n",
      "_________________________________________________________________\n",
      "Layer (type)                 Output Shape              Param #   \n",
      "=================================================================\n",
      "simple_rnn (SimpleRNN)       (None, 32)                4256      \n",
      "_________________________________________________________________\n",
      "dense (Dense)                (None, 1)                 33        \n",
      "=================================================================\n",
      "Total params: 4,289\n",
      "Trainable params: 4,289\n",
      "Non-trainable params: 0\n",
      "_________________________________________________________________\n"
     ]
    }
   ],
   "source": [
    "from tensorflow.keras.models import Sequential\n",
    "from tensorflow.keras.layers import Dense, SimpleRNN\n",
    "\n",
    "model = Sequential()\n",
    "\n",
    "model.add(SimpleRNN(32, input_shape=(100, 100)))\n",
    "model.add(Dense(1, activation='sigmoid'))\n",
    "\n",
    "model.summary()\n"
   ]
  },
  {
   "cell_type": "code",
   "execution_count": 8,
   "metadata": {
    "execution": {
     "iopub.execute_input": "2021-12-16T04:56:40.193371Z",
     "iopub.status.busy": "2021-12-16T04:56:40.193074Z",
     "iopub.status.idle": "2021-12-16T04:58:43.652443Z",
     "shell.execute_reply": "2021-12-16T04:58:43.651796Z",
     "shell.execute_reply.started": "2021-12-16T04:56:40.193335Z"
    }
   },
   "outputs": [
    {
     "name": "stdout",
     "output_type": "stream",
     "text": [
      "Epoch 1/20\n",
      "625/625 [==============================] - 7s 10ms/step - loss: 0.6989 - accuracy: 0.5011 - val_loss: 0.6937 - val_accuracy: 0.4984\n",
      "Epoch 2/20\n",
      "625/625 [==============================] - 6s 9ms/step - loss: 0.6936 - accuracy: 0.5056 - val_loss: 0.6923 - val_accuracy: 0.5196\n",
      "Epoch 3/20\n",
      "625/625 [==============================] - 6s 9ms/step - loss: 0.6929 - accuracy: 0.5143 - val_loss: 0.6917 - val_accuracy: 0.5142\n",
      "Epoch 4/20\n",
      "625/625 [==============================] - 6s 9ms/step - loss: 0.6917 - accuracy: 0.5152 - val_loss: 0.6914 - val_accuracy: 0.5132\n",
      "Epoch 5/20\n",
      "625/625 [==============================] - 6s 10ms/step - loss: 0.6915 - accuracy: 0.5172 - val_loss: 0.6909 - val_accuracy: 0.5336\n",
      "Epoch 6/20\n",
      "625/625 [==============================] - 6s 10ms/step - loss: 0.6907 - accuracy: 0.5273 - val_loss: 0.6921 - val_accuracy: 0.5176\n",
      "Epoch 7/20\n",
      "625/625 [==============================] - 6s 10ms/step - loss: 0.6908 - accuracy: 0.5231 - val_loss: 0.6900 - val_accuracy: 0.5390\n",
      "Epoch 8/20\n",
      "625/625 [==============================] - 6s 10ms/step - loss: 0.6897 - accuracy: 0.5348 - val_loss: 0.6896 - val_accuracy: 0.5408\n",
      "Epoch 9/20\n",
      "625/625 [==============================] - 6s 10ms/step - loss: 0.6902 - accuracy: 0.5314 - val_loss: 0.6889 - val_accuracy: 0.5452\n",
      "Epoch 10/20\n",
      "625/625 [==============================] - 6s 10ms/step - loss: 0.6889 - accuracy: 0.5363 - val_loss: 0.6883 - val_accuracy: 0.5462\n",
      "Epoch 11/20\n",
      "625/625 [==============================] - 6s 10ms/step - loss: 0.6871 - accuracy: 0.5424 - val_loss: 0.6876 - val_accuracy: 0.5462\n",
      "Epoch 12/20\n",
      "625/625 [==============================] - 6s 10ms/step - loss: 0.6877 - accuracy: 0.5375 - val_loss: 0.6876 - val_accuracy: 0.5452\n",
      "Epoch 13/20\n",
      "625/625 [==============================] - 6s 10ms/step - loss: 0.6871 - accuracy: 0.5422 - val_loss: 0.6905 - val_accuracy: 0.5272\n",
      "Epoch 14/20\n",
      "625/625 [==============================] - 6s 10ms/step - loss: 0.6842 - accuracy: 0.5554 - val_loss: 0.6851 - val_accuracy: 0.5576\n",
      "Epoch 15/20\n",
      "625/625 [==============================] - 6s 10ms/step - loss: 0.6844 - accuracy: 0.5550 - val_loss: 0.6842 - val_accuracy: 0.5572\n",
      "Epoch 16/20\n",
      "625/625 [==============================] - 6s 10ms/step - loss: 0.6841 - accuracy: 0.5546 - val_loss: 0.6826 - val_accuracy: 0.5578\n",
      "Epoch 17/20\n",
      "625/625 [==============================] - 6s 10ms/step - loss: 0.6808 - accuracy: 0.5555 - val_loss: 0.6934 - val_accuracy: 0.5254\n",
      "Epoch 18/20\n",
      "625/625 [==============================] - 6s 10ms/step - loss: 0.6804 - accuracy: 0.5617 - val_loss: 0.6879 - val_accuracy: 0.5422\n",
      "Epoch 19/20\n",
      "625/625 [==============================] - 7s 10ms/step - loss: 0.6797 - accuracy: 0.5649 - val_loss: 0.6773 - val_accuracy: 0.5776\n",
      "Epoch 20/20\n",
      "625/625 [==============================] - 6s 10ms/step - loss: 0.6781 - accuracy: 0.5713 - val_loss: 0.7159 - val_accuracy: 0.5136\n"
     ]
    }
   ],
   "source": [
    "model.compile(optimizer='sgd', loss='binary_crossentropy', metrics=['accuracy'])\n",
    "\n",
    "history = model.fit(x_train_onehot, y_train, epochs=20, batch_size=32, validation_data=(x_val_onehot, y_val))"
   ]
  },
  {
   "cell_type": "code",
   "execution_count": 10,
   "metadata": {
    "execution": {
     "iopub.execute_input": "2021-12-16T04:58:54.192565Z",
     "iopub.status.busy": "2021-12-16T04:58:54.192284Z",
     "iopub.status.idle": "2021-12-16T04:58:54.383527Z",
     "shell.execute_reply": "2021-12-16T04:58:54.382103Z",
     "shell.execute_reply.started": "2021-12-16T04:58:54.192542Z"
    }
   },
   "outputs": [],
   "source": [
    "import matplotlib.pyplot as plt"
   ]
  },
  {
   "cell_type": "code",
   "execution_count": 12,
   "metadata": {
    "execution": {
     "iopub.execute_input": "2021-12-16T04:58:57.607187Z",
     "iopub.status.busy": "2021-12-16T04:58:57.606908Z",
     "iopub.status.idle": "2021-12-16T04:58:57.765562Z",
     "shell.execute_reply": "2021-12-16T04:58:57.764684Z",
     "shell.execute_reply.started": "2021-12-16T04:58:57.607164Z"
    }
   },
   "outputs": [
    {
     "data": {
      "image/png": "[encoded data removed]",
      "text/plain": [
       "<Figure size 432x288 with 1 Axes>"
      ]
     },
     "metadata": {
      "needs_background": "light"
     },
     "output_type": "display_data"
    }
   ],
   "source": [
    "plt.plot(history.history['loss'])\n",
    "plt.plot(history.history['val_loss'])\n",
    "plt.show()"
   ]
  },
  {
   "cell_type": "code",
   "execution_count": 13,
   "metadata": {
    "execution": {
     "iopub.execute_input": "2021-12-16T04:58:58.949449Z",
     "iopub.status.busy": "2021-12-16T04:58:58.949134Z",
     "iopub.status.idle": "2021-12-16T04:58:59.106394Z",
     "shell.execute_reply": "2021-12-16T04:58:59.105185Z",
     "shell.execute_reply.started": "2021-12-16T04:58:58.949425Z"
    }
   },
   "outputs": [
    {
     "data": {
      "image/png": "[encoded data removed]",
      "text/plain": [
       "<Figure size 432x288 with 1 Axes>"
      ]
     },
     "metadata": {
      "needs_background": "light"
     },
     "output_type": "display_data"
    }
   ],
   "source": [
    "plt.plot(history.history['accuracy'])\n",
    "plt.plot(history.history['val_accuracy'])\n",
    "plt.show()"
   ]
  },
  {
   "cell_type": "code",
   "execution_count": 14,
   "metadata": {
    "execution": {
     "iopub.execute_input": "2021-12-16T04:58:59.284054Z",
     "iopub.status.busy": "2021-12-16T04:58:59.283342Z",
     "iopub.status.idle": "2021-12-16T04:59:00.000210Z",
     "shell.execute_reply": "2021-12-16T04:58:59.999601Z",
     "shell.execute_reply.started": "2021-12-16T04:58:59.284012Z"
    }
   },
   "outputs": [
    {
     "name": "stdout",
     "output_type": "stream",
     "text": [
      "0.5135999917984009\n"
     ]
    }
   ],
   "source": [
    "loss, accuracy = model.evaluate(x_val_onehot, y_val, verbose=0)\n",
    "print(accuracy)\n"
   ]
  },
  {
   "cell_type": "code",
   "execution_count": 15,
   "metadata": {
    "execution": {
     "iopub.execute_input": "2021-12-16T04:59:09.097093Z",
     "iopub.status.busy": "2021-12-16T04:59:09.096784Z",
     "iopub.status.idle": "2021-12-16T04:59:09.100371Z",
     "shell.execute_reply": "2021-12-16T04:59:09.099480Z",
     "shell.execute_reply.started": "2021-12-16T04:59:09.097044Z"
    }
   },
   "outputs": [],
   "source": [
    "from tensorflow.keras.layers import Embedding\n"
   ]
  },
  {
   "cell_type": "code",
   "execution_count": 16,
   "metadata": {
    "execution": {
     "iopub.execute_input": "2021-12-16T04:59:13.514866Z",
     "iopub.status.busy": "2021-12-16T04:59:13.514615Z",
     "iopub.status.idle": "2021-12-16T04:59:18.337900Z",
     "shell.execute_reply": "2021-12-16T04:59:18.337015Z",
     "shell.execute_reply.started": "2021-12-16T04:59:13.514844Z"
    }
   },
   "outputs": [
    {
     "name": "stderr",
     "output_type": "stream",
     "text": [
      "<string>:6: VisibleDeprecationWarning: Creating an ndarray from ragged nested sequences (which is a list-or-tuple of lists-or-tuples-or ndarrays with different lengths or shapes) is deprecated. If you meant to do this, you must specify 'dtype=object' when creating the ndarray\n",
      "/Library/Frameworks/Python.framework/Versions/3.7/lib/python3.7/site-packages/tensorflow/python/keras/datasets/imdb.py:159: VisibleDeprecationWarning: Creating an ndarray from ragged nested sequences (which is a list-or-tuple of lists-or-tuples-or ndarrays with different lengths or shapes) is deprecated. If you meant to do this, you must specify 'dtype=object' when creating the ndarray\n",
      "  x_train, y_train = np.array(xs[:idx]), np.array(labels[:idx])\n",
      "/Library/Frameworks/Python.framework/Versions/3.7/lib/python3.7/site-packages/tensorflow/python/keras/datasets/imdb.py:160: VisibleDeprecationWarning: Creating an ndarray from ragged nested sequences (which is a list-or-tuple of lists-or-tuples-or ndarrays with different lengths or shapes) is deprecated. If you meant to do this, you must specify 'dtype=object' when creating the ndarray\n",
      "  x_test, y_test = np.array(xs[idx:]), np.array(labels[idx:])\n"
     ]
    }
   ],
   "source": [
    "(x_train_all, y_train_all), (x_test, y_test) = imdb.load_data(skip_top=20, num_words=1000)\n",
    "\n",
    "for i in range(len(x_train_all)):\n",
    "    x_train_all[i] = [w for w in x_train_all[i] if w > 2]\n",
    "    \n",
    "x_train = x_train_all[random_index[:20000]]\n",
    "y_train = y_train_all[random_index[:20000]]\n",
    "x_val = x_train_all[random_index[20000:]]\n",
    "y_val = y_train_all[random_index[20000:]]\n"
   ]
  },
  {
   "cell_type": "code",
   "execution_count": 18,
   "metadata": {
    "execution": {
     "iopub.execute_input": "2021-12-16T04:59:25.826447Z",
     "iopub.status.busy": "2021-12-16T04:59:25.826201Z",
     "iopub.status.idle": "2021-12-16T04:59:26.091377Z",
     "shell.execute_reply": "2021-12-16T04:59:26.090694Z",
     "shell.execute_reply.started": "2021-12-16T04:59:25.826426Z"
    }
   },
   "outputs": [],
   "source": [
    "maxlen=100\n",
    "x_train_seq = sequence.pad_sequences(x_train, maxlen=maxlen)\n",
    "x_val_seq = sequence.pad_sequences(x_val, maxlen=maxlen)\n"
   ]
  },
  {
   "cell_type": "code",
   "execution_count": 19,
   "metadata": {
    "execution": {
     "iopub.execute_input": "2021-12-16T05:00:22.938348Z",
     "iopub.status.busy": "2021-12-16T05:00:22.938073Z",
     "iopub.status.idle": "2021-12-16T05:00:23.084522Z",
     "shell.execute_reply": "2021-12-16T05:00:23.083429Z",
     "shell.execute_reply.started": "2021-12-16T05:00:22.938313Z"
    }
   },
   "outputs": [
    {
     "name": "stdout",
     "output_type": "stream",
     "text": [
      "Model: \"sequential_1\"\n",
      "_________________________________________________________________\n",
      "Layer (type)                 Output Shape              Param #   \n",
      "=================================================================\n",
      "embedding (Embedding)        (None, None, 32)          32000     \n",
      "_________________________________________________________________\n",
      "simple_rnn_1 (SimpleRNN)     (None, 8)                 328       \n",
      "_________________________________________________________________\n",
      "dense_1 (Dense)              (None, 1)                 9         \n",
      "=================================================================\n",
      "Total params: 32,337\n",
      "Trainable params: 32,337\n",
      "Non-trainable params: 0\n",
      "_________________________________________________________________\n"
     ]
    }
   ],
   "source": [
    "model_ebd = Sequential()\n",
    "\n",
    "model_ebd.add(Embedding(1000, 32))\n",
    "model_ebd.add(SimpleRNN(8))\n",
    "model_ebd.add(Dense(1, activation='sigmoid'))\n",
    "\n",
    "model_ebd.summary()\n"
   ]
  },
  {
   "cell_type": "code",
   "execution_count": 20,
   "metadata": {
    "execution": {
     "iopub.execute_input": "2021-12-16T05:00:32.098019Z",
     "iopub.status.busy": "2021-12-16T05:00:32.097768Z",
     "iopub.status.idle": "2021-12-16T05:01:38.673491Z",
     "shell.execute_reply": "2021-12-16T05:01:38.672707Z",
     "shell.execute_reply.started": "2021-12-16T05:00:32.097997Z"
    }
   },
   "outputs": [
    {
     "name": "stdout",
     "output_type": "stream",
     "text": [
      "Epoch 1/10\n",
      "625/625 [==============================] - 7s 11ms/step - loss: 0.6644 - accuracy: 0.5804 - val_loss: 0.6747 - val_accuracy: 0.5814\n",
      "Epoch 2/10\n",
      "625/625 [==============================] - 7s 11ms/step - loss: 0.6436 - accuracy: 0.6196 - val_loss: 0.5298 - val_accuracy: 0.7432\n",
      "Epoch 3/10\n",
      "625/625 [==============================] - 6s 10ms/step - loss: 0.4727 - accuracy: 0.7909 - val_loss: 0.4841 - val_accuracy: 0.7806\n",
      "Epoch 4/10\n",
      "625/625 [==============================] - 6s 10ms/step - loss: 0.4250 - accuracy: 0.8203 - val_loss: 0.4833 - val_accuracy: 0.7842\n",
      "Epoch 5/10\n",
      "625/625 [==============================] - 6s 10ms/step - loss: 0.4047 - accuracy: 0.8310 - val_loss: 0.4852 - val_accuracy: 0.7856\n",
      "Epoch 6/10\n",
      "625/625 [==============================] - 6s 10ms/step - loss: 0.3922 - accuracy: 0.8360 - val_loss: 0.4733 - val_accuracy: 0.7890\n",
      "Epoch 7/10\n",
      "625/625 [==============================] - 6s 10ms/step - loss: 0.3811 - accuracy: 0.8424 - val_loss: 0.4722 - val_accuracy: 0.7956\n",
      "Epoch 8/10\n",
      "625/625 [==============================] - 7s 11ms/step - loss: 0.3534 - accuracy: 0.8575 - val_loss: 0.4960 - val_accuracy: 0.7878\n",
      "Epoch 9/10\n",
      "625/625 [==============================] - 7s 11ms/step - loss: 0.3326 - accuracy: 0.8666 - val_loss: 0.4767 - val_accuracy: 0.8008\n",
      "Epoch 10/10\n",
      "625/625 [==============================] - 7s 11ms/step - loss: 0.3182 - accuracy: 0.8791 - val_loss: 0.4686 - val_accuracy: 0.8074\n"
     ]
    }
   ],
   "source": [
    "model_ebd.compile(optimizer='adam', loss='binary_crossentropy', metrics=['accuracy'])\n",
    "\n",
    "history = model_ebd.fit(x_train_seq, y_train, epochs=10, batch_size=32, validation_data=(x_val_seq, y_val))\n"
   ]
  },
  {
   "cell_type": "code",
   "execution_count": 21,
   "metadata": {
    "execution": {
     "iopub.execute_input": "2021-12-16T05:01:38.675351Z",
     "iopub.status.busy": "2021-12-16T05:01:38.675074Z",
     "iopub.status.idle": "2021-12-16T05:01:38.705409Z",
     "shell.execute_reply": "2021-12-16T05:01:38.692919Z",
     "shell.execute_reply.started": "2021-12-16T05:01:38.675327Z"
    }
   },
   "outputs": [
    {
     "data": {
      "text/plain": [
       "array([[  0,   0,   0, ..., 771, 798,  58],\n",
       "       [352,  29, 348, ...,  20, 748,  32],\n",
       "       [  0,   0,   0, ..., 737,  33,  32],\n",
       "       ...,\n",
       "       [ 30, 212,  23, ..., 955,  24, 489],\n",
       "       [  0,   0,   0, ...,  20,  80,  24],\n",
       "       [  0, 160,  22, ..., 166,  49, 163]], dtype=int32)"
      ]
     },
     "execution_count": 21,
     "metadata": {},
     "output_type": "execute_result"
    }
   ],
   "source": [
    "x_train_seq"
   ]
  },
  {
   "cell_type": "code",
   "execution_count": 22,
   "metadata": {
    "execution": {
     "iopub.execute_input": "2021-12-16T05:01:38.708936Z",
     "iopub.status.busy": "2021-12-16T05:01:38.708585Z",
     "iopub.status.idle": "2021-12-16T05:01:38.858951Z",
     "shell.execute_reply": "2021-12-16T05:01:38.858219Z",
     "shell.execute_reply.started": "2021-12-16T05:01:38.708884Z"
    }
   },
   "outputs": [
    {
     "data": {
      "image/png": "[encoded data removed]",
      "text/plain": [
       "<Figure size 432x288 with 1 Axes>"
      ]
     },
     "metadata": {
      "needs_background": "light"
     },
     "output_type": "display_data"
    }
   ],
   "source": [
    "plt.plot(history.history['loss'])\n",
    "plt.plot(history.history['val_loss'])\n",
    "plt.show()\n"
   ]
  },
  {
   "cell_type": "code",
   "execution_count": 23,
   "metadata": {
    "execution": {
     "iopub.execute_input": "2021-12-16T05:01:38.861729Z",
     "iopub.status.busy": "2021-12-16T05:01:38.861237Z",
     "iopub.status.idle": "2021-12-16T05:01:39.007402Z",
     "shell.execute_reply": "2021-12-16T05:01:39.006731Z",
     "shell.execute_reply.started": "2021-12-16T05:01:38.861702Z"
    }
   },
   "outputs": [
    {
     "data": {
      "image/png": "[encoded data removed]",
      "text/plain": [
       "<Figure size 432x288 with 1 Axes>"
      ]
     },
     "metadata": {
      "needs_background": "light"
     },
     "output_type": "display_data"
    }
   ],
   "source": [
    "plt.plot(history.history['accuracy'])\n",
    "plt.plot(history.history['val_accuracy'])\n",
    "plt.show()\n"
   ]
  },
  {
   "cell_type": "code",
   "execution_count": 24,
   "metadata": {
    "execution": {
     "iopub.execute_input": "2021-12-16T05:01:39.008865Z",
     "iopub.status.busy": "2021-12-16T05:01:39.008614Z",
     "iopub.status.idle": "2021-12-16T05:01:39.560216Z",
     "shell.execute_reply": "2021-12-16T05:01:39.559323Z",
     "shell.execute_reply.started": "2021-12-16T05:01:39.008842Z"
    }
   },
   "outputs": [
    {
     "name": "stdout",
     "output_type": "stream",
     "text": [
      "0.8073999881744385\n"
     ]
    }
   ],
   "source": [
    "loss, accuracy = model_ebd.evaluate(x_val_seq, y_val, verbose=0)\n",
    "print(accuracy)\n"
   ]
  },
  {
   "cell_type": "code",
   "execution_count": 25,
   "metadata": {
    "execution": {
     "iopub.execute_input": "2021-12-16T05:04:11.049015Z",
     "iopub.status.busy": "2021-12-16T05:04:11.048753Z",
     "iopub.status.idle": "2021-12-16T05:04:11.273501Z",
     "shell.execute_reply": "2021-12-16T05:04:11.272600Z",
     "shell.execute_reply.started": "2021-12-16T05:04:11.048992Z"
    }
   },
   "outputs": [
    {
     "name": "stdout",
     "output_type": "stream",
     "text": [
      "Model: \"sequential_2\"\n",
      "_________________________________________________________________\n",
      "Layer (type)                 Output Shape              Param #   \n",
      "=================================================================\n",
      "embedding_1 (Embedding)      (None, None, 32)          32000     \n",
      "_________________________________________________________________\n",
      "lstm (LSTM)                  (None, 8)                 1312      \n",
      "_________________________________________________________________\n",
      "dense_2 (Dense)              (None, 1)                 9         \n",
      "=================================================================\n",
      "Total params: 33,321\n",
      "Trainable params: 33,321\n",
      "Non-trainable params: 0\n",
      "_________________________________________________________________\n"
     ]
    }
   ],
   "source": [
    "from tensorflow.keras.layers import LSTM\n",
    "model_lstm = Sequential()\n",
    "\n",
    "model_lstm.add(Embedding(1000, 32))\n",
    "model_lstm.add(LSTM(8))\n",
    "model_lstm.add(Dense(1, activation='sigmoid'))\n",
    "\n",
    "model_lstm.summary()\n"
   ]
  },
  {
   "cell_type": "code",
   "execution_count": 26,
   "metadata": {
    "execution": {
     "iopub.execute_input": "2021-12-16T05:04:20.496892Z",
     "iopub.status.busy": "2021-12-16T05:04:20.496593Z",
     "iopub.status.idle": "2021-12-16T05:05:49.744910Z",
     "shell.execute_reply": "2021-12-16T05:05:49.744289Z",
     "shell.execute_reply.started": "2021-12-16T05:04:20.496828Z"
    }
   },
   "outputs": [
    {
     "name": "stdout",
     "output_type": "stream",
     "text": [
      "Epoch 1/10\n",
      "625/625 [==============================] - 10s 15ms/step - loss: 0.5502 - accuracy: 0.7060 - val_loss: 0.3862 - val_accuracy: 0.8342\n",
      "Epoch 2/10\n",
      "625/625 [==============================] - 9s 14ms/step - loss: 0.3330 - accuracy: 0.8603 - val_loss: 0.3613 - val_accuracy: 0.8456\n",
      "Epoch 3/10\n",
      "625/625 [==============================] - 9s 14ms/step - loss: 0.3089 - accuracy: 0.8752 - val_loss: 0.3599 - val_accuracy: 0.8398\n",
      "Epoch 4/10\n",
      "625/625 [==============================] - 9s 14ms/step - loss: 0.2926 - accuracy: 0.8801 - val_loss: 0.3618 - val_accuracy: 0.8456\n",
      "Epoch 5/10\n",
      "625/625 [==============================] - 9s 14ms/step - loss: 0.2732 - accuracy: 0.8865 - val_loss: 0.3769 - val_accuracy: 0.8456\n",
      "Epoch 6/10\n",
      "625/625 [==============================] - 9s 14ms/step - loss: 0.2690 - accuracy: 0.8894 - val_loss: 0.3683 - val_accuracy: 0.8438\n",
      "Epoch 7/10\n",
      "625/625 [==============================] - 9s 14ms/step - loss: 0.2496 - accuracy: 0.8994 - val_loss: 0.3771 - val_accuracy: 0.8366\n",
      "Epoch 8/10\n",
      "625/625 [==============================] - 9s 14ms/step - loss: 0.2345 - accuracy: 0.9050 - val_loss: 0.3947 - val_accuracy: 0.8338\n",
      "Epoch 9/10\n",
      "625/625 [==============================] - 9s 14ms/step - loss: 0.2262 - accuracy: 0.9130 - val_loss: 0.4114 - val_accuracy: 0.8322\n",
      "Epoch 10/10\n",
      "625/625 [==============================] - 9s 14ms/step - loss: 0.2191 - accuracy: 0.9125 - val_loss: 0.4075 - val_accuracy: 0.8324\n"
     ]
    }
   ],
   "source": [
    "model_lstm.compile(optimizer='adam', loss='binary_crossentropy', metrics=['accuracy'])\n",
    "\n",
    "history = model_lstm.fit(x_train_seq, y_train, epochs=10, batch_size=32, \n",
    "                         validation_data=(x_val_seq, y_val))\n"
   ]
  },
  {
   "cell_type": "code",
   "execution_count": 27,
   "metadata": {
    "execution": {
     "iopub.execute_input": "2021-12-16T05:05:49.746391Z",
     "iopub.status.busy": "2021-12-16T05:05:49.746087Z",
     "iopub.status.idle": "2021-12-16T05:05:49.875996Z",
     "shell.execute_reply": "2021-12-16T05:05:49.875169Z",
     "shell.execute_reply.started": "2021-12-16T05:05:49.746368Z"
    }
   },
   "outputs": [
    {
     "data": {
      "image/png": "[encoded data removed]",
      "text/plain": [
       "<Figure size 432x288 with 1 Axes>"
      ]
     },
     "metadata": {
      "needs_background": "light"
     },
     "output_type": "display_data"
    }
   ],
   "source": [
    "plt.plot(history.history['loss'])\n",
    "plt.plot(history.history['val_loss'])\n",
    "plt.show()\n"
   ]
  },
  {
   "cell_type": "code",
   "execution_count": 28,
   "metadata": {
    "execution": {
     "iopub.execute_input": "2021-12-16T05:05:49.879412Z",
     "iopub.status.busy": "2021-12-16T05:05:49.879162Z",
     "iopub.status.idle": "2021-12-16T05:05:50.010843Z",
     "shell.execute_reply": "2021-12-16T05:05:50.009855Z",
     "shell.execute_reply.started": "2021-12-16T05:05:49.879391Z"
    }
   },
   "outputs": [
    {
     "data": {
      "image/png": "[encoded data removed]",
      "text/plain": [
       "<Figure size 432x288 with 1 Axes>"
      ]
     },
     "metadata": {
      "needs_background": "light"
     },
     "output_type": "display_data"
    }
   ],
   "source": [
    "plt.plot(history.history['accuracy'])\n",
    "plt.plot(history.history['val_accuracy'])\n",
    "plt.show()\n"
   ]
  },
  {
   "cell_type": "code",
   "execution_count": 29,
   "metadata": {
    "execution": {
     "iopub.execute_input": "2021-12-16T05:05:50.012816Z",
     "iopub.status.busy": "2021-12-16T05:05:50.012492Z",
     "iopub.status.idle": "2021-12-16T05:05:50.707822Z",
     "shell.execute_reply": "2021-12-16T05:05:50.707212Z",
     "shell.execute_reply.started": "2021-12-16T05:05:50.012794Z"
    }
   },
   "outputs": [
    {
     "name": "stdout",
     "output_type": "stream",
     "text": [
      "0.8324000239372253\n"
     ]
    }
   ],
   "source": [
    "loss, accuracy = model_lstm.evaluate(x_val_seq, y_val, verbose=0)\n",
    "print(accuracy)\n"
   ]
  },
  {
   "cell_type": "code",
   "execution_count": null,
   "metadata": {},
   "outputs": [],
   "source": []
  }
 ],
 "metadata": {
  "kernelspec": {
   "display_name": "Python 3",
   "language": "python",
   "name": "python3"
  },
  "language_info": {
   "codemirror_mode": {
    "name": "ipython",
    "version": 3
   },
   "file_extension": ".py",
   "mimetype": "text/x-python",
   "name": "python",
   "nbconvert_exporter": "python",
   "pygments_lexer": "ipython3",
   "version": "3.7.3"
  }
 },
 "nbformat": 4,
 "nbformat_minor": 4
}
