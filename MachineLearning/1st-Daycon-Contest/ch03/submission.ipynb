{
 "cells": [
  {
   "cell_type": "markdown",
   "metadata": {},
   "source": [
    "## 3.5. 성능 향상을 위한 방법"
   ]
  },
  {
   "cell_type": "code",
   "execution_count": 1,
   "metadata": {},
   "outputs": [],
   "source": [
    "import os\n",
    "import numpy as np\n",
    "import pandas as pd\n",
    "import matplotlib.pyplot as plt\n",
    "import seaborn as sns"
   ]
  },
  {
   "cell_type": "code",
   "execution_count": 2,
   "metadata": {},
   "outputs": [],
   "source": [
    "sub_dir = \"C:/dacon/ch03/submission/\"\n",
    "os.chdir(sub_dir)"
   ]
  },
  {
   "cell_type": "markdown",
   "metadata": {},
   "source": [
    "### 3.5.1. 앙상블"
   ]
  },
  {
   "cell_type": "markdown",
   "metadata": {},
   "source": [
    "<font color='blue'>5개의 submission 파일명을 각각 '모델 번호_사용한 모델=임시 스코어.csv' 형식으로 변경한 뒤 다음 과정을 진행합니다. <br/>예를 들어, 'model1_lgbm.csv' 파일의 임시 스코어가 2.29라면 'model1_lgbm=2.29.csv' 형식으로 변경하는 것입니다."
   ]
  },
  {
   "cell_type": "code",
   "execution_count": 3,
   "metadata": {},
   "outputs": [],
   "source": [
    "sub_list = [] # 작업 경로 안에 있는 파일 중 확장자가 .csv인 파일을 담을 리스트 생성\n",
    "fname_list = [] # 확장자를 제외한 파일명을 담을 리스트 생성\n",
    "\n",
    "for filename in os.listdir(): # 작업 경로 안에 있는 모든 파일의 리스트 불러오기\n",
    "    fname, ext = os.path.splitext(filename) # filename을 파일명과 확장자로 분리\n",
    "    if ext == '.csv': # 확장자가 .csv인 파일인 경우\n",
    "        sub_list.append(filename) # filename을 sub_list에 추가\n",
    "        fname_list.append(fname) # 파일명을 fname_list에 추가"
   ]
  },
  {
   "cell_type": "markdown",
   "metadata": {},
   "source": [
    "#### 3.5.1.1. 결괏값 간 상관계수 확인"
   ]
  },
  {
   "cell_type": "code",
   "execution_count": 4,
   "metadata": {},
   "outputs": [
    {
     "data": {
      "text/html": [
       "<div>\n",
       "<style scoped>\n",
       "    .dataframe tbody tr th:only-of-type {\n",
       "        vertical-align: middle;\n",
       "    }\n",
       "\n",
       "    .dataframe tbody tr th {\n",
       "        vertical-align: top;\n",
       "    }\n",
       "\n",
       "    .dataframe thead th {\n",
       "        text-align: right;\n",
       "    }\n",
       "</style>\n",
       "<table border=\"1\" class=\"dataframe\">\n",
       "  <thead>\n",
       "    <tr style=\"text-align: right;\">\n",
       "      <th></th>\n",
       "      <th>model1_lgbm=2.29.csv</th>\n",
       "      <th>model2_rf=2.34.csv</th>\n",
       "      <th>model3_rf=2.38.csv</th>\n",
       "      <th>model4_rf=2.36.csv</th>\n",
       "      <th>model5_rf=2.31.csv</th>\n",
       "    </tr>\n",
       "  </thead>\n",
       "  <tbody>\n",
       "    <tr>\n",
       "      <th>model1_lgbm=2.29.csv</th>\n",
       "      <td>1.000000</td>\n",
       "      <td>0.977246</td>\n",
       "      <td>0.972529</td>\n",
       "      <td>0.973676</td>\n",
       "      <td>0.981939</td>\n",
       "    </tr>\n",
       "    <tr>\n",
       "      <th>model2_rf=2.34.csv</th>\n",
       "      <td>0.977246</td>\n",
       "      <td>1.000000</td>\n",
       "      <td>0.995776</td>\n",
       "      <td>0.992885</td>\n",
       "      <td>0.990955</td>\n",
       "    </tr>\n",
       "    <tr>\n",
       "      <th>model3_rf=2.38.csv</th>\n",
       "      <td>0.972529</td>\n",
       "      <td>0.995776</td>\n",
       "      <td>1.000000</td>\n",
       "      <td>0.995266</td>\n",
       "      <td>0.986214</td>\n",
       "    </tr>\n",
       "    <tr>\n",
       "      <th>model4_rf=2.36.csv</th>\n",
       "      <td>0.973676</td>\n",
       "      <td>0.992885</td>\n",
       "      <td>0.995266</td>\n",
       "      <td>1.000000</td>\n",
       "      <td>0.983549</td>\n",
       "    </tr>\n",
       "    <tr>\n",
       "      <th>model5_rf=2.31.csv</th>\n",
       "      <td>0.981939</td>\n",
       "      <td>0.990955</td>\n",
       "      <td>0.986214</td>\n",
       "      <td>0.983549</td>\n",
       "      <td>1.000000</td>\n",
       "    </tr>\n",
       "  </tbody>\n",
       "</table>\n",
       "</div>"
      ],
      "text/plain": [
       "                      model1_lgbm=2.29.csv  model2_rf=2.34.csv  \\\n",
       "model1_lgbm=2.29.csv              1.000000            0.977246   \n",
       "model2_rf=2.34.csv                0.977246            1.000000   \n",
       "model3_rf=2.38.csv                0.972529            0.995776   \n",
       "model4_rf=2.36.csv                0.973676            0.992885   \n",
       "model5_rf=2.31.csv                0.981939            0.990955   \n",
       "\n",
       "                      model3_rf=2.38.csv  model4_rf=2.36.csv  \\\n",
       "model1_lgbm=2.29.csv            0.972529            0.973676   \n",
       "model2_rf=2.34.csv              0.995776            0.992885   \n",
       "model3_rf=2.38.csv              1.000000            0.995266   \n",
       "model4_rf=2.36.csv              0.995266            1.000000   \n",
       "model5_rf=2.31.csv              0.986214            0.983549   \n",
       "\n",
       "                      model5_rf=2.31.csv  \n",
       "model1_lgbm=2.29.csv            0.981939  \n",
       "model2_rf=2.34.csv              0.990955  \n",
       "model3_rf=2.38.csv              0.986214  \n",
       "model4_rf=2.36.csv              0.983549  \n",
       "model5_rf=2.31.csv              1.000000  "
      ]
     },
     "execution_count": 4,
     "metadata": {},
     "output_type": "execute_result"
    }
   ],
   "source": [
    "# 상관계수 행렬을 저장할 데이터프레임 생성\n",
    "corr_df = pd.DataFrame()\n",
    "\n",
    "for file in sub_list:\n",
    "    # 각 submission 파일의 18~20_ride 변수를 sub_df에 저장\n",
    "    sub_df = pd.read_csv(file, engine = 'python').iloc[:,1:]\n",
    "    # 변수명을 파일의 이름으로 지정\n",
    "    sub_df.columns = [str(file)]\n",
    "    # sub_df를 corr_df에 병합\n",
    "    corr_df = pd.concat([corr_df, sub_df], axis = 1)\n",
    "\n",
    "# 상관계수 행렬 출력    \n",
    "corr_df.corr()"
   ]
  },
  {
   "cell_type": "code",
   "execution_count": 5,
   "metadata": {},
   "outputs": [
    {
     "data": {
      "text/html": [
       "<div>\n",
       "<style scoped>\n",
       "    .dataframe tbody tr th:only-of-type {\n",
       "        vertical-align: middle;\n",
       "    }\n",
       "\n",
       "    .dataframe tbody tr th {\n",
       "        vertical-align: top;\n",
       "    }\n",
       "\n",
       "    .dataframe thead th {\n",
       "        text-align: right;\n",
       "    }\n",
       "</style>\n",
       "<table border=\"1\" class=\"dataframe\">\n",
       "  <thead>\n",
       "    <tr style=\"text-align: right;\">\n",
       "      <th></th>\n",
       "      <th>model</th>\n",
       "      <th>public_rmse</th>\n",
       "      <th>cor</th>\n",
       "    </tr>\n",
       "  </thead>\n",
       "  <tbody>\n",
       "    <tr>\n",
       "      <th>0</th>\n",
       "      <td>model1_lgbm</td>\n",
       "      <td>2.29</td>\n",
       "      <td>0.981078</td>\n",
       "    </tr>\n",
       "    <tr>\n",
       "      <th>1</th>\n",
       "      <td>model2_rf</td>\n",
       "      <td>2.34</td>\n",
       "      <td>0.991372</td>\n",
       "    </tr>\n",
       "    <tr>\n",
       "      <th>2</th>\n",
       "      <td>model3_rf</td>\n",
       "      <td>2.38</td>\n",
       "      <td>0.989957</td>\n",
       "    </tr>\n",
       "    <tr>\n",
       "      <th>3</th>\n",
       "      <td>model4_rf</td>\n",
       "      <td>2.36</td>\n",
       "      <td>0.989075</td>\n",
       "    </tr>\n",
       "    <tr>\n",
       "      <th>4</th>\n",
       "      <td>model5_rf</td>\n",
       "      <td>2.31</td>\n",
       "      <td>0.988531</td>\n",
       "    </tr>\n",
       "  </tbody>\n",
       "</table>\n",
       "</div>"
      ],
      "text/plain": [
       "         model  public_rmse       cor\n",
       "0  model1_lgbm         2.29  0.981078\n",
       "1    model2_rf         2.34  0.991372\n",
       "2    model3_rf         2.38  0.989957\n",
       "3    model4_rf         2.36  0.989075\n",
       "4    model5_rf         2.31  0.988531"
      ]
     },
     "execution_count": 5,
     "metadata": {},
     "output_type": "execute_result"
    }
   ],
   "source": [
    "corr_list = np.array(corr_df.corr().mean(axis = 0))  \n",
    "\n",
    "model_list = [] # 모델명을 담을 리스트 생성\n",
    "public_rmse_list = [] # 각 submission 파일의 임시 스코어를 담을 리스트 생성\n",
    "\n",
    "for fname in fname_list:\n",
    "    model = fname.split('=')[0] # '=' 기호를 기준으로 모델명을 분리\n",
    "    model_list.append(model) # 모델명을 model_list에 추가\n",
    "\n",
    "    score = fname.split('=')[-1] # '=' 기호를 기준으로 임시 스코어를 분리\n",
    "    score = float(score) # 실수형으로 변환\n",
    "    public_rmse_list.append(score) # 임시 스코어를 public_rmse_list에 추가\n",
    "    \n",
    "# model_list, public_rmse_list, corr_list를 변수로 하는 데이터프레임 생성\n",
    "score_df = pd.DataFrame({'model': model_list, 'public_rmse': public_rmse_list,\n",
    "                         'cor': corr_list})\n",
    "score_df"
   ]
  },
  {
   "cell_type": "code",
   "execution_count": 6,
   "metadata": {},
   "outputs": [
    {
     "data": {
      "image/png": "[encoded data removed]",
      "text/plain": [
       "<Figure size 720x360 with 1 Axes>"
      ]
     },
     "metadata": {
      "needs_background": "light"
     },
     "output_type": "display_data"
    }
   ],
   "source": [
    "plt.figure(figsize=(10,5))\n",
    "# 점의 사이즈가 30인 산점도 그래프\n",
    "graph = sns.scatterplot(x=\"cor\", y=\"public_rmse\", data=score_df, s=30)\n",
    "# 각 점에 대한 모델명 표시\n",
    "for idx in range(0, score_df.shape[0]):\n",
    "    graph.text(score_df.cor[idx]+0.00005 , score_df.public_rmse[idx]-0.00003, \n",
    "               score_df.model[idx], horizontalalignment='left', \n",
    "               size='medium', color='black', weight='semibold')\n",
    "\n",
    "# x축 범위 지정\n",
    "plt.xlim((score_df.cor.min()-0.001, score_df.cor.max()+0.001))\n",
    "# y축 범위 지정\n",
    "plt.ylim((score_df.public_rmse.min()-0.005, score_df.public_rmse.max()+0.005))\n",
    "plt.grid() # 격자 무늬\n",
    "plt.show()"
   ]
  },
  {
   "cell_type": "markdown",
   "metadata": {},
   "source": [
    "#### 3.5.1.2. 여러 가지 앙상블 기법"
   ]
  },
  {
   "cell_type": "code",
   "execution_count": 7,
   "metadata": {
    "scrolled": true
   },
   "outputs": [
    {
     "name": "stdout",
     "output_type": "stream",
     "text": [
      "ensemble_model1+model5.csv가 저장되었습니다!\n"
     ]
    }
   ],
   "source": [
    "ensemble_dir = \"C:/dacon/ch03/submission/Ensemble1/\"\n",
    "\n",
    "# Ensemble1 폴더가 없다면 Ensemble1 폴더를 생성\n",
    "if not os.path.isdir(ensemble_dir):\n",
    "    os.mkdir(ensemble_dir)\n",
    "\n",
    "# Ensemble1 폴더로 파일 이동\n",
    "import shutil\n",
    "shutil.move(sub_dir + 'model1_lgbm=2.29.csv', ensemble_dir + 'model1_lgbm=2.29.csv')\n",
    "shutil.move(sub_dir + 'model5_rf=2.31.csv', ensemble_dir + 'model5_rf=2.31.csv')\n",
    "\n",
    "# model1_lgbm=2.29.csv, model5_rf=2.31.csv 멱 평균\n",
    "nf = 0\n",
    "for f in os.listdir(ensemble_dir):\n",
    "    ext = os.path.splitext(f)[-1] # 'Ensemble1' 폴더에 있는 파일의 확장자를 분리\n",
    "\n",
    "    if ext == '.csv':\n",
    "        sub = pd.read_csv(ensemble_dir + f) # 확장자명이 .csv라면 해당 데이터를 로드\n",
    "    else:\n",
    "        continue # 확장자명이 .csv가 아니라면 for문을 종료\n",
    "\n",
    "    if len(sub.columns) !=2:\n",
    "        continue # 로드한 데이터의 변수의 수가 2개가 아니라면 for문을 종료\n",
    "\n",
    "    # 파일의 확장자명이 .csv이고, 변수의 수가 2개인 경우에만 밑의 조건문이 실행됩니다.\n",
    "    if nf == 0:\n",
    "        sub_df = sub # nf가 0이면 해당 데이터(sub)를 sub_df 에 저장\n",
    "    else:\n",
    "        sub_df = pd.merge(sub_df, sub, on=\"id\") # nf가 0이 아니면 해당 데이터를 sub_df와 병합\n",
    "    \n",
    "    nf += 1\n",
    "\n",
    "p = 21 # 하이퍼파라미터이므로 최적의 값을 찾아야 합니다.\n",
    "\n",
    "# 파일의 개수(nf)가 2개 이상인 경우에만 밑의 조건문이 실행됩니다.\n",
    "if nf >= 2: \n",
    "    pred = 0\n",
    "    \n",
    "    # 앞서 소개한 멱 평균의 식을 나타낸 코드입니다.\n",
    "    for j in range(nf):\n",
    "        pred = pred + sub_df.iloc[:,j+1]**p\n",
    "    pred = pred / nf    \n",
    "    pred = pred**(1/p)\n",
    "    \n",
    "    # 멱 평균 결과를 대입하여 데이터프레임 submit을 생성하고, csv파일로 저장 \n",
    "    submit = pd.DataFrame({'id': sub_df.id, '18~20_ride': pred})\n",
    "    fname = \"ensemble_model1+model5.csv\"\n",
    "    submit.to_csv(fname, index=False)\n",
    "    \n",
    "    print(fname + '가 저장되었습니다!')"
   ]
  },
  {
   "cell_type": "code",
   "execution_count": 8,
   "metadata": {},
   "outputs": [
    {
     "name": "stdout",
     "output_type": "stream",
     "text": [
      "ensemble_model2+model4.csv가 저장되었습니다!\n"
     ]
    }
   ],
   "source": [
    "ensemble_dir = \"C:/dacon/ch03/submission/Ensemble2/\"\n",
    "\n",
    "# Ensemble2 폴더가 없다면 Ensemble2 폴더를 생성\n",
    "if not os.path.isdir(ensemble_dir):\n",
    "    os.mkdir(ensemble_dir)\n",
    "\n",
    "# Ensemble2 폴더로 파일 이동\n",
    "import shutil\n",
    "shutil.move(sub_dir + 'model2_rf=2.34.csv', ensemble_dir + 'model2_rf=2.34.csv')\n",
    "shutil.move(sub_dir + 'model4_rf=2.36.csv', ensemble_dir + 'model4_rf=2.36.csv')\n",
    "\n",
    "# model2_rf=2.34.csv, model4_rf=2.36.csv 멱 평균\n",
    "nf = 0\n",
    "for f in os.listdir(ensemble_dir):\n",
    "    # 'Ensemble2' 폴더에 있는 파일의 확장자를 분리\n",
    "    ext = os.path.splitext(f)[-1] \n",
    "\n",
    "    if ext == '.csv': \n",
    "        # 확장자명이 .csv라면 해당 데이터를 로드\n",
    "        sub = pd.read_csv(ensemble_dir + f) \n",
    "    else: \n",
    "        # 확장자명이 .csv가 아니라면 for문을 종료\n",
    "        continue \n",
    "\n",
    "    if len(sub.columns) !=2:\n",
    "        # 로드한 데이터의 변수의 수가 2개가 아니라면 for 문을 종료\n",
    "        continue \n",
    "\n",
    "    # 파일의 확장자명이 .csv이고, 변수의 수가 2개인 경우에만\n",
    "    # 밑의 조건문이 실행됩니다.\n",
    "    if nf == 0:\n",
    "        sub_df = sub # nf가 0이면 해당 데이터(sub)를 sub_df 에 저장\n",
    "    else: \n",
    "        # nf가 0이 아니면 해당 데이터를 sub_df와 병합\n",
    "        sub_df = pd.merge(sub_df, sub, on=\"id\") \n",
    "    \n",
    "    nf += 1\n",
    "\n",
    "p = 21 # 하이퍼파라미터이므로 최적의 값을 찾아야 합니다.\n",
    "\n",
    "# 파일의 개수(nf)가 2개 이상인 경우에만 밑의 조건문이 실행됩니다.\n",
    "if nf >= 2: \n",
    "    pred = 0\n",
    "    \n",
    "    # 앞서 소개한 멱 평균의 식을 나타낸 코드입니다.\n",
    "    for j in range(nf):\n",
    "        pred = pred + sub_df.iloc[:,j+1]**p\n",
    "    pred = pred / nf    \n",
    "    pred = pred**(1/p)\n",
    "\n",
    "    # 멱 평균 결과를 대입하여 데이터프레임 submit을 생성하고, csv 파일로 저장\n",
    "    submit = pd.DataFrame({'id': sub_df.id, '18~20_ride': pred})\n",
    "    fname = \"ensemble_model2+model4.csv\"\n",
    "    submit.to_csv(fname, index=False)\n",
    "    \n",
    "    print(fname + '가 저장되었습니다!')"
   ]
  },
  {
   "cell_type": "code",
   "execution_count": 9,
   "metadata": {},
   "outputs": [],
   "source": [
    "# 앙상블 파일 로드\n",
    "first = pd.read_csv('ensemble_model1+model5.csv')\n",
    "second = pd.read_csv('ensemble_model2+model4.csv')\n",
    "third = pd.read_csv('model3_rf=2.38.csv')\n",
    "\n",
    "# 가중산술평균\n",
    "w_mean = 0.22*first['18~20_ride'] + 0.30*second['18~20_ride'] + 0.48*third['18~20_ride']\n",
    "\n",
    "# 최종 submission 파일 생성\n",
    "sub['18~20_ride'] = w_mean\n",
    "sub.to_csv('final_submission.csv', index=False)"
   ]
  }
 ],
 "metadata": {
  "kernelspec": {
   "display_name": "Python 3",
   "language": "python",
   "name": "python3"
  },
  "language_info": {
   "codemirror_mode": {
    "name": "ipython",
    "version": 3
   },
   "file_extension": ".py",
   "mimetype": "text/x-python",
   "name": "python",
   "nbconvert_exporter": "python",
   "pygments_lexer": "ipython3",
   "version": "3.8.5"
  },
  "toc": {
   "base_numbering": 1,
   "nav_menu": {},
   "number_sections": true,
   "sideBar": true,
   "skip_h1_title": false,
   "title_cell": "Table of Contents",
   "title_sidebar": "Contents",
   "toc_cell": false,
   "toc_position": {},
   "toc_section_display": true,
   "toc_window_display": false
  }
 },
 "nbformat": 4,
 "nbformat_minor": 2
}
