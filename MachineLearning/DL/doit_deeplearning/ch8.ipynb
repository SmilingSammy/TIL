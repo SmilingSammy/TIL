{
 "cells": [
  {
   "cell_type": "code",
   "execution_count": 1,
   "metadata": {
    "execution": {
     "iopub.execute_input": "2021-12-16T01:48:44.737167Z",
     "iopub.status.busy": "2021-12-16T01:48:44.736828Z",
     "iopub.status.idle": "2021-12-16T01:48:46.139753Z",
     "shell.execute_reply": "2021-12-16T01:48:46.138950Z",
     "shell.execute_reply.started": "2021-12-16T01:48:44.737106Z"
    }
   },
   "outputs": [],
   "source": [
    "from scipy.signal import correlate\n",
    "import numpy as np\n",
    "\n",
    "w = np.array([2, 1, 5, 3])\n",
    "x = np.array([2, 8, 3, 7, 1, 2, 0, 4, 5])"
   ]
  },
  {
   "cell_type": "code",
   "execution_count": 2,
   "metadata": {
    "execution": {
     "iopub.execute_input": "2021-12-16T01:48:46.141978Z",
     "iopub.status.busy": "2021-12-16T01:48:46.141645Z",
     "iopub.status.idle": "2021-12-16T01:48:46.154713Z",
     "shell.execute_reply": "2021-12-16T01:48:46.153796Z",
     "shell.execute_reply.started": "2021-12-16T01:48:46.141952Z"
    }
   },
   "outputs": [
    {
     "data": {
      "text/plain": [
       "array([48, 57, 24, 25, 16, 39])"
      ]
     },
     "execution_count": 2,
     "metadata": {},
     "output_type": "execute_result"
    }
   ],
   "source": [
    "correlate(x, w, mode='valid') # 교차상관"
   ]
  },
  {
   "cell_type": "code",
   "execution_count": 3,
   "metadata": {
    "execution": {
     "iopub.execute_input": "2021-12-16T01:48:46.158980Z",
     "iopub.status.busy": "2021-12-16T01:48:46.158666Z",
     "iopub.status.idle": "2021-12-16T01:48:46.165811Z",
     "shell.execute_reply": "2021-12-16T01:48:46.164970Z",
     "shell.execute_reply.started": "2021-12-16T01:48:46.158957Z"
    }
   },
   "outputs": [
    {
     "data": {
      "text/plain": [
       "array([ 6, 34, 51, 48, 57, 24, 25, 16, 39, 29, 13, 10])"
      ]
     },
     "execution_count": 3,
     "metadata": {},
     "output_type": "execute_result"
    }
   ],
   "source": [
    "correlate(x, w, mode='full')"
   ]
  },
  {
   "cell_type": "code",
   "execution_count": 4,
   "metadata": {
    "execution": {
     "iopub.execute_input": "2021-12-16T01:48:46.167628Z",
     "iopub.status.busy": "2021-12-16T01:48:46.167273Z",
     "iopub.status.idle": "2021-12-16T01:48:46.175985Z",
     "shell.execute_reply": "2021-12-16T01:48:46.174393Z",
     "shell.execute_reply.started": "2021-12-16T01:48:46.167599Z"
    }
   },
   "outputs": [
    {
     "data": {
      "text/plain": [
       "array([34, 51, 48, 57, 24, 25, 16, 39, 29])"
      ]
     },
     "execution_count": 4,
     "metadata": {},
     "output_type": "execute_result"
    }
   ],
   "source": [
    "correlate(x, w, mode='same')"
   ]
  },
  {
   "cell_type": "code",
   "execution_count": 5,
   "metadata": {
    "execution": {
     "iopub.execute_input": "2021-12-16T01:48:46.818058Z",
     "iopub.status.busy": "2021-12-16T01:48:46.817677Z",
     "iopub.status.idle": "2021-12-16T01:48:46.822163Z",
     "shell.execute_reply": "2021-12-16T01:48:46.821339Z",
     "shell.execute_reply.started": "2021-12-16T01:48:46.818030Z"
    }
   },
   "outputs": [],
   "source": [
    "from scipy.signal import correlate2d\n",
    "\n",
    "x = np.array([[1, 2, 3],\n",
    "              [4, 5, 6],\n",
    "              [7, 8, 9]])\n",
    "w = np.array([[2, 0], [0, 0]])"
   ]
  },
  {
   "cell_type": "code",
   "execution_count": 6,
   "metadata": {
    "execution": {
     "iopub.execute_input": "2021-12-16T01:48:47.090231Z",
     "iopub.status.busy": "2021-12-16T01:48:47.089973Z",
     "iopub.status.idle": "2021-12-16T01:48:47.095306Z",
     "shell.execute_reply": "2021-12-16T01:48:47.094309Z",
     "shell.execute_reply.started": "2021-12-16T01:48:47.090208Z"
    }
   },
   "outputs": [
    {
     "data": {
      "text/plain": [
       "array([[ 2,  4],\n",
       "       [ 8, 10]])"
      ]
     },
     "execution_count": 6,
     "metadata": {},
     "output_type": "execute_result"
    }
   ],
   "source": [
    "correlate2d(x, w, mode='valid')"
   ]
  },
  {
   "cell_type": "code",
   "execution_count": 7,
   "metadata": {
    "execution": {
     "iopub.execute_input": "2021-12-16T01:48:47.401793Z",
     "iopub.status.busy": "2021-12-16T01:48:47.401534Z",
     "iopub.status.idle": "2021-12-16T01:48:47.406645Z",
     "shell.execute_reply": "2021-12-16T01:48:47.405816Z",
     "shell.execute_reply.started": "2021-12-16T01:48:47.401770Z"
    }
   },
   "outputs": [
    {
     "data": {
      "text/plain": [
       "array([[ 2,  4,  6],\n",
       "       [ 8, 10, 12],\n",
       "       [14, 16, 18]])"
      ]
     },
     "execution_count": 7,
     "metadata": {},
     "output_type": "execute_result"
    }
   ],
   "source": [
    "correlate2d(x, w, mode='same')"
   ]
  },
  {
   "cell_type": "code",
   "execution_count": 8,
   "metadata": {
    "execution": {
     "iopub.execute_input": "2021-12-16T01:48:47.730805Z",
     "iopub.status.busy": "2021-12-16T01:48:47.730539Z",
     "iopub.status.idle": "2021-12-16T01:48:53.907823Z",
     "shell.execute_reply": "2021-12-16T01:48:53.907136Z",
     "shell.execute_reply.started": "2021-12-16T01:48:47.730784Z"
    }
   },
   "outputs": [
    {
     "name": "stderr",
     "output_type": "stream",
     "text": [
      "/Library/Frameworks/Python.framework/Versions/3.7/lib/python3.7/site-packages/ipykernel_launcher.py:2: DeprecationWarning: `np.float` is a deprecated alias for the builtin `float`. To silence this warning, use `float` by itself. Doing this will not modify any behavior and is safe. If you specifically wanted the numpy scalar type, use `np.float64` here.\n",
      "Deprecated in NumPy 1.20; for more details and guidance: https://numpy.org/devdocs/release/1.20.0-notes.html#deprecations\n",
      "  \n"
     ]
    }
   ],
   "source": [
    "import tensorflow as tf\n",
    "x_4d = x.astype(np.float).reshape(1, 3, 3, 1)\n",
    "w_4d = w.reshape(2, 2, 1, 1)"
   ]
  },
  {
   "cell_type": "code",
   "execution_count": 9,
   "metadata": {
    "execution": {
     "iopub.execute_input": "2021-12-16T01:48:53.909872Z",
     "iopub.status.busy": "2021-12-16T01:48:53.909558Z",
     "iopub.status.idle": "2021-12-16T01:48:53.920176Z",
     "shell.execute_reply": "2021-12-16T01:48:53.914277Z",
     "shell.execute_reply.started": "2021-12-16T01:48:53.909848Z"
    }
   },
   "outputs": [
    {
     "data": {
      "text/plain": [
       "array([[[[1.],\n",
       "         [2.],\n",
       "         [3.]],\n",
       "\n",
       "        [[4.],\n",
       "         [5.],\n",
       "         [6.]],\n",
       "\n",
       "        [[7.],\n",
       "         [8.],\n",
       "         [9.]]]])"
      ]
     },
     "execution_count": 9,
     "metadata": {},
     "output_type": "execute_result"
    }
   ],
   "source": [
    "x_4d"
   ]
  },
  {
   "cell_type": "code",
   "execution_count": 10,
   "metadata": {
    "execution": {
     "iopub.execute_input": "2021-12-16T01:48:53.925863Z",
     "iopub.status.busy": "2021-12-16T01:48:53.925558Z",
     "iopub.status.idle": "2021-12-16T01:48:53.935416Z",
     "shell.execute_reply": "2021-12-16T01:48:53.932626Z",
     "shell.execute_reply.started": "2021-12-16T01:48:53.925836Z"
    }
   },
   "outputs": [
    {
     "data": {
      "text/plain": [
       "array([[[[2]],\n",
       "\n",
       "        [[0]]],\n",
       "\n",
       "\n",
       "       [[[0]],\n",
       "\n",
       "        [[0]]]])"
      ]
     },
     "execution_count": 10,
     "metadata": {},
     "output_type": "execute_result"
    }
   ],
   "source": [
    "w_4d"
   ]
  },
  {
   "cell_type": "code",
   "execution_count": 11,
   "metadata": {
    "execution": {
     "iopub.execute_input": "2021-12-16T01:48:53.938176Z",
     "iopub.status.busy": "2021-12-16T01:48:53.937708Z",
     "iopub.status.idle": "2021-12-16T01:48:53.971715Z",
     "shell.execute_reply": "2021-12-16T01:48:53.970477Z",
     "shell.execute_reply.started": "2021-12-16T01:48:53.938125Z"
    }
   },
   "outputs": [
    {
     "name": "stdout",
     "output_type": "stream",
     "text": [
      "(1, 3, 3, 1)\n"
     ]
    },
    {
     "data": {
      "text/plain": [
       "<tf.Tensor: shape=(1, 3, 3, 1), dtype=float64, numpy=\n",
       "array([[[[ 2.],\n",
       "         [ 4.],\n",
       "         [ 6.]],\n",
       "\n",
       "        [[ 8.],\n",
       "         [10.],\n",
       "         [12.]],\n",
       "\n",
       "        [[14.],\n",
       "         [16.],\n",
       "         [18.]]]])>"
      ]
     },
     "execution_count": 11,
     "metadata": {},
     "output_type": "execute_result"
    }
   ],
   "source": [
    "c_out = tf.nn.conv2d(x_4d, w_4d, strides=1, padding='SAME')\n",
    "print(c_out.shape)\n",
    "c_out"
   ]
  },
  {
   "cell_type": "code",
   "execution_count": 12,
   "metadata": {
    "execution": {
     "iopub.execute_input": "2021-12-16T01:48:53.973632Z",
     "iopub.status.busy": "2021-12-16T01:48:53.973302Z",
     "iopub.status.idle": "2021-12-16T01:48:53.979120Z",
     "shell.execute_reply": "2021-12-16T01:48:53.978171Z",
     "shell.execute_reply.started": "2021-12-16T01:48:53.973610Z"
    }
   },
   "outputs": [
    {
     "data": {
      "text/plain": [
       "array([[ 2.,  4.,  6.],\n",
       "       [ 8., 10., 12.],\n",
       "       [14., 16., 18.]])"
      ]
     },
     "execution_count": 12,
     "metadata": {},
     "output_type": "execute_result"
    }
   ],
   "source": [
    "c_out.numpy().reshape(3, 3)"
   ]
  },
  {
   "cell_type": "code",
   "execution_count": 13,
   "metadata": {
    "execution": {
     "iopub.execute_input": "2021-12-16T01:49:01.220868Z",
     "iopub.status.busy": "2021-12-16T01:49:01.220594Z",
     "iopub.status.idle": "2021-12-16T01:49:01.225135Z",
     "shell.execute_reply": "2021-12-16T01:49:01.224210Z",
     "shell.execute_reply.started": "2021-12-16T01:49:01.220833Z"
    }
   },
   "outputs": [],
   "source": [
    "x = np.array([[1, 2, 3, 4],\n",
    "              [5, 6, 7, 8],\n",
    "              [9, 10, 11, 12],\n",
    "              [13, 14, 15, 16]])\n",
    "x = x.reshape(1, 4, 4, 1)"
   ]
  },
  {
   "cell_type": "code",
   "execution_count": 14,
   "metadata": {
    "execution": {
     "iopub.execute_input": "2021-12-16T01:49:07.498187Z",
     "iopub.status.busy": "2021-12-16T01:49:07.497935Z",
     "iopub.status.idle": "2021-12-16T01:49:07.503787Z",
     "shell.execute_reply": "2021-12-16T01:49:07.502961Z",
     "shell.execute_reply.started": "2021-12-16T01:49:07.498166Z"
    }
   },
   "outputs": [
    {
     "data": {
      "text/plain": [
       "array([[ 6,  8],\n",
       "       [14, 16]])"
      ]
     },
     "execution_count": 14,
     "metadata": {},
     "output_type": "execute_result"
    }
   ],
   "source": [
    "p_out = tf.nn.max_pool2d(x, ksize=2, strides=2, padding='VALID')\n",
    "p_out.numpy().reshape(2, 2)"
   ]
  },
  {
   "cell_type": "markdown",
   "metadata": {},
   "source": [
    "- 합성곱층에서 스트라이드를 크게 지정하여 특성 맵의 크기를 줄이는 것보다, 합성곱층에 세임 패딩을 적용하고 풀링층에서 특성 맵의 크기를 줄이는 것이 더 효과적이라고 함"
   ]
  },
  {
   "cell_type": "code",
   "execution_count": 24,
   "metadata": {
    "execution": {
     "iopub.execute_input": "2021-12-16T02:17:50.962158Z",
     "iopub.status.busy": "2021-12-16T02:17:50.961894Z",
     "iopub.status.idle": "2021-12-16T02:17:50.965499Z",
     "shell.execute_reply": "2021-12-16T02:17:50.964715Z",
     "shell.execute_reply.started": "2021-12-16T02:17:50.962136Z"
    }
   },
   "outputs": [],
   "source": [
    "g = tf.initializers.glorot_uniform()"
   ]
  },
  {
   "cell_type": "code",
   "execution_count": 28,
   "metadata": {
    "execution": {
     "iopub.execute_input": "2021-12-16T02:18:19.554519Z",
     "iopub.status.busy": "2021-12-16T02:18:19.554261Z",
     "iopub.status.idle": "2021-12-16T02:18:19.560221Z",
     "shell.execute_reply": "2021-12-16T02:18:19.559268Z",
     "shell.execute_reply.started": "2021-12-16T02:18:19.554496Z"
    }
   },
   "outputs": [
    {
     "data": {
      "text/plain": [
       "<tf.Tensor: shape=(3, 3), dtype=float32, numpy=\n",
       "array([[-0.72611666,  0.7278795 , -0.47270203],\n",
       "       [ 0.41481304, -0.23731136,  0.7273414 ],\n",
       "       [-0.68396544,  0.9739566 , -0.9496095 ]], dtype=float32)>"
      ]
     },
     "execution_count": 28,
     "metadata": {},
     "output_type": "execute_result"
    }
   ],
   "source": [
    "g((3,3))"
   ]
  },
  {
   "cell_type": "code",
   "execution_count": 17,
   "metadata": {
    "execution": {
     "iopub.execute_input": "2021-12-16T02:02:38.319778Z",
     "iopub.status.busy": "2021-12-16T02:02:38.319528Z",
     "iopub.status.idle": "2021-12-16T02:02:38.339302Z",
     "shell.execute_reply": "2021-12-16T02:02:38.338294Z",
     "shell.execute_reply.started": "2021-12-16T02:02:38.319756Z"
    }
   },
   "outputs": [
    {
     "name": "stdout",
     "output_type": "stream",
     "text": [
      "tf.Tensor([ 5. 14. 29.], shape=(3,), dtype=float64)\n"
     ]
    }
   ],
   "source": [
    "x = tf.Variable(np.array([1.0, 2.0, 3.0]))\n",
    "with tf.GradientTape() as tape:\n",
    "    y = x ** 3 + 2 * x + 5\n",
    "\n",
    "# 그래디언트를 계산합니\n",
    "print(tape.gradient(y, x))"
   ]
  },
  {
   "cell_type": "code",
   "execution_count": 18,
   "metadata": {
    "execution": {
     "iopub.execute_input": "2021-12-16T02:02:45.544096Z",
     "iopub.status.busy": "2021-12-16T02:02:45.543822Z",
     "iopub.status.idle": "2021-12-16T02:02:45.559284Z",
     "shell.execute_reply": "2021-12-16T02:02:45.549887Z",
     "shell.execute_reply.started": "2021-12-16T02:02:45.544062Z"
    }
   },
   "outputs": [
    {
     "name": "stdout",
     "output_type": "stream",
     "text": [
      "tf.Tensor([1.99908031e-17 5.43406367e-17 1.47713165e-16], shape=(3,), dtype=float64)\n"
     ]
    }
   ],
   "source": [
    "x = tf.Variable(np.array([1.0, 2.0, 3.0]))\n",
    "with tf.GradientTape() as tape:\n",
    "    y = tf.nn.softmax(x)\n",
    "\n",
    "# 그래디언트를 계산합니다.\n",
    "print(tape.gradient(y, x))"
   ]
  },
  {
   "cell_type": "code",
   "execution_count": 16,
   "metadata": {
    "execution": {
     "iopub.execute_input": "2021-12-16T02:02:31.232381Z",
     "iopub.status.busy": "2021-12-16T02:02:31.232132Z",
     "iopub.status.idle": "2021-12-16T02:02:31.320554Z",
     "shell.execute_reply": "2021-12-16T02:02:31.319561Z",
     "shell.execute_reply.started": "2021-12-16T02:02:31.232358Z"
    }
   },
   "outputs": [],
   "source": [
    "import tensorflow as tf\n",
    "\n",
    "class ConvolutionNetwork:\n",
    "    \n",
    "    def __init__(self, n_kernels=10, units=10, batch_size=32, learning_rate=0.1):\n",
    "        self.n_kernels = n_kernels  # 합성곱의 커널 개수\n",
    "        self.kernel_size = 3        # 커널 크기\n",
    "        self.optimizer = None       # 옵티마이저\n",
    "        self.conv_w = None          # 합성곱 층의 가중치\n",
    "        self.conv_b = None          # 합성곱 층의 절편\n",
    "        self.units = units          # 은닉층의 뉴런 개수\n",
    "        self.batch_size = batch_size  # 배치 크기\n",
    "        self.w1 = None              # 은닉층의 가중치\n",
    "        self.b1 = None              # 은닉층의 절편\n",
    "        self.w2 = None              # 출력층의 가중치\n",
    "        self.b2 = None              # 출력층의 절편\n",
    "        self.a1 = None              # 은닉층의 활성화 출력\n",
    "        self.losses = []            # 훈련 손실\n",
    "        self.val_losses = []        # 검증 손실\n",
    "        self.lr = learning_rate     # 학습률\n",
    "\n",
    "    def forpass(self, x):\n",
    "        # 3x3 합성곱 연산을 수행합니다.\n",
    "        c_out = tf.nn.conv2d(x, self.conv_w, strides=1, padding='SAME') + self.conv_b\n",
    "        # 렐루 활성화 함수를 적용합니다.\n",
    "        r_out = tf.nn.relu(c_out)\n",
    "        # 2x2 최대 풀링을 적용합니다.\n",
    "        p_out = tf.nn.max_pool2d(r_out, ksize=2, strides=2, padding='VALID')\n",
    "        # 첫 번째 배치 차원을 제외하고 출력을 일렬로 펼칩니다.\n",
    "        f_out = tf.reshape(p_out, [x.shape[0], -1])\n",
    "        z1 = tf.matmul(f_out, self.w1) + self.b1     # 첫 번째 층의 선형 식을 계산합니다\n",
    "        a1 = tf.nn.relu(z1)                          # 활성화 함수를 적용합니다\n",
    "        z2 = tf.matmul(a1, self.w2) + self.b2        # 두 번째 층의 선형 식을 계산합니다.\n",
    "        return z2\n",
    "    \n",
    "    def init_weights(self, input_shape, n_classes):\n",
    "        g = tf.initializers.glorot_uniform()\n",
    "        self.conv_w = tf.Variable(g((3, 3, 1, self.n_kernels)))\n",
    "        self.conv_b = tf.Variable(np.zeros(self.n_kernels), dtype=float)\n",
    "        n_features = 14 * 14 * self.n_kernels\n",
    "        self.w1 = tf.Variable(g((n_features, self.units)))          # (특성 개수, 은닉층의 크기)\n",
    "        self.b1 = tf.Variable(np.zeros(self.units), dtype=float)    # 은닉층의 크기\n",
    "        self.w2 = tf.Variable(g((self.units, n_classes)))           # (은닉층의 크기, 클래스 개수)\n",
    "        self.b2 = tf.Variable(np.zeros(n_classes), dtype=float)     # 클래스 개수\n",
    "        \n",
    "    def fit(self, x, y, epochs=100, x_val=None, y_val=None):\n",
    "        self.init_weights(x.shape, y.shape[1])    # 은닉층과 출력층의 가중치를 초기화합니다.\n",
    "        self.optimizer = tf.optimizers.SGD(learning_rate=self.lr)\n",
    "        # epochs만큼 반복합니다.\n",
    "        for i in range(epochs):\n",
    "            print('에포크', i, end=' ')\n",
    "            # 제너레이터 함수에서 반환한 미니배치를 순환합니다.\n",
    "            batch_losses = []\n",
    "            for x_batch, y_batch in self.gen_batch(x, y):\n",
    "                print('.', end='')\n",
    "                self.training(x_batch, y_batch)\n",
    "                # 배치 손실을 기록합니다.\n",
    "                batch_losses.append(self.get_loss(x_batch, y_batch))\n",
    "            print()\n",
    "            # 배치 손실 평균내어 훈련 손실 값으로 저장합니다.\n",
    "            self.losses.append(np.mean(batch_losses))\n",
    "            # 검증 세트에 대한 손실을 계산합니다.\n",
    "            self.val_losses.append(self.get_loss(x_val, y_val))\n",
    "\n",
    "    # 미니배치 제너레이터 함수\n",
    "    def gen_batch(self, x, y):\n",
    "        bins = len(x) // self.batch_size                   # 미니배치 횟수\n",
    "        indexes = np.random.permutation(np.arange(len(x))) # 인덱스를 섞습니다.\n",
    "        x = x[indexes]\n",
    "        y = y[indexes]\n",
    "        for i in range(bins):\n",
    "            start = self.batch_size * i\n",
    "            end = self.batch_size * (i + 1)\n",
    "            yield x[start:end], y[start:end]   # batch_size만큼 슬라이싱하여 반환합니다.\n",
    "            \n",
    "    def training(self, x, y):\n",
    "        m = len(x)                    # 샘플 개수를 저장합니다.\n",
    "        with tf.GradientTape() as tape:\n",
    "            z = self.forpass(x)       # 정방향 계산을 수행합니다.\n",
    "            # 손실을 계산합니다.\n",
    "            loss = tf.nn.softmax_cross_entropy_with_logits(y, z)\n",
    "            loss = tf.reduce_mean(loss)\n",
    "\n",
    "        weights_list = [self.conv_w, self.conv_b,\n",
    "                        self.w1, self.b1, self.w2, self.b2]\n",
    "        # 가중치에 대한 그래디언트를 계산합니다.\n",
    "        grads = tape.gradient(loss, weights_list)\n",
    "        # 가중치를 업데이트합니다.\n",
    "        self.optimizer.apply_gradients(zip(grads, weights_list))\n",
    "   \n",
    "    def predict(self, x):\n",
    "        z = self.forpass(x)                 # 정방향 계산을 수행합니다.\n",
    "        return np.argmax(z.numpy(), axis=1) # 가장 큰 값의 인덱스를 반환합니다.\n",
    "    \n",
    "    def score(self, x, y):\n",
    "        # 예측과 타깃 열 벡터를 비교하여 True의 비율을 반환합니다.\n",
    "        return np.mean(self.predict(x) == np.argmax(y, axis=1))\n",
    "\n",
    "    def get_loss(self, x, y):\n",
    "        z = self.forpass(x)                 # 정방향 계산을 수행합니다.\n",
    "        # 손실을 계산하여 저장합니다.\n",
    "        loss = tf.reduce_mean(tf.nn.softmax_cross_entropy_with_logits(y, z))\n",
    "        return loss.numpy()\n"
   ]
  },
  {
   "cell_type": "code",
   "execution_count": 19,
   "metadata": {
    "execution": {
     "iopub.execute_input": "2021-12-16T02:02:50.735923Z",
     "iopub.status.busy": "2021-12-16T02:02:50.735635Z",
     "iopub.status.idle": "2021-12-16T02:02:51.174627Z",
     "shell.execute_reply": "2021-12-16T02:02:51.173843Z",
     "shell.execute_reply.started": "2021-12-16T02:02:50.735901Z"
    }
   },
   "outputs": [],
   "source": [
    "(x_train_all, y_train_all), (x_test, y_test) = tf.keras.datasets.fashion_mnist.load_data()"
   ]
  },
  {
   "cell_type": "code",
   "execution_count": 20,
   "metadata": {
    "execution": {
     "iopub.execute_input": "2021-12-16T02:03:04.885456Z",
     "iopub.status.busy": "2021-12-16T02:03:04.885212Z",
     "iopub.status.idle": "2021-12-16T02:03:05.397608Z",
     "shell.execute_reply": "2021-12-16T02:03:05.396774Z",
     "shell.execute_reply.started": "2021-12-16T02:03:04.885435Z"
    }
   },
   "outputs": [],
   "source": [
    "from sklearn.model_selection import train_test_split\n",
    "x_train, x_val, y_train, y_val = train_test_split(x_train_all, y_train_all, stratify=y_train_all, test_size=0.2, random_state=42)\n"
   ]
  },
  {
   "cell_type": "code",
   "execution_count": 21,
   "metadata": {
    "execution": {
     "iopub.execute_input": "2021-12-16T02:03:19.454269Z",
     "iopub.status.busy": "2021-12-16T02:03:19.453994Z",
     "iopub.status.idle": "2021-12-16T02:03:19.462501Z",
     "shell.execute_reply": "2021-12-16T02:03:19.461129Z",
     "shell.execute_reply.started": "2021-12-16T02:03:19.454246Z"
    }
   },
   "outputs": [
    {
     "data": {
      "text/plain": [
       "(48000, 28, 28, 1)"
      ]
     },
     "execution_count": 21,
     "metadata": {},
     "output_type": "execute_result"
    }
   ],
   "source": [
    "y_train_encoded = tf.keras.utils.to_categorical(y_train)\n",
    "y_val_encoded = tf.keras.utils.to_categorical(y_val)\n",
    "\n",
    "x_train = x_train.reshape(-1, 28, 28, 1)\n",
    "x_val = x_val.reshape(-1, 28, 28, 1)\n",
    "\n",
    "x_train.shape\n"
   ]
  },
  {
   "cell_type": "code",
   "execution_count": 22,
   "metadata": {
    "execution": {
     "iopub.execute_input": "2021-12-16T02:03:22.525912Z",
     "iopub.status.busy": "2021-12-16T02:03:22.525646Z",
     "iopub.status.idle": "2021-12-16T02:03:22.721347Z",
     "shell.execute_reply": "2021-12-16T02:03:22.720654Z",
     "shell.execute_reply.started": "2021-12-16T02:03:22.525889Z"
    }
   },
   "outputs": [],
   "source": [
    "x_train = x_train / 255\n",
    "x_val = x_val / 255\n"
   ]
  },
  {
   "cell_type": "code",
   "execution_count": 23,
   "metadata": {
    "execution": {
     "iopub.execute_input": "2021-12-16T02:03:26.293939Z",
     "iopub.status.busy": "2021-12-16T02:03:26.293624Z",
     "iopub.status.idle": "2021-12-16T02:06:56.134258Z",
     "shell.execute_reply": "2021-12-16T02:06:56.133467Z",
     "shell.execute_reply.started": "2021-12-16T02:03:26.293862Z"
    }
   },
   "outputs": [
    {
     "name": "stdout",
     "output_type": "stream",
     "text": [
      "에포크 0 .......................................................................................................................................................................................................................................................................................................................................................................................\n",
      "에포크 1 .......................................................................................................................................................................................................................................................................................................................................................................................\n",
      "에포크 2 .......................................................................................................................................................................................................................................................................................................................................................................................\n",
      "에포크 3 .......................................................................................................................................................................................................................................................................................................................................................................................\n",
      "에포크 4 .......................................................................................................................................................................................................................................................................................................................................................................................\n",
      "에포크 5 .......................................................................................................................................................................................................................................................................................................................................................................................\n",
      "에포크 6 .......................................................................................................................................................................................................................................................................................................................................................................................\n",
      "에포크 7 .......................................................................................................................................................................................................................................................................................................................................................................................\n",
      "에포크 8 .......................................................................................................................................................................................................................................................................................................................................................................................\n",
      "에포크 9 .......................................................................................................................................................................................................................................................................................................................................................................................\n",
      "에포크 10 .......................................................................................................................................................................................................................................................................................................................................................................................\n",
      "에포크 11 .......................................................................................................................................................................................................................................................................................................................................................................................\n",
      "에포크 12 .......................................................................................................................................................................................................................................................................................................................................................................................\n",
      "에포크 13 .......................................................................................................................................................................................................................................................................................................................................................................................\n",
      "에포크 14 .......................................................................................................................................................................................................................................................................................................................................................................................\n",
      "에포크 15 .......................................................................................................................................................................................................................................................................................................................................................................................\n",
      "에포크 16 .......................................................................................................................................................................................................................................................................................................................................................................................\n",
      "에포크 17 .......................................................................................................................................................................................................................................................................................................................................................................................\n",
      "에포크 18 .......................................................................................................................................................................................................................................................................................................................................................................................\n",
      "에포크 19 .......................................................................................................................................................................................................................................................................................................................................................................................\n"
     ]
    }
   ],
   "source": [
    "cn = ConvolutionNetwork(n_kernels=10, units=100, batch_size=128, learning_rate=0.01)\n",
    "cn.fit(x_train, y_train_encoded, x_val=x_val, y_val=y_val_encoded, epochs=20)"
   ]
  },
  {
   "cell_type": "code",
   "execution_count": 29,
   "metadata": {
    "execution": {
     "iopub.execute_input": "2021-12-16T02:20:31.879037Z",
     "iopub.status.busy": "2021-12-16T02:20:31.878739Z",
     "iopub.status.idle": "2021-12-16T02:20:32.286607Z",
     "shell.execute_reply": "2021-12-16T02:20:32.285924Z",
     "shell.execute_reply.started": "2021-12-16T02:20:31.879013Z"
    }
   },
   "outputs": [],
   "source": [
    "import matplotlib.pyplot as plt"
   ]
  },
  {
   "cell_type": "code",
   "execution_count": 30,
   "metadata": {
    "execution": {
     "iopub.execute_input": "2021-12-16T02:20:35.013477Z",
     "iopub.status.busy": "2021-12-16T02:20:35.013224Z",
     "iopub.status.idle": "2021-12-16T02:20:35.219327Z",
     "shell.execute_reply": "2021-12-16T02:20:35.218210Z",
     "shell.execute_reply.started": "2021-12-16T02:20:35.013455Z"
    }
   },
   "outputs": [
    {
     "data": {
      "image/png": "[encoded data removed]",
      "text/plain": [
       "<Figure size 432x288 with 1 Axes>"
      ]
     },
     "metadata": {
      "needs_background": "light"
     },
     "output_type": "display_data"
    }
   ],
   "source": [
    "plt.plot(cn.losses)\n",
    "plt.plot(cn.val_losses)\n",
    "plt.ylabel('loss')\n",
    "plt.xlabel('iteration')\n",
    "plt.legend(['train_loss', 'val_loss'])\n",
    "plt.show()"
   ]
  },
  {
   "cell_type": "code",
   "execution_count": 31,
   "metadata": {
    "execution": {
     "iopub.execute_input": "2021-12-16T02:20:50.701618Z",
     "iopub.status.busy": "2021-12-16T02:20:50.701307Z",
     "iopub.status.idle": "2021-12-16T02:20:51.191685Z",
     "shell.execute_reply": "2021-12-16T02:20:51.190845Z",
     "shell.execute_reply.started": "2021-12-16T02:20:50.701596Z"
    }
   },
   "outputs": [
    {
     "data": {
      "text/plain": [
       "0.8854166666666666"
      ]
     },
     "execution_count": 31,
     "metadata": {},
     "output_type": "execute_result"
    }
   ],
   "source": [
    "cn.score(x_val, y_val_encoded)"
   ]
  },
  {
   "cell_type": "code",
   "execution_count": 32,
   "metadata": {
    "execution": {
     "iopub.execute_input": "2021-12-16T03:18:09.866468Z",
     "iopub.status.busy": "2021-12-16T03:18:09.866215Z",
     "iopub.status.idle": "2021-12-16T03:18:09.906272Z",
     "shell.execute_reply": "2021-12-16T03:18:09.905561Z",
     "shell.execute_reply.started": "2021-12-16T03:18:09.866445Z"
    }
   },
   "outputs": [],
   "source": [
    "from tensorflow.keras.layers import Conv2D, MaxPooling2D, Flatten, Dense\n",
    "\n",
    "conv1 = tf.keras.Sequential()\n",
    "conv1.add(Conv2D(10, (3, 3), activation='relu', padding='same', input_shape=(28, 28, 1)))\n",
    "conv1.add(MaxPooling2D((2, 2)))\n",
    "conv1.add(Flatten())\n",
    "conv1.add(Dense(100, activation='relu'))\n",
    "conv1.add(Dense(10, activation='softmax'))"
   ]
  },
  {
   "cell_type": "code",
   "execution_count": 33,
   "metadata": {
    "execution": {
     "iopub.execute_input": "2021-12-16T03:19:00.649640Z",
     "iopub.status.busy": "2021-12-16T03:19:00.649284Z",
     "iopub.status.idle": "2021-12-16T03:19:00.656033Z",
     "shell.execute_reply": "2021-12-16T03:19:00.655021Z",
     "shell.execute_reply.started": "2021-12-16T03:19:00.649615Z"
    }
   },
   "outputs": [
    {
     "name": "stdout",
     "output_type": "stream",
     "text": [
      "Model: \"sequential\"\n",
      "_________________________________________________________________\n",
      "Layer (type)                 Output Shape              Param #   \n",
      "=================================================================\n",
      "conv2d (Conv2D)              (None, 28, 28, 10)        100       \n",
      "_________________________________________________________________\n",
      "max_pooling2d (MaxPooling2D) (None, 14, 14, 10)        0         \n",
      "_________________________________________________________________\n",
      "flatten (Flatten)            (None, 1960)              0         \n",
      "_________________________________________________________________\n",
      "dense (Dense)                (None, 100)               196100    \n",
      "_________________________________________________________________\n",
      "dense_1 (Dense)              (None, 10)                1010      \n",
      "=================================================================\n",
      "Total params: 197,210\n",
      "Trainable params: 197,210\n",
      "Non-trainable params: 0\n",
      "_________________________________________________________________\n"
     ]
    }
   ],
   "source": [
    "conv1.summary()"
   ]
  },
  {
   "cell_type": "code",
   "execution_count": 34,
   "metadata": {
    "execution": {
     "iopub.execute_input": "2021-12-16T03:19:52.530222Z",
     "iopub.status.busy": "2021-12-16T03:19:52.529813Z",
     "iopub.status.idle": "2021-12-16T03:19:52.574445Z",
     "shell.execute_reply": "2021-12-16T03:19:52.573730Z",
     "shell.execute_reply.started": "2021-12-16T03:19:52.530198Z"
    }
   },
   "outputs": [],
   "source": [
    "conv1.compile(optimizer='adam', loss='categorical_crossentropy', metrics=['accuracy'])"
   ]
  },
  {
   "cell_type": "code",
   "execution_count": 35,
   "metadata": {
    "execution": {
     "iopub.execute_input": "2021-12-16T03:25:27.560147Z",
     "iopub.status.busy": "2021-12-16T03:25:27.559842Z",
     "iopub.status.idle": "2021-12-16T03:28:02.956143Z",
     "shell.execute_reply": "2021-12-16T03:28:02.955384Z",
     "shell.execute_reply.started": "2021-12-16T03:25:27.560122Z"
    }
   },
   "outputs": [
    {
     "name": "stdout",
     "output_type": "stream",
     "text": [
      "Train on 48000 samples, validate on 12000 samples\n",
      "Epoch 1/20\n",
      "48000/48000 [==============================] - 8s 175us/sample - loss: 0.4486 - accuracy: 0.8421 - val_loss: 0.3679 - val_accuracy: 0.8720\n",
      "Epoch 2/20\n",
      "48000/48000 [==============================] - 8s 167us/sample - loss: 0.3086 - accuracy: 0.8873 - val_loss: 0.2969 - val_accuracy: 0.8939\n",
      "Epoch 3/20\n",
      "48000/48000 [==============================] - 8s 168us/sample - loss: 0.2627 - accuracy: 0.9026 - val_loss: 0.2653 - val_accuracy: 0.9054\n",
      "Epoch 4/20\n",
      "48000/48000 [==============================] - 8s 174us/sample - loss: 0.2304 - accuracy: 0.9154 - val_loss: 0.2631 - val_accuracy: 0.9049\n",
      "Epoch 5/20\n",
      "48000/48000 [==============================] - 8s 162us/sample - loss: 0.2055 - accuracy: 0.9239 - val_loss: 0.2577 - val_accuracy: 0.9088\n",
      "Epoch 6/20\n",
      "48000/48000 [==============================] - 8s 164us/sample - loss: 0.1824 - accuracy: 0.9328 - val_loss: 0.2551 - val_accuracy: 0.9105\n",
      "Epoch 7/20\n",
      "48000/48000 [==============================] - 8s 156us/sample - loss: 0.1632 - accuracy: 0.9398 - val_loss: 0.2533 - val_accuracy: 0.9111\n",
      "Epoch 8/20\n",
      "48000/48000 [==============================] - 7s 155us/sample - loss: 0.1458 - accuracy: 0.9465 - val_loss: 0.2652 - val_accuracy: 0.9090\n",
      "Epoch 9/20\n",
      "48000/48000 [==============================] - 7s 156us/sample - loss: 0.1327 - accuracy: 0.9515 - val_loss: 0.2475 - val_accuracy: 0.9194\n",
      "Epoch 10/20\n",
      "48000/48000 [==============================] - 8s 157us/sample - loss: 0.1186 - accuracy: 0.9569 - val_loss: 0.2698 - val_accuracy: 0.9131\n",
      "Epoch 11/20\n",
      "48000/48000 [==============================] - 8s 157us/sample - loss: 0.1043 - accuracy: 0.9614 - val_loss: 0.2809 - val_accuracy: 0.9142\n",
      "Epoch 12/20\n",
      "48000/48000 [==============================] - 8s 157us/sample - loss: 0.0950 - accuracy: 0.9659 - val_loss: 0.2788 - val_accuracy: 0.9168\n",
      "Epoch 13/20\n",
      "48000/48000 [==============================] - 8s 161us/sample - loss: 0.0824 - accuracy: 0.9697 - val_loss: 0.2872 - val_accuracy: 0.9172\n",
      "Epoch 14/20\n",
      "48000/48000 [==============================] - 8s 162us/sample - loss: 0.0753 - accuracy: 0.9725 - val_loss: 0.3111 - val_accuracy: 0.9142\n",
      "Epoch 15/20\n",
      "48000/48000 [==============================] - 8s 161us/sample - loss: 0.0659 - accuracy: 0.9764 - val_loss: 0.3229 - val_accuracy: 0.9164\n",
      "Epoch 16/20\n",
      "48000/48000 [==============================] - 8s 161us/sample - loss: 0.0596 - accuracy: 0.9780 - val_loss: 0.3242 - val_accuracy: 0.9175\n",
      "Epoch 17/20\n",
      "48000/48000 [==============================] - 8s 161us/sample - loss: 0.0518 - accuracy: 0.9818 - val_loss: 0.3413 - val_accuracy: 0.9190\n",
      "Epoch 18/20\n",
      "48000/48000 [==============================] - 8s 160us/sample - loss: 0.0492 - accuracy: 0.9818 - val_loss: 0.3700 - val_accuracy: 0.9148\n",
      "Epoch 19/20\n",
      "48000/48000 [==============================] - 8s 162us/sample - loss: 0.0416 - accuracy: 0.9855 - val_loss: 0.3637 - val_accuracy: 0.9141\n",
      "Epoch 20/20\n",
      "48000/48000 [==============================] - 8s 159us/sample - loss: 0.0381 - accuracy: 0.9868 - val_loss: 0.4054 - val_accuracy: 0.9132\n"
     ]
    }
   ],
   "source": [
    "history = conv1.fit(x_train, y_train_encoded, epochs=20, validation_data=(x_val, y_val_encoded))"
   ]
  },
  {
   "cell_type": "code",
   "execution_count": 36,
   "metadata": {
    "execution": {
     "iopub.execute_input": "2021-12-16T03:28:02.958210Z",
     "iopub.status.busy": "2021-12-16T03:28:02.957904Z",
     "iopub.status.idle": "2021-12-16T03:28:03.129391Z",
     "shell.execute_reply": "2021-12-16T03:28:03.128319Z",
     "shell.execute_reply.started": "2021-12-16T03:28:02.958186Z"
    }
   },
   "outputs": [
    {
     "data": {
      "image/png": "[encoded data removed]",
      "text/plain": [
       "<Figure size 432x288 with 1 Axes>"
      ]
     },
     "metadata": {
      "needs_background": "light"
     },
     "output_type": "display_data"
    }
   ],
   "source": [
    "plt.plot(history.history['loss'])\n",
    "plt.plot(history.history['val_loss'])\n",
    "plt.ylabel('loss')\n",
    "plt.xlabel('epoch')\n",
    "plt.legend(['train_loss', 'val_loss'])\n",
    "plt.show()\n"
   ]
  },
  {
   "cell_type": "code",
   "execution_count": 37,
   "metadata": {
    "execution": {
     "iopub.execute_input": "2021-12-16T03:28:03.131811Z",
     "iopub.status.busy": "2021-12-16T03:28:03.131534Z",
     "iopub.status.idle": "2021-12-16T03:28:03.315680Z",
     "shell.execute_reply": "2021-12-16T03:28:03.314818Z",
     "shell.execute_reply.started": "2021-12-16T03:28:03.131789Z"
    }
   },
   "outputs": [
    {
     "data": {
      "image/png": "[encoded data removed]",
      "text/plain": [
       "<Figure size 432x288 with 1 Axes>"
      ]
     },
     "metadata": {
      "needs_background": "light"
     },
     "output_type": "display_data"
    }
   ],
   "source": [
    "plt.plot(history.history['accuracy'])\n",
    "plt.plot(history.history['val_accuracy'])\n",
    "plt.ylabel('accuracy')\n",
    "plt.xlabel('epoch')\n",
    "plt.legend(['train_accuracy', 'val_accuracy'])\n",
    "plt.show()\n"
   ]
  },
  {
   "cell_type": "code",
   "execution_count": 38,
   "metadata": {
    "execution": {
     "iopub.execute_input": "2021-12-16T03:29:19.741201Z",
     "iopub.status.busy": "2021-12-16T03:29:19.740923Z",
     "iopub.status.idle": "2021-12-16T03:29:20.454033Z",
     "shell.execute_reply": "2021-12-16T03:29:20.453319Z",
     "shell.execute_reply.started": "2021-12-16T03:29:19.741166Z"
    }
   },
   "outputs": [
    {
     "name": "stdout",
     "output_type": "stream",
     "text": [
      "0.91316664\n"
     ]
    }
   ],
   "source": [
    "loss, accuracy = conv1.evaluate(x_val, y_val_encoded, verbose=0)\n",
    "print(accuracy)"
   ]
  },
  {
   "cell_type": "code",
   "execution_count": 39,
   "metadata": {
    "execution": {
     "iopub.execute_input": "2021-12-16T03:29:53.875632Z",
     "iopub.status.busy": "2021-12-16T03:29:53.875310Z",
     "iopub.status.idle": "2021-12-16T03:29:53.927379Z",
     "shell.execute_reply": "2021-12-16T03:29:53.926374Z",
     "shell.execute_reply.started": "2021-12-16T03:29:53.875606Z"
    }
   },
   "outputs": [],
   "source": [
    "from tensorflow.keras.layers import Dropout\n",
    "conv2 = tf.keras.Sequential()\n",
    "conv2.add(Conv2D(10, (3, 3), activation='relu', padding='same', input_shape=(28, 28, 1)))\n",
    "conv2.add(MaxPooling2D((2, 2)))\n",
    "conv2.add(Flatten())\n",
    "conv2.add(Dropout(0.5))\n",
    "conv2.add(Dense(100, activation='relu'))\n",
    "conv2.add(Dense(10, activation='softmax'))\n"
   ]
  },
  {
   "cell_type": "code",
   "execution_count": 40,
   "metadata": {
    "execution": {
     "iopub.execute_input": "2021-12-16T03:29:56.755398Z",
     "iopub.status.busy": "2021-12-16T03:29:56.755117Z",
     "iopub.status.idle": "2021-12-16T03:29:56.760762Z",
     "shell.execute_reply": "2021-12-16T03:29:56.759823Z",
     "shell.execute_reply.started": "2021-12-16T03:29:56.755377Z"
    }
   },
   "outputs": [
    {
     "name": "stdout",
     "output_type": "stream",
     "text": [
      "Model: \"sequential_1\"\n",
      "_________________________________________________________________\n",
      "Layer (type)                 Output Shape              Param #   \n",
      "=================================================================\n",
      "conv2d_1 (Conv2D)            (None, 28, 28, 10)        100       \n",
      "_________________________________________________________________\n",
      "max_pooling2d_1 (MaxPooling2 (None, 14, 14, 10)        0         \n",
      "_________________________________________________________________\n",
      "flatten_1 (Flatten)          (None, 1960)              0         \n",
      "_________________________________________________________________\n",
      "dropout (Dropout)            (None, 1960)              0         \n",
      "_________________________________________________________________\n",
      "dense_2 (Dense)              (None, 100)               196100    \n",
      "_________________________________________________________________\n",
      "dense_3 (Dense)              (None, 10)                1010      \n",
      "=================================================================\n",
      "Total params: 197,210\n",
      "Trainable params: 197,210\n",
      "Non-trainable params: 0\n",
      "_________________________________________________________________\n"
     ]
    }
   ],
   "source": [
    "conv2.summary()\n"
   ]
  },
  {
   "cell_type": "code",
   "execution_count": 41,
   "metadata": {
    "execution": {
     "iopub.execute_input": "2021-12-16T03:30:05.413969Z",
     "iopub.status.busy": "2021-12-16T03:30:05.413720Z",
     "iopub.status.idle": "2021-12-16T03:30:05.442285Z",
     "shell.execute_reply": "2021-12-16T03:30:05.441503Z",
     "shell.execute_reply.started": "2021-12-16T03:30:05.413947Z"
    }
   },
   "outputs": [],
   "source": [
    "conv2.compile(optimizer='adam', loss='categorical_crossentropy', metrics=['accuracy'])"
   ]
  },
  {
   "cell_type": "code",
   "execution_count": 42,
   "metadata": {
    "execution": {
     "iopub.execute_input": "2021-12-16T03:30:11.517433Z",
     "iopub.status.busy": "2021-12-16T03:30:11.517081Z",
     "iopub.status.idle": "2021-12-16T03:32:52.659747Z",
     "shell.execute_reply": "2021-12-16T03:32:52.658948Z",
     "shell.execute_reply.started": "2021-12-16T03:30:11.517374Z"
    }
   },
   "outputs": [
    {
     "name": "stdout",
     "output_type": "stream",
     "text": [
      "Train on 48000 samples, validate on 12000 samples\n",
      "Epoch 1/20\n",
      "48000/48000 [==============================] - 9s 187us/sample - loss: 0.5187 - accuracy: 0.8156 - val_loss: 0.3623 - val_accuracy: 0.8733\n",
      "Epoch 2/20\n",
      "48000/48000 [==============================] - 8s 175us/sample - loss: 0.3844 - accuracy: 0.8618 - val_loss: 0.3145 - val_accuracy: 0.8854\n",
      "Epoch 3/20\n",
      "48000/48000 [==============================] - 9s 178us/sample - loss: 0.3427 - accuracy: 0.8742 - val_loss: 0.2942 - val_accuracy: 0.8923\n",
      "Epoch 4/20\n",
      "48000/48000 [==============================] - 8s 165us/sample - loss: 0.3138 - accuracy: 0.8836 - val_loss: 0.2814 - val_accuracy: 0.8978\n",
      "Epoch 5/20\n",
      "48000/48000 [==============================] - 8s 166us/sample - loss: 0.2949 - accuracy: 0.8907 - val_loss: 0.2642 - val_accuracy: 0.9038\n",
      "Epoch 6/20\n",
      "48000/48000 [==============================] - 8s 165us/sample - loss: 0.2792 - accuracy: 0.8978 - val_loss: 0.2543 - val_accuracy: 0.9082\n",
      "Epoch 7/20\n",
      "48000/48000 [==============================] - 8s 165us/sample - loss: 0.2627 - accuracy: 0.9034 - val_loss: 0.2474 - val_accuracy: 0.9107\n",
      "Epoch 8/20\n",
      "48000/48000 [==============================] - 8s 166us/sample - loss: 0.2529 - accuracy: 0.9051 - val_loss: 0.2548 - val_accuracy: 0.9076\n",
      "Epoch 9/20\n",
      "48000/48000 [==============================] - 8s 165us/sample - loss: 0.2432 - accuracy: 0.9095 - val_loss: 0.2403 - val_accuracy: 0.9138\n",
      "Epoch 10/20\n",
      "48000/48000 [==============================] - 8s 166us/sample - loss: 0.2324 - accuracy: 0.9120 - val_loss: 0.2381 - val_accuracy: 0.9156\n",
      "Epoch 11/20\n",
      "48000/48000 [==============================] - 8s 165us/sample - loss: 0.2259 - accuracy: 0.9154 - val_loss: 0.2361 - val_accuracy: 0.9153\n",
      "Epoch 12/20\n",
      "48000/48000 [==============================] - 8s 166us/sample - loss: 0.2191 - accuracy: 0.9168 - val_loss: 0.2468 - val_accuracy: 0.9140\n",
      "Epoch 13/20\n",
      "48000/48000 [==============================] - 8s 166us/sample - loss: 0.2139 - accuracy: 0.9191 - val_loss: 0.2376 - val_accuracy: 0.9172\n",
      "Epoch 14/20\n",
      "48000/48000 [==============================] - 8s 164us/sample - loss: 0.2067 - accuracy: 0.9220 - val_loss: 0.2349 - val_accuracy: 0.9151\n",
      "Epoch 15/20\n",
      "48000/48000 [==============================] - 8s 166us/sample - loss: 0.2022 - accuracy: 0.9244 - val_loss: 0.2376 - val_accuracy: 0.9164\n",
      "Epoch 16/20\n",
      "48000/48000 [==============================] - 8s 165us/sample - loss: 0.1987 - accuracy: 0.9246 - val_loss: 0.2400 - val_accuracy: 0.9167\n",
      "Epoch 17/20\n",
      "48000/48000 [==============================] - 8s 166us/sample - loss: 0.1935 - accuracy: 0.9273 - val_loss: 0.2333 - val_accuracy: 0.9169\n",
      "Epoch 18/20\n",
      "48000/48000 [==============================] - 8s 167us/sample - loss: 0.1905 - accuracy: 0.9279 - val_loss: 0.2354 - val_accuracy: 0.9168\n",
      "Epoch 19/20\n",
      "48000/48000 [==============================] - 8s 165us/sample - loss: 0.1866 - accuracy: 0.9293 - val_loss: 0.2332 - val_accuracy: 0.9195\n",
      "Epoch 20/20\n",
      "48000/48000 [==============================] - 8s 167us/sample - loss: 0.1849 - accuracy: 0.9298 - val_loss: 0.2307 - val_accuracy: 0.9187\n"
     ]
    }
   ],
   "source": [
    "history = conv2.fit(x_train, y_train_encoded, epochs=20, validation_data=(x_val, y_val_encoded))"
   ]
  },
  {
   "cell_type": "code",
   "execution_count": 43,
   "metadata": {
    "execution": {
     "iopub.execute_input": "2021-12-16T03:32:52.662198Z",
     "iopub.status.busy": "2021-12-16T03:32:52.661575Z",
     "iopub.status.idle": "2021-12-16T03:32:52.871021Z",
     "shell.execute_reply": "2021-12-16T03:32:52.870142Z",
     "shell.execute_reply.started": "2021-12-16T03:32:52.662167Z"
    }
   },
   "outputs": [
    {
     "data": {
      "image/png": "[encoded data removed]",
      "text/plain": [
       "<Figure size 432x288 with 1 Axes>"
      ]
     },
     "metadata": {
      "needs_background": "light"
     },
     "output_type": "display_data"
    }
   ],
   "source": [
    "plt.plot(history.history['loss'])\n",
    "plt.plot(history.history['val_loss'])\n",
    "plt.ylabel('loss')\n",
    "plt.xlabel('epoch')\n",
    "plt.legend(['train_loss', 'val_loss'])\n",
    "plt.show()"
   ]
  },
  {
   "cell_type": "code",
   "execution_count": 44,
   "metadata": {
    "execution": {
     "iopub.execute_input": "2021-12-16T03:32:52.873180Z",
     "iopub.status.busy": "2021-12-16T03:32:52.872883Z",
     "iopub.status.idle": "2021-12-16T03:32:53.051586Z",
     "shell.execute_reply": "2021-12-16T03:32:53.050328Z",
     "shell.execute_reply.started": "2021-12-16T03:32:52.873157Z"
    }
   },
   "outputs": [
    {
     "data": {
      "image/png": "[encoded data removed]",
      "text/plain": [
       "<Figure size 432x288 with 1 Axes>"
      ]
     },
     "metadata": {
      "needs_background": "light"
     },
     "output_type": "display_data"
    }
   ],
   "source": [
    "plt.plot(history.history['accuracy'])\n",
    "plt.plot(history.history['val_accuracy'])\n",
    "plt.ylabel('accuracy')\n",
    "plt.xlabel('epoch')\n",
    "plt.legend(['train_accuracy', 'val_accuracy'])\n",
    "plt.show()"
   ]
  },
  {
   "cell_type": "code",
   "execution_count": 45,
   "metadata": {
    "execution": {
     "iopub.execute_input": "2021-12-16T03:32:53.053779Z",
     "iopub.status.busy": "2021-12-16T03:32:53.053505Z",
     "iopub.status.idle": "2021-12-16T03:32:53.801255Z",
     "shell.execute_reply": "2021-12-16T03:32:53.799325Z",
     "shell.execute_reply.started": "2021-12-16T03:32:53.053744Z"
    }
   },
   "outputs": [
    {
     "name": "stdout",
     "output_type": "stream",
     "text": [
      "0.91875\n"
     ]
    }
   ],
   "source": [
    "loss, accuracy = conv2.evaluate(x_val, y_val_encoded, verbose=0)\n",
    "print(accuracy)"
   ]
  }
 ],
 "metadata": {
  "kernelspec": {
   "display_name": "Python 3",
   "language": "python",
   "name": "python3"
  },
  "language_info": {
   "codemirror_mode": {
    "name": "ipython",
    "version": 3
   },
   "file_extension": ".py",
   "mimetype": "text/x-python",
   "name": "python",
   "nbconvert_exporter": "python",
   "pygments_lexer": "ipython3",
   "version": "3.7.3"
  }
 },
 "nbformat": 4,
 "nbformat_minor": 4
}
