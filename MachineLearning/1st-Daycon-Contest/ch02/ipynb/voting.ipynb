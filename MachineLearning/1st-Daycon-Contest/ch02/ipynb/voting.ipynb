{
 "cells": [
  {
   "cell_type": "code",
   "execution_count": 1,
   "metadata": {},
   "outputs": [
    {
     "name": "stdout",
     "output_type": "stream",
     "text": [
      "[2, 1, 0]\n"
     ]
    }
   ],
   "source": [
    "output_1 = [0.7, 0.1, 0.2]\n",
    "output_2 = [0.5, 0.2, 0.3]\n",
    "output_3 = [0.3, 0.4, 0.3]\n",
    "\n",
    "\n",
    "def hard_voting(output_1, output2, output_3):\n",
    "    \n",
    "    result = [0,0,0]\n",
    "    \n",
    "    # 각 output에서 가장 큰 수의 인덱스를 찾습니다.\n",
    "    output_1_max_value = max(output_1)\n",
    "    output_1_max_index = output_1.index(output_1_max_value)\n",
    "    result[output_1_max_index] += 1\n",
    "\n",
    "    output_2_max_value = max(output_2)\n",
    "    output_2_max_index = output_2.index(output_2_max_value)\n",
    "    result[output_2_max_index] += 1\n",
    "\n",
    "    output_3_max_value = max(output_3)\n",
    "    output_3_max_index = output_3.index(output_3_max_value)\n",
    "    result[output_3_max_index] += 1\n",
    "\n",
    "    return result\n",
    "\n",
    "\n",
    "result = hard_voting(output_1, output_2, output_3)\n",
    "print(result)"
   ]
  },
  {
   "cell_type": "code",
   "execution_count": 2,
   "metadata": {},
   "outputs": [
    {
     "name": "stdout",
     "output_type": "stream",
     "text": [
      "[0.5, 0.23333333333333336, 0.26666666666666666]\n"
     ]
    }
   ],
   "source": [
    "output_1 = [0.7, 0.1, 0.2]\n",
    "output_2 = [0.5, 0.2, 0.3]\n",
    "output_3 = [0.3, 0.4, 0.3]\n",
    "\n",
    "\n",
    "def soft_voting(output_1, output2, output_3):\n",
    "    \n",
    "    result = [0,0,0]\n",
    "    \n",
    "    # 각 output의 소프트 맥스 확률을 더합니다.\n",
    "    result = [(x+y+z)/3 for x,y,z in zip(output_1, output_2, output_3)]\n",
    "    \n",
    "    return result\n",
    "\n",
    "\n",
    "result = soft_voting(output_1, output_2, output_3)\n",
    "print(result)"
   ]
  },
  {
   "cell_type": "code",
   "execution_count": null,
   "metadata": {},
   "outputs": [],
   "source": []
  }
 ],
 "metadata": {
  "kernelspec": {
   "display_name": "Python 3",
   "language": "python",
   "name": "python3"
  },
  "language_info": {
   "codemirror_mode": {
    "name": "ipython",
    "version": 3
   },
   "file_extension": ".py",
   "mimetype": "text/x-python",
   "name": "python",
   "nbconvert_exporter": "python",
   "pygments_lexer": "ipython3",
   "version": "3.8.5"
  }
 },
 "nbformat": 4,
 "nbformat_minor": 4
}
